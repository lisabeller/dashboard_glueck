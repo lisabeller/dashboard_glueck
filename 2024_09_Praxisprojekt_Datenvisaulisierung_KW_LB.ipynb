{
 "cells": [
  {
   "cell_type": "markdown",
   "metadata": {},
   "source": [
    "# <center>Praxisprojekt - Datenvisualisierung</center>\n",
    "## <center>Karin Wiedemann und Lisa Beller</center>\n"
   ]
  },
  {
   "cell_type": "code",
   "execution_count": 2,
   "metadata": {},
   "outputs": [],
   "source": [
    "# Modulimporte\n",
    "import pandas as pd\n",
    "import plotly.express as px\n",
    "import seaborn as sns\n",
    "import matplotlib.pyplot as plt\n",
    "from collections import defaultdict"
   ]
  },
  {
   "cell_type": "markdown",
   "metadata": {},
   "source": [
    "## Aufgabenstellung"
   ]
  },
  {
   "cell_type": "markdown",
   "metadata": {},
   "source": [
    "#### Glücklichkeit über die Welt verteilt\n",
    "Gegeben ist ein Datensatz über die Glücklichkeit der Bewohner von 156 Ländern der Welt, zusammen mit weiteren vermeintlichen Einflussfaktoren in den Jahren 2018 und 2019.\n",
    "- Overall rank: Rangfolge der Länder nach Glücklichkeit\n",
    "- Country or region: Ländernamen\n",
    "- Score: Glücklichkeitswert\n",
    "- GDP per capita: BIP pro Kopf\n",
    "- Social support: Stärke der Sozialleistungen\n",
    "- Healthy life expectancy: Wert über die Lebenserwartung\n",
    "- Freedom to make life choices: Wert über die Möglichkeit der freien Entfaltung\n",
    "- Generosity: Wert über die Großzügigkeit\n",
    "- Perceptions of corruption: Die Bewertung der Korruptionswahrnehmung in verschiedenen Ländern.\n",
    "  \n",
    "Analysiere den Datensatz und finde heraus, welchen Einfluss die einzelnen Faktoren auf die Glücklichkeit der Bewohner hat. Finde außerdem heraus, ob es einen Zusammenhang zwischen verschiedenen Faktoren gibt."
   ]
  },
  {
   "cell_type": "markdown",
   "metadata": {},
   "source": [
    "## Informationen zum World Happiness Report 2024"
   ]
  },
  {
   "cell_type": "markdown",
   "metadata": {},
   "source": [
    "#### Länder\n",
    "**Beschreibung:**  \n",
    "156 Länder im Datensatz.\n",
    "\n",
    "---\n",
    "\n",
    "#### Jahre\n",
    "**Beschreibung:**  \n",
    "Zeitraum von 2005 bis 2023.\n",
    "\n",
    "---\n",
    "\n",
    "#### Glücklichkeitswert\n",
    "**Beschreibung:**  \n",
    "Durchschnittlicher Glücklichkeitswert eines Landes, basierend auf verschiedenen Faktoren. Teilnehmer werden dazu befragt, wie sie ihr eigenes Leben auf einer Skala von 0 bis 10 bewerten, wobei 0 das schlechteste und 10 das bestmögliche Leben repräsentiert. Zusätzlich werden weitere Faktoren untersucht, die das Glücksniveau beeinflussen können.\n",
    "\n",
    "**Schlüsselfragen und Metriken im World Happiness Report:**\n",
    "\n",
    "- **Cantril-Lebensleiter (Cantril Ladder)**:\n",
    "    - **Frage**: „Stellen Sie sich eine Leiter vor, auf der die bestmögliche Lebensqualität, die Sie sich vorstellen können, die oberste Sprosse (10) und die schlechteste die unterste Sprosse (0) ist. Auf welcher Sprosse der Leiter würden Sie sich persönlich aktuell sehen?“\n",
    "    - Diese Frage gibt den **Happiness Score**, der als zentraler Indikator im Report verwendet wird.\n",
    "\n",
    "Zusätzlich werden folgende Faktoren verwendet, um das Glück eines Landes zu erklären:\n",
    "\n",
    "- **BIP pro Kopf**: Maßstab für den wirtschaftlichen Wohlstand.\n",
    "- **Soziale Unterstützung**: Starke soziale Netzwerke fördern das Glück.\n",
    "\n",
    "---\n",
    "\n",
    "#### BIP pro Kopf\n",
    "**Beschreibung:**  \n",
    "Wirtschaftlicher Wohlstand hat einen großen Einfluss auf das Glück. Hier wird das Bruttoinlandsprodukt (BIP) pro Kopf als Maßstab verwendet.\n",
    "\n",
    "---\n",
    "\n",
    "#### Soziale Unterstützung\n",
    "**Beschreibung:**  \n",
    "- **Frage**: „Wenn Sie in Schwierigkeiten geraten, haben Sie Familie oder Freunde, auf die Sie zählen können?“\n",
    "- Dies misst das Maß an Unterstützung, das Menschen in Krisenzeiten von ihrem sozialen Umfeld erhalten.\n",
    "\n",
    "---\n",
    "\n",
    "#### Gesunde Lebenserwartung\n",
    "**Beschreibung:**  \n",
    "Die Lebenserwartung wird als Indikator für das Gesundheitsniveau und den Zugang zu Gesundheitsdiensten verwendet. Je gesünder die Bevölkerung, desto glücklicher ist sie im Allgemeinen.\n",
    "\n",
    "---\n",
    "\n",
    "#### Freiheit bei Lebensentscheidungen\n",
    "**Beschreibung:**  \n",
    "- **Frage**: „Sind Sie zufrieden mit der Freiheit, die Sie haben, um wichtige Lebensentscheidungen zu treffen?“\n",
    "- Dies misst das Gefühl der persönlichen Freiheit und Autonomie.\n",
    "\n",
    "---\n",
    "\n",
    "#### Großzügigkeit\n",
    "**Beschreibung:**  \n",
    "- **Frage**: „Haben Sie im letzten Monat Geld an eine Wohltätigkeitsorganisation gespendet?“\n",
    "- Dies misst die Neigung der Menschen, anderen zu helfen und an gemeinnützige Aktivitäten teilzunehmen.\n",
    "\n",
    "---\n",
    "\n",
    "#### Wahrnehmung von Korruption\n",
    "**Beschreibung:**  \n",
    "- **Frage**: „Wie korrupt halten Sie Ihre Regierung und Unternehmen in Ihrem Land?“\n",
    "- Diese Frage misst das Vertrauen in die Regierung und das Geschäftsleben. Ein geringes Maß an Korruption ist stark mit höherem Glück verbunden.\n",
    "\n",
    "---\n",
    "\n",
    "#### Positive Emotionen\n",
    "**Beschreibung:**  \n",
    "Zum Beispiel wird gefragt, wie oft die Teilnehmer am Vortag Lachen oder Freude erlebt haben.\n",
    "\n",
    "---\n",
    "\n",
    "#### Negative Emotionen\n",
    "**Beschreibung:**  \n",
    "Fragen richten sich danach, wie oft Teilnehmer Gefühle von Stress, Wut oder Sorge empfunden haben.\n",
    "\n",
    "---\n",
    "\n",
    "#### World Happiness Report\n",
    "**Datenquelle**: [World Happiness Report 2023](https://worldhappiness.report/data/)  \n",
    "**Zusammenfassung**:  \n",
    "Die Kernfrage des Berichts misst den subjektiven **Happiness Score** über die **Cantril-Lebensleiter**. Dieser Score wird dann mit einer Vielzahl von wirtschaftlichen, sozialen und persönlichen Faktoren korreliert, um zu erklären, warum Menschen in bestimmten Ländern glücklicher sind als in anderen. Diese Faktoren umfassen unter anderem:\n",
    "\n",
    "- BIP pro Kopf\n",
    "- Soziale Unterstützung\n",
    "- Lebenserwartung\n",
    "- Persönliche Freiheit\n",
    "- Großzügigkeit\n",
    "- Vertrauen in Institutionen (Korruptionswahrnehmung)\n",
    "\n",
    "Die **World Happiness Report-Daten** geben also eine umfassende Darstellung darüber, wie Menschen ihr Leben empfinden und welche Rahmenbedingungen dieses Empfinden beeinflussen.\n"
   ]
  },
  {
   "cell_type": "markdown",
   "metadata": {},
   "source": [
    "## Daten "
   ]
  },
  {
   "cell_type": "code",
   "execution_count": 61,
   "metadata": {},
   "outputs": [
    {
     "data": {
      "text/html": [
       "<div>\n",
       "<style scoped>\n",
       "    .dataframe tbody tr th:only-of-type {\n",
       "        vertical-align: middle;\n",
       "    }\n",
       "\n",
       "    .dataframe tbody tr th {\n",
       "        vertical-align: top;\n",
       "    }\n",
       "\n",
       "    .dataframe thead th {\n",
       "        text-align: right;\n",
       "    }\n",
       "</style>\n",
       "<table border=\"1\" class=\"dataframe\">\n",
       "  <thead>\n",
       "    <tr style=\"text-align: right;\">\n",
       "      <th></th>\n",
       "      <th>name</th>\n",
       "      <th>description</th>\n",
       "      <th>color</th>\n",
       "    </tr>\n",
       "  </thead>\n",
       "  <tbody>\n",
       "    <tr>\n",
       "      <th>0</th>\n",
       "      <td>Länder</td>\n",
       "      <td>165 Länder im Datensatz.</td>\n",
       "      <td>#8A2185</td>\n",
       "    </tr>\n",
       "    <tr>\n",
       "      <th>1</th>\n",
       "      <td>Jahre</td>\n",
       "      <td>Zeitraum von 2005 bis 2023.</td>\n",
       "      <td>#C43BA5</td>\n",
       "    </tr>\n",
       "    <tr>\n",
       "      <th>2</th>\n",
       "      <td>Glücklichkeitswert</td>\n",
       "      <td>Datengrundlage: Score 'Life Ladder', weicht vo...</td>\n",
       "      <td>#E654B7</td>\n",
       "    </tr>\n",
       "    <tr>\n",
       "      <th>3</th>\n",
       "      <td>BIP pro Kopf</td>\n",
       "      <td>Wirtschaftlicher Wohlstand hat einen großen Ei...</td>\n",
       "      <td>#b59231</td>\n",
       "    </tr>\n",
       "    <tr>\n",
       "      <th>4</th>\n",
       "      <td>Soziale Unterstützung</td>\n",
       "      <td>Frage: „Wenn Sie in Schwierigkeiten geraten, h...</td>\n",
       "      <td>#F5C400</td>\n",
       "    </tr>\n",
       "    <tr>\n",
       "      <th>5</th>\n",
       "      <td>Gesunde Lebenserwartung</td>\n",
       "      <td>Die Lebenserwartung wird als Indikator für das...</td>\n",
       "      <td>#DA8D00</td>\n",
       "    </tr>\n",
       "    <tr>\n",
       "      <th>6</th>\n",
       "      <td>Freiheit bei Lebensentscheidungen</td>\n",
       "      <td>Frage: „Sind Sie zufrieden mit der Freiheit, d...</td>\n",
       "      <td>#D9598E</td>\n",
       "    </tr>\n",
       "    <tr>\n",
       "      <th>7</th>\n",
       "      <td>Großzügigkeit</td>\n",
       "      <td>Frage: „Haben Sie im letzten Monat Geld an ein...</td>\n",
       "      <td>#FFA849</td>\n",
       "    </tr>\n",
       "    <tr>\n",
       "      <th>8</th>\n",
       "      <td>Wahrnehmung von Korruption</td>\n",
       "      <td>Frage: „Wie korrupt halten Sie Ihre Regierung ...</td>\n",
       "      <td>#c9a26b</td>\n",
       "    </tr>\n",
       "    <tr>\n",
       "      <th>9</th>\n",
       "      <td>Positive Emotionen</td>\n",
       "      <td>Zum Beispiel wird gefragt, wie oft die Teilneh...</td>\n",
       "      <td>#A8357E</td>\n",
       "    </tr>\n",
       "    <tr>\n",
       "      <th>10</th>\n",
       "      <td>Negative Emotionen</td>\n",
       "      <td>Fragen richten sich danach, wie oft Teilnehmer...</td>\n",
       "      <td>#E68C2C</td>\n",
       "    </tr>\n",
       "    <tr>\n",
       "      <th>11</th>\n",
       "      <td>World Happiness Report</td>\n",
       "      <td>Datenquelle: World Happiness Report 2023 (http...</td>\n",
       "      <td>#A64A2E</td>\n",
       "    </tr>\n",
       "  </tbody>\n",
       "</table>\n",
       "</div>"
      ],
      "text/plain": [
       "                                 name  \\\n",
       "0                              Länder   \n",
       "1                               Jahre   \n",
       "2                  Glücklichkeitswert   \n",
       "3                        BIP pro Kopf   \n",
       "4               Soziale Unterstützung   \n",
       "5             Gesunde Lebenserwartung   \n",
       "6   Freiheit bei Lebensentscheidungen   \n",
       "7                       Großzügigkeit   \n",
       "8          Wahrnehmung von Korruption   \n",
       "9                  Positive Emotionen   \n",
       "10                 Negative Emotionen   \n",
       "11             World Happiness Report   \n",
       "\n",
       "                                          description    color  \n",
       "0                            165 Länder im Datensatz.  #8A2185  \n",
       "1                         Zeitraum von 2005 bis 2023.  #C43BA5  \n",
       "2   Datengrundlage: Score 'Life Ladder', weicht vo...  #E654B7  \n",
       "3   Wirtschaftlicher Wohlstand hat einen großen Ei...  #b59231  \n",
       "4   Frage: „Wenn Sie in Schwierigkeiten geraten, h...  #F5C400  \n",
       "5   Die Lebenserwartung wird als Indikator für das...  #DA8D00  \n",
       "6   Frage: „Sind Sie zufrieden mit der Freiheit, d...  #D9598E  \n",
       "7   Frage: „Haben Sie im letzten Monat Geld an ein...  #FFA849  \n",
       "8   Frage: „Wie korrupt halten Sie Ihre Regierung ...  #c9a26b  \n",
       "9   Zum Beispiel wird gefragt, wie oft die Teilneh...  #A8357E  \n",
       "10  Fragen richten sich danach, wie oft Teilnehmer...  #E68C2C  \n",
       "11  Datenquelle: World Happiness Report 2023 (http...  #A64A2E  "
      ]
     },
     "execution_count": 61,
     "metadata": {},
     "output_type": "execute_result"
    }
   ],
   "source": [
    "# Informationstabelle erstellen für Dashboard\n",
    "infos = [\n",
    "    {\"name\": \"Länder\", \n",
    "     \"description\": \"165 Länder im Datensatz.\", \n",
    "     \"color\": \"#8A2185\"},\n",
    "\n",
    "    {\"name\": \"Jahre\", \n",
    "     \"description\": \"Zeitraum von 2005 bis 2023.\", \n",
    "     \"color\": \"#C43BA5\"},\n",
    "\n",
    "    {\"name\": \"Glücklichkeitswert\", \n",
    "     \"description\": \"Datengrundlage: Score 'Life Ladder', weicht vom Score 'Ladder Score' ab \\n\"\n",
    "                    \"Durchschnittlicher Glücklichkeitswert eines Landes, basierend auf verschiedenen Faktoren.\\n\"\n",
    "                    \"Teilnehmer werden dazu befragt, wie sie ihr eigenes Leben auf einer Skala von 0 bis 10 bewerten, wobei 0 das schlechteste und 10 das bestmögliche Leben repräsentiert.\\n\\n\"\n",
    "                    \"Zusätzlich werden folgende Faktoren untersucht, die das Glücksniveau beeinflussen können:\\n\"\n",
    "                    \"1. **Cantril-Lebensleiter (Cantril Ladder):**\\n\"\n",
    "                    \"   - Frage: „Stellen Sie sich eine Leiter vor, auf der die bestmögliche Lebensqualität, die Sie sich vorstellen können, die oberste Sprosse (10) und die schlechteste die unterste Sprosse (0) ist.\\n\"\n",
    "                    \"   - Auf welcher Sprosse der Leiter würden Sie sich persönlich aktuell sehen?“\\n\"\n",
    "                    \"   - Diese Frage gibt den Happiness Score an, der als zentraler Indikator im Report verwendet wird.\\n\\n\"\n",
    "                    \"Neben der subjektiven Lebensbewertung werden folgende Faktoren verwendet, um das Glück eines Landes zu erklären:\\n\"\n",
    "                    \"   - BIP pro Kopf\\n\"\n",
    "                    \"   - Soziale Unterstützung\\n\"\n",
    "                    \"   - Gesunde Lebenserwartung\\n\"\n",
    "                    \"   - Freiheit bei Lebensentscheidungen\\n\"\n",
    "                    \"   - Großzügigkeit\\n\"\n",
    "                    \"   - Wahrnehmung von Korruption\\n\", \n",
    "     \"color\": \"#E654B7\"},\n",
    "\n",
    "    {\"name\": \"BIP pro Kopf\", \n",
    "     \"description\": \"Wirtschaftlicher Wohlstand hat einen großen Einfluss auf das Glück. Hier wird das Bruttoinlandsprodukt (BIP) pro Kopf als Maßstab verwendet.\", \n",
    "     \"color\": \"#b59231\"},\n",
    "\n",
    "    {\"name\": \"Soziale Unterstützung\", \n",
    "     \"description\": \"Frage: „Wenn Sie in Schwierigkeiten geraten, haben Sie Familie oder Freunde, auf die Sie zählen können?\\\"\\n\"\n",
    "                    \"Dies misst das Maß an Unterstützung, das Menschen in Krisenzeiten von ihrem sozialen Umfeld erhalten.\", \n",
    "     \"color\": \"#F5C400\"},\n",
    "\n",
    "    {\"name\": \"Gesunde Lebenserwartung\", \n",
    "     \"description\": \"Die Lebenserwartung wird als Indikator für das Gesundheitsniveau und den Zugang zu Gesundheitsdiensten verwendet.\\n\"\n",
    "                    \"Je gesünder die Bevölkerung, desto glücklicher ist sie im Allgemeinen.\", \n",
    "     \"color\": \"#DA8D00\"},\n",
    "\n",
    "    {\"name\": \"Freiheit bei Lebensentscheidungen\", \n",
    "     \"description\": \"Frage: „Sind Sie zufrieden mit der Freiheit, die Sie haben, um wichtige Lebensentscheidungen zu treffen?\\\"\\n\"\n",
    "                    \"Dies misst das Gefühl der persönlichen Freiheit und Autonomie.\", \n",
    "     \"color\": \"#D9598E\"},\n",
    "\n",
    "    {\"name\": \"Großzügigkeit\", \n",
    "     \"description\": \"Frage: „Haben Sie im letzten Monat Geld an eine Wohltätigkeitsorganisation gespendet?\\\"\\n\"\n",
    "                    \"Dies misst die Neigung der Menschen, anderen zu helfen und an gemeinnützigen Aktivitäten teilzunehmen.\", \n",
    "     \"color\": \"#FFA849\"},\n",
    "\n",
    "    {\"name\": \"Wahrnehmung von Korruption\", \n",
    "     \"description\": \"Frage: „Wie korrupt halten Sie Ihre Regierung und Unternehmen in Ihrem Land?\\\"\\n\"\n",
    "                    \"Diese Frage misst das Vertrauen in die Regierung und das Geschäftsleben.\\n\"\n",
    "                    \"Ein geringes Maß an Korruption ist stark mit höherem Glück verbunden.\", \n",
    "     \"color\": \"#c9a26b\"},\n",
    "\n",
    "    {\"name\": \"Positive Emotionen\", \n",
    "     \"description\": \"Zum Beispiel wird gefragt, wie oft die Teilnehmer am Vortag Lachen oder Freude erlebt haben.\", \n",
    "     \"color\": \"#A8357E\"},\n",
    "\n",
    "    {\"name\": \"Negative Emotionen\", \n",
    "     \"description\": \"Fragen richten sich danach, wie oft Teilnehmer Gefühle von Stress, Wut oder Sorge empfunden haben.\", \n",
    "     \"color\": \"#E68C2C\"},\n",
    "\n",
    "    {\"name\": \"World Happiness Report\", \n",
    "     \"description\": \"Datenquelle: World Happiness Report 2023 (https://worldhappiness.report/data/)\\n\\n\"\n",
    "                    \"Datengrundlage'Data for Table 2.1' \\n\"\n",
    "                    \"Zusammenfassung: Die Kernfrage des Berichts misst den subjektiven Happiness Score über die Cantril-Lebensleiter. \\n\\n\"\n",
    "                    \"Dieser Score wird mit folgenden Faktoren korreliert:\\n\"\n",
    "                    \"   - BIP pro Kopf\\n\"\n",
    "                    \"   - Soziale Unterstützung\\n\"\n",
    "                    \"   - Lebenserwartung\\n\"\n",
    "                    \"   - Persönliche Freiheit\\n\"\n",
    "                    \"   - Großzügigkeit\\n\"\n",
    "                    \"   - Vertrauen in Institutionen (Korruptionswahrnehmung).\\n\", \n",
    "     \"color\": \"#A64A2E\"}\n",
    "]\n",
    "\n",
    "# DataFrame erstellen\n",
    "df_categories = pd.DataFrame(infos)\n",
    "\n",
    "# Als CSV speichern\n",
    "csv_file_path = df_categories.to_csv(\"infobox.csv\", index=False)\n",
    "\n",
    "infobox = pd.read_csv(\"infobox.csv\")\n",
    "infobox"
   ]
  },
  {
   "cell_type": "code",
   "execution_count": 4,
   "metadata": {},
   "outputs": [
    {
     "name": "stdout",
     "output_type": "stream",
     "text": [
      "<class 'pandas.core.frame.DataFrame'>\n",
      "RangeIndex: 2363 entries, 0 to 2362\n",
      "Data columns (total 11 columns):\n",
      " #   Column                            Non-Null Count  Dtype  \n",
      "---  ------                            --------------  -----  \n",
      " 0   Country name                      2363 non-null   object \n",
      " 1   year                              2363 non-null   int64  \n",
      " 2   Life Ladder                       2363 non-null   float64\n",
      " 3   Log GDP per capita                2335 non-null   float64\n",
      " 4   Social support                    2350 non-null   float64\n",
      " 5   Healthy life expectancy at birth  2300 non-null   float64\n",
      " 6   Freedom to make life choices      2327 non-null   float64\n",
      " 7   Generosity                        2282 non-null   float64\n",
      " 8   Perceptions of corruption         2238 non-null   float64\n",
      " 9   Positive affect                   2339 non-null   float64\n",
      " 10  Negative affect                   2347 non-null   float64\n",
      "dtypes: float64(9), int64(1), object(1)\n",
      "memory usage: 203.2+ KB\n"
     ]
    },
    {
     "data": {
      "text/plain": [
       "None"
      ]
     },
     "metadata": {},
     "output_type": "display_data"
    },
    {
     "data": {
      "text/html": [
       "<div>\n",
       "<style scoped>\n",
       "    .dataframe tbody tr th:only-of-type {\n",
       "        vertical-align: middle;\n",
       "    }\n",
       "\n",
       "    .dataframe tbody tr th {\n",
       "        vertical-align: top;\n",
       "    }\n",
       "\n",
       "    .dataframe thead th {\n",
       "        text-align: right;\n",
       "    }\n",
       "</style>\n",
       "<table border=\"1\" class=\"dataframe\">\n",
       "  <thead>\n",
       "    <tr style=\"text-align: right;\">\n",
       "      <th></th>\n",
       "      <th>year</th>\n",
       "      <th>Life Ladder</th>\n",
       "      <th>Log GDP per capita</th>\n",
       "      <th>Social support</th>\n",
       "      <th>Healthy life expectancy at birth</th>\n",
       "      <th>Freedom to make life choices</th>\n",
       "      <th>Generosity</th>\n",
       "      <th>Perceptions of corruption</th>\n",
       "      <th>Positive affect</th>\n",
       "      <th>Negative affect</th>\n",
       "    </tr>\n",
       "  </thead>\n",
       "  <tbody>\n",
       "    <tr>\n",
       "      <th>count</th>\n",
       "      <td>2363.000000</td>\n",
       "      <td>2363.000000</td>\n",
       "      <td>2335.000000</td>\n",
       "      <td>2350.000000</td>\n",
       "      <td>2300.000000</td>\n",
       "      <td>2327.000000</td>\n",
       "      <td>2282.000000</td>\n",
       "      <td>2238.000000</td>\n",
       "      <td>2339.000000</td>\n",
       "      <td>2347.000000</td>\n",
       "    </tr>\n",
       "    <tr>\n",
       "      <th>mean</th>\n",
       "      <td>2014.763860</td>\n",
       "      <td>5.483566</td>\n",
       "      <td>9.399671</td>\n",
       "      <td>0.809369</td>\n",
       "      <td>63.401828</td>\n",
       "      <td>0.750282</td>\n",
       "      <td>0.000098</td>\n",
       "      <td>0.743971</td>\n",
       "      <td>0.651882</td>\n",
       "      <td>0.273151</td>\n",
       "    </tr>\n",
       "    <tr>\n",
       "      <th>std</th>\n",
       "      <td>5.059436</td>\n",
       "      <td>1.125522</td>\n",
       "      <td>1.152069</td>\n",
       "      <td>0.121212</td>\n",
       "      <td>6.842644</td>\n",
       "      <td>0.139357</td>\n",
       "      <td>0.161388</td>\n",
       "      <td>0.184865</td>\n",
       "      <td>0.106240</td>\n",
       "      <td>0.087131</td>\n",
       "    </tr>\n",
       "    <tr>\n",
       "      <th>min</th>\n",
       "      <td>2005.000000</td>\n",
       "      <td>1.281000</td>\n",
       "      <td>5.527000</td>\n",
       "      <td>0.228000</td>\n",
       "      <td>6.720000</td>\n",
       "      <td>0.228000</td>\n",
       "      <td>-0.340000</td>\n",
       "      <td>0.035000</td>\n",
       "      <td>0.179000</td>\n",
       "      <td>0.083000</td>\n",
       "    </tr>\n",
       "    <tr>\n",
       "      <th>25%</th>\n",
       "      <td>2011.000000</td>\n",
       "      <td>4.647000</td>\n",
       "      <td>8.506500</td>\n",
       "      <td>0.744000</td>\n",
       "      <td>59.195000</td>\n",
       "      <td>0.661000</td>\n",
       "      <td>-0.112000</td>\n",
       "      <td>0.687000</td>\n",
       "      <td>0.572000</td>\n",
       "      <td>0.209000</td>\n",
       "    </tr>\n",
       "    <tr>\n",
       "      <th>50%</th>\n",
       "      <td>2015.000000</td>\n",
       "      <td>5.449000</td>\n",
       "      <td>9.503000</td>\n",
       "      <td>0.834500</td>\n",
       "      <td>65.100000</td>\n",
       "      <td>0.771000</td>\n",
       "      <td>-0.022000</td>\n",
       "      <td>0.798500</td>\n",
       "      <td>0.663000</td>\n",
       "      <td>0.262000</td>\n",
       "    </tr>\n",
       "    <tr>\n",
       "      <th>75%</th>\n",
       "      <td>2019.000000</td>\n",
       "      <td>6.323500</td>\n",
       "      <td>10.392500</td>\n",
       "      <td>0.904000</td>\n",
       "      <td>68.552500</td>\n",
       "      <td>0.862000</td>\n",
       "      <td>0.093750</td>\n",
       "      <td>0.867750</td>\n",
       "      <td>0.737000</td>\n",
       "      <td>0.326000</td>\n",
       "    </tr>\n",
       "    <tr>\n",
       "      <th>max</th>\n",
       "      <td>2023.000000</td>\n",
       "      <td>8.019000</td>\n",
       "      <td>11.676000</td>\n",
       "      <td>0.987000</td>\n",
       "      <td>74.600000</td>\n",
       "      <td>0.985000</td>\n",
       "      <td>0.700000</td>\n",
       "      <td>0.983000</td>\n",
       "      <td>0.884000</td>\n",
       "      <td>0.705000</td>\n",
       "    </tr>\n",
       "  </tbody>\n",
       "</table>\n",
       "</div>"
      ],
      "text/plain": [
       "              year  Life Ladder  Log GDP per capita  Social support  \\\n",
       "count  2363.000000  2363.000000         2335.000000     2350.000000   \n",
       "mean   2014.763860     5.483566            9.399671        0.809369   \n",
       "std       5.059436     1.125522            1.152069        0.121212   \n",
       "min    2005.000000     1.281000            5.527000        0.228000   \n",
       "25%    2011.000000     4.647000            8.506500        0.744000   \n",
       "50%    2015.000000     5.449000            9.503000        0.834500   \n",
       "75%    2019.000000     6.323500           10.392500        0.904000   \n",
       "max    2023.000000     8.019000           11.676000        0.987000   \n",
       "\n",
       "       Healthy life expectancy at birth  Freedom to make life choices  \\\n",
       "count                       2300.000000                   2327.000000   \n",
       "mean                          63.401828                      0.750282   \n",
       "std                            6.842644                      0.139357   \n",
       "min                            6.720000                      0.228000   \n",
       "25%                           59.195000                      0.661000   \n",
       "50%                           65.100000                      0.771000   \n",
       "75%                           68.552500                      0.862000   \n",
       "max                           74.600000                      0.985000   \n",
       "\n",
       "        Generosity  Perceptions of corruption  Positive affect  \\\n",
       "count  2282.000000                2238.000000      2339.000000   \n",
       "mean      0.000098                   0.743971         0.651882   \n",
       "std       0.161388                   0.184865         0.106240   \n",
       "min      -0.340000                   0.035000         0.179000   \n",
       "25%      -0.112000                   0.687000         0.572000   \n",
       "50%      -0.022000                   0.798500         0.663000   \n",
       "75%       0.093750                   0.867750         0.737000   \n",
       "max       0.700000                   0.983000         0.884000   \n",
       "\n",
       "       Negative affect  \n",
       "count      2347.000000  \n",
       "mean          0.273151  \n",
       "std           0.087131  \n",
       "min           0.083000  \n",
       "25%           0.209000  \n",
       "50%           0.262000  \n",
       "75%           0.326000  \n",
       "max           0.705000  "
      ]
     },
     "metadata": {},
     "output_type": "display_data"
    },
    {
     "data": {
      "text/html": [
       "<div>\n",
       "<style scoped>\n",
       "    .dataframe tbody tr th:only-of-type {\n",
       "        vertical-align: middle;\n",
       "    }\n",
       "\n",
       "    .dataframe tbody tr th {\n",
       "        vertical-align: top;\n",
       "    }\n",
       "\n",
       "    .dataframe thead th {\n",
       "        text-align: right;\n",
       "    }\n",
       "</style>\n",
       "<table border=\"1\" class=\"dataframe\">\n",
       "  <thead>\n",
       "    <tr style=\"text-align: right;\">\n",
       "      <th></th>\n",
       "      <th>Country name</th>\n",
       "      <th>year</th>\n",
       "      <th>Life Ladder</th>\n",
       "      <th>Log GDP per capita</th>\n",
       "      <th>Social support</th>\n",
       "      <th>Healthy life expectancy at birth</th>\n",
       "      <th>Freedom to make life choices</th>\n",
       "      <th>Generosity</th>\n",
       "      <th>Perceptions of corruption</th>\n",
       "      <th>Positive affect</th>\n",
       "      <th>Negative affect</th>\n",
       "    </tr>\n",
       "  </thead>\n",
       "  <tbody>\n",
       "    <tr>\n",
       "      <th>0</th>\n",
       "      <td>Afghanistan</td>\n",
       "      <td>2008</td>\n",
       "      <td>3.724</td>\n",
       "      <td>7.350</td>\n",
       "      <td>0.451</td>\n",
       "      <td>50.5</td>\n",
       "      <td>0.718</td>\n",
       "      <td>0.164</td>\n",
       "      <td>0.882</td>\n",
       "      <td>0.414</td>\n",
       "      <td>0.258</td>\n",
       "    </tr>\n",
       "    <tr>\n",
       "      <th>1</th>\n",
       "      <td>Afghanistan</td>\n",
       "      <td>2009</td>\n",
       "      <td>4.402</td>\n",
       "      <td>7.509</td>\n",
       "      <td>0.552</td>\n",
       "      <td>50.8</td>\n",
       "      <td>0.679</td>\n",
       "      <td>0.187</td>\n",
       "      <td>0.850</td>\n",
       "      <td>0.481</td>\n",
       "      <td>0.237</td>\n",
       "    </tr>\n",
       "    <tr>\n",
       "      <th>2</th>\n",
       "      <td>Afghanistan</td>\n",
       "      <td>2010</td>\n",
       "      <td>4.758</td>\n",
       "      <td>7.614</td>\n",
       "      <td>0.539</td>\n",
       "      <td>51.1</td>\n",
       "      <td>0.600</td>\n",
       "      <td>0.118</td>\n",
       "      <td>0.707</td>\n",
       "      <td>0.517</td>\n",
       "      <td>0.275</td>\n",
       "    </tr>\n",
       "    <tr>\n",
       "      <th>3</th>\n",
       "      <td>Afghanistan</td>\n",
       "      <td>2011</td>\n",
       "      <td>3.832</td>\n",
       "      <td>7.581</td>\n",
       "      <td>0.521</td>\n",
       "      <td>51.4</td>\n",
       "      <td>0.496</td>\n",
       "      <td>0.160</td>\n",
       "      <td>0.731</td>\n",
       "      <td>0.480</td>\n",
       "      <td>0.267</td>\n",
       "    </tr>\n",
       "    <tr>\n",
       "      <th>4</th>\n",
       "      <td>Afghanistan</td>\n",
       "      <td>2012</td>\n",
       "      <td>3.783</td>\n",
       "      <td>7.661</td>\n",
       "      <td>0.521</td>\n",
       "      <td>51.7</td>\n",
       "      <td>0.531</td>\n",
       "      <td>0.234</td>\n",
       "      <td>0.776</td>\n",
       "      <td>0.614</td>\n",
       "      <td>0.268</td>\n",
       "    </tr>\n",
       "  </tbody>\n",
       "</table>\n",
       "</div>"
      ],
      "text/plain": [
       "  Country name  year  Life Ladder  Log GDP per capita  Social support  \\\n",
       "0  Afghanistan  2008        3.724               7.350           0.451   \n",
       "1  Afghanistan  2009        4.402               7.509           0.552   \n",
       "2  Afghanistan  2010        4.758               7.614           0.539   \n",
       "3  Afghanistan  2011        3.832               7.581           0.521   \n",
       "4  Afghanistan  2012        3.783               7.661           0.521   \n",
       "\n",
       "   Healthy life expectancy at birth  Freedom to make life choices  Generosity  \\\n",
       "0                              50.5                         0.718       0.164   \n",
       "1                              50.8                         0.679       0.187   \n",
       "2                              51.1                         0.600       0.118   \n",
       "3                              51.4                         0.496       0.160   \n",
       "4                              51.7                         0.531       0.234   \n",
       "\n",
       "   Perceptions of corruption  Positive affect  Negative affect  \n",
       "0                      0.882            0.414            0.258  \n",
       "1                      0.850            0.481            0.237  \n",
       "2                      0.707            0.517            0.275  \n",
       "3                      0.731            0.480            0.267  \n",
       "4                      0.776            0.614            0.268  "
      ]
     },
     "metadata": {},
     "output_type": "display_data"
    }
   ],
   "source": [
    "# Daten importieren\n",
    "# Datensatzquelle: World Happiness Report 2024\n",
    "# 1. Datensatz: Data for Table 2.1\n",
    "\n",
    "glueck = pd.read_csv('whr-2024.csv', sep=';', decimal=',')\n",
    "\n",
    "# Überblick des Datensatzes\n",
    "display(glueck.info())\n",
    "display(glueck.describe())\n",
    "display(glueck.head())"
   ]
  },
  {
   "cell_type": "code",
   "execution_count": 5,
   "metadata": {},
   "outputs": [
    {
     "data": {
      "text/html": [
       "<div>\n",
       "<style scoped>\n",
       "    .dataframe tbody tr th:only-of-type {\n",
       "        vertical-align: middle;\n",
       "    }\n",
       "\n",
       "    .dataframe tbody tr th {\n",
       "        vertical-align: top;\n",
       "    }\n",
       "\n",
       "    .dataframe thead th {\n",
       "        text-align: right;\n",
       "    }\n",
       "</style>\n",
       "<table border=\"1\" class=\"dataframe\">\n",
       "  <thead>\n",
       "    <tr style=\"text-align: right;\">\n",
       "      <th></th>\n",
       "      <th>Land</th>\n",
       "      <th>Jahr</th>\n",
       "      <th>Glücklichkeitswert</th>\n",
       "      <th>BIP pro Kopf</th>\n",
       "      <th>Soziale Unterstützung</th>\n",
       "      <th>Gesunde Lebenserwartung</th>\n",
       "      <th>Entscheidungsfreiheit</th>\n",
       "      <th>Großzügigkeit</th>\n",
       "      <th>Korruptionwahrnehmung</th>\n",
       "      <th>Positiver Effekt</th>\n",
       "      <th>Negativer Effekt</th>\n",
       "    </tr>\n",
       "  </thead>\n",
       "  <tbody>\n",
       "    <tr>\n",
       "      <th>0</th>\n",
       "      <td>Afghanistan</td>\n",
       "      <td>2008</td>\n",
       "      <td>3.724</td>\n",
       "      <td>7.350</td>\n",
       "      <td>0.451</td>\n",
       "      <td>50.5</td>\n",
       "      <td>0.718</td>\n",
       "      <td>0.164</td>\n",
       "      <td>0.882</td>\n",
       "      <td>0.414</td>\n",
       "      <td>0.258</td>\n",
       "    </tr>\n",
       "    <tr>\n",
       "      <th>1</th>\n",
       "      <td>Afghanistan</td>\n",
       "      <td>2009</td>\n",
       "      <td>4.402</td>\n",
       "      <td>7.509</td>\n",
       "      <td>0.552</td>\n",
       "      <td>50.8</td>\n",
       "      <td>0.679</td>\n",
       "      <td>0.187</td>\n",
       "      <td>0.850</td>\n",
       "      <td>0.481</td>\n",
       "      <td>0.237</td>\n",
       "    </tr>\n",
       "    <tr>\n",
       "      <th>2</th>\n",
       "      <td>Afghanistan</td>\n",
       "      <td>2010</td>\n",
       "      <td>4.758</td>\n",
       "      <td>7.614</td>\n",
       "      <td>0.539</td>\n",
       "      <td>51.1</td>\n",
       "      <td>0.600</td>\n",
       "      <td>0.118</td>\n",
       "      <td>0.707</td>\n",
       "      <td>0.517</td>\n",
       "      <td>0.275</td>\n",
       "    </tr>\n",
       "    <tr>\n",
       "      <th>3</th>\n",
       "      <td>Afghanistan</td>\n",
       "      <td>2011</td>\n",
       "      <td>3.832</td>\n",
       "      <td>7.581</td>\n",
       "      <td>0.521</td>\n",
       "      <td>51.4</td>\n",
       "      <td>0.496</td>\n",
       "      <td>0.160</td>\n",
       "      <td>0.731</td>\n",
       "      <td>0.480</td>\n",
       "      <td>0.267</td>\n",
       "    </tr>\n",
       "    <tr>\n",
       "      <th>4</th>\n",
       "      <td>Afghanistan</td>\n",
       "      <td>2012</td>\n",
       "      <td>3.783</td>\n",
       "      <td>7.661</td>\n",
       "      <td>0.521</td>\n",
       "      <td>51.7</td>\n",
       "      <td>0.531</td>\n",
       "      <td>0.234</td>\n",
       "      <td>0.776</td>\n",
       "      <td>0.614</td>\n",
       "      <td>0.268</td>\n",
       "    </tr>\n",
       "  </tbody>\n",
       "</table>\n",
       "</div>"
      ],
      "text/plain": [
       "          Land  Jahr  Glücklichkeitswert  BIP pro Kopf  Soziale Unterstützung  \\\n",
       "0  Afghanistan  2008               3.724         7.350                  0.451   \n",
       "1  Afghanistan  2009               4.402         7.509                  0.552   \n",
       "2  Afghanistan  2010               4.758         7.614                  0.539   \n",
       "3  Afghanistan  2011               3.832         7.581                  0.521   \n",
       "4  Afghanistan  2012               3.783         7.661                  0.521   \n",
       "\n",
       "   Gesunde Lebenserwartung  Entscheidungsfreiheit  Großzügigkeit  \\\n",
       "0                     50.5                  0.718          0.164   \n",
       "1                     50.8                  0.679          0.187   \n",
       "2                     51.1                  0.600          0.118   \n",
       "3                     51.4                  0.496          0.160   \n",
       "4                     51.7                  0.531          0.234   \n",
       "\n",
       "   Korruptionwahrnehmung  Positiver Effekt  Negativer Effekt  \n",
       "0                  0.882             0.414             0.258  \n",
       "1                  0.850             0.481             0.237  \n",
       "2                  0.707             0.517             0.275  \n",
       "3                  0.731             0.480             0.267  \n",
       "4                  0.776             0.614             0.268  "
      ]
     },
     "execution_count": 5,
     "metadata": {},
     "output_type": "execute_result"
    }
   ],
   "source": [
    "# Spaltenumbenennug\n",
    "glueck.columns = [\n",
    "    \"Land\",          \n",
    "    \"Jahr\", \n",
    "    \"Glücklichkeitswert\",                \n",
    "    \"BIP pro Kopf\", \n",
    "    \"Soziale Unterstützung\",          \n",
    "    \"Gesunde Lebenserwartung\",                               \n",
    "    \"Entscheidungsfreiheit\",\n",
    "    \"Großzügigkeit\",                                                           \n",
    "    \"Korruptionwahrnehmung\",\n",
    "    \"Positiver Effekt\",\n",
    "    \"Negativer Effekt\"]          \n",
    "glueck.head()"
   ]
  },
  {
   "cell_type": "code",
   "execution_count": 6,
   "metadata": {},
   "outputs": [
    {
     "name": "stdout",
     "output_type": "stream",
     "text": [
      "Afrika: ['Algeria', 'Angola', 'Benin', 'Botswana', 'Burkina Faso', 'Burundi', 'Cameroon', 'Central African Republic', 'Chad', 'Comoros', 'Congo (Brazzaville)', 'Congo (Kinshasa)', 'Djibouti', 'Egypt', 'Eswatini', 'Ethiopia', 'Gabon', 'Gambia', 'Ghana', 'Guinea', 'Ivory Coast', 'Kenya', 'Lesotho', 'Liberia', 'Libya', 'Madagascar', 'Malawi', 'Mali', 'Mauritania', 'Mauritius', 'Morocco', 'Mozambique', 'Namibia', 'Niger', 'Nigeria', 'Rwanda', 'Senegal', 'Sierra Leone', 'Somalia', 'Somaliland region', 'South Africa', 'South Sudan', 'Sudan', 'Tanzania', 'Togo', 'Uganda', 'Zambia', 'Zimbabwe']\n",
      "Asien: ['Afghanistan', 'Armenia', 'Azerbaijan', 'Bahrain', 'Bangladesh', 'Bhutan', 'Cambodia', 'China', 'Georgia', 'India', 'Indonesia', 'Iran', 'Iraq', 'Israel', 'Japan', 'Jordan', 'Kazakhstan', 'Kuwait', 'Kyrgyzstan', 'Laos', 'Lebanon', 'Malaysia', 'Maldives', 'Mongolia', 'Myanmar', 'Nepal', 'Oman', 'Pakistan', 'Philippines', 'Qatar', 'Saudi Arabia', 'Singapore', 'South Korea', 'Sri Lanka', 'State of Palestine', 'Syria', 'Taiwan Province of China', 'Tajikistan', 'Thailand', 'Turkiye', 'Uzbekistan', 'Vietnam', 'Yemen']\n",
      "Europa: ['Albania', 'Austria', 'Belarus', 'Belgium', 'Bosnia and Herzegovina', 'Bulgaria', 'Croatia', 'Cyprus', 'Czechia', 'Denmark', 'Estonia', 'Finland', 'France', 'Germany', 'Greece', 'Hungary', 'Iceland', 'Ireland', 'Italy', 'Kosovo', 'Latvia', 'Lithuania', 'Luxembourg', 'Malta', 'Moldova', 'Montenegro', 'Netherlands', 'North Macedonia', 'Norway', 'Poland', 'Portugal', 'Romania', 'Russia', 'Serbia', 'Slovakia', 'Slovenia', 'Spain', 'Sweden', 'Switzerland', 'Ukraine', 'United Kingdom']\n",
      "Amerika: ['Argentina', 'Belize', 'Bolivia', 'Brazil', 'Canada', 'Chile', 'Colombia', 'Costa Rica', 'Cuba', 'Dominican Republic', 'Ecuador', 'El Salvador', 'Guatemala', 'Guyana', 'Haiti', 'Honduras', 'Jamaica', 'Mexico', 'Nicaragua', 'Panama', 'Paraguay', 'Peru', 'Suriname', 'Trinidad and Tobago', 'United States', 'Uruguay', 'Venezuela']\n",
      "Ozeanien: ['Australia', 'New Zealand', 'Papua New Guinea']\n"
     ]
    },
    {
     "data": {
      "text/html": [
       "<div>\n",
       "<style scoped>\n",
       "    .dataframe tbody tr th:only-of-type {\n",
       "        vertical-align: middle;\n",
       "    }\n",
       "\n",
       "    .dataframe tbody tr th {\n",
       "        vertical-align: top;\n",
       "    }\n",
       "\n",
       "    .dataframe thead th {\n",
       "        text-align: right;\n",
       "    }\n",
       "</style>\n",
       "<table border=\"1\" class=\"dataframe\">\n",
       "  <thead>\n",
       "    <tr style=\"text-align: right;\">\n",
       "      <th></th>\n",
       "      <th>Land</th>\n",
       "      <th>Jahr</th>\n",
       "      <th>Glücklichkeitswert</th>\n",
       "      <th>BIP pro Kopf</th>\n",
       "      <th>Soziale Unterstützung</th>\n",
       "      <th>Gesunde Lebenserwartung</th>\n",
       "      <th>Entscheidungsfreiheit</th>\n",
       "      <th>Großzügigkeit</th>\n",
       "      <th>Korruptionwahrnehmung</th>\n",
       "      <th>Positiver Effekt</th>\n",
       "      <th>Negativer Effekt</th>\n",
       "      <th>Region</th>\n",
       "    </tr>\n",
       "  </thead>\n",
       "  <tbody>\n",
       "    <tr>\n",
       "      <th>0</th>\n",
       "      <td>Afghanistan</td>\n",
       "      <td>2008</td>\n",
       "      <td>3.724</td>\n",
       "      <td>7.350</td>\n",
       "      <td>0.451</td>\n",
       "      <td>50.5</td>\n",
       "      <td>0.718</td>\n",
       "      <td>0.164</td>\n",
       "      <td>0.882</td>\n",
       "      <td>0.414</td>\n",
       "      <td>0.258</td>\n",
       "      <td>Südasien</td>\n",
       "    </tr>\n",
       "    <tr>\n",
       "      <th>1</th>\n",
       "      <td>Afghanistan</td>\n",
       "      <td>2009</td>\n",
       "      <td>4.402</td>\n",
       "      <td>7.509</td>\n",
       "      <td>0.552</td>\n",
       "      <td>50.8</td>\n",
       "      <td>0.679</td>\n",
       "      <td>0.187</td>\n",
       "      <td>0.850</td>\n",
       "      <td>0.481</td>\n",
       "      <td>0.237</td>\n",
       "      <td>Südasien</td>\n",
       "    </tr>\n",
       "    <tr>\n",
       "      <th>2</th>\n",
       "      <td>Afghanistan</td>\n",
       "      <td>2010</td>\n",
       "      <td>4.758</td>\n",
       "      <td>7.614</td>\n",
       "      <td>0.539</td>\n",
       "      <td>51.1</td>\n",
       "      <td>0.600</td>\n",
       "      <td>0.118</td>\n",
       "      <td>0.707</td>\n",
       "      <td>0.517</td>\n",
       "      <td>0.275</td>\n",
       "      <td>Südasien</td>\n",
       "    </tr>\n",
       "    <tr>\n",
       "      <th>3</th>\n",
       "      <td>Afghanistan</td>\n",
       "      <td>2011</td>\n",
       "      <td>3.832</td>\n",
       "      <td>7.581</td>\n",
       "      <td>0.521</td>\n",
       "      <td>51.4</td>\n",
       "      <td>0.496</td>\n",
       "      <td>0.160</td>\n",
       "      <td>0.731</td>\n",
       "      <td>0.480</td>\n",
       "      <td>0.267</td>\n",
       "      <td>Südasien</td>\n",
       "    </tr>\n",
       "    <tr>\n",
       "      <th>4</th>\n",
       "      <td>Afghanistan</td>\n",
       "      <td>2012</td>\n",
       "      <td>3.783</td>\n",
       "      <td>7.661</td>\n",
       "      <td>0.521</td>\n",
       "      <td>51.7</td>\n",
       "      <td>0.531</td>\n",
       "      <td>0.234</td>\n",
       "      <td>0.776</td>\n",
       "      <td>0.614</td>\n",
       "      <td>0.268</td>\n",
       "      <td>Südasien</td>\n",
       "    </tr>\n",
       "  </tbody>\n",
       "</table>\n",
       "</div>"
      ],
      "text/plain": [
       "          Land  Jahr  Glücklichkeitswert  BIP pro Kopf  Soziale Unterstützung  \\\n",
       "0  Afghanistan  2008               3.724         7.350                  0.451   \n",
       "1  Afghanistan  2009               4.402         7.509                  0.552   \n",
       "2  Afghanistan  2010               4.758         7.614                  0.539   \n",
       "3  Afghanistan  2011               3.832         7.581                  0.521   \n",
       "4  Afghanistan  2012               3.783         7.661                  0.521   \n",
       "\n",
       "   Gesunde Lebenserwartung  Entscheidungsfreiheit  Großzügigkeit  \\\n",
       "0                     50.5                  0.718          0.164   \n",
       "1                     50.8                  0.679          0.187   \n",
       "2                     51.1                  0.600          0.118   \n",
       "3                     51.4                  0.496          0.160   \n",
       "4                     51.7                  0.531          0.234   \n",
       "\n",
       "   Korruptionwahrnehmung  Positiver Effekt  Negativer Effekt    Region  \n",
       "0                  0.882             0.414             0.258  Südasien  \n",
       "1                  0.850             0.481             0.237  Südasien  \n",
       "2                  0.707             0.517             0.275  Südasien  \n",
       "3                  0.731             0.480             0.267  Südasien  \n",
       "4                  0.776             0.614             0.268  Südasien  "
      ]
     },
     "execution_count": 6,
     "metadata": {},
     "output_type": "execute_result"
    }
   ],
   "source": [
    "# Kontinente hinzufügen\n",
    "\n",
    "region_dict = {\n",
    "    # Afrika\n",
    "    'Algeria': 'Nordafrika', 'Angola': 'Zentralafrika', 'Benin': 'Westafrika', \n",
    "    'Botswana': 'Südliches Afrika', 'Burkina Faso': 'Westafrika', 'Burundi': 'Ostafrika', \n",
    "    'Cameroon': 'Zentralafrika', 'Central African Republic': 'Zentralafrika', 'Chad': 'Zentralafrika', \n",
    "    'Comoros': 'Ostafrika', 'Congo (Brazzaville)': 'Zentralafrika', 'Congo (Kinshasa)': 'Zentralafrika', \n",
    "    'Djibouti': 'Ostafrika', 'Egypt': 'Nordafrika', 'Eswatini': 'Südliches Afrika', \n",
    "    'Ethiopia': 'Ostafrika', 'Gabon': 'Zentralafrika', 'Gambia': 'Westafrika', \n",
    "    'Ghana': 'Westafrika', 'Guinea': 'Westafrika', 'Ivory Coast': 'Westafrika', \n",
    "    'Kenya': 'Ostafrika', 'Lesotho': 'Südliches Afrika', 'Liberia': 'Westafrika', \n",
    "    'Libya': 'Nordafrika', 'Madagascar': 'Ostafrika', 'Malawi': 'Ostafrika', \n",
    "    'Mali': 'Westafrika', 'Mauritania': 'Nordafrika', 'Mauritius': 'Ostafrika', \n",
    "    'Morocco': 'Nordafrika', 'Mozambique': 'Ostafrika', 'Namibia': 'Südliches Afrika', \n",
    "    'Niger': 'Westafrika', 'Nigeria': 'Westafrika', 'Rwanda': 'Ostafrika', \n",
    "    'Senegal': 'Westafrika', 'Sierra Leone': 'Westafrika', 'Somalia': 'Ostafrika', \n",
    "    'Somaliland region': 'Ostafrika', 'South Africa': 'Südliches Afrika', 'South Sudan': 'Ostafrika', \n",
    "    'Sudan': 'Nordafrika', 'Tanzania': 'Ostafrika', 'Togo': 'Westafrika', \n",
    "    'Uganda': 'Ostafrika', 'Zambia': 'Ostafrika', 'Zimbabwe': 'Südliches Afrika',\n",
    "\n",
    "    # Asien\n",
    "    'Afghanistan': 'Südasien', 'Armenia': 'Zentralasien', 'Azerbaijan': 'Zentralasien', \n",
    "    'Bahrain': 'Westasien', 'Bangladesh': 'Südasien', 'Bhutan': 'Südasien', \n",
    "    'Cambodia': 'Südostasien', 'China': 'Ostasien', 'Georgia': 'Zentralasien', \n",
    "    'India': 'Südasien', 'Indonesia': 'Südostasien', 'Iran': 'Westasien', \n",
    "    'Iraq': 'Westasien', 'Israel': 'Westasien', 'Japan': 'Ostasien', \n",
    "    'Jordan': 'Westasien', 'Kazakhstan': 'Zentralasien', 'Kuwait': 'Westasien', \n",
    "    'Kyrgyzstan': 'Zentralasien', 'Laos': 'Südostasien', 'Lebanon': 'Westasien', \n",
    "    'Malaysia': 'Südostasien', 'Maldives': 'Südasien', 'Mongolia': 'Ostasien', \n",
    "    'Myanmar': 'Südostasien', 'Nepal': 'Südasien', 'Oman': 'Westasien', \n",
    "    'Pakistan': 'Südasien', 'Philippines': 'Südostasien', 'Qatar': 'Westasien', \n",
    "    'Saudi Arabia': 'Westasien', 'Singapore': 'Südostasien', 'South Korea': 'Ostasien', \n",
    "    'Sri Lanka': 'Südasien', 'State of Palestine': 'Westasien', 'Syria': 'Westasien', \n",
    "    'Taiwan Province of China': 'Ostasien', 'Tajikistan': 'Zentralasien', 'Thailand': 'Südostasien', \n",
    "    'Turkiye': 'Westasien', 'Uzbekistan': 'Zentralasien', 'Vietnam': 'Südostasien', \n",
    "    'Yemen': 'Westasien',\n",
    "\n",
    "    # Europa\n",
    "    'Albania': 'Südeuropa', 'Austria': 'Westeuropa', 'Belarus': 'Osteuropa', \n",
    "    'Belgium': 'Westeuropa', 'Bosnia and Herzegovina': 'Südeuropa', 'Bulgaria': 'Osteuropa', \n",
    "    'Croatia': 'Südeuropa', 'Cyprus': 'Südeuropa', 'Czechia': 'Osteuropa', \n",
    "    'Denmark': 'Nordeuropa', 'Estonia': 'Nordeuropa', 'Finland': 'Nordeuropa', \n",
    "    'France': 'Westeuropa', 'Germany': 'Westeuropa', 'Greece': 'Südeuropa', \n",
    "    'Hungary': 'Osteuropa', 'Iceland': 'Nordeuropa', 'Ireland': 'Nordeuropa', \n",
    "    'Italy': 'Südeuropa', 'Kosovo': 'Südeuropa', 'Latvia': 'Nordeuropa', \n",
    "    'Lithuania': 'Nordeuropa', 'Luxembourg': 'Westeuropa', 'Malta': 'Südeuropa', \n",
    "    'Moldova': 'Osteuropa', 'Montenegro': 'Südeuropa', 'Netherlands': 'Westeuropa', \n",
    "    'North Macedonia': 'Südeuropa', 'Norway': 'Nordeuropa', 'Poland': 'Osteuropa', \n",
    "    'Portugal': 'Südeuropa', 'Romania': 'Osteuropa', 'Russia': 'Osteuropa', \n",
    "    'Serbia': 'Südeuropa', 'Slovakia': 'Osteuropa', 'Slovenia': 'Südeuropa', \n",
    "    'Spain': 'Südeuropa', 'Sweden': 'Nordeuropa', 'Switzerland': 'Westeuropa', \n",
    "    'Ukraine': 'Osteuropa', 'United Kingdom': 'Nordeuropa',\n",
    "\n",
    "    # Amerika\n",
    "    'Argentina': 'Südamerika', 'Belize': 'Mittelamerika', 'Bolivia': 'Südamerika', \n",
    "    'Brazil': 'Südamerika', 'Canada': 'Nordamerika', 'Chile': 'Südamerika', \n",
    "    'Colombia': 'Südamerika', 'Costa Rica': 'Mittelamerika', 'Cuba': 'Mittelamerika', \n",
    "    'Dominican Republic': 'Mittelamerika', 'Ecuador': 'Südamerika', 'El Salvador': 'Mittelamerika', \n",
    "    'Guatemala': 'Mittelamerika', 'Guyana': 'Südamerika', 'Haiti': 'Mittelamerika', \n",
    "    'Honduras': 'Mittelamerika', 'Jamaica': 'Mittelamerika', 'Mexico': 'Mittelamerika', \n",
    "    'Nicaragua': 'Mittelamerika', 'Panama': 'Mittelamerika', 'Paraguay': 'Südamerika', \n",
    "    'Peru': 'Südamerika', 'Suriname': 'Südamerika', 'Trinidad and Tobago': 'Mittelamerika', \n",
    "    'United States': 'Nordamerika', 'Uruguay': 'Südamerika', 'Venezuela': 'Südamerika',\n",
    "\n",
    "    # Ozeanien\n",
    "    'Australia': 'Ozeanien', 'New Zealand': 'Ozeanien', 'Papua New Guinea': 'Ozeanien'\n",
    "}\n",
    "\n",
    "glueck[\"Region\"] = glueck[\"Land\"].map(region_dict)\n",
    "\n",
    "# Ein neues Dictionary erstellen, um die Kontinente und ihre Länder zu speichern\n",
    "continent_dict = defaultdict(list)\n",
    "\n",
    "# Regionen grob nach Kontinenten gruppieren\n",
    "region_to_continent = {\n",
    "    'Nordafrika': 'Afrika', 'Zentralafrika': 'Afrika', 'Westafrika': 'Afrika', 'Ostafrika': 'Afrika', 'Südliches Afrika': 'Afrika',\n",
    "    'Südasien': 'Asien', 'Zentralasien': 'Asien', 'Westasien': 'Asien', 'Südostasien': 'Asien', 'Ostasien': 'Asien',\n",
    "    'Südeuropa': 'Europa', 'Westeuropa': 'Europa', 'Osteuropa': 'Europa', 'Nordeuropa': 'Europa',\n",
    "    'Nordamerika': 'Amerika', 'Mittelamerika': 'Amerika', 'Südamerika': 'Amerika',\n",
    "    'Ozeanien': 'Ozeanien'\n",
    "}\n",
    "\n",
    "# Durch das ursprüngliche region_dict iterieren und den Ländern Kontinente zuweisen\n",
    "for land, region in region_dict.items():\n",
    "    kontinent = region_to_continent.get(region)\n",
    "    if kontinent:\n",
    "        continent_dict[kontinent].append(land)\n",
    "\n",
    "# Ausgabe der Länder nach Kontinent\n",
    "for kontinent, laender in continent_dict.items():\n",
    "    print(f\"{kontinent}: {laender}\")\n",
    "\n",
    "# Als neue CSV abspeichern\n",
    "glueck.to_csv('whr_2024_update.csv', sep=';', decimal=',')\n",
    "glueck.head()"
   ]
  },
  {
   "cell_type": "code",
   "execution_count": 47,
   "metadata": {},
   "outputs": [
    {
     "data": {
      "text/html": [
       "<div>\n",
       "<style scoped>\n",
       "    .dataframe tbody tr th:only-of-type {\n",
       "        vertical-align: middle;\n",
       "    }\n",
       "\n",
       "    .dataframe tbody tr th {\n",
       "        vertical-align: top;\n",
       "    }\n",
       "\n",
       "    .dataframe thead th {\n",
       "        text-align: right;\n",
       "    }\n",
       "</style>\n",
       "<table border=\"1\" class=\"dataframe\">\n",
       "  <thead>\n",
       "    <tr style=\"text-align: right;\">\n",
       "      <th></th>\n",
       "      <th>Country name</th>\n",
       "      <th>Ladder score</th>\n",
       "      <th>upperwhisker</th>\n",
       "      <th>lowerwhisker</th>\n",
       "      <th>Explained by: Log GDP per capita</th>\n",
       "      <th>Explained by: Social support</th>\n",
       "      <th>Explained by: Healthy life expectancy</th>\n",
       "      <th>Explained by: Freedom to make life choices</th>\n",
       "      <th>Explained by: Generosity</th>\n",
       "      <th>Explained by: Perceptions of corruption</th>\n",
       "      <th>Dystopia + residual</th>\n",
       "    </tr>\n",
       "  </thead>\n",
       "  <tbody>\n",
       "    <tr>\n",
       "      <th>0</th>\n",
       "      <td>Finland</td>\n",
       "      <td>7.741</td>\n",
       "      <td>7.815</td>\n",
       "      <td>7.667</td>\n",
       "      <td>1.844</td>\n",
       "      <td>1.572</td>\n",
       "      <td>0.695</td>\n",
       "      <td>0.859</td>\n",
       "      <td>0.142</td>\n",
       "      <td>0.546</td>\n",
       "      <td>2.082</td>\n",
       "    </tr>\n",
       "    <tr>\n",
       "      <th>1</th>\n",
       "      <td>Denmark</td>\n",
       "      <td>7.583</td>\n",
       "      <td>7.665</td>\n",
       "      <td>7.500</td>\n",
       "      <td>1.908</td>\n",
       "      <td>1.520</td>\n",
       "      <td>0.699</td>\n",
       "      <td>0.823</td>\n",
       "      <td>0.204</td>\n",
       "      <td>0.548</td>\n",
       "      <td>1.881</td>\n",
       "    </tr>\n",
       "    <tr>\n",
       "      <th>2</th>\n",
       "      <td>Iceland</td>\n",
       "      <td>7.525</td>\n",
       "      <td>7.618</td>\n",
       "      <td>7.433</td>\n",
       "      <td>1.881</td>\n",
       "      <td>1.617</td>\n",
       "      <td>0.718</td>\n",
       "      <td>0.819</td>\n",
       "      <td>0.258</td>\n",
       "      <td>0.182</td>\n",
       "      <td>2.050</td>\n",
       "    </tr>\n",
       "    <tr>\n",
       "      <th>3</th>\n",
       "      <td>Sweden</td>\n",
       "      <td>7.344</td>\n",
       "      <td>7.422</td>\n",
       "      <td>7.267</td>\n",
       "      <td>1.878</td>\n",
       "      <td>1.501</td>\n",
       "      <td>0.724</td>\n",
       "      <td>0.838</td>\n",
       "      <td>0.221</td>\n",
       "      <td>0.524</td>\n",
       "      <td>1.658</td>\n",
       "    </tr>\n",
       "    <tr>\n",
       "      <th>4</th>\n",
       "      <td>Israel</td>\n",
       "      <td>7.341</td>\n",
       "      <td>7.405</td>\n",
       "      <td>7.277</td>\n",
       "      <td>1.803</td>\n",
       "      <td>1.513</td>\n",
       "      <td>0.740</td>\n",
       "      <td>0.641</td>\n",
       "      <td>0.153</td>\n",
       "      <td>0.193</td>\n",
       "      <td>2.298</td>\n",
       "    </tr>\n",
       "    <tr>\n",
       "      <th>...</th>\n",
       "      <td>...</td>\n",
       "      <td>...</td>\n",
       "      <td>...</td>\n",
       "      <td>...</td>\n",
       "      <td>...</td>\n",
       "      <td>...</td>\n",
       "      <td>...</td>\n",
       "      <td>...</td>\n",
       "      <td>...</td>\n",
       "      <td>...</td>\n",
       "      <td>...</td>\n",
       "    </tr>\n",
       "    <tr>\n",
       "      <th>138</th>\n",
       "      <td>Congo (Kinshasa)</td>\n",
       "      <td>3.295</td>\n",
       "      <td>3.462</td>\n",
       "      <td>3.128</td>\n",
       "      <td>0.534</td>\n",
       "      <td>0.665</td>\n",
       "      <td>0.262</td>\n",
       "      <td>0.473</td>\n",
       "      <td>0.189</td>\n",
       "      <td>0.072</td>\n",
       "      <td>1.102</td>\n",
       "    </tr>\n",
       "    <tr>\n",
       "      <th>139</th>\n",
       "      <td>Sierra Leone</td>\n",
       "      <td>3.245</td>\n",
       "      <td>3.366</td>\n",
       "      <td>3.124</td>\n",
       "      <td>0.654</td>\n",
       "      <td>0.566</td>\n",
       "      <td>0.253</td>\n",
       "      <td>0.469</td>\n",
       "      <td>0.181</td>\n",
       "      <td>0.053</td>\n",
       "      <td>1.068</td>\n",
       "    </tr>\n",
       "    <tr>\n",
       "      <th>140</th>\n",
       "      <td>Lesotho</td>\n",
       "      <td>3.186</td>\n",
       "      <td>3.469</td>\n",
       "      <td>2.904</td>\n",
       "      <td>0.771</td>\n",
       "      <td>0.851</td>\n",
       "      <td>0.000</td>\n",
       "      <td>0.523</td>\n",
       "      <td>0.082</td>\n",
       "      <td>0.085</td>\n",
       "      <td>0.875</td>\n",
       "    </tr>\n",
       "    <tr>\n",
       "      <th>141</th>\n",
       "      <td>Lebanon</td>\n",
       "      <td>2.707</td>\n",
       "      <td>2.797</td>\n",
       "      <td>2.616</td>\n",
       "      <td>1.377</td>\n",
       "      <td>0.577</td>\n",
       "      <td>0.556</td>\n",
       "      <td>0.173</td>\n",
       "      <td>0.068</td>\n",
       "      <td>0.029</td>\n",
       "      <td>-0.073</td>\n",
       "    </tr>\n",
       "    <tr>\n",
       "      <th>142</th>\n",
       "      <td>Afghanistan</td>\n",
       "      <td>1.721</td>\n",
       "      <td>1.775</td>\n",
       "      <td>1.667</td>\n",
       "      <td>0.628</td>\n",
       "      <td>0.000</td>\n",
       "      <td>0.242</td>\n",
       "      <td>0.000</td>\n",
       "      <td>0.091</td>\n",
       "      <td>0.088</td>\n",
       "      <td>0.672</td>\n",
       "    </tr>\n",
       "  </tbody>\n",
       "</table>\n",
       "<p>143 rows × 11 columns</p>\n",
       "</div>"
      ],
      "text/plain": [
       "         Country name  Ladder score  upperwhisker  lowerwhisker  \\\n",
       "0             Finland         7.741         7.815         7.667   \n",
       "1             Denmark         7.583         7.665         7.500   \n",
       "2             Iceland         7.525         7.618         7.433   \n",
       "3              Sweden         7.344         7.422         7.267   \n",
       "4              Israel         7.341         7.405         7.277   \n",
       "..                ...           ...           ...           ...   \n",
       "138  Congo (Kinshasa)         3.295         3.462         3.128   \n",
       "139      Sierra Leone         3.245         3.366         3.124   \n",
       "140           Lesotho         3.186         3.469         2.904   \n",
       "141           Lebanon         2.707         2.797         2.616   \n",
       "142       Afghanistan         1.721         1.775         1.667   \n",
       "\n",
       "     Explained by: Log GDP per capita  Explained by: Social support  \\\n",
       "0                               1.844                         1.572   \n",
       "1                               1.908                         1.520   \n",
       "2                               1.881                         1.617   \n",
       "3                               1.878                         1.501   \n",
       "4                               1.803                         1.513   \n",
       "..                                ...                           ...   \n",
       "138                             0.534                         0.665   \n",
       "139                             0.654                         0.566   \n",
       "140                             0.771                         0.851   \n",
       "141                             1.377                         0.577   \n",
       "142                             0.628                         0.000   \n",
       "\n",
       "     Explained by: Healthy life expectancy  \\\n",
       "0                                    0.695   \n",
       "1                                    0.699   \n",
       "2                                    0.718   \n",
       "3                                    0.724   \n",
       "4                                    0.740   \n",
       "..                                     ...   \n",
       "138                                  0.262   \n",
       "139                                  0.253   \n",
       "140                                  0.000   \n",
       "141                                  0.556   \n",
       "142                                  0.242   \n",
       "\n",
       "     Explained by: Freedom to make life choices  Explained by: Generosity  \\\n",
       "0                                         0.859                     0.142   \n",
       "1                                         0.823                     0.204   \n",
       "2                                         0.819                     0.258   \n",
       "3                                         0.838                     0.221   \n",
       "4                                         0.641                     0.153   \n",
       "..                                          ...                       ...   \n",
       "138                                       0.473                     0.189   \n",
       "139                                       0.469                     0.181   \n",
       "140                                       0.523                     0.082   \n",
       "141                                       0.173                     0.068   \n",
       "142                                       0.000                     0.091   \n",
       "\n",
       "     Explained by: Perceptions of corruption  Dystopia + residual  \n",
       "0                                      0.546                2.082  \n",
       "1                                      0.548                1.881  \n",
       "2                                      0.182                2.050  \n",
       "3                                      0.524                1.658  \n",
       "4                                      0.193                2.298  \n",
       "..                                       ...                  ...  \n",
       "138                                    0.072                1.102  \n",
       "139                                    0.053                1.068  \n",
       "140                                    0.085                0.875  \n",
       "141                                    0.029               -0.073  \n",
       "142                                    0.088                0.672  \n",
       "\n",
       "[143 rows x 11 columns]"
      ]
     },
     "execution_count": 47,
     "metadata": {},
     "output_type": "execute_result"
    }
   ],
   "source": [
    "# 2. Datensatz im Vergleich\n",
    "# Data for Figure 2.1 (aufbereitete Daten, Ladder Score weicht von Life Ladder ab)\n",
    "glueck_figure_2023 = pd.read_csv(\"DataForFigure2.1+with+sub+bars+2024.csv\",\n",
    "                            sep=';', decimal=',')\n",
    "glueck_figure_2023\n"
   ]
  },
  {
   "cell_type": "code",
   "execution_count": 58,
   "metadata": {},
   "outputs": [
    {
     "data": {
      "application/vnd.plotly.v1+json": {
       "config": {
        "plotlyServerURL": "https://plot.ly"
       },
       "data": [
        {
         "alignmentgroup": "True",
         "hovertemplate": "Erklärende Faktoren=Explained by: Log GDP per capita<br>Erklärung des Ladder Scores=%{x}<br>Country name=%{y}<extra></extra>",
         "legendgroup": "Explained by: Log GDP per capita",
         "marker": {
          "color": "#0d0887",
          "pattern": {
           "shape": ""
          }
         },
         "name": "Logarithmus des BIP pro Kopf",
         "offsetgroup": "Explained by: Log GDP per capita",
         "orientation": "h",
         "showlegend": true,
         "textposition": "auto",
         "texttemplate": "%{x}",
         "type": "bar",
         "x": [
          1.854,
          1.97,
          2.141,
          1.952,
          1.901,
          1.803,
          1.878,
          1.881,
          1.908,
          1.844
         ],
         "xaxis": "x",
         "y": [
          "Australia",
          "Switzerland",
          "Luxembourg",
          "Norway",
          "Netherlands",
          "Israel",
          "Sweden",
          "Iceland",
          "Denmark",
          "Finland"
         ],
         "yaxis": "y"
        },
        {
         "alignmentgroup": "True",
         "hovertemplate": "Erklärende Faktoren=Explained by: Social support<br>Erklärung des Ladder Scores=%{x}<br>Country name=%{y}<extra></extra>",
         "legendgroup": "Explained by: Social support",
         "marker": {
          "color": "#46039f",
          "pattern": {
           "shape": ""
          }
         },
         "name": "Soziale Unterstützung",
         "offsetgroup": "Explained by: Social support",
         "orientation": "h",
         "showlegend": true,
         "textposition": "auto",
         "texttemplate": "%{x}",
         "type": "bar",
         "x": [
          1.461,
          1.425,
          1.355,
          1.517,
          1.462,
          1.513,
          1.501,
          1.617,
          1.52,
          1.572
         ],
         "xaxis": "x",
         "y": [
          "Australia",
          "Switzerland",
          "Luxembourg",
          "Norway",
          "Netherlands",
          "Israel",
          "Sweden",
          "Iceland",
          "Denmark",
          "Finland"
         ],
         "yaxis": "y"
        },
        {
         "alignmentgroup": "True",
         "hovertemplate": "Erklärende Faktoren=Explained by: Healthy life expectancy<br>Erklärung des Ladder Scores=%{x}<br>Country name=%{y}<extra></extra>",
         "legendgroup": "Explained by: Healthy life expectancy",
         "marker": {
          "color": "#7201a8",
          "pattern": {
           "shape": ""
          }
         },
         "name": "Gesunde Lebenserwartung",
         "offsetgroup": "Explained by: Healthy life expectancy",
         "orientation": "h",
         "showlegend": true,
         "textposition": "auto",
         "texttemplate": "%{x}",
         "type": "bar",
         "x": [
          0.692,
          0.747,
          0.708,
          0.704,
          0.706,
          0.74,
          0.724,
          0.718,
          0.699,
          0.695
         ],
         "xaxis": "x",
         "y": [
          "Australia",
          "Switzerland",
          "Luxembourg",
          "Norway",
          "Netherlands",
          "Israel",
          "Sweden",
          "Iceland",
          "Denmark",
          "Finland"
         ],
         "yaxis": "y"
        },
        {
         "alignmentgroup": "True",
         "hovertemplate": "Erklärende Faktoren=Explained by: Freedom to make life choices<br>Erklärung des Ladder Scores=%{x}<br>Country name=%{y}<extra></extra>",
         "legendgroup": "Explained by: Freedom to make life choices",
         "marker": {
          "color": "#9c179e",
          "pattern": {
           "shape": ""
          }
         },
         "name": "Freiheit, Lebensentscheidungen zu treffen",
         "offsetgroup": "Explained by: Freedom to make life choices",
         "orientation": "h",
         "showlegend": true,
         "textposition": "auto",
         "texttemplate": "%{x}",
         "type": "bar",
         "x": [
          0.756,
          0.759,
          0.801,
          0.835,
          0.725,
          0.641,
          0.838,
          0.819,
          0.823,
          0.859
         ],
         "xaxis": "x",
         "y": [
          "Australia",
          "Switzerland",
          "Luxembourg",
          "Norway",
          "Netherlands",
          "Israel",
          "Sweden",
          "Iceland",
          "Denmark",
          "Finland"
         ],
         "yaxis": "y"
        },
        {
         "alignmentgroup": "True",
         "hovertemplate": "Erklärende Faktoren=Explained by: Generosity<br>Erklärung des Ladder Scores=%{x}<br>Country name=%{y}<extra></extra>",
         "legendgroup": "Explained by: Generosity",
         "marker": {
          "color": "#bd3786",
          "pattern": {
           "shape": ""
          }
         },
         "name": "Großzügigkeit",
         "offsetgroup": "Explained by: Generosity",
         "orientation": "h",
         "showlegend": true,
         "textposition": "auto",
         "texttemplate": "%{x}",
         "type": "bar",
         "x": [
          0.225,
          0.173,
          0.146,
          0.224,
          0.247,
          0.153,
          0.221,
          0.258,
          0.204,
          0.142
         ],
         "xaxis": "x",
         "y": [
          "Australia",
          "Switzerland",
          "Luxembourg",
          "Norway",
          "Netherlands",
          "Israel",
          "Sweden",
          "Iceland",
          "Denmark",
          "Finland"
         ],
         "yaxis": "y"
        },
        {
         "alignmentgroup": "True",
         "hovertemplate": "Erklärende Faktoren=Explained by: Perceptions of corruption<br>Erklärung des Ladder Scores=%{x}<br>Country name=%{y}<extra></extra>",
         "legendgroup": "Explained by: Perceptions of corruption",
         "marker": {
          "color": "#d8576b",
          "pattern": {
           "shape": ""
          }
         },
         "name": "Wahrnehmung von Korruption",
         "offsetgroup": "Explained by: Perceptions of corruption",
         "orientation": "h",
         "showlegend": true,
         "textposition": "auto",
         "texttemplate": "%{x}",
         "type": "bar",
         "x": [
          0.323,
          0.498,
          0.432,
          0.484,
          0.372,
          0.193,
          0.524,
          0.182,
          0.548,
          0.546
         ],
         "xaxis": "x",
         "y": [
          "Australia",
          "Switzerland",
          "Luxembourg",
          "Norway",
          "Netherlands",
          "Israel",
          "Sweden",
          "Iceland",
          "Denmark",
          "Finland"
         ],
         "yaxis": "y"
        },
        {
         "alignmentgroup": "True",
         "hovertemplate": "Erklärende Faktoren=Dystopia + residual<br>Erklärung des Ladder Scores=%{x}<br>Country name=%{y}<extra></extra>",
         "legendgroup": "Dystopia + residual",
         "marker": {
          "color": "#ed7953",
          "pattern": {
           "shape": ""
          }
         },
         "name": "Negative und Positive Wahrnehmung",
         "offsetgroup": "Dystopia + residual",
         "orientation": "h",
         "showlegend": true,
         "textposition": "auto",
         "texttemplate": "%{x}",
         "type": "bar",
         "x": [
          1.745,
          1.488,
          1.54,
          1.586,
          1.906,
          2.298,
          1.658,
          2.05,
          1.881,
          2.082
         ],
         "xaxis": "x",
         "y": [
          "Australia",
          "Switzerland",
          "Luxembourg",
          "Norway",
          "Netherlands",
          "Israel",
          "Sweden",
          "Iceland",
          "Denmark",
          "Finland"
         ],
         "yaxis": "y"
        }
       ],
       "layout": {
        "barmode": "stack",
        "height": 600,
        "legend": {
         "title": {
          "text": "Erklärende Faktoren"
         },
         "tracegroupgap": 0
        },
        "template": {
         "data": {
          "bar": [
           {
            "error_x": {
             "color": "#2a3f5f"
            },
            "error_y": {
             "color": "#2a3f5f"
            },
            "marker": {
             "line": {
              "color": "white",
              "width": 0.5
             },
             "pattern": {
              "fillmode": "overlay",
              "size": 10,
              "solidity": 0.2
             }
            },
            "type": "bar"
           }
          ],
          "barpolar": [
           {
            "marker": {
             "line": {
              "color": "white",
              "width": 0.5
             },
             "pattern": {
              "fillmode": "overlay",
              "size": 10,
              "solidity": 0.2
             }
            },
            "type": "barpolar"
           }
          ],
          "carpet": [
           {
            "aaxis": {
             "endlinecolor": "#2a3f5f",
             "gridcolor": "#C8D4E3",
             "linecolor": "#C8D4E3",
             "minorgridcolor": "#C8D4E3",
             "startlinecolor": "#2a3f5f"
            },
            "baxis": {
             "endlinecolor": "#2a3f5f",
             "gridcolor": "#C8D4E3",
             "linecolor": "#C8D4E3",
             "minorgridcolor": "#C8D4E3",
             "startlinecolor": "#2a3f5f"
            },
            "type": "carpet"
           }
          ],
          "choropleth": [
           {
            "colorbar": {
             "outlinewidth": 0,
             "ticks": ""
            },
            "type": "choropleth"
           }
          ],
          "contour": [
           {
            "colorbar": {
             "outlinewidth": 0,
             "ticks": ""
            },
            "colorscale": [
             [
              0,
              "#0d0887"
             ],
             [
              0.1111111111111111,
              "#46039f"
             ],
             [
              0.2222222222222222,
              "#7201a8"
             ],
             [
              0.3333333333333333,
              "#9c179e"
             ],
             [
              0.4444444444444444,
              "#bd3786"
             ],
             [
              0.5555555555555556,
              "#d8576b"
             ],
             [
              0.6666666666666666,
              "#ed7953"
             ],
             [
              0.7777777777777778,
              "#fb9f3a"
             ],
             [
              0.8888888888888888,
              "#fdca26"
             ],
             [
              1,
              "#f0f921"
             ]
            ],
            "type": "contour"
           }
          ],
          "contourcarpet": [
           {
            "colorbar": {
             "outlinewidth": 0,
             "ticks": ""
            },
            "type": "contourcarpet"
           }
          ],
          "heatmap": [
           {
            "colorbar": {
             "outlinewidth": 0,
             "ticks": ""
            },
            "colorscale": [
             [
              0,
              "#0d0887"
             ],
             [
              0.1111111111111111,
              "#46039f"
             ],
             [
              0.2222222222222222,
              "#7201a8"
             ],
             [
              0.3333333333333333,
              "#9c179e"
             ],
             [
              0.4444444444444444,
              "#bd3786"
             ],
             [
              0.5555555555555556,
              "#d8576b"
             ],
             [
              0.6666666666666666,
              "#ed7953"
             ],
             [
              0.7777777777777778,
              "#fb9f3a"
             ],
             [
              0.8888888888888888,
              "#fdca26"
             ],
             [
              1,
              "#f0f921"
             ]
            ],
            "type": "heatmap"
           }
          ],
          "heatmapgl": [
           {
            "colorbar": {
             "outlinewidth": 0,
             "ticks": ""
            },
            "colorscale": [
             [
              0,
              "#0d0887"
             ],
             [
              0.1111111111111111,
              "#46039f"
             ],
             [
              0.2222222222222222,
              "#7201a8"
             ],
             [
              0.3333333333333333,
              "#9c179e"
             ],
             [
              0.4444444444444444,
              "#bd3786"
             ],
             [
              0.5555555555555556,
              "#d8576b"
             ],
             [
              0.6666666666666666,
              "#ed7953"
             ],
             [
              0.7777777777777778,
              "#fb9f3a"
             ],
             [
              0.8888888888888888,
              "#fdca26"
             ],
             [
              1,
              "#f0f921"
             ]
            ],
            "type": "heatmapgl"
           }
          ],
          "histogram": [
           {
            "marker": {
             "pattern": {
              "fillmode": "overlay",
              "size": 10,
              "solidity": 0.2
             }
            },
            "type": "histogram"
           }
          ],
          "histogram2d": [
           {
            "colorbar": {
             "outlinewidth": 0,
             "ticks": ""
            },
            "colorscale": [
             [
              0,
              "#0d0887"
             ],
             [
              0.1111111111111111,
              "#46039f"
             ],
             [
              0.2222222222222222,
              "#7201a8"
             ],
             [
              0.3333333333333333,
              "#9c179e"
             ],
             [
              0.4444444444444444,
              "#bd3786"
             ],
             [
              0.5555555555555556,
              "#d8576b"
             ],
             [
              0.6666666666666666,
              "#ed7953"
             ],
             [
              0.7777777777777778,
              "#fb9f3a"
             ],
             [
              0.8888888888888888,
              "#fdca26"
             ],
             [
              1,
              "#f0f921"
             ]
            ],
            "type": "histogram2d"
           }
          ],
          "histogram2dcontour": [
           {
            "colorbar": {
             "outlinewidth": 0,
             "ticks": ""
            },
            "colorscale": [
             [
              0,
              "#0d0887"
             ],
             [
              0.1111111111111111,
              "#46039f"
             ],
             [
              0.2222222222222222,
              "#7201a8"
             ],
             [
              0.3333333333333333,
              "#9c179e"
             ],
             [
              0.4444444444444444,
              "#bd3786"
             ],
             [
              0.5555555555555556,
              "#d8576b"
             ],
             [
              0.6666666666666666,
              "#ed7953"
             ],
             [
              0.7777777777777778,
              "#fb9f3a"
             ],
             [
              0.8888888888888888,
              "#fdca26"
             ],
             [
              1,
              "#f0f921"
             ]
            ],
            "type": "histogram2dcontour"
           }
          ],
          "mesh3d": [
           {
            "colorbar": {
             "outlinewidth": 0,
             "ticks": ""
            },
            "type": "mesh3d"
           }
          ],
          "parcoords": [
           {
            "line": {
             "colorbar": {
              "outlinewidth": 0,
              "ticks": ""
             }
            },
            "type": "parcoords"
           }
          ],
          "pie": [
           {
            "automargin": true,
            "type": "pie"
           }
          ],
          "scatter": [
           {
            "fillpattern": {
             "fillmode": "overlay",
             "size": 10,
             "solidity": 0.2
            },
            "type": "scatter"
           }
          ],
          "scatter3d": [
           {
            "line": {
             "colorbar": {
              "outlinewidth": 0,
              "ticks": ""
             }
            },
            "marker": {
             "colorbar": {
              "outlinewidth": 0,
              "ticks": ""
             }
            },
            "type": "scatter3d"
           }
          ],
          "scattercarpet": [
           {
            "marker": {
             "colorbar": {
              "outlinewidth": 0,
              "ticks": ""
             }
            },
            "type": "scattercarpet"
           }
          ],
          "scattergeo": [
           {
            "marker": {
             "colorbar": {
              "outlinewidth": 0,
              "ticks": ""
             }
            },
            "type": "scattergeo"
           }
          ],
          "scattergl": [
           {
            "marker": {
             "colorbar": {
              "outlinewidth": 0,
              "ticks": ""
             }
            },
            "type": "scattergl"
           }
          ],
          "scattermapbox": [
           {
            "marker": {
             "colorbar": {
              "outlinewidth": 0,
              "ticks": ""
             }
            },
            "type": "scattermapbox"
           }
          ],
          "scatterpolar": [
           {
            "marker": {
             "colorbar": {
              "outlinewidth": 0,
              "ticks": ""
             }
            },
            "type": "scatterpolar"
           }
          ],
          "scatterpolargl": [
           {
            "marker": {
             "colorbar": {
              "outlinewidth": 0,
              "ticks": ""
             }
            },
            "type": "scatterpolargl"
           }
          ],
          "scatterternary": [
           {
            "marker": {
             "colorbar": {
              "outlinewidth": 0,
              "ticks": ""
             }
            },
            "type": "scatterternary"
           }
          ],
          "surface": [
           {
            "colorbar": {
             "outlinewidth": 0,
             "ticks": ""
            },
            "colorscale": [
             [
              0,
              "#0d0887"
             ],
             [
              0.1111111111111111,
              "#46039f"
             ],
             [
              0.2222222222222222,
              "#7201a8"
             ],
             [
              0.3333333333333333,
              "#9c179e"
             ],
             [
              0.4444444444444444,
              "#bd3786"
             ],
             [
              0.5555555555555556,
              "#d8576b"
             ],
             [
              0.6666666666666666,
              "#ed7953"
             ],
             [
              0.7777777777777778,
              "#fb9f3a"
             ],
             [
              0.8888888888888888,
              "#fdca26"
             ],
             [
              1,
              "#f0f921"
             ]
            ],
            "type": "surface"
           }
          ],
          "table": [
           {
            "cells": {
             "fill": {
              "color": "#EBF0F8"
             },
             "line": {
              "color": "white"
             }
            },
            "header": {
             "fill": {
              "color": "#C8D4E3"
             },
             "line": {
              "color": "white"
             }
            },
            "type": "table"
           }
          ]
         },
         "layout": {
          "annotationdefaults": {
           "arrowcolor": "#2a3f5f",
           "arrowhead": 0,
           "arrowwidth": 1
          },
          "autotypenumbers": "strict",
          "coloraxis": {
           "colorbar": {
            "outlinewidth": 0,
            "ticks": ""
           }
          },
          "colorscale": {
           "diverging": [
            [
             0,
             "#8e0152"
            ],
            [
             0.1,
             "#c51b7d"
            ],
            [
             0.2,
             "#de77ae"
            ],
            [
             0.3,
             "#f1b6da"
            ],
            [
             0.4,
             "#fde0ef"
            ],
            [
             0.5,
             "#f7f7f7"
            ],
            [
             0.6,
             "#e6f5d0"
            ],
            [
             0.7,
             "#b8e186"
            ],
            [
             0.8,
             "#7fbc41"
            ],
            [
             0.9,
             "#4d9221"
            ],
            [
             1,
             "#276419"
            ]
           ],
           "sequential": [
            [
             0,
             "#0d0887"
            ],
            [
             0.1111111111111111,
             "#46039f"
            ],
            [
             0.2222222222222222,
             "#7201a8"
            ],
            [
             0.3333333333333333,
             "#9c179e"
            ],
            [
             0.4444444444444444,
             "#bd3786"
            ],
            [
             0.5555555555555556,
             "#d8576b"
            ],
            [
             0.6666666666666666,
             "#ed7953"
            ],
            [
             0.7777777777777778,
             "#fb9f3a"
            ],
            [
             0.8888888888888888,
             "#fdca26"
            ],
            [
             1,
             "#f0f921"
            ]
           ],
           "sequentialminus": [
            [
             0,
             "#0d0887"
            ],
            [
             0.1111111111111111,
             "#46039f"
            ],
            [
             0.2222222222222222,
             "#7201a8"
            ],
            [
             0.3333333333333333,
             "#9c179e"
            ],
            [
             0.4444444444444444,
             "#bd3786"
            ],
            [
             0.5555555555555556,
             "#d8576b"
            ],
            [
             0.6666666666666666,
             "#ed7953"
            ],
            [
             0.7777777777777778,
             "#fb9f3a"
            ],
            [
             0.8888888888888888,
             "#fdca26"
            ],
            [
             1,
             "#f0f921"
            ]
           ]
          },
          "colorway": [
           "#636efa",
           "#EF553B",
           "#00cc96",
           "#ab63fa",
           "#FFA15A",
           "#19d3f3",
           "#FF6692",
           "#B6E880",
           "#FF97FF",
           "#FECB52"
          ],
          "font": {
           "color": "#2a3f5f"
          },
          "geo": {
           "bgcolor": "white",
           "lakecolor": "white",
           "landcolor": "white",
           "showlakes": true,
           "showland": true,
           "subunitcolor": "#C8D4E3"
          },
          "hoverlabel": {
           "align": "left"
          },
          "hovermode": "closest",
          "mapbox": {
           "style": "light"
          },
          "paper_bgcolor": "white",
          "plot_bgcolor": "white",
          "polar": {
           "angularaxis": {
            "gridcolor": "#EBF0F8",
            "linecolor": "#EBF0F8",
            "ticks": ""
           },
           "bgcolor": "white",
           "radialaxis": {
            "gridcolor": "#EBF0F8",
            "linecolor": "#EBF0F8",
            "ticks": ""
           }
          },
          "scene": {
           "xaxis": {
            "backgroundcolor": "white",
            "gridcolor": "#DFE8F3",
            "gridwidth": 2,
            "linecolor": "#EBF0F8",
            "showbackground": true,
            "ticks": "",
            "zerolinecolor": "#EBF0F8"
           },
           "yaxis": {
            "backgroundcolor": "white",
            "gridcolor": "#DFE8F3",
            "gridwidth": 2,
            "linecolor": "#EBF0F8",
            "showbackground": true,
            "ticks": "",
            "zerolinecolor": "#EBF0F8"
           },
           "zaxis": {
            "backgroundcolor": "white",
            "gridcolor": "#DFE8F3",
            "gridwidth": 2,
            "linecolor": "#EBF0F8",
            "showbackground": true,
            "ticks": "",
            "zerolinecolor": "#EBF0F8"
           }
          },
          "shapedefaults": {
           "line": {
            "color": "#2a3f5f"
           }
          },
          "ternary": {
           "aaxis": {
            "gridcolor": "#DFE8F3",
            "linecolor": "#A2B1C6",
            "ticks": ""
           },
           "baxis": {
            "gridcolor": "#DFE8F3",
            "linecolor": "#A2B1C6",
            "ticks": ""
           },
           "bgcolor": "white",
           "caxis": {
            "gridcolor": "#DFE8F3",
            "linecolor": "#A2B1C6",
            "ticks": ""
           }
          },
          "title": {
           "x": 0.05
          },
          "xaxis": {
           "automargin": true,
           "gridcolor": "#EBF0F8",
           "linecolor": "#EBF0F8",
           "ticks": "",
           "title": {
            "standoff": 15
           },
           "zerolinecolor": "#EBF0F8",
           "zerolinewidth": 2
          },
          "yaxis": {
           "automargin": true,
           "gridcolor": "#EBF0F8",
           "linecolor": "#EBF0F8",
           "ticks": "",
           "title": {
            "standoff": 15
           },
           "zerolinecolor": "#EBF0F8",
           "zerolinewidth": 2
          }
         }
        },
        "title": {
         "font": {
          "color": "black",
          "family": "Helvetica",
          "size": 20
         },
         "text": "Top 10 Länder nach Ladder Score 2023 mit erklärenden Faktoren",
         "x": 0.5
        },
        "width": 1200,
        "xaxis": {
         "anchor": "y",
         "domain": [
          0,
          1
         ],
         "title": {
          "font": {
           "color": "dimgray"
          },
          "text": "Ladder Score - Erklärende Faktoren"
         }
        },
        "yaxis": {
         "anchor": "x",
         "domain": [
          0,
          1
         ],
         "title": {
          "font": {
           "color": "dimgray"
          },
          "text": "Land"
         }
        }
       }
      }
     },
     "metadata": {},
     "output_type": "display_data"
    }
   ],
   "source": [
    "# Gestapeltes Säulendiagramm aus alternativem Datensatz\n",
    "def create_ladder_score_bar_chart(glueck_figure_2023):\n",
    "    # Sortieren nach \"Ladder score\" und Top 10 Länder auswählen\n",
    "    top_10_ladder = glueck_figure_2023.sort_values(\"Ladder score\", ascending=True).head(10)\n",
    "\n",
    "    # Erstellen eines horizontalen gestapelten Säulendiagramms für die Top 10 Länder\n",
    "    fig = px.bar(\n",
    "        top_10_ladder, \n",
    "        y='Country name',  # 'y' wird zu 'Country name' für horizontale Ausrichtung\n",
    "        x=[\n",
    "            'Explained by: Log GDP per capita', \n",
    "            'Explained by: Social support', \n",
    "            'Explained by: Healthy life expectancy',\n",
    "            'Explained by: Freedom to make life choices', \n",
    "            'Explained by: Generosity', \n",
    "            'Explained by: Perceptions of corruption',\n",
    "            'Dystopia + residual'\n",
    "        ], \n",
    "        title=\"Top 10 Länder nach Ladder Score 2023 mit erklärenden Faktoren\",\n",
    "        labels={\"value\": \"Erklärung des Ladder Scores\", \"variable\": \"Erklärende Faktoren\"},\n",
    "        text_auto=True,\n",
    "        barmode='stack',\n",
    "        color_discrete_sequence=px.colors.sequential.Plasma  \n",
    "    )\n",
    "\n",
    "    # Layout des Diagramms\n",
    "    fig.update_layout(\n",
    "        template=\"plotly_white\",\n",
    "        yaxis_title=\"Land\", \n",
    "        xaxis_title=\"Ladder Score - Erklärende Faktoren\",\n",
    "        title_x=0.5,  \n",
    "        title_font=dict(size=20, family=\"Helvetica\", color=\"black\"),\n",
    "        xaxis_title_font=dict(color=\"dimgray\"),\n",
    "        yaxis_title_font=dict(color=\"dimgray\"),\n",
    "        legend_title=\"Erklärende Faktoren\",\n",
    "        width=1200, \n",
    "        height=600\n",
    "    )\n",
    "\n",
    "    # Die deutschen Bezeichnungen für die erklärenden Faktoren\n",
    "    fig.for_each_trace(lambda t: t.update(name=t.name.replace(\n",
    "        'Explained by: Log GDP per capita', 'Logarithmus des BIP pro Kopf').replace(\n",
    "        'Explained by: Social support', 'Soziale Unterstützung').replace(\n",
    "        'Explained by: Healthy life expectancy', 'Gesunde Lebenserwartung').replace(\n",
    "        'Explained by: Freedom to make life choices', 'Freiheit, Lebensentscheidungen zu treffen').replace(\n",
    "        'Explained by: Generosity', 'Großzügigkeit').replace(\n",
    "        'Explained by: Perceptions of corruption', 'Wahrnehmung von Korruption').replace(\n",
    "        'Dystopia + residual', 'Negative und Positive Wahrnehmung')\n",
    "    ))\n",
    "\n",
    "    # Anzeigen des Diagramms\n",
    "    return fig\n",
    "\n",
    "# Funktion aufrufen\n",
    "create_ladder_score_bar_chart(glueck_figure_2023)\n"
   ]
  },
  {
   "cell_type": "markdown",
   "metadata": {},
   "source": [
    "## Diagramme"
   ]
  },
  {
   "cell_type": "code",
   "execution_count": 7,
   "metadata": {},
   "outputs": [
    {
     "data": {
      "application/vnd.plotly.v1+json": {
       "config": {
        "plotlyServerURL": "https://plot.ly"
       },
       "data": [
        {
         "hovertemplate": "Land=Finland<br>Jahr=%{x}<br>Glücklichkeitswert=%{y}<extra></extra>",
         "legendgroup": "Finland",
         "line": {
          "color": "#636efa",
          "dash": "solid"
         },
         "marker": {
          "symbol": "circle"
         },
         "mode": "lines",
         "name": "Finland",
         "orientation": "v",
         "showlegend": true,
         "type": "scatter",
         "x": [
          2006,
          2008,
          2010,
          2011,
          2012,
          2013,
          2014,
          2015,
          2016,
          2017,
          2018,
          2019,
          2020,
          2021,
          2022,
          2023
         ],
         "xaxis": "x",
         "y": [
          7.672,
          7.671,
          7.393,
          7.354,
          7.42,
          7.445,
          7.385,
          7.448,
          7.66,
          7.788,
          7.858,
          7.78,
          7.889,
          7.794,
          7.729,
          7.699
         ],
         "yaxis": "y"
        }
       ],
       "layout": {
        "height": 600,
        "legend": {
         "title": {
          "text": "Land"
         },
         "tracegroupgap": 0
        },
        "template": {
         "data": {
          "bar": [
           {
            "error_x": {
             "color": "#2a3f5f"
            },
            "error_y": {
             "color": "#2a3f5f"
            },
            "marker": {
             "line": {
              "color": "#E5ECF6",
              "width": 0.5
             },
             "pattern": {
              "fillmode": "overlay",
              "size": 10,
              "solidity": 0.2
             }
            },
            "type": "bar"
           }
          ],
          "barpolar": [
           {
            "marker": {
             "line": {
              "color": "#E5ECF6",
              "width": 0.5
             },
             "pattern": {
              "fillmode": "overlay",
              "size": 10,
              "solidity": 0.2
             }
            },
            "type": "barpolar"
           }
          ],
          "carpet": [
           {
            "aaxis": {
             "endlinecolor": "#2a3f5f",
             "gridcolor": "white",
             "linecolor": "white",
             "minorgridcolor": "white",
             "startlinecolor": "#2a3f5f"
            },
            "baxis": {
             "endlinecolor": "#2a3f5f",
             "gridcolor": "white",
             "linecolor": "white",
             "minorgridcolor": "white",
             "startlinecolor": "#2a3f5f"
            },
            "type": "carpet"
           }
          ],
          "choropleth": [
           {
            "colorbar": {
             "outlinewidth": 0,
             "ticks": ""
            },
            "type": "choropleth"
           }
          ],
          "contour": [
           {
            "colorbar": {
             "outlinewidth": 0,
             "ticks": ""
            },
            "colorscale": [
             [
              0,
              "#0d0887"
             ],
             [
              0.1111111111111111,
              "#46039f"
             ],
             [
              0.2222222222222222,
              "#7201a8"
             ],
             [
              0.3333333333333333,
              "#9c179e"
             ],
             [
              0.4444444444444444,
              "#bd3786"
             ],
             [
              0.5555555555555556,
              "#d8576b"
             ],
             [
              0.6666666666666666,
              "#ed7953"
             ],
             [
              0.7777777777777778,
              "#fb9f3a"
             ],
             [
              0.8888888888888888,
              "#fdca26"
             ],
             [
              1,
              "#f0f921"
             ]
            ],
            "type": "contour"
           }
          ],
          "contourcarpet": [
           {
            "colorbar": {
             "outlinewidth": 0,
             "ticks": ""
            },
            "type": "contourcarpet"
           }
          ],
          "heatmap": [
           {
            "colorbar": {
             "outlinewidth": 0,
             "ticks": ""
            },
            "colorscale": [
             [
              0,
              "#0d0887"
             ],
             [
              0.1111111111111111,
              "#46039f"
             ],
             [
              0.2222222222222222,
              "#7201a8"
             ],
             [
              0.3333333333333333,
              "#9c179e"
             ],
             [
              0.4444444444444444,
              "#bd3786"
             ],
             [
              0.5555555555555556,
              "#d8576b"
             ],
             [
              0.6666666666666666,
              "#ed7953"
             ],
             [
              0.7777777777777778,
              "#fb9f3a"
             ],
             [
              0.8888888888888888,
              "#fdca26"
             ],
             [
              1,
              "#f0f921"
             ]
            ],
            "type": "heatmap"
           }
          ],
          "heatmapgl": [
           {
            "colorbar": {
             "outlinewidth": 0,
             "ticks": ""
            },
            "colorscale": [
             [
              0,
              "#0d0887"
             ],
             [
              0.1111111111111111,
              "#46039f"
             ],
             [
              0.2222222222222222,
              "#7201a8"
             ],
             [
              0.3333333333333333,
              "#9c179e"
             ],
             [
              0.4444444444444444,
              "#bd3786"
             ],
             [
              0.5555555555555556,
              "#d8576b"
             ],
             [
              0.6666666666666666,
              "#ed7953"
             ],
             [
              0.7777777777777778,
              "#fb9f3a"
             ],
             [
              0.8888888888888888,
              "#fdca26"
             ],
             [
              1,
              "#f0f921"
             ]
            ],
            "type": "heatmapgl"
           }
          ],
          "histogram": [
           {
            "marker": {
             "pattern": {
              "fillmode": "overlay",
              "size": 10,
              "solidity": 0.2
             }
            },
            "type": "histogram"
           }
          ],
          "histogram2d": [
           {
            "colorbar": {
             "outlinewidth": 0,
             "ticks": ""
            },
            "colorscale": [
             [
              0,
              "#0d0887"
             ],
             [
              0.1111111111111111,
              "#46039f"
             ],
             [
              0.2222222222222222,
              "#7201a8"
             ],
             [
              0.3333333333333333,
              "#9c179e"
             ],
             [
              0.4444444444444444,
              "#bd3786"
             ],
             [
              0.5555555555555556,
              "#d8576b"
             ],
             [
              0.6666666666666666,
              "#ed7953"
             ],
             [
              0.7777777777777778,
              "#fb9f3a"
             ],
             [
              0.8888888888888888,
              "#fdca26"
             ],
             [
              1,
              "#f0f921"
             ]
            ],
            "type": "histogram2d"
           }
          ],
          "histogram2dcontour": [
           {
            "colorbar": {
             "outlinewidth": 0,
             "ticks": ""
            },
            "colorscale": [
             [
              0,
              "#0d0887"
             ],
             [
              0.1111111111111111,
              "#46039f"
             ],
             [
              0.2222222222222222,
              "#7201a8"
             ],
             [
              0.3333333333333333,
              "#9c179e"
             ],
             [
              0.4444444444444444,
              "#bd3786"
             ],
             [
              0.5555555555555556,
              "#d8576b"
             ],
             [
              0.6666666666666666,
              "#ed7953"
             ],
             [
              0.7777777777777778,
              "#fb9f3a"
             ],
             [
              0.8888888888888888,
              "#fdca26"
             ],
             [
              1,
              "#f0f921"
             ]
            ],
            "type": "histogram2dcontour"
           }
          ],
          "mesh3d": [
           {
            "colorbar": {
             "outlinewidth": 0,
             "ticks": ""
            },
            "type": "mesh3d"
           }
          ],
          "parcoords": [
           {
            "line": {
             "colorbar": {
              "outlinewidth": 0,
              "ticks": ""
             }
            },
            "type": "parcoords"
           }
          ],
          "pie": [
           {
            "automargin": true,
            "type": "pie"
           }
          ],
          "scatter": [
           {
            "fillpattern": {
             "fillmode": "overlay",
             "size": 10,
             "solidity": 0.2
            },
            "type": "scatter"
           }
          ],
          "scatter3d": [
           {
            "line": {
             "colorbar": {
              "outlinewidth": 0,
              "ticks": ""
             }
            },
            "marker": {
             "colorbar": {
              "outlinewidth": 0,
              "ticks": ""
             }
            },
            "type": "scatter3d"
           }
          ],
          "scattercarpet": [
           {
            "marker": {
             "colorbar": {
              "outlinewidth": 0,
              "ticks": ""
             }
            },
            "type": "scattercarpet"
           }
          ],
          "scattergeo": [
           {
            "marker": {
             "colorbar": {
              "outlinewidth": 0,
              "ticks": ""
             }
            },
            "type": "scattergeo"
           }
          ],
          "scattergl": [
           {
            "marker": {
             "colorbar": {
              "outlinewidth": 0,
              "ticks": ""
             }
            },
            "type": "scattergl"
           }
          ],
          "scattermapbox": [
           {
            "marker": {
             "colorbar": {
              "outlinewidth": 0,
              "ticks": ""
             }
            },
            "type": "scattermapbox"
           }
          ],
          "scatterpolar": [
           {
            "marker": {
             "colorbar": {
              "outlinewidth": 0,
              "ticks": ""
             }
            },
            "type": "scatterpolar"
           }
          ],
          "scatterpolargl": [
           {
            "marker": {
             "colorbar": {
              "outlinewidth": 0,
              "ticks": ""
             }
            },
            "type": "scatterpolargl"
           }
          ],
          "scatterternary": [
           {
            "marker": {
             "colorbar": {
              "outlinewidth": 0,
              "ticks": ""
             }
            },
            "type": "scatterternary"
           }
          ],
          "surface": [
           {
            "colorbar": {
             "outlinewidth": 0,
             "ticks": ""
            },
            "colorscale": [
             [
              0,
              "#0d0887"
             ],
             [
              0.1111111111111111,
              "#46039f"
             ],
             [
              0.2222222222222222,
              "#7201a8"
             ],
             [
              0.3333333333333333,
              "#9c179e"
             ],
             [
              0.4444444444444444,
              "#bd3786"
             ],
             [
              0.5555555555555556,
              "#d8576b"
             ],
             [
              0.6666666666666666,
              "#ed7953"
             ],
             [
              0.7777777777777778,
              "#fb9f3a"
             ],
             [
              0.8888888888888888,
              "#fdca26"
             ],
             [
              1,
              "#f0f921"
             ]
            ],
            "type": "surface"
           }
          ],
          "table": [
           {
            "cells": {
             "fill": {
              "color": "#EBF0F8"
             },
             "line": {
              "color": "white"
             }
            },
            "header": {
             "fill": {
              "color": "#C8D4E3"
             },
             "line": {
              "color": "white"
             }
            },
            "type": "table"
           }
          ]
         },
         "layout": {
          "annotationdefaults": {
           "arrowcolor": "#2a3f5f",
           "arrowhead": 0,
           "arrowwidth": 1
          },
          "autotypenumbers": "strict",
          "coloraxis": {
           "colorbar": {
            "outlinewidth": 0,
            "ticks": ""
           }
          },
          "colorscale": {
           "diverging": [
            [
             0,
             "#8e0152"
            ],
            [
             0.1,
             "#c51b7d"
            ],
            [
             0.2,
             "#de77ae"
            ],
            [
             0.3,
             "#f1b6da"
            ],
            [
             0.4,
             "#fde0ef"
            ],
            [
             0.5,
             "#f7f7f7"
            ],
            [
             0.6,
             "#e6f5d0"
            ],
            [
             0.7,
             "#b8e186"
            ],
            [
             0.8,
             "#7fbc41"
            ],
            [
             0.9,
             "#4d9221"
            ],
            [
             1,
             "#276419"
            ]
           ],
           "sequential": [
            [
             0,
             "#0d0887"
            ],
            [
             0.1111111111111111,
             "#46039f"
            ],
            [
             0.2222222222222222,
             "#7201a8"
            ],
            [
             0.3333333333333333,
             "#9c179e"
            ],
            [
             0.4444444444444444,
             "#bd3786"
            ],
            [
             0.5555555555555556,
             "#d8576b"
            ],
            [
             0.6666666666666666,
             "#ed7953"
            ],
            [
             0.7777777777777778,
             "#fb9f3a"
            ],
            [
             0.8888888888888888,
             "#fdca26"
            ],
            [
             1,
             "#f0f921"
            ]
           ],
           "sequentialminus": [
            [
             0,
             "#0d0887"
            ],
            [
             0.1111111111111111,
             "#46039f"
            ],
            [
             0.2222222222222222,
             "#7201a8"
            ],
            [
             0.3333333333333333,
             "#9c179e"
            ],
            [
             0.4444444444444444,
             "#bd3786"
            ],
            [
             0.5555555555555556,
             "#d8576b"
            ],
            [
             0.6666666666666666,
             "#ed7953"
            ],
            [
             0.7777777777777778,
             "#fb9f3a"
            ],
            [
             0.8888888888888888,
             "#fdca26"
            ],
            [
             1,
             "#f0f921"
            ]
           ]
          },
          "colorway": [
           "#636efa",
           "#EF553B",
           "#00cc96",
           "#ab63fa",
           "#FFA15A",
           "#19d3f3",
           "#FF6692",
           "#B6E880",
           "#FF97FF",
           "#FECB52"
          ],
          "font": {
           "color": "#2a3f5f"
          },
          "geo": {
           "bgcolor": "white",
           "lakecolor": "white",
           "landcolor": "#E5ECF6",
           "showlakes": true,
           "showland": true,
           "subunitcolor": "white"
          },
          "hoverlabel": {
           "align": "left"
          },
          "hovermode": "closest",
          "mapbox": {
           "style": "light"
          },
          "paper_bgcolor": "white",
          "plot_bgcolor": "#E5ECF6",
          "polar": {
           "angularaxis": {
            "gridcolor": "white",
            "linecolor": "white",
            "ticks": ""
           },
           "bgcolor": "#E5ECF6",
           "radialaxis": {
            "gridcolor": "white",
            "linecolor": "white",
            "ticks": ""
           }
          },
          "scene": {
           "xaxis": {
            "backgroundcolor": "#E5ECF6",
            "gridcolor": "white",
            "gridwidth": 2,
            "linecolor": "white",
            "showbackground": true,
            "ticks": "",
            "zerolinecolor": "white"
           },
           "yaxis": {
            "backgroundcolor": "#E5ECF6",
            "gridcolor": "white",
            "gridwidth": 2,
            "linecolor": "white",
            "showbackground": true,
            "ticks": "",
            "zerolinecolor": "white"
           },
           "zaxis": {
            "backgroundcolor": "#E5ECF6",
            "gridcolor": "white",
            "gridwidth": 2,
            "linecolor": "white",
            "showbackground": true,
            "ticks": "",
            "zerolinecolor": "white"
           }
          },
          "shapedefaults": {
           "line": {
            "color": "#2a3f5f"
           }
          },
          "ternary": {
           "aaxis": {
            "gridcolor": "white",
            "linecolor": "white",
            "ticks": ""
           },
           "baxis": {
            "gridcolor": "white",
            "linecolor": "white",
            "ticks": ""
           },
           "bgcolor": "#E5ECF6",
           "caxis": {
            "gridcolor": "white",
            "linecolor": "white",
            "ticks": ""
           }
          },
          "title": {
           "x": 0.05
          },
          "xaxis": {
           "automargin": true,
           "gridcolor": "white",
           "linecolor": "white",
           "ticks": "",
           "title": {
            "standoff": 15
           },
           "zerolinecolor": "white",
           "zerolinewidth": 2
          },
          "yaxis": {
           "automargin": true,
           "gridcolor": "white",
           "linecolor": "white",
           "ticks": "",
           "title": {
            "standoff": 15
           },
           "zerolinecolor": "white",
           "zerolinewidth": 2
          }
         }
        },
        "title": {
         "font": {
          "color": "black",
          "family": "Helvetica",
          "size": 20
         },
         "text": "Glücklichkeitswert in 'Finland' über die Jahre 2005 bis 2023",
         "x": 0.5
        },
        "width": 1000,
        "xaxis": {
         "anchor": "y",
         "domain": [
          0,
          1
         ],
         "range": [
          2005,
          2024
         ],
         "tickangle": 45,
         "tickvals": [
          2005,
          2006,
          2007,
          2008,
          2009,
          2010,
          2011,
          2012,
          2013,
          2014,
          2015,
          2016,
          2017,
          2018,
          2019,
          2020,
          2021,
          2022,
          2023
         ],
         "title": {
          "font": {
           "color": "dimgray"
          },
          "text": "Jahr"
         }
        },
        "yaxis": {
         "anchor": "x",
         "domain": [
          0,
          1
         ],
         "title": {
          "font": {
           "color": "dimgray"
          },
          "text": "Glücklichkeitswert"
         }
        }
       }
      }
     },
     "metadata": {},
     "output_type": "display_data"
    }
   ],
   "source": [
    "# Liniendiagramm für Glücklichkeitswert über die Jahre (mit Karte verknüpft)\n",
    "def create_lineplot(glueck, land):\n",
    "    glueck_auswahl_land = glueck[glueck[\"Land\"]== land]\n",
    "    fig = px.line(glueck_auswahl_land, x=\"Jahr\", \n",
    "              y=\"Glücklichkeitswert\", \n",
    "              color=\"Land\", \n",
    "              title=f\"Glücklichkeitswert in '{land}' über die Jahre {min(glueck['Jahr'])} bis {max(glueck['Jahr'])}\")\n",
    "\n",
    "    fig.update_layout(\n",
    "            xaxis_title=\"Jahr\", \n",
    "            yaxis_title=\"Glücklichkeitswert\",\n",
    "            title_x=0.5,  \n",
    "            title_font=dict(size=20, family=\"Helvetica\", color=\"black\"),\n",
    "            xaxis_title_font=dict(color='dimgray'),  \n",
    "            yaxis_title_font=dict(color='dimgray'),\n",
    "            width=1000, \n",
    "            height=600,\n",
    "            xaxis=dict(\n",
    "        range=[2005, 2024],\n",
    "        tickvals=[i for i in range(2005, 2024)],\n",
    "        tickangle=45)\n",
    "    )\n",
    "\n",
    "    return fig.show()\n",
    "\n",
    "create_lineplot(glueck,\"Finland\")"
   ]
  },
  {
   "cell_type": "code",
   "execution_count": 8,
   "metadata": {},
   "outputs": [],
   "source": [
    "# Streudiagramm der Abhängigkeit von Entscheidungsfreiheit und Positiver Effekt\n",
    "def scatter_freedom_positivity():\n",
    "    fig = px.scatter(glueck, \n",
    "                x=\"Entscheidungsfreiheit\", \n",
    "                y=\"Positiver Effekt\",\n",
    "                trendline=\"ols\",\n",
    "                trendline_color_override=\"red\",\n",
    "                hover_data={'Land': True, 'Jahr': True})\n",
    "\n",
    "    fig.update_layout(\n",
    "            title=\"Abhängigkeit von Entscheidungsfreiheit und Positiver Effekt\",\n",
    "            template=\"plotly_white\",\n",
    "            xaxis_title=\"Entscheidungsfreiheit\", \n",
    "            yaxis_title=\"Positiver Effekt\",\n",
    "            title_x=0.5,  \n",
    "            title_font=dict(size=20, family=\"Helvetica\", color=\"black\"),\n",
    "            xaxis_title_font=dict(color=\"dimgray\"),\n",
    "            yaxis_title_font=dict(color=\"dimgray\"),\n",
    "            width=900, \n",
    "            height=600)\n",
    "\n",
    "    return fig"
   ]
  },
  {
   "cell_type": "code",
   "execution_count": 9,
   "metadata": {},
   "outputs": [
    {
     "name": "stdout",
     "output_type": "stream",
     "text": [
      "Der Korrelationskoeffizient zwischen Entscheidungsfreiheit und Positiver Effekt ist: 0.58\n"
     ]
    }
   ],
   "source": [
    "# Korrelationskoeffizienten zwischen Entscheidungsfreiheit und Positiver Effekt\n",
    "def calculate_correlation_2(glueck):\n",
    "    corr_coefficient = glueck['Entscheidungsfreiheit'].corr(glueck['Positiver Effekt'])\n",
    "    return print(f\"Der Korrelationskoeffizient zwischen Entscheidungsfreiheit und Positiver Effekt ist: {corr_coefficient:.2f}\")\n",
    "\n",
    "calculate_correlation_2(glueck)"
   ]
  },
  {
   "cell_type": "code",
   "execution_count": 10,
   "metadata": {},
   "outputs": [
    {
     "data": {
      "application/vnd.plotly.v1+json": {
       "config": {
        "plotlyServerURL": "https://plot.ly"
       },
       "data": [
        {
         "customdata": [
          [
           "Afghanistan",
           2008
          ],
          [
           "Afghanistan",
           2009
          ],
          [
           "Afghanistan",
           2010
          ],
          [
           "Afghanistan",
           2011
          ],
          [
           "Afghanistan",
           2012
          ],
          [
           "Afghanistan",
           2013
          ],
          [
           "Afghanistan",
           2014
          ],
          [
           "Afghanistan",
           2015
          ],
          [
           "Afghanistan",
           2016
          ],
          [
           "Afghanistan",
           2017
          ],
          [
           "Afghanistan",
           2018
          ],
          [
           "Afghanistan",
           2019
          ],
          [
           "Afghanistan",
           2021
          ],
          [
           "Afghanistan",
           2022
          ],
          [
           "Afghanistan",
           2023
          ],
          [
           "Albania",
           2007
          ],
          [
           "Albania",
           2009
          ],
          [
           "Albania",
           2010
          ],
          [
           "Albania",
           2011
          ],
          [
           "Albania",
           2012
          ],
          [
           "Albania",
           2013
          ],
          [
           "Albania",
           2014
          ],
          [
           "Albania",
           2015
          ],
          [
           "Albania",
           2016
          ],
          [
           "Albania",
           2017
          ],
          [
           "Albania",
           2018
          ],
          [
           "Albania",
           2019
          ],
          [
           "Albania",
           2020
          ],
          [
           "Albania",
           2021
          ],
          [
           "Albania",
           2022
          ],
          [
           "Albania",
           2023
          ],
          [
           "Algeria",
           2010
          ],
          [
           "Algeria",
           2011
          ],
          [
           "Algeria",
           2012
          ],
          [
           "Algeria",
           2014
          ],
          [
           "Algeria",
           2016
          ],
          [
           "Algeria",
           2017
          ],
          [
           "Algeria",
           2018
          ],
          [
           "Algeria",
           2019
          ],
          [
           "Algeria",
           2020
          ],
          [
           "Algeria",
           2021
          ],
          [
           "Algeria",
           2022
          ],
          [
           "Angola",
           2011
          ],
          [
           "Angola",
           2012
          ],
          [
           "Angola",
           2013
          ],
          [
           "Angola",
           2014
          ],
          [
           "Argentina",
           2006
          ],
          [
           "Argentina",
           2007
          ],
          [
           "Argentina",
           2008
          ],
          [
           "Argentina",
           2009
          ],
          [
           "Argentina",
           2010
          ],
          [
           "Argentina",
           2011
          ],
          [
           "Argentina",
           2012
          ],
          [
           "Argentina",
           2013
          ],
          [
           "Argentina",
           2014
          ],
          [
           "Argentina",
           2015
          ],
          [
           "Argentina",
           2016
          ],
          [
           "Argentina",
           2017
          ],
          [
           "Argentina",
           2018
          ],
          [
           "Argentina",
           2019
          ],
          [
           "Argentina",
           2020
          ],
          [
           "Argentina",
           2021
          ],
          [
           "Argentina",
           2022
          ],
          [
           "Argentina",
           2023
          ],
          [
           "Armenia",
           2006
          ],
          [
           "Armenia",
           2007
          ],
          [
           "Armenia",
           2008
          ],
          [
           "Armenia",
           2009
          ],
          [
           "Armenia",
           2010
          ],
          [
           "Armenia",
           2011
          ],
          [
           "Armenia",
           2012
          ],
          [
           "Armenia",
           2013
          ],
          [
           "Armenia",
           2014
          ],
          [
           "Armenia",
           2015
          ],
          [
           "Armenia",
           2016
          ],
          [
           "Armenia",
           2017
          ],
          [
           "Armenia",
           2018
          ],
          [
           "Armenia",
           2019
          ],
          [
           "Armenia",
           2021
          ],
          [
           "Armenia",
           2022
          ],
          [
           "Armenia",
           2023
          ],
          [
           "Australia",
           2005
          ],
          [
           "Australia",
           2007
          ],
          [
           "Australia",
           2008
          ],
          [
           "Australia",
           2010
          ],
          [
           "Australia",
           2011
          ],
          [
           "Australia",
           2012
          ],
          [
           "Australia",
           2013
          ],
          [
           "Australia",
           2014
          ],
          [
           "Australia",
           2015
          ],
          [
           "Australia",
           2016
          ],
          [
           "Australia",
           2017
          ],
          [
           "Australia",
           2018
          ],
          [
           "Australia",
           2019
          ],
          [
           "Australia",
           2020
          ],
          [
           "Australia",
           2021
          ],
          [
           "Australia",
           2022
          ],
          [
           "Australia",
           2023
          ],
          [
           "Austria",
           2006
          ],
          [
           "Austria",
           2008
          ],
          [
           "Austria",
           2010
          ],
          [
           "Austria",
           2011
          ],
          [
           "Austria",
           2012
          ],
          [
           "Austria",
           2013
          ],
          [
           "Austria",
           2014
          ],
          [
           "Austria",
           2015
          ],
          [
           "Austria",
           2016
          ],
          [
           "Austria",
           2017
          ],
          [
           "Austria",
           2018
          ],
          [
           "Austria",
           2019
          ],
          [
           "Austria",
           2020
          ],
          [
           "Austria",
           2021
          ],
          [
           "Austria",
           2022
          ],
          [
           "Austria",
           2023
          ],
          [
           "Azerbaijan",
           2006
          ],
          [
           "Azerbaijan",
           2007
          ],
          [
           "Azerbaijan",
           2008
          ],
          [
           "Azerbaijan",
           2009
          ],
          [
           "Azerbaijan",
           2010
          ],
          [
           "Azerbaijan",
           2011
          ],
          [
           "Azerbaijan",
           2012
          ],
          [
           "Azerbaijan",
           2013
          ],
          [
           "Azerbaijan",
           2014
          ],
          [
           "Azerbaijan",
           2015
          ],
          [
           "Azerbaijan",
           2016
          ],
          [
           "Azerbaijan",
           2017
          ],
          [
           "Azerbaijan",
           2018
          ],
          [
           "Azerbaijan",
           2019
          ],
          [
           "Azerbaijan",
           2022
          ],
          [
           "Azerbaijan",
           2023
          ],
          [
           "Bahrain",
           2009
          ],
          [
           "Bahrain",
           2010
          ],
          [
           "Bahrain",
           2011
          ],
          [
           "Bahrain",
           2012
          ],
          [
           "Bahrain",
           2013
          ],
          [
           "Bahrain",
           2014
          ],
          [
           "Bahrain",
           2015
          ],
          [
           "Bahrain",
           2016
          ],
          [
           "Bahrain",
           2017
          ],
          [
           "Bahrain",
           2019
          ],
          [
           "Bahrain",
           2020
          ],
          [
           "Bahrain",
           2023
          ],
          [
           "Bangladesh",
           2006
          ],
          [
           "Bangladesh",
           2007
          ],
          [
           "Bangladesh",
           2008
          ],
          [
           "Bangladesh",
           2009
          ],
          [
           "Bangladesh",
           2010
          ],
          [
           "Bangladesh",
           2011
          ],
          [
           "Bangladesh",
           2012
          ],
          [
           "Bangladesh",
           2013
          ],
          [
           "Bangladesh",
           2014
          ],
          [
           "Bangladesh",
           2015
          ],
          [
           "Bangladesh",
           2016
          ],
          [
           "Bangladesh",
           2017
          ],
          [
           "Bangladesh",
           2018
          ],
          [
           "Bangladesh",
           2019
          ],
          [
           "Bangladesh",
           2020
          ],
          [
           "Bangladesh",
           2021
          ],
          [
           "Bangladesh",
           2022
          ],
          [
           "Bangladesh",
           2023
          ],
          [
           "Belarus",
           2006
          ],
          [
           "Belarus",
           2007
          ],
          [
           "Belarus",
           2008
          ],
          [
           "Belarus",
           2009
          ],
          [
           "Belarus",
           2010
          ],
          [
           "Belarus",
           2011
          ],
          [
           "Belarus",
           2012
          ],
          [
           "Belarus",
           2013
          ],
          [
           "Belarus",
           2014
          ],
          [
           "Belarus",
           2015
          ],
          [
           "Belarus",
           2016
          ],
          [
           "Belarus",
           2017
          ],
          [
           "Belarus",
           2018
          ],
          [
           "Belarus",
           2019
          ],
          [
           "Belgium",
           2005
          ],
          [
           "Belgium",
           2007
          ],
          [
           "Belgium",
           2008
          ],
          [
           "Belgium",
           2010
          ],
          [
           "Belgium",
           2011
          ],
          [
           "Belgium",
           2012
          ],
          [
           "Belgium",
           2013
          ],
          [
           "Belgium",
           2014
          ],
          [
           "Belgium",
           2015
          ],
          [
           "Belgium",
           2016
          ],
          [
           "Belgium",
           2017
          ],
          [
           "Belgium",
           2018
          ],
          [
           "Belgium",
           2019
          ],
          [
           "Belgium",
           2020
          ],
          [
           "Belgium",
           2021
          ],
          [
           "Belgium",
           2022
          ],
          [
           "Belgium",
           2023
          ],
          [
           "Belize",
           2007
          ],
          [
           "Belize",
           2014
          ],
          [
           "Benin",
           2006
          ],
          [
           "Benin",
           2008
          ],
          [
           "Benin",
           2011
          ],
          [
           "Benin",
           2012
          ],
          [
           "Benin",
           2013
          ],
          [
           "Benin",
           2014
          ],
          [
           "Benin",
           2015
          ],
          [
           "Benin",
           2016
          ],
          [
           "Benin",
           2017
          ],
          [
           "Benin",
           2018
          ],
          [
           "Benin",
           2019
          ],
          [
           "Benin",
           2020
          ],
          [
           "Benin",
           2021
          ],
          [
           "Benin",
           2022
          ],
          [
           "Benin",
           2023
          ],
          [
           "Bhutan",
           2013
          ],
          [
           "Bhutan",
           2014
          ],
          [
           "Bhutan",
           2015
          ],
          [
           "Bolivia",
           2006
          ],
          [
           "Bolivia",
           2007
          ],
          [
           "Bolivia",
           2008
          ],
          [
           "Bolivia",
           2009
          ],
          [
           "Bolivia",
           2010
          ],
          [
           "Bolivia",
           2011
          ],
          [
           "Bolivia",
           2012
          ],
          [
           "Bolivia",
           2013
          ],
          [
           "Bolivia",
           2014
          ],
          [
           "Bolivia",
           2015
          ],
          [
           "Bolivia",
           2016
          ],
          [
           "Bolivia",
           2017
          ],
          [
           "Bolivia",
           2018
          ],
          [
           "Bolivia",
           2019
          ],
          [
           "Bolivia",
           2020
          ],
          [
           "Bolivia",
           2021
          ],
          [
           "Bolivia",
           2022
          ],
          [
           "Bolivia",
           2023
          ],
          [
           "Bosnia and Herzegovina",
           2007
          ],
          [
           "Bosnia and Herzegovina",
           2009
          ],
          [
           "Bosnia and Herzegovina",
           2010
          ],
          [
           "Bosnia and Herzegovina",
           2011
          ],
          [
           "Bosnia and Herzegovina",
           2012
          ],
          [
           "Bosnia and Herzegovina",
           2013
          ],
          [
           "Bosnia and Herzegovina",
           2014
          ],
          [
           "Bosnia and Herzegovina",
           2015
          ],
          [
           "Bosnia and Herzegovina",
           2016
          ],
          [
           "Bosnia and Herzegovina",
           2017
          ],
          [
           "Bosnia and Herzegovina",
           2018
          ],
          [
           "Bosnia and Herzegovina",
           2019
          ],
          [
           "Bosnia and Herzegovina",
           2020
          ],
          [
           "Bosnia and Herzegovina",
           2021
          ],
          [
           "Bosnia and Herzegovina",
           2022
          ],
          [
           "Bosnia and Herzegovina",
           2023
          ],
          [
           "Botswana",
           2006
          ],
          [
           "Botswana",
           2008
          ],
          [
           "Botswana",
           2010
          ],
          [
           "Botswana",
           2011
          ],
          [
           "Botswana",
           2012
          ],
          [
           "Botswana",
           2013
          ],
          [
           "Botswana",
           2014
          ],
          [
           "Botswana",
           2015
          ],
          [
           "Botswana",
           2016
          ],
          [
           "Botswana",
           2017
          ],
          [
           "Botswana",
           2018
          ],
          [
           "Botswana",
           2019
          ],
          [
           "Botswana",
           2022
          ],
          [
           "Botswana",
           2023
          ],
          [
           "Brazil",
           2005
          ],
          [
           "Brazil",
           2007
          ],
          [
           "Brazil",
           2008
          ],
          [
           "Brazil",
           2009
          ],
          [
           "Brazil",
           2010
          ],
          [
           "Brazil",
           2011
          ],
          [
           "Brazil",
           2012
          ],
          [
           "Brazil",
           2013
          ],
          [
           "Brazil",
           2014
          ],
          [
           "Brazil",
           2015
          ],
          [
           "Brazil",
           2016
          ],
          [
           "Brazil",
           2017
          ],
          [
           "Brazil",
           2018
          ],
          [
           "Brazil",
           2019
          ],
          [
           "Brazil",
           2020
          ],
          [
           "Brazil",
           2021
          ],
          [
           "Brazil",
           2022
          ],
          [
           "Brazil",
           2023
          ],
          [
           "Bulgaria",
           2007
          ],
          [
           "Bulgaria",
           2010
          ],
          [
           "Bulgaria",
           2011
          ],
          [
           "Bulgaria",
           2012
          ],
          [
           "Bulgaria",
           2013
          ],
          [
           "Bulgaria",
           2014
          ],
          [
           "Bulgaria",
           2015
          ],
          [
           "Bulgaria",
           2016
          ],
          [
           "Bulgaria",
           2017
          ],
          [
           "Bulgaria",
           2018
          ],
          [
           "Bulgaria",
           2019
          ],
          [
           "Bulgaria",
           2020
          ],
          [
           "Bulgaria",
           2021
          ],
          [
           "Bulgaria",
           2022
          ],
          [
           "Bulgaria",
           2023
          ],
          [
           "Burkina Faso",
           2006
          ],
          [
           "Burkina Faso",
           2007
          ],
          [
           "Burkina Faso",
           2008
          ],
          [
           "Burkina Faso",
           2010
          ],
          [
           "Burkina Faso",
           2011
          ],
          [
           "Burkina Faso",
           2012
          ],
          [
           "Burkina Faso",
           2013
          ],
          [
           "Burkina Faso",
           2014
          ],
          [
           "Burkina Faso",
           2015
          ],
          [
           "Burkina Faso",
           2016
          ],
          [
           "Burkina Faso",
           2017
          ],
          [
           "Burkina Faso",
           2018
          ],
          [
           "Burkina Faso",
           2019
          ],
          [
           "Burkina Faso",
           2020
          ],
          [
           "Burkina Faso",
           2021
          ],
          [
           "Burkina Faso",
           2023
          ],
          [
           "Burundi",
           2008
          ],
          [
           "Burundi",
           2009
          ],
          [
           "Burundi",
           2011
          ],
          [
           "Burundi",
           2014
          ],
          [
           "Burundi",
           2018
          ],
          [
           "Cambodia",
           2006
          ],
          [
           "Cambodia",
           2007
          ],
          [
           "Cambodia",
           2008
          ],
          [
           "Cambodia",
           2009
          ],
          [
           "Cambodia",
           2010
          ],
          [
           "Cambodia",
           2011
          ],
          [
           "Cambodia",
           2012
          ],
          [
           "Cambodia",
           2013
          ],
          [
           "Cambodia",
           2014
          ],
          [
           "Cambodia",
           2015
          ],
          [
           "Cambodia",
           2016
          ],
          [
           "Cambodia",
           2017
          ],
          [
           "Cambodia",
           2018
          ],
          [
           "Cambodia",
           2019
          ],
          [
           "Cambodia",
           2020
          ],
          [
           "Cambodia",
           2021
          ],
          [
           "Cambodia",
           2022
          ],
          [
           "Cambodia",
           2023
          ],
          [
           "Cameroon",
           2006
          ],
          [
           "Cameroon",
           2007
          ],
          [
           "Cameroon",
           2008
          ],
          [
           "Cameroon",
           2009
          ],
          [
           "Cameroon",
           2010
          ],
          [
           "Cameroon",
           2011
          ],
          [
           "Cameroon",
           2012
          ],
          [
           "Cameroon",
           2013
          ],
          [
           "Cameroon",
           2014
          ],
          [
           "Cameroon",
           2015
          ],
          [
           "Cameroon",
           2016
          ],
          [
           "Cameroon",
           2017
          ],
          [
           "Cameroon",
           2018
          ],
          [
           "Cameroon",
           2019
          ],
          [
           "Cameroon",
           2020
          ],
          [
           "Cameroon",
           2021
          ],
          [
           "Cameroon",
           2022
          ],
          [
           "Cameroon",
           2023
          ],
          [
           "Canada",
           2005
          ],
          [
           "Canada",
           2007
          ],
          [
           "Canada",
           2008
          ],
          [
           "Canada",
           2009
          ],
          [
           "Canada",
           2010
          ],
          [
           "Canada",
           2011
          ],
          [
           "Canada",
           2012
          ],
          [
           "Canada",
           2013
          ],
          [
           "Canada",
           2014
          ],
          [
           "Canada",
           2015
          ],
          [
           "Canada",
           2016
          ],
          [
           "Canada",
           2017
          ],
          [
           "Canada",
           2018
          ],
          [
           "Canada",
           2019
          ],
          [
           "Canada",
           2020
          ],
          [
           "Canada",
           2021
          ],
          [
           "Canada",
           2022
          ],
          [
           "Canada",
           2023
          ],
          [
           "Central African Republic",
           2007
          ],
          [
           "Central African Republic",
           2010
          ],
          [
           "Central African Republic",
           2011
          ],
          [
           "Central African Republic",
           2016
          ],
          [
           "Central African Republic",
           2017
          ],
          [
           "Chad",
           2006
          ],
          [
           "Chad",
           2007
          ],
          [
           "Chad",
           2008
          ],
          [
           "Chad",
           2009
          ],
          [
           "Chad",
           2010
          ],
          [
           "Chad",
           2011
          ],
          [
           "Chad",
           2012
          ],
          [
           "Chad",
           2013
          ],
          [
           "Chad",
           2014
          ],
          [
           "Chad",
           2015
          ],
          [
           "Chad",
           2016
          ],
          [
           "Chad",
           2017
          ],
          [
           "Chad",
           2018
          ],
          [
           "Chad",
           2019
          ],
          [
           "Chad",
           2022
          ],
          [
           "Chad",
           2023
          ],
          [
           "Chile",
           2006
          ],
          [
           "Chile",
           2007
          ],
          [
           "Chile",
           2008
          ],
          [
           "Chile",
           2009
          ],
          [
           "Chile",
           2010
          ],
          [
           "Chile",
           2011
          ],
          [
           "Chile",
           2012
          ],
          [
           "Chile",
           2013
          ],
          [
           "Chile",
           2014
          ],
          [
           "Chile",
           2015
          ],
          [
           "Chile",
           2016
          ],
          [
           "Chile",
           2017
          ],
          [
           "Chile",
           2018
          ],
          [
           "Chile",
           2019
          ],
          [
           "Chile",
           2020
          ],
          [
           "Chile",
           2021
          ],
          [
           "Chile",
           2022
          ],
          [
           "Chile",
           2023
          ],
          [
           "China",
           2006
          ],
          [
           "China",
           2007
          ],
          [
           "China",
           2008
          ],
          [
           "China",
           2009
          ],
          [
           "China",
           2010
          ],
          [
           "China",
           2011
          ],
          [
           "China",
           2012
          ],
          [
           "China",
           2013
          ],
          [
           "China",
           2014
          ],
          [
           "China",
           2015
          ],
          [
           "China",
           2016
          ],
          [
           "China",
           2017
          ],
          [
           "China",
           2018
          ],
          [
           "China",
           2019
          ],
          [
           "China",
           2020
          ],
          [
           "China",
           2021
          ],
          [
           "China",
           2023
          ],
          [
           "Colombia",
           2006
          ],
          [
           "Colombia",
           2007
          ],
          [
           "Colombia",
           2008
          ],
          [
           "Colombia",
           2009
          ],
          [
           "Colombia",
           2010
          ],
          [
           "Colombia",
           2011
          ],
          [
           "Colombia",
           2012
          ],
          [
           "Colombia",
           2013
          ],
          [
           "Colombia",
           2014
          ],
          [
           "Colombia",
           2015
          ],
          [
           "Colombia",
           2016
          ],
          [
           "Colombia",
           2017
          ],
          [
           "Colombia",
           2018
          ],
          [
           "Colombia",
           2019
          ],
          [
           "Colombia",
           2020
          ],
          [
           "Colombia",
           2021
          ],
          [
           "Colombia",
           2022
          ],
          [
           "Colombia",
           2023
          ],
          [
           "Comoros",
           2009
          ],
          [
           "Comoros",
           2010
          ],
          [
           "Comoros",
           2011
          ],
          [
           "Comoros",
           2012
          ],
          [
           "Comoros",
           2018
          ],
          [
           "Comoros",
           2019
          ],
          [
           "Comoros",
           2022
          ],
          [
           "Comoros",
           2023
          ],
          [
           "Congo (Brazzaville)",
           2008
          ],
          [
           "Congo (Brazzaville)",
           2011
          ],
          [
           "Congo (Brazzaville)",
           2012
          ],
          [
           "Congo (Brazzaville)",
           2013
          ],
          [
           "Congo (Brazzaville)",
           2014
          ],
          [
           "Congo (Brazzaville)",
           2015
          ],
          [
           "Congo (Brazzaville)",
           2016
          ],
          [
           "Congo (Brazzaville)",
           2017
          ],
          [
           "Congo (Brazzaville)",
           2018
          ],
          [
           "Congo (Brazzaville)",
           2019
          ],
          [
           "Congo (Brazzaville)",
           2020
          ],
          [
           "Congo (Brazzaville)",
           2021
          ],
          [
           "Congo (Brazzaville)",
           2022
          ],
          [
           "Congo (Brazzaville)",
           2023
          ],
          [
           "Congo (Kinshasa)",
           2009
          ],
          [
           "Congo (Kinshasa)",
           2011
          ],
          [
           "Congo (Kinshasa)",
           2012
          ],
          [
           "Congo (Kinshasa)",
           2013
          ],
          [
           "Congo (Kinshasa)",
           2014
          ],
          [
           "Congo (Kinshasa)",
           2015
          ],
          [
           "Congo (Kinshasa)",
           2016
          ],
          [
           "Congo (Kinshasa)",
           2017
          ],
          [
           "Congo (Kinshasa)",
           2022
          ],
          [
           "Congo (Kinshasa)",
           2023
          ],
          [
           "Costa Rica",
           2006
          ],
          [
           "Costa Rica",
           2007
          ],
          [
           "Costa Rica",
           2008
          ],
          [
           "Costa Rica",
           2009
          ],
          [
           "Costa Rica",
           2010
          ],
          [
           "Costa Rica",
           2011
          ],
          [
           "Costa Rica",
           2012
          ],
          [
           "Costa Rica",
           2013
          ],
          [
           "Costa Rica",
           2014
          ],
          [
           "Costa Rica",
           2015
          ],
          [
           "Costa Rica",
           2016
          ],
          [
           "Costa Rica",
           2017
          ],
          [
           "Costa Rica",
           2018
          ],
          [
           "Costa Rica",
           2019
          ],
          [
           "Costa Rica",
           2020
          ],
          [
           "Costa Rica",
           2021
          ],
          [
           "Costa Rica",
           2022
          ],
          [
           "Costa Rica",
           2023
          ],
          [
           "Croatia",
           2007
          ],
          [
           "Croatia",
           2009
          ],
          [
           "Croatia",
           2010
          ],
          [
           "Croatia",
           2011
          ],
          [
           "Croatia",
           2012
          ],
          [
           "Croatia",
           2013
          ],
          [
           "Croatia",
           2014
          ],
          [
           "Croatia",
           2015
          ],
          [
           "Croatia",
           2016
          ],
          [
           "Croatia",
           2017
          ],
          [
           "Croatia",
           2018
          ],
          [
           "Croatia",
           2019
          ],
          [
           "Croatia",
           2020
          ],
          [
           "Croatia",
           2021
          ],
          [
           "Croatia",
           2022
          ],
          [
           "Croatia",
           2023
          ],
          [
           "Cuba",
           2006
          ],
          [
           "Cyprus",
           2006
          ],
          [
           "Cyprus",
           2009
          ],
          [
           "Cyprus",
           2010
          ],
          [
           "Cyprus",
           2011
          ],
          [
           "Cyprus",
           2012
          ],
          [
           "Cyprus",
           2013
          ],
          [
           "Cyprus",
           2014
          ],
          [
           "Cyprus",
           2015
          ],
          [
           "Cyprus",
           2016
          ],
          [
           "Cyprus",
           2017
          ],
          [
           "Cyprus",
           2018
          ],
          [
           "Cyprus",
           2019
          ],
          [
           "Cyprus",
           2020
          ],
          [
           "Cyprus",
           2021
          ],
          [
           "Cyprus",
           2022
          ],
          [
           "Cyprus",
           2023
          ],
          [
           "Czechia",
           2005
          ],
          [
           "Czechia",
           2007
          ],
          [
           "Czechia",
           2010
          ],
          [
           "Czechia",
           2011
          ],
          [
           "Czechia",
           2012
          ],
          [
           "Czechia",
           2013
          ],
          [
           "Czechia",
           2014
          ],
          [
           "Czechia",
           2015
          ],
          [
           "Czechia",
           2016
          ],
          [
           "Czechia",
           2017
          ],
          [
           "Czechia",
           2018
          ],
          [
           "Czechia",
           2020
          ],
          [
           "Czechia",
           2021
          ],
          [
           "Czechia",
           2022
          ],
          [
           "Czechia",
           2023
          ],
          [
           "Denmark",
           2005
          ],
          [
           "Denmark",
           2007
          ],
          [
           "Denmark",
           2008
          ],
          [
           "Denmark",
           2009
          ],
          [
           "Denmark",
           2010
          ],
          [
           "Denmark",
           2011
          ],
          [
           "Denmark",
           2012
          ],
          [
           "Denmark",
           2013
          ],
          [
           "Denmark",
           2014
          ],
          [
           "Denmark",
           2015
          ],
          [
           "Denmark",
           2016
          ],
          [
           "Denmark",
           2017
          ],
          [
           "Denmark",
           2018
          ],
          [
           "Denmark",
           2019
          ],
          [
           "Denmark",
           2020
          ],
          [
           "Denmark",
           2021
          ],
          [
           "Denmark",
           2022
          ],
          [
           "Denmark",
           2023
          ],
          [
           "Djibouti",
           2008
          ],
          [
           "Djibouti",
           2009
          ],
          [
           "Djibouti",
           2010
          ],
          [
           "Djibouti",
           2011
          ],
          [
           "Dominican Republic",
           2006
          ],
          [
           "Dominican Republic",
           2007
          ],
          [
           "Dominican Republic",
           2008
          ],
          [
           "Dominican Republic",
           2009
          ],
          [
           "Dominican Republic",
           2010
          ],
          [
           "Dominican Republic",
           2011
          ],
          [
           "Dominican Republic",
           2012
          ],
          [
           "Dominican Republic",
           2013
          ],
          [
           "Dominican Republic",
           2014
          ],
          [
           "Dominican Republic",
           2015
          ],
          [
           "Dominican Republic",
           2016
          ],
          [
           "Dominican Republic",
           2017
          ],
          [
           "Dominican Republic",
           2018
          ],
          [
           "Dominican Republic",
           2019
          ],
          [
           "Dominican Republic",
           2020
          ],
          [
           "Dominican Republic",
           2021
          ],
          [
           "Dominican Republic",
           2022
          ],
          [
           "Dominican Republic",
           2023
          ],
          [
           "Ecuador",
           2006
          ],
          [
           "Ecuador",
           2007
          ],
          [
           "Ecuador",
           2008
          ],
          [
           "Ecuador",
           2009
          ],
          [
           "Ecuador",
           2010
          ],
          [
           "Ecuador",
           2011
          ],
          [
           "Ecuador",
           2012
          ],
          [
           "Ecuador",
           2013
          ],
          [
           "Ecuador",
           2014
          ],
          [
           "Ecuador",
           2015
          ],
          [
           "Ecuador",
           2016
          ],
          [
           "Ecuador",
           2017
          ],
          [
           "Ecuador",
           2018
          ],
          [
           "Ecuador",
           2019
          ],
          [
           "Ecuador",
           2020
          ],
          [
           "Ecuador",
           2021
          ],
          [
           "Ecuador",
           2022
          ],
          [
           "Ecuador",
           2023
          ],
          [
           "Egypt",
           2005
          ],
          [
           "Egypt",
           2007
          ],
          [
           "Egypt",
           2008
          ],
          [
           "Egypt",
           2009
          ],
          [
           "Egypt",
           2010
          ],
          [
           "Egypt",
           2011
          ],
          [
           "Egypt",
           2012
          ],
          [
           "Egypt",
           2013
          ],
          [
           "Egypt",
           2014
          ],
          [
           "Egypt",
           2015
          ],
          [
           "Egypt",
           2016
          ],
          [
           "Egypt",
           2017
          ],
          [
           "Egypt",
           2018
          ],
          [
           "Egypt",
           2019
          ],
          [
           "Egypt",
           2020
          ],
          [
           "Egypt",
           2021
          ],
          [
           "Egypt",
           2022
          ],
          [
           "Egypt",
           2023
          ],
          [
           "El Salvador",
           2006
          ],
          [
           "El Salvador",
           2007
          ],
          [
           "El Salvador",
           2008
          ],
          [
           "El Salvador",
           2009
          ],
          [
           "El Salvador",
           2010
          ],
          [
           "El Salvador",
           2011
          ],
          [
           "El Salvador",
           2012
          ],
          [
           "El Salvador",
           2013
          ],
          [
           "El Salvador",
           2014
          ],
          [
           "El Salvador",
           2015
          ],
          [
           "El Salvador",
           2016
          ],
          [
           "El Salvador",
           2017
          ],
          [
           "El Salvador",
           2018
          ],
          [
           "El Salvador",
           2019
          ],
          [
           "El Salvador",
           2020
          ],
          [
           "El Salvador",
           2021
          ],
          [
           "El Salvador",
           2022
          ],
          [
           "El Salvador",
           2023
          ],
          [
           "Estonia",
           2006
          ],
          [
           "Estonia",
           2007
          ],
          [
           "Estonia",
           2008
          ],
          [
           "Estonia",
           2009
          ],
          [
           "Estonia",
           2011
          ],
          [
           "Estonia",
           2012
          ],
          [
           "Estonia",
           2013
          ],
          [
           "Estonia",
           2014
          ],
          [
           "Estonia",
           2015
          ],
          [
           "Estonia",
           2016
          ],
          [
           "Estonia",
           2017
          ],
          [
           "Estonia",
           2018
          ],
          [
           "Estonia",
           2019
          ],
          [
           "Estonia",
           2020
          ],
          [
           "Estonia",
           2021
          ],
          [
           "Estonia",
           2022
          ],
          [
           "Estonia",
           2023
          ],
          [
           "Eswatini",
           2011
          ],
          [
           "Eswatini",
           2018
          ],
          [
           "Eswatini",
           2019
          ],
          [
           "Eswatini",
           2022
          ],
          [
           "Ethiopia",
           2012
          ],
          [
           "Ethiopia",
           2013
          ],
          [
           "Ethiopia",
           2014
          ],
          [
           "Ethiopia",
           2015
          ],
          [
           "Ethiopia",
           2016
          ],
          [
           "Ethiopia",
           2017
          ],
          [
           "Ethiopia",
           2018
          ],
          [
           "Ethiopia",
           2019
          ],
          [
           "Ethiopia",
           2020
          ],
          [
           "Ethiopia",
           2022
          ],
          [
           "Ethiopia",
           2023
          ],
          [
           "Finland",
           2006
          ],
          [
           "Finland",
           2008
          ],
          [
           "Finland",
           2010
          ],
          [
           "Finland",
           2011
          ],
          [
           "Finland",
           2012
          ],
          [
           "Finland",
           2013
          ],
          [
           "Finland",
           2014
          ],
          [
           "Finland",
           2015
          ],
          [
           "Finland",
           2016
          ],
          [
           "Finland",
           2017
          ],
          [
           "Finland",
           2018
          ],
          [
           "Finland",
           2019
          ],
          [
           "Finland",
           2020
          ],
          [
           "Finland",
           2021
          ],
          [
           "Finland",
           2022
          ],
          [
           "Finland",
           2023
          ],
          [
           "France",
           2005
          ],
          [
           "France",
           2006
          ],
          [
           "France",
           2008
          ],
          [
           "France",
           2009
          ],
          [
           "France",
           2010
          ],
          [
           "France",
           2011
          ],
          [
           "France",
           2012
          ],
          [
           "France",
           2013
          ],
          [
           "France",
           2014
          ],
          [
           "France",
           2015
          ],
          [
           "France",
           2016
          ],
          [
           "France",
           2017
          ],
          [
           "France",
           2018
          ],
          [
           "France",
           2019
          ],
          [
           "France",
           2020
          ],
          [
           "France",
           2021
          ],
          [
           "France",
           2022
          ],
          [
           "France",
           2023
          ],
          [
           "Gabon",
           2011
          ],
          [
           "Gabon",
           2012
          ],
          [
           "Gabon",
           2013
          ],
          [
           "Gabon",
           2014
          ],
          [
           "Gabon",
           2015
          ],
          [
           "Gabon",
           2016
          ],
          [
           "Gabon",
           2017
          ],
          [
           "Gabon",
           2018
          ],
          [
           "Gabon",
           2019
          ],
          [
           "Gabon",
           2020
          ],
          [
           "Gabon",
           2021
          ],
          [
           "Gabon",
           2022
          ],
          [
           "Gabon",
           2023
          ],
          [
           "Gambia",
           2017
          ],
          [
           "Gambia",
           2018
          ],
          [
           "Gambia",
           2019
          ],
          [
           "Gambia",
           2022
          ],
          [
           "Gambia",
           2023
          ],
          [
           "Georgia",
           2006
          ],
          [
           "Georgia",
           2007
          ],
          [
           "Georgia",
           2008
          ],
          [
           "Georgia",
           2009
          ],
          [
           "Georgia",
           2010
          ],
          [
           "Georgia",
           2011
          ],
          [
           "Georgia",
           2012
          ],
          [
           "Georgia",
           2013
          ],
          [
           "Georgia",
           2014
          ],
          [
           "Georgia",
           2015
          ],
          [
           "Georgia",
           2016
          ],
          [
           "Georgia",
           2017
          ],
          [
           "Georgia",
           2018
          ],
          [
           "Georgia",
           2019
          ],
          [
           "Georgia",
           2020
          ],
          [
           "Georgia",
           2021
          ],
          [
           "Georgia",
           2022
          ],
          [
           "Georgia",
           2023
          ],
          [
           "Germany",
           2005
          ],
          [
           "Germany",
           2007
          ],
          [
           "Germany",
           2008
          ],
          [
           "Germany",
           2009
          ],
          [
           "Germany",
           2010
          ],
          [
           "Germany",
           2011
          ],
          [
           "Germany",
           2012
          ],
          [
           "Germany",
           2013
          ],
          [
           "Germany",
           2014
          ],
          [
           "Germany",
           2015
          ],
          [
           "Germany",
           2016
          ],
          [
           "Germany",
           2017
          ],
          [
           "Germany",
           2018
          ],
          [
           "Germany",
           2019
          ],
          [
           "Germany",
           2020
          ],
          [
           "Germany",
           2021
          ],
          [
           "Germany",
           2022
          ],
          [
           "Germany",
           2023
          ],
          [
           "Ghana",
           2006
          ],
          [
           "Ghana",
           2007
          ],
          [
           "Ghana",
           2008
          ],
          [
           "Ghana",
           2009
          ],
          [
           "Ghana",
           2010
          ],
          [
           "Ghana",
           2011
          ],
          [
           "Ghana",
           2012
          ],
          [
           "Ghana",
           2013
          ],
          [
           "Ghana",
           2014
          ],
          [
           "Ghana",
           2015
          ],
          [
           "Ghana",
           2016
          ],
          [
           "Ghana",
           2017
          ],
          [
           "Ghana",
           2018
          ],
          [
           "Ghana",
           2019
          ],
          [
           "Ghana",
           2020
          ],
          [
           "Ghana",
           2021
          ],
          [
           "Ghana",
           2022
          ],
          [
           "Ghana",
           2023
          ],
          [
           "Greece",
           2005
          ],
          [
           "Greece",
           2007
          ],
          [
           "Greece",
           2009
          ],
          [
           "Greece",
           2010
          ],
          [
           "Greece",
           2011
          ],
          [
           "Greece",
           2012
          ],
          [
           "Greece",
           2013
          ],
          [
           "Greece",
           2014
          ],
          [
           "Greece",
           2015
          ],
          [
           "Greece",
           2016
          ],
          [
           "Greece",
           2017
          ],
          [
           "Greece",
           2018
          ],
          [
           "Greece",
           2019
          ],
          [
           "Greece",
           2020
          ],
          [
           "Greece",
           2021
          ],
          [
           "Greece",
           2022
          ],
          [
           "Greece",
           2023
          ],
          [
           "Guatemala",
           2006
          ],
          [
           "Guatemala",
           2007
          ],
          [
           "Guatemala",
           2008
          ],
          [
           "Guatemala",
           2009
          ],
          [
           "Guatemala",
           2010
          ],
          [
           "Guatemala",
           2011
          ],
          [
           "Guatemala",
           2012
          ],
          [
           "Guatemala",
           2013
          ],
          [
           "Guatemala",
           2014
          ],
          [
           "Guatemala",
           2015
          ],
          [
           "Guatemala",
           2016
          ],
          [
           "Guatemala",
           2017
          ],
          [
           "Guatemala",
           2018
          ],
          [
           "Guatemala",
           2019
          ],
          [
           "Guatemala",
           2022
          ],
          [
           "Guatemala",
           2023
          ],
          [
           "Guinea",
           2011
          ],
          [
           "Guinea",
           2012
          ],
          [
           "Guinea",
           2013
          ],
          [
           "Guinea",
           2014
          ],
          [
           "Guinea",
           2015
          ],
          [
           "Guinea",
           2016
          ],
          [
           "Guinea",
           2017
          ],
          [
           "Guinea",
           2018
          ],
          [
           "Guinea",
           2019
          ],
          [
           "Guinea",
           2020
          ],
          [
           "Guinea",
           2021
          ],
          [
           "Guinea",
           2022
          ],
          [
           "Guinea",
           2023
          ],
          [
           "Guyana",
           2007
          ],
          [
           "Haiti",
           2006
          ],
          [
           "Haiti",
           2008
          ],
          [
           "Haiti",
           2010
          ],
          [
           "Haiti",
           2011
          ],
          [
           "Haiti",
           2012
          ],
          [
           "Haiti",
           2013
          ],
          [
           "Haiti",
           2014
          ],
          [
           "Haiti",
           2015
          ],
          [
           "Haiti",
           2016
          ],
          [
           "Haiti",
           2017
          ],
          [
           "Haiti",
           2018
          ],
          [
           "Honduras",
           2006
          ],
          [
           "Honduras",
           2007
          ],
          [
           "Honduras",
           2008
          ],
          [
           "Honduras",
           2009
          ],
          [
           "Honduras",
           2010
          ],
          [
           "Honduras",
           2011
          ],
          [
           "Honduras",
           2012
          ],
          [
           "Honduras",
           2013
          ],
          [
           "Honduras",
           2014
          ],
          [
           "Honduras",
           2015
          ],
          [
           "Honduras",
           2016
          ],
          [
           "Honduras",
           2017
          ],
          [
           "Honduras",
           2018
          ],
          [
           "Honduras",
           2019
          ],
          [
           "Honduras",
           2021
          ],
          [
           "Honduras",
           2022
          ],
          [
           "Honduras",
           2023
          ],
          [
           "Hong Kong S.A.R. of China",
           2006
          ],
          [
           "Hong Kong S.A.R. of China",
           2008
          ],
          [
           "Hong Kong S.A.R. of China",
           2009
          ],
          [
           "Hong Kong S.A.R. of China",
           2010
          ],
          [
           "Hong Kong S.A.R. of China",
           2011
          ],
          [
           "Hong Kong S.A.R. of China",
           2012
          ],
          [
           "Hong Kong S.A.R. of China",
           2014
          ],
          [
           "Hong Kong S.A.R. of China",
           2016
          ],
          [
           "Hong Kong S.A.R. of China",
           2017
          ],
          [
           "Hong Kong S.A.R. of China",
           2019
          ],
          [
           "Hong Kong S.A.R. of China",
           2020
          ],
          [
           "Hong Kong S.A.R. of China",
           2021
          ],
          [
           "Hong Kong S.A.R. of China",
           2022
          ],
          [
           "Hungary",
           2005
          ],
          [
           "Hungary",
           2007
          ],
          [
           "Hungary",
           2009
          ],
          [
           "Hungary",
           2010
          ],
          [
           "Hungary",
           2011
          ],
          [
           "Hungary",
           2012
          ],
          [
           "Hungary",
           2013
          ],
          [
           "Hungary",
           2014
          ],
          [
           "Hungary",
           2015
          ],
          [
           "Hungary",
           2016
          ],
          [
           "Hungary",
           2017
          ],
          [
           "Hungary",
           2018
          ],
          [
           "Hungary",
           2019
          ],
          [
           "Hungary",
           2020
          ],
          [
           "Hungary",
           2021
          ],
          [
           "Hungary",
           2022
          ],
          [
           "Hungary",
           2023
          ],
          [
           "Iceland",
           2008
          ],
          [
           "Iceland",
           2012
          ],
          [
           "Iceland",
           2013
          ],
          [
           "Iceland",
           2015
          ],
          [
           "Iceland",
           2016
          ],
          [
           "Iceland",
           2017
          ],
          [
           "Iceland",
           2019
          ],
          [
           "Iceland",
           2020
          ],
          [
           "Iceland",
           2021
          ],
          [
           "Iceland",
           2022
          ],
          [
           "Iceland",
           2023
          ],
          [
           "India",
           2006
          ],
          [
           "India",
           2007
          ],
          [
           "India",
           2008
          ],
          [
           "India",
           2009
          ],
          [
           "India",
           2010
          ],
          [
           "India",
           2011
          ],
          [
           "India",
           2012
          ],
          [
           "India",
           2013
          ],
          [
           "India",
           2014
          ],
          [
           "India",
           2015
          ],
          [
           "India",
           2016
          ],
          [
           "India",
           2017
          ],
          [
           "India",
           2018
          ],
          [
           "India",
           2019
          ],
          [
           "India",
           2020
          ],
          [
           "India",
           2021
          ],
          [
           "India",
           2022
          ],
          [
           "India",
           2023
          ],
          [
           "Indonesia",
           2006
          ],
          [
           "Indonesia",
           2007
          ],
          [
           "Indonesia",
           2008
          ],
          [
           "Indonesia",
           2009
          ],
          [
           "Indonesia",
           2010
          ],
          [
           "Indonesia",
           2011
          ],
          [
           "Indonesia",
           2012
          ],
          [
           "Indonesia",
           2013
          ],
          [
           "Indonesia",
           2014
          ],
          [
           "Indonesia",
           2015
          ],
          [
           "Indonesia",
           2016
          ],
          [
           "Indonesia",
           2017
          ],
          [
           "Indonesia",
           2018
          ],
          [
           "Indonesia",
           2019
          ],
          [
           "Indonesia",
           2020
          ],
          [
           "Indonesia",
           2021
          ],
          [
           "Indonesia",
           2022
          ],
          [
           "Indonesia",
           2023
          ],
          [
           "Iran",
           2005
          ],
          [
           "Iran",
           2007
          ],
          [
           "Iran",
           2008
          ],
          [
           "Iran",
           2011
          ],
          [
           "Iran",
           2012
          ],
          [
           "Iran",
           2013
          ],
          [
           "Iran",
           2014
          ],
          [
           "Iran",
           2015
          ],
          [
           "Iran",
           2016
          ],
          [
           "Iran",
           2017
          ],
          [
           "Iran",
           2018
          ],
          [
           "Iran",
           2019
          ],
          [
           "Iran",
           2020
          ],
          [
           "Iran",
           2021
          ],
          [
           "Iran",
           2022
          ],
          [
           "Iran",
           2023
          ],
          [
           "Iraq",
           2008
          ],
          [
           "Iraq",
           2009
          ],
          [
           "Iraq",
           2010
          ],
          [
           "Iraq",
           2011
          ],
          [
           "Iraq",
           2012
          ],
          [
           "Iraq",
           2013
          ],
          [
           "Iraq",
           2014
          ],
          [
           "Iraq",
           2015
          ],
          [
           "Iraq",
           2016
          ],
          [
           "Iraq",
           2017
          ],
          [
           "Iraq",
           2018
          ],
          [
           "Iraq",
           2020
          ],
          [
           "Iraq",
           2021
          ],
          [
           "Iraq",
           2022
          ],
          [
           "Iraq",
           2023
          ],
          [
           "Ireland",
           2006
          ],
          [
           "Ireland",
           2008
          ],
          [
           "Ireland",
           2009
          ],
          [
           "Ireland",
           2010
          ],
          [
           "Ireland",
           2011
          ],
          [
           "Ireland",
           2012
          ],
          [
           "Ireland",
           2013
          ],
          [
           "Ireland",
           2014
          ],
          [
           "Ireland",
           2015
          ],
          [
           "Ireland",
           2016
          ],
          [
           "Ireland",
           2017
          ],
          [
           "Ireland",
           2018
          ],
          [
           "Ireland",
           2019
          ],
          [
           "Ireland",
           2020
          ],
          [
           "Ireland",
           2021
          ],
          [
           "Ireland",
           2022
          ],
          [
           "Ireland",
           2023
          ],
          [
           "Israel",
           2006
          ],
          [
           "Israel",
           2007
          ],
          [
           "Israel",
           2008
          ],
          [
           "Israel",
           2009
          ],
          [
           "Israel",
           2010
          ],
          [
           "Israel",
           2011
          ],
          [
           "Israel",
           2012
          ],
          [
           "Israel",
           2013
          ],
          [
           "Israel",
           2014
          ],
          [
           "Israel",
           2015
          ],
          [
           "Israel",
           2016
          ],
          [
           "Israel",
           2017
          ],
          [
           "Israel",
           2018
          ],
          [
           "Israel",
           2019
          ],
          [
           "Israel",
           2020
          ],
          [
           "Israel",
           2021
          ],
          [
           "Israel",
           2022
          ],
          [
           "Israel",
           2023
          ],
          [
           "Italy",
           2005
          ],
          [
           "Italy",
           2007
          ],
          [
           "Italy",
           2008
          ],
          [
           "Italy",
           2009
          ],
          [
           "Italy",
           2010
          ],
          [
           "Italy",
           2011
          ],
          [
           "Italy",
           2012
          ],
          [
           "Italy",
           2013
          ],
          [
           "Italy",
           2014
          ],
          [
           "Italy",
           2015
          ],
          [
           "Italy",
           2016
          ],
          [
           "Italy",
           2017
          ],
          [
           "Italy",
           2018
          ],
          [
           "Italy",
           2019
          ],
          [
           "Italy",
           2020
          ],
          [
           "Italy",
           2021
          ],
          [
           "Italy",
           2022
          ],
          [
           "Italy",
           2023
          ],
          [
           "Ivory Coast",
           2009
          ],
          [
           "Ivory Coast",
           2013
          ],
          [
           "Ivory Coast",
           2014
          ],
          [
           "Ivory Coast",
           2015
          ],
          [
           "Ivory Coast",
           2016
          ],
          [
           "Ivory Coast",
           2017
          ],
          [
           "Ivory Coast",
           2018
          ],
          [
           "Ivory Coast",
           2019
          ],
          [
           "Ivory Coast",
           2020
          ],
          [
           "Ivory Coast",
           2021
          ],
          [
           "Ivory Coast",
           2022
          ],
          [
           "Ivory Coast",
           2023
          ],
          [
           "Jamaica",
           2006
          ],
          [
           "Jamaica",
           2011
          ],
          [
           "Jamaica",
           2013
          ],
          [
           "Jamaica",
           2014
          ],
          [
           "Jamaica",
           2017
          ],
          [
           "Jamaica",
           2019
          ],
          [
           "Jamaica",
           2020
          ],
          [
           "Jamaica",
           2021
          ],
          [
           "Jamaica",
           2022
          ],
          [
           "Japan",
           2005
          ],
          [
           "Japan",
           2007
          ],
          [
           "Japan",
           2008
          ],
          [
           "Japan",
           2009
          ],
          [
           "Japan",
           2010
          ],
          [
           "Japan",
           2011
          ],
          [
           "Japan",
           2012
          ],
          [
           "Japan",
           2013
          ],
          [
           "Japan",
           2014
          ],
          [
           "Japan",
           2015
          ],
          [
           "Japan",
           2016
          ],
          [
           "Japan",
           2017
          ],
          [
           "Japan",
           2018
          ],
          [
           "Japan",
           2019
          ],
          [
           "Japan",
           2020
          ],
          [
           "Japan",
           2021
          ],
          [
           "Japan",
           2022
          ],
          [
           "Japan",
           2023
          ],
          [
           "Jordan",
           2005
          ],
          [
           "Jordan",
           2007
          ],
          [
           "Jordan",
           2008
          ],
          [
           "Jordan",
           2009
          ],
          [
           "Jordan",
           2010
          ],
          [
           "Jordan",
           2011
          ],
          [
           "Jordan",
           2012
          ],
          [
           "Jordan",
           2013
          ],
          [
           "Jordan",
           2014
          ],
          [
           "Jordan",
           2015
          ],
          [
           "Jordan",
           2016
          ],
          [
           "Jordan",
           2017
          ],
          [
           "Jordan",
           2018
          ],
          [
           "Jordan",
           2019
          ],
          [
           "Jordan",
           2020
          ],
          [
           "Jordan",
           2021
          ],
          [
           "Jordan",
           2022
          ],
          [
           "Jordan",
           2023
          ],
          [
           "Kazakhstan",
           2006
          ],
          [
           "Kazakhstan",
           2007
          ],
          [
           "Kazakhstan",
           2008
          ],
          [
           "Kazakhstan",
           2009
          ],
          [
           "Kazakhstan",
           2010
          ],
          [
           "Kazakhstan",
           2011
          ],
          [
           "Kazakhstan",
           2012
          ],
          [
           "Kazakhstan",
           2013
          ],
          [
           "Kazakhstan",
           2014
          ],
          [
           "Kazakhstan",
           2015
          ],
          [
           "Kazakhstan",
           2016
          ],
          [
           "Kazakhstan",
           2017
          ],
          [
           "Kazakhstan",
           2018
          ],
          [
           "Kazakhstan",
           2019
          ],
          [
           "Kazakhstan",
           2020
          ],
          [
           "Kazakhstan",
           2021
          ],
          [
           "Kazakhstan",
           2022
          ],
          [
           "Kazakhstan",
           2023
          ],
          [
           "Kenya",
           2006
          ],
          [
           "Kenya",
           2007
          ],
          [
           "Kenya",
           2008
          ],
          [
           "Kenya",
           2009
          ],
          [
           "Kenya",
           2010
          ],
          [
           "Kenya",
           2011
          ],
          [
           "Kenya",
           2012
          ],
          [
           "Kenya",
           2013
          ],
          [
           "Kenya",
           2014
          ],
          [
           "Kenya",
           2015
          ],
          [
           "Kenya",
           2016
          ],
          [
           "Kenya",
           2017
          ],
          [
           "Kenya",
           2018
          ],
          [
           "Kenya",
           2019
          ],
          [
           "Kenya",
           2020
          ],
          [
           "Kenya",
           2021
          ],
          [
           "Kenya",
           2022
          ],
          [
           "Kenya",
           2023
          ],
          [
           "Kosovo",
           2007
          ],
          [
           "Kosovo",
           2008
          ],
          [
           "Kosovo",
           2009
          ],
          [
           "Kosovo",
           2010
          ],
          [
           "Kosovo",
           2011
          ],
          [
           "Kosovo",
           2012
          ],
          [
           "Kosovo",
           2013
          ],
          [
           "Kosovo",
           2014
          ],
          [
           "Kosovo",
           2015
          ],
          [
           "Kosovo",
           2016
          ],
          [
           "Kosovo",
           2017
          ],
          [
           "Kosovo",
           2018
          ],
          [
           "Kosovo",
           2019
          ],
          [
           "Kosovo",
           2020
          ],
          [
           "Kosovo",
           2021
          ],
          [
           "Kosovo",
           2022
          ],
          [
           "Kosovo",
           2023
          ],
          [
           "Kuwait",
           2006
          ],
          [
           "Kuwait",
           2009
          ],
          [
           "Kuwait",
           2010
          ],
          [
           "Kuwait",
           2011
          ],
          [
           "Kuwait",
           2012
          ],
          [
           "Kuwait",
           2013
          ],
          [
           "Kuwait",
           2014
          ],
          [
           "Kuwait",
           2015
          ],
          [
           "Kuwait",
           2016
          ],
          [
           "Kuwait",
           2017
          ],
          [
           "Kuwait",
           2019
          ],
          [
           "Kuwait",
           2022
          ],
          [
           "Kuwait",
           2023
          ],
          [
           "Kyrgyzstan",
           2006
          ],
          [
           "Kyrgyzstan",
           2007
          ],
          [
           "Kyrgyzstan",
           2008
          ],
          [
           "Kyrgyzstan",
           2009
          ],
          [
           "Kyrgyzstan",
           2010
          ],
          [
           "Kyrgyzstan",
           2011
          ],
          [
           "Kyrgyzstan",
           2012
          ],
          [
           "Kyrgyzstan",
           2013
          ],
          [
           "Kyrgyzstan",
           2014
          ],
          [
           "Kyrgyzstan",
           2015
          ],
          [
           "Kyrgyzstan",
           2016
          ],
          [
           "Kyrgyzstan",
           2017
          ],
          [
           "Kyrgyzstan",
           2018
          ],
          [
           "Kyrgyzstan",
           2019
          ],
          [
           "Kyrgyzstan",
           2020
          ],
          [
           "Kyrgyzstan",
           2021
          ],
          [
           "Kyrgyzstan",
           2022
          ],
          [
           "Kyrgyzstan",
           2023
          ],
          [
           "Laos",
           2006
          ],
          [
           "Laos",
           2007
          ],
          [
           "Laos",
           2008
          ],
          [
           "Laos",
           2011
          ],
          [
           "Laos",
           2012
          ],
          [
           "Laos",
           2017
          ],
          [
           "Laos",
           2018
          ],
          [
           "Laos",
           2019
          ],
          [
           "Laos",
           2020
          ],
          [
           "Laos",
           2021
          ],
          [
           "Laos",
           2022
          ],
          [
           "Laos",
           2023
          ],
          [
           "Latvia",
           2006
          ],
          [
           "Latvia",
           2007
          ],
          [
           "Latvia",
           2008
          ],
          [
           "Latvia",
           2009
          ],
          [
           "Latvia",
           2011
          ],
          [
           "Latvia",
           2012
          ],
          [
           "Latvia",
           2013
          ],
          [
           "Latvia",
           2014
          ],
          [
           "Latvia",
           2015
          ],
          [
           "Latvia",
           2016
          ],
          [
           "Latvia",
           2017
          ],
          [
           "Latvia",
           2018
          ],
          [
           "Latvia",
           2019
          ],
          [
           "Latvia",
           2020
          ],
          [
           "Latvia",
           2021
          ],
          [
           "Latvia",
           2022
          ],
          [
           "Latvia",
           2023
          ],
          [
           "Lebanon",
           2005
          ],
          [
           "Lebanon",
           2006
          ],
          [
           "Lebanon",
           2008
          ],
          [
           "Lebanon",
           2009
          ],
          [
           "Lebanon",
           2010
          ],
          [
           "Lebanon",
           2011
          ],
          [
           "Lebanon",
           2012
          ],
          [
           "Lebanon",
           2013
          ],
          [
           "Lebanon",
           2014
          ],
          [
           "Lebanon",
           2015
          ],
          [
           "Lebanon",
           2016
          ],
          [
           "Lebanon",
           2017
          ],
          [
           "Lebanon",
           2018
          ],
          [
           "Lebanon",
           2019
          ],
          [
           "Lebanon",
           2020
          ],
          [
           "Lebanon",
           2021
          ],
          [
           "Lebanon",
           2022
          ],
          [
           "Lebanon",
           2023
          ],
          [
           "Lesotho",
           2011
          ],
          [
           "Lesotho",
           2016
          ],
          [
           "Lesotho",
           2017
          ],
          [
           "Lesotho",
           2019
          ],
          [
           "Lesotho",
           2022
          ],
          [
           "Liberia",
           2007
          ],
          [
           "Liberia",
           2008
          ],
          [
           "Liberia",
           2010
          ],
          [
           "Liberia",
           2014
          ],
          [
           "Liberia",
           2015
          ],
          [
           "Liberia",
           2016
          ],
          [
           "Liberia",
           2017
          ],
          [
           "Liberia",
           2018
          ],
          [
           "Liberia",
           2019
          ],
          [
           "Liberia",
           2022
          ],
          [
           "Liberia",
           2023
          ],
          [
           "Libya",
           2012
          ],
          [
           "Libya",
           2015
          ],
          [
           "Libya",
           2016
          ],
          [
           "Libya",
           2017
          ],
          [
           "Libya",
           2018
          ],
          [
           "Libya",
           2019
          ],
          [
           "Libya",
           2022
          ],
          [
           "Libya",
           2023
          ],
          [
           "Lithuania",
           2006
          ],
          [
           "Lithuania",
           2007
          ],
          [
           "Lithuania",
           2008
          ],
          [
           "Lithuania",
           2009
          ],
          [
           "Lithuania",
           2010
          ],
          [
           "Lithuania",
           2011
          ],
          [
           "Lithuania",
           2012
          ],
          [
           "Lithuania",
           2013
          ],
          [
           "Lithuania",
           2014
          ],
          [
           "Lithuania",
           2015
          ],
          [
           "Lithuania",
           2016
          ],
          [
           "Lithuania",
           2017
          ],
          [
           "Lithuania",
           2018
          ],
          [
           "Lithuania",
           2019
          ],
          [
           "Lithuania",
           2020
          ],
          [
           "Lithuania",
           2021
          ],
          [
           "Lithuania",
           2022
          ],
          [
           "Lithuania",
           2023
          ],
          [
           "Luxembourg",
           2009
          ],
          [
           "Luxembourg",
           2010
          ],
          [
           "Luxembourg",
           2011
          ],
          [
           "Luxembourg",
           2012
          ],
          [
           "Luxembourg",
           2013
          ],
          [
           "Luxembourg",
           2014
          ],
          [
           "Luxembourg",
           2015
          ],
          [
           "Luxembourg",
           2016
          ],
          [
           "Luxembourg",
           2017
          ],
          [
           "Luxembourg",
           2018
          ],
          [
           "Luxembourg",
           2019
          ],
          [
           "Luxembourg",
           2022
          ],
          [
           "Luxembourg",
           2023
          ],
          [
           "Madagascar",
           2006
          ],
          [
           "Madagascar",
           2008
          ],
          [
           "Madagascar",
           2011
          ],
          [
           "Madagascar",
           2012
          ],
          [
           "Madagascar",
           2013
          ],
          [
           "Madagascar",
           2014
          ],
          [
           "Madagascar",
           2015
          ],
          [
           "Madagascar",
           2016
          ],
          [
           "Madagascar",
           2017
          ],
          [
           "Madagascar",
           2018
          ],
          [
           "Madagascar",
           2019
          ],
          [
           "Madagascar",
           2022
          ],
          [
           "Madagascar",
           2023
          ],
          [
           "Malawi",
           2006
          ],
          [
           "Malawi",
           2007
          ],
          [
           "Malawi",
           2009
          ],
          [
           "Malawi",
           2011
          ],
          [
           "Malawi",
           2012
          ],
          [
           "Malawi",
           2013
          ],
          [
           "Malawi",
           2014
          ],
          [
           "Malawi",
           2015
          ],
          [
           "Malawi",
           2016
          ],
          [
           "Malawi",
           2017
          ],
          [
           "Malawi",
           2018
          ],
          [
           "Malawi",
           2019
          ],
          [
           "Malawi",
           2021
          ],
          [
           "Malawi",
           2022
          ],
          [
           "Malawi",
           2023
          ],
          [
           "Malaysia",
           2006
          ],
          [
           "Malaysia",
           2007
          ],
          [
           "Malaysia",
           2008
          ],
          [
           "Malaysia",
           2009
          ],
          [
           "Malaysia",
           2010
          ],
          [
           "Malaysia",
           2011
          ],
          [
           "Malaysia",
           2012
          ],
          [
           "Malaysia",
           2013
          ],
          [
           "Malaysia",
           2014
          ],
          [
           "Malaysia",
           2015
          ],
          [
           "Malaysia",
           2018
          ],
          [
           "Malaysia",
           2019
          ],
          [
           "Malaysia",
           2020
          ],
          [
           "Malaysia",
           2021
          ],
          [
           "Malaysia",
           2022
          ],
          [
           "Malaysia",
           2023
          ],
          [
           "Maldives",
           2018
          ],
          [
           "Mali",
           2006
          ],
          [
           "Mali",
           2008
          ],
          [
           "Mali",
           2009
          ],
          [
           "Mali",
           2010
          ],
          [
           "Mali",
           2011
          ],
          [
           "Mali",
           2012
          ],
          [
           "Mali",
           2013
          ],
          [
           "Mali",
           2014
          ],
          [
           "Mali",
           2015
          ],
          [
           "Mali",
           2016
          ],
          [
           "Mali",
           2017
          ],
          [
           "Mali",
           2018
          ],
          [
           "Mali",
           2019
          ],
          [
           "Mali",
           2020
          ],
          [
           "Mali",
           2021
          ],
          [
           "Mali",
           2022
          ],
          [
           "Mali",
           2023
          ],
          [
           "Malta",
           2009
          ],
          [
           "Malta",
           2010
          ],
          [
           "Malta",
           2011
          ],
          [
           "Malta",
           2012
          ],
          [
           "Malta",
           2013
          ],
          [
           "Malta",
           2014
          ],
          [
           "Malta",
           2015
          ],
          [
           "Malta",
           2016
          ],
          [
           "Malta",
           2017
          ],
          [
           "Malta",
           2018
          ],
          [
           "Malta",
           2019
          ],
          [
           "Malta",
           2020
          ],
          [
           "Malta",
           2021
          ],
          [
           "Malta",
           2022
          ],
          [
           "Malta",
           2023
          ],
          [
           "Mauritania",
           2007
          ],
          [
           "Mauritania",
           2008
          ],
          [
           "Mauritania",
           2009
          ],
          [
           "Mauritania",
           2010
          ],
          [
           "Mauritania",
           2011
          ],
          [
           "Mauritania",
           2012
          ],
          [
           "Mauritania",
           2013
          ],
          [
           "Mauritania",
           2014
          ],
          [
           "Mauritania",
           2015
          ],
          [
           "Mauritania",
           2016
          ],
          [
           "Mauritania",
           2017
          ],
          [
           "Mauritania",
           2018
          ],
          [
           "Mauritania",
           2019
          ],
          [
           "Mauritania",
           2022
          ],
          [
           "Mauritania",
           2023
          ],
          [
           "Mauritius",
           2011
          ],
          [
           "Mauritius",
           2014
          ],
          [
           "Mauritius",
           2016
          ],
          [
           "Mauritius",
           2017
          ],
          [
           "Mauritius",
           2018
          ],
          [
           "Mauritius",
           2019
          ],
          [
           "Mauritius",
           2020
          ],
          [
           "Mauritius",
           2021
          ],
          [
           "Mauritius",
           2022
          ],
          [
           "Mauritius",
           2023
          ],
          [
           "Mexico",
           2005
          ],
          [
           "Mexico",
           2007
          ],
          [
           "Mexico",
           2008
          ],
          [
           "Mexico",
           2009
          ],
          [
           "Mexico",
           2010
          ],
          [
           "Mexico",
           2011
          ],
          [
           "Mexico",
           2012
          ],
          [
           "Mexico",
           2013
          ],
          [
           "Mexico",
           2014
          ],
          [
           "Mexico",
           2015
          ],
          [
           "Mexico",
           2016
          ],
          [
           "Mexico",
           2017
          ],
          [
           "Mexico",
           2018
          ],
          [
           "Mexico",
           2019
          ],
          [
           "Mexico",
           2020
          ],
          [
           "Mexico",
           2021
          ],
          [
           "Mexico",
           2022
          ],
          [
           "Mexico",
           2023
          ],
          [
           "Moldova",
           2006
          ],
          [
           "Moldova",
           2007
          ],
          [
           "Moldova",
           2008
          ],
          [
           "Moldova",
           2009
          ],
          [
           "Moldova",
           2010
          ],
          [
           "Moldova",
           2011
          ],
          [
           "Moldova",
           2012
          ],
          [
           "Moldova",
           2013
          ],
          [
           "Moldova",
           2014
          ],
          [
           "Moldova",
           2015
          ],
          [
           "Moldova",
           2016
          ],
          [
           "Moldova",
           2017
          ],
          [
           "Moldova",
           2018
          ],
          [
           "Moldova",
           2019
          ],
          [
           "Moldova",
           2020
          ],
          [
           "Moldova",
           2021
          ],
          [
           "Moldova",
           2022
          ],
          [
           "Moldova",
           2023
          ],
          [
           "Mongolia",
           2007
          ],
          [
           "Mongolia",
           2008
          ],
          [
           "Mongolia",
           2010
          ],
          [
           "Mongolia",
           2011
          ],
          [
           "Mongolia",
           2012
          ],
          [
           "Mongolia",
           2013
          ],
          [
           "Mongolia",
           2014
          ],
          [
           "Mongolia",
           2015
          ],
          [
           "Mongolia",
           2016
          ],
          [
           "Mongolia",
           2017
          ],
          [
           "Mongolia",
           2018
          ],
          [
           "Mongolia",
           2019
          ],
          [
           "Mongolia",
           2020
          ],
          [
           "Mongolia",
           2021
          ],
          [
           "Mongolia",
           2022
          ],
          [
           "Mongolia",
           2023
          ],
          [
           "Montenegro",
           2007
          ],
          [
           "Montenegro",
           2009
          ],
          [
           "Montenegro",
           2010
          ],
          [
           "Montenegro",
           2011
          ],
          [
           "Montenegro",
           2012
          ],
          [
           "Montenegro",
           2013
          ],
          [
           "Montenegro",
           2014
          ],
          [
           "Montenegro",
           2015
          ],
          [
           "Montenegro",
           2016
          ],
          [
           "Montenegro",
           2017
          ],
          [
           "Montenegro",
           2018
          ],
          [
           "Montenegro",
           2019
          ],
          [
           "Montenegro",
           2020
          ],
          [
           "Montenegro",
           2022
          ],
          [
           "Montenegro",
           2023
          ],
          [
           "Morocco",
           2010
          ],
          [
           "Morocco",
           2011
          ],
          [
           "Morocco",
           2012
          ],
          [
           "Morocco",
           2013
          ],
          [
           "Morocco",
           2015
          ],
          [
           "Morocco",
           2016
          ],
          [
           "Morocco",
           2017
          ],
          [
           "Morocco",
           2018
          ],
          [
           "Morocco",
           2019
          ],
          [
           "Morocco",
           2020
          ],
          [
           "Morocco",
           2021
          ],
          [
           "Morocco",
           2022
          ],
          [
           "Morocco",
           2023
          ],
          [
           "Mozambique",
           2006
          ],
          [
           "Mozambique",
           2007
          ],
          [
           "Mozambique",
           2008
          ],
          [
           "Mozambique",
           2011
          ],
          [
           "Mozambique",
           2015
          ],
          [
           "Mozambique",
           2017
          ],
          [
           "Mozambique",
           2018
          ],
          [
           "Mozambique",
           2019
          ],
          [
           "Mozambique",
           2021
          ],
          [
           "Mozambique",
           2022
          ],
          [
           "Mozambique",
           2023
          ],
          [
           "Myanmar",
           2012
          ],
          [
           "Myanmar",
           2013
          ],
          [
           "Myanmar",
           2014
          ],
          [
           "Myanmar",
           2015
          ],
          [
           "Myanmar",
           2016
          ],
          [
           "Myanmar",
           2017
          ],
          [
           "Myanmar",
           2018
          ],
          [
           "Myanmar",
           2019
          ],
          [
           "Myanmar",
           2020
          ],
          [
           "Myanmar",
           2021
          ],
          [
           "Myanmar",
           2022
          ],
          [
           "Myanmar",
           2023
          ],
          [
           "Namibia",
           2007
          ],
          [
           "Namibia",
           2014
          ],
          [
           "Namibia",
           2017
          ],
          [
           "Namibia",
           2018
          ],
          [
           "Namibia",
           2019
          ],
          [
           "Namibia",
           2020
          ],
          [
           "Namibia",
           2021
          ],
          [
           "Namibia",
           2022
          ],
          [
           "Namibia",
           2023
          ],
          [
           "Nepal",
           2006
          ],
          [
           "Nepal",
           2007
          ],
          [
           "Nepal",
           2008
          ],
          [
           "Nepal",
           2009
          ],
          [
           "Nepal",
           2010
          ],
          [
           "Nepal",
           2011
          ],
          [
           "Nepal",
           2012
          ],
          [
           "Nepal",
           2013
          ],
          [
           "Nepal",
           2014
          ],
          [
           "Nepal",
           2015
          ],
          [
           "Nepal",
           2016
          ],
          [
           "Nepal",
           2017
          ],
          [
           "Nepal",
           2018
          ],
          [
           "Nepal",
           2019
          ],
          [
           "Nepal",
           2020
          ],
          [
           "Nepal",
           2021
          ],
          [
           "Nepal",
           2022
          ],
          [
           "Nepal",
           2023
          ],
          [
           "Netherlands",
           2005
          ],
          [
           "Netherlands",
           2007
          ],
          [
           "Netherlands",
           2008
          ],
          [
           "Netherlands",
           2010
          ],
          [
           "Netherlands",
           2011
          ],
          [
           "Netherlands",
           2012
          ],
          [
           "Netherlands",
           2013
          ],
          [
           "Netherlands",
           2014
          ],
          [
           "Netherlands",
           2015
          ],
          [
           "Netherlands",
           2016
          ],
          [
           "Netherlands",
           2017
          ],
          [
           "Netherlands",
           2018
          ],
          [
           "Netherlands",
           2019
          ],
          [
           "Netherlands",
           2020
          ],
          [
           "Netherlands",
           2021
          ],
          [
           "Netherlands",
           2022
          ],
          [
           "Netherlands",
           2023
          ],
          [
           "New Zealand",
           2006
          ],
          [
           "New Zealand",
           2007
          ],
          [
           "New Zealand",
           2008
          ],
          [
           "New Zealand",
           2010
          ],
          [
           "New Zealand",
           2011
          ],
          [
           "New Zealand",
           2012
          ],
          [
           "New Zealand",
           2013
          ],
          [
           "New Zealand",
           2014
          ],
          [
           "New Zealand",
           2015
          ],
          [
           "New Zealand",
           2016
          ],
          [
           "New Zealand",
           2017
          ],
          [
           "New Zealand",
           2018
          ],
          [
           "New Zealand",
           2019
          ],
          [
           "New Zealand",
           2020
          ],
          [
           "New Zealand",
           2021
          ],
          [
           "New Zealand",
           2022
          ],
          [
           "New Zealand",
           2023
          ],
          [
           "Nicaragua",
           2006
          ],
          [
           "Nicaragua",
           2007
          ],
          [
           "Nicaragua",
           2008
          ],
          [
           "Nicaragua",
           2009
          ],
          [
           "Nicaragua",
           2010
          ],
          [
           "Nicaragua",
           2011
          ],
          [
           "Nicaragua",
           2012
          ],
          [
           "Nicaragua",
           2013
          ],
          [
           "Nicaragua",
           2014
          ],
          [
           "Nicaragua",
           2015
          ],
          [
           "Nicaragua",
           2016
          ],
          [
           "Nicaragua",
           2017
          ],
          [
           "Nicaragua",
           2018
          ],
          [
           "Nicaragua",
           2019
          ],
          [
           "Nicaragua",
           2020
          ],
          [
           "Nicaragua",
           2021
          ],
          [
           "Nicaragua",
           2022
          ],
          [
           "Nicaragua",
           2023
          ],
          [
           "Niger",
           2006
          ],
          [
           "Niger",
           2007
          ],
          [
           "Niger",
           2008
          ],
          [
           "Niger",
           2009
          ],
          [
           "Niger",
           2010
          ],
          [
           "Niger",
           2011
          ],
          [
           "Niger",
           2012
          ],
          [
           "Niger",
           2013
          ],
          [
           "Niger",
           2014
          ],
          [
           "Niger",
           2015
          ],
          [
           "Niger",
           2016
          ],
          [
           "Niger",
           2017
          ],
          [
           "Niger",
           2018
          ],
          [
           "Niger",
           2019
          ],
          [
           "Niger",
           2022
          ],
          [
           "Niger",
           2023
          ],
          [
           "Nigeria",
           2006
          ],
          [
           "Nigeria",
           2007
          ],
          [
           "Nigeria",
           2008
          ],
          [
           "Nigeria",
           2009
          ],
          [
           "Nigeria",
           2010
          ],
          [
           "Nigeria",
           2012
          ],
          [
           "Nigeria",
           2013
          ],
          [
           "Nigeria",
           2015
          ],
          [
           "Nigeria",
           2016
          ],
          [
           "Nigeria",
           2017
          ],
          [
           "Nigeria",
           2018
          ],
          [
           "Nigeria",
           2019
          ],
          [
           "Nigeria",
           2020
          ],
          [
           "Nigeria",
           2021
          ],
          [
           "Nigeria",
           2022
          ],
          [
           "Nigeria",
           2023
          ],
          [
           "North Macedonia",
           2007
          ],
          [
           "North Macedonia",
           2009
          ],
          [
           "North Macedonia",
           2010
          ],
          [
           "North Macedonia",
           2011
          ],
          [
           "North Macedonia",
           2012
          ],
          [
           "North Macedonia",
           2013
          ],
          [
           "North Macedonia",
           2014
          ],
          [
           "North Macedonia",
           2015
          ],
          [
           "North Macedonia",
           2016
          ],
          [
           "North Macedonia",
           2017
          ],
          [
           "North Macedonia",
           2018
          ],
          [
           "North Macedonia",
           2019
          ],
          [
           "North Macedonia",
           2020
          ],
          [
           "North Macedonia",
           2021
          ],
          [
           "North Macedonia",
           2022
          ],
          [
           "North Macedonia",
           2023
          ],
          [
           "Norway",
           2006
          ],
          [
           "Norway",
           2008
          ],
          [
           "Norway",
           2012
          ],
          [
           "Norway",
           2014
          ],
          [
           "Norway",
           2015
          ],
          [
           "Norway",
           2016
          ],
          [
           "Norway",
           2017
          ],
          [
           "Norway",
           2018
          ],
          [
           "Norway",
           2019
          ],
          [
           "Norway",
           2020
          ],
          [
           "Norway",
           2021
          ],
          [
           "Norway",
           2022
          ],
          [
           "Norway",
           2023
          ],
          [
           "Oman",
           2011
          ],
          [
           "Pakistan",
           2005
          ],
          [
           "Pakistan",
           2007
          ],
          [
           "Pakistan",
           2008
          ],
          [
           "Pakistan",
           2009
          ],
          [
           "Pakistan",
           2010
          ],
          [
           "Pakistan",
           2011
          ],
          [
           "Pakistan",
           2012
          ],
          [
           "Pakistan",
           2013
          ],
          [
           "Pakistan",
           2014
          ],
          [
           "Pakistan",
           2015
          ],
          [
           "Pakistan",
           2016
          ],
          [
           "Pakistan",
           2017
          ],
          [
           "Pakistan",
           2018
          ],
          [
           "Pakistan",
           2019
          ],
          [
           "Pakistan",
           2020
          ],
          [
           "Pakistan",
           2021
          ],
          [
           "Pakistan",
           2022
          ],
          [
           "Pakistan",
           2023
          ],
          [
           "Panama",
           2006
          ],
          [
           "Panama",
           2007
          ],
          [
           "Panama",
           2008
          ],
          [
           "Panama",
           2009
          ],
          [
           "Panama",
           2010
          ],
          [
           "Panama",
           2011
          ],
          [
           "Panama",
           2012
          ],
          [
           "Panama",
           2013
          ],
          [
           "Panama",
           2014
          ],
          [
           "Panama",
           2015
          ],
          [
           "Panama",
           2016
          ],
          [
           "Panama",
           2017
          ],
          [
           "Panama",
           2018
          ],
          [
           "Panama",
           2019
          ],
          [
           "Panama",
           2021
          ],
          [
           "Panama",
           2022
          ],
          [
           "Panama",
           2023
          ],
          [
           "Paraguay",
           2006
          ],
          [
           "Paraguay",
           2007
          ],
          [
           "Paraguay",
           2008
          ],
          [
           "Paraguay",
           2009
          ],
          [
           "Paraguay",
           2010
          ],
          [
           "Paraguay",
           2011
          ],
          [
           "Paraguay",
           2012
          ],
          [
           "Paraguay",
           2013
          ],
          [
           "Paraguay",
           2014
          ],
          [
           "Paraguay",
           2015
          ],
          [
           "Paraguay",
           2016
          ],
          [
           "Paraguay",
           2017
          ],
          [
           "Paraguay",
           2019
          ],
          [
           "Paraguay",
           2020
          ],
          [
           "Paraguay",
           2021
          ],
          [
           "Paraguay",
           2022
          ],
          [
           "Paraguay",
           2023
          ],
          [
           "Peru",
           2006
          ],
          [
           "Peru",
           2007
          ],
          [
           "Peru",
           2008
          ],
          [
           "Peru",
           2009
          ],
          [
           "Peru",
           2010
          ],
          [
           "Peru",
           2011
          ],
          [
           "Peru",
           2012
          ],
          [
           "Peru",
           2013
          ],
          [
           "Peru",
           2014
          ],
          [
           "Peru",
           2015
          ],
          [
           "Peru",
           2016
          ],
          [
           "Peru",
           2017
          ],
          [
           "Peru",
           2018
          ],
          [
           "Peru",
           2019
          ],
          [
           "Peru",
           2020
          ],
          [
           "Peru",
           2021
          ],
          [
           "Peru",
           2022
          ],
          [
           "Peru",
           2023
          ],
          [
           "Philippines",
           2006
          ],
          [
           "Philippines",
           2007
          ],
          [
           "Philippines",
           2008
          ],
          [
           "Philippines",
           2009
          ],
          [
           "Philippines",
           2010
          ],
          [
           "Philippines",
           2011
          ],
          [
           "Philippines",
           2012
          ],
          [
           "Philippines",
           2013
          ],
          [
           "Philippines",
           2014
          ],
          [
           "Philippines",
           2015
          ],
          [
           "Philippines",
           2016
          ],
          [
           "Philippines",
           2017
          ],
          [
           "Philippines",
           2018
          ],
          [
           "Philippines",
           2019
          ],
          [
           "Philippines",
           2020
          ],
          [
           "Philippines",
           2021
          ],
          [
           "Philippines",
           2022
          ],
          [
           "Philippines",
           2023
          ],
          [
           "Poland",
           2005
          ],
          [
           "Poland",
           2007
          ],
          [
           "Poland",
           2009
          ],
          [
           "Poland",
           2010
          ],
          [
           "Poland",
           2011
          ],
          [
           "Poland",
           2012
          ],
          [
           "Poland",
           2013
          ],
          [
           "Poland",
           2014
          ],
          [
           "Poland",
           2015
          ],
          [
           "Poland",
           2016
          ],
          [
           "Poland",
           2017
          ],
          [
           "Poland",
           2018
          ],
          [
           "Poland",
           2019
          ],
          [
           "Poland",
           2020
          ],
          [
           "Poland",
           2021
          ],
          [
           "Poland",
           2022
          ],
          [
           "Poland",
           2023
          ],
          [
           "Portugal",
           2006
          ],
          [
           "Portugal",
           2008
          ],
          [
           "Portugal",
           2010
          ],
          [
           "Portugal",
           2011
          ],
          [
           "Portugal",
           2012
          ],
          [
           "Portugal",
           2013
          ],
          [
           "Portugal",
           2014
          ],
          [
           "Portugal",
           2015
          ],
          [
           "Portugal",
           2016
          ],
          [
           "Portugal",
           2017
          ],
          [
           "Portugal",
           2018
          ],
          [
           "Portugal",
           2019
          ],
          [
           "Portugal",
           2020
          ],
          [
           "Portugal",
           2021
          ],
          [
           "Portugal",
           2022
          ],
          [
           "Portugal",
           2023
          ],
          [
           "Qatar",
           2009
          ],
          [
           "Qatar",
           2010
          ],
          [
           "Qatar",
           2011
          ],
          [
           "Qatar",
           2012
          ],
          [
           "Qatar",
           2015
          ],
          [
           "Romania",
           2005
          ],
          [
           "Romania",
           2007
          ],
          [
           "Romania",
           2009
          ],
          [
           "Romania",
           2010
          ],
          [
           "Romania",
           2011
          ],
          [
           "Romania",
           2012
          ],
          [
           "Romania",
           2013
          ],
          [
           "Romania",
           2014
          ],
          [
           "Romania",
           2015
          ],
          [
           "Romania",
           2016
          ],
          [
           "Romania",
           2017
          ],
          [
           "Romania",
           2018
          ],
          [
           "Romania",
           2019
          ],
          [
           "Romania",
           2020
          ],
          [
           "Romania",
           2021
          ],
          [
           "Romania",
           2022
          ],
          [
           "Romania",
           2023
          ],
          [
           "Russia",
           2006
          ],
          [
           "Russia",
           2007
          ],
          [
           "Russia",
           2008
          ],
          [
           "Russia",
           2009
          ],
          [
           "Russia",
           2010
          ],
          [
           "Russia",
           2011
          ],
          [
           "Russia",
           2012
          ],
          [
           "Russia",
           2013
          ],
          [
           "Russia",
           2014
          ],
          [
           "Russia",
           2015
          ],
          [
           "Russia",
           2016
          ],
          [
           "Russia",
           2017
          ],
          [
           "Russia",
           2018
          ],
          [
           "Russia",
           2019
          ],
          [
           "Russia",
           2020
          ],
          [
           "Russia",
           2021
          ],
          [
           "Russia",
           2022
          ],
          [
           "Russia",
           2023
          ],
          [
           "Rwanda",
           2006
          ],
          [
           "Rwanda",
           2008
          ],
          [
           "Rwanda",
           2009
          ],
          [
           "Rwanda",
           2011
          ],
          [
           "Rwanda",
           2012
          ],
          [
           "Rwanda",
           2013
          ],
          [
           "Rwanda",
           2014
          ],
          [
           "Rwanda",
           2015
          ],
          [
           "Rwanda",
           2016
          ],
          [
           "Rwanda",
           2017
          ],
          [
           "Rwanda",
           2018
          ],
          [
           "Rwanda",
           2019
          ],
          [
           "Saudi Arabia",
           2005
          ],
          [
           "Saudi Arabia",
           2007
          ],
          [
           "Saudi Arabia",
           2008
          ],
          [
           "Saudi Arabia",
           2009
          ],
          [
           "Saudi Arabia",
           2010
          ],
          [
           "Saudi Arabia",
           2011
          ],
          [
           "Saudi Arabia",
           2012
          ],
          [
           "Saudi Arabia",
           2013
          ],
          [
           "Saudi Arabia",
           2014
          ],
          [
           "Saudi Arabia",
           2015
          ],
          [
           "Saudi Arabia",
           2016
          ],
          [
           "Saudi Arabia",
           2017
          ],
          [
           "Saudi Arabia",
           2018
          ],
          [
           "Saudi Arabia",
           2019
          ],
          [
           "Saudi Arabia",
           2020
          ],
          [
           "Saudi Arabia",
           2021
          ],
          [
           "Saudi Arabia",
           2022
          ],
          [
           "Saudi Arabia",
           2023
          ],
          [
           "Senegal",
           2006
          ],
          [
           "Senegal",
           2007
          ],
          [
           "Senegal",
           2008
          ],
          [
           "Senegal",
           2009
          ],
          [
           "Senegal",
           2010
          ],
          [
           "Senegal",
           2011
          ],
          [
           "Senegal",
           2012
          ],
          [
           "Senegal",
           2013
          ],
          [
           "Senegal",
           2014
          ],
          [
           "Senegal",
           2015
          ],
          [
           "Senegal",
           2016
          ],
          [
           "Senegal",
           2017
          ],
          [
           "Senegal",
           2018
          ],
          [
           "Senegal",
           2019
          ],
          [
           "Senegal",
           2020
          ],
          [
           "Senegal",
           2021
          ],
          [
           "Senegal",
           2022
          ],
          [
           "Senegal",
           2023
          ],
          [
           "Serbia",
           2007
          ],
          [
           "Serbia",
           2009
          ],
          [
           "Serbia",
           2010
          ],
          [
           "Serbia",
           2011
          ],
          [
           "Serbia",
           2012
          ],
          [
           "Serbia",
           2013
          ],
          [
           "Serbia",
           2014
          ],
          [
           "Serbia",
           2015
          ],
          [
           "Serbia",
           2016
          ],
          [
           "Serbia",
           2017
          ],
          [
           "Serbia",
           2018
          ],
          [
           "Serbia",
           2019
          ],
          [
           "Serbia",
           2020
          ],
          [
           "Serbia",
           2021
          ],
          [
           "Serbia",
           2022
          ],
          [
           "Serbia",
           2023
          ],
          [
           "Sierra Leone",
           2006
          ],
          [
           "Sierra Leone",
           2007
          ],
          [
           "Sierra Leone",
           2008
          ],
          [
           "Sierra Leone",
           2010
          ],
          [
           "Sierra Leone",
           2011
          ],
          [
           "Sierra Leone",
           2013
          ],
          [
           "Sierra Leone",
           2014
          ],
          [
           "Sierra Leone",
           2015
          ],
          [
           "Sierra Leone",
           2016
          ],
          [
           "Sierra Leone",
           2017
          ],
          [
           "Sierra Leone",
           2018
          ],
          [
           "Sierra Leone",
           2019
          ],
          [
           "Sierra Leone",
           2021
          ],
          [
           "Sierra Leone",
           2022
          ],
          [
           "Sierra Leone",
           2023
          ],
          [
           "Singapore",
           2006
          ],
          [
           "Singapore",
           2007
          ],
          [
           "Singapore",
           2008
          ],
          [
           "Singapore",
           2009
          ],
          [
           "Singapore",
           2010
          ],
          [
           "Singapore",
           2011
          ],
          [
           "Singapore",
           2013
          ],
          [
           "Singapore",
           2014
          ],
          [
           "Singapore",
           2015
          ],
          [
           "Singapore",
           2016
          ],
          [
           "Singapore",
           2017
          ],
          [
           "Singapore",
           2018
          ],
          [
           "Singapore",
           2019
          ],
          [
           "Singapore",
           2021
          ],
          [
           "Singapore",
           2022
          ],
          [
           "Singapore",
           2023
          ],
          [
           "Slovakia",
           2006
          ],
          [
           "Slovakia",
           2010
          ],
          [
           "Slovakia",
           2011
          ],
          [
           "Slovakia",
           2012
          ],
          [
           "Slovakia",
           2013
          ],
          [
           "Slovakia",
           2014
          ],
          [
           "Slovakia",
           2015
          ],
          [
           "Slovakia",
           2016
          ],
          [
           "Slovakia",
           2017
          ],
          [
           "Slovakia",
           2018
          ],
          [
           "Slovakia",
           2019
          ],
          [
           "Slovakia",
           2020
          ],
          [
           "Slovakia",
           2021
          ],
          [
           "Slovakia",
           2022
          ],
          [
           "Slovakia",
           2023
          ],
          [
           "Slovenia",
           2006
          ],
          [
           "Slovenia",
           2009
          ],
          [
           "Slovenia",
           2010
          ],
          [
           "Slovenia",
           2011
          ],
          [
           "Slovenia",
           2012
          ],
          [
           "Slovenia",
           2013
          ],
          [
           "Slovenia",
           2014
          ],
          [
           "Slovenia",
           2015
          ],
          [
           "Slovenia",
           2016
          ],
          [
           "Slovenia",
           2017
          ],
          [
           "Slovenia",
           2018
          ],
          [
           "Slovenia",
           2019
          ],
          [
           "Slovenia",
           2020
          ],
          [
           "Slovenia",
           2021
          ],
          [
           "Slovenia",
           2022
          ],
          [
           "Slovenia",
           2023
          ],
          [
           "Somalia",
           2014
          ],
          [
           "Somalia",
           2015
          ],
          [
           "Somalia",
           2016
          ],
          [
           "Somaliland region",
           2009
          ],
          [
           "Somaliland region",
           2010
          ],
          [
           "Somaliland region",
           2011
          ],
          [
           "Somaliland region",
           2012
          ],
          [
           "South Africa",
           2006
          ],
          [
           "South Africa",
           2007
          ],
          [
           "South Africa",
           2008
          ],
          [
           "South Africa",
           2009
          ],
          [
           "South Africa",
           2010
          ],
          [
           "South Africa",
           2011
          ],
          [
           "South Africa",
           2012
          ],
          [
           "South Africa",
           2013
          ],
          [
           "South Africa",
           2014
          ],
          [
           "South Africa",
           2015
          ],
          [
           "South Africa",
           2016
          ],
          [
           "South Africa",
           2017
          ],
          [
           "South Africa",
           2018
          ],
          [
           "South Africa",
           2019
          ],
          [
           "South Africa",
           2020
          ],
          [
           "South Africa",
           2021
          ],
          [
           "South Africa",
           2022
          ],
          [
           "South Africa",
           2023
          ],
          [
           "South Korea",
           2006
          ],
          [
           "South Korea",
           2007
          ],
          [
           "South Korea",
           2008
          ],
          [
           "South Korea",
           2009
          ],
          [
           "South Korea",
           2010
          ],
          [
           "South Korea",
           2011
          ],
          [
           "South Korea",
           2012
          ],
          [
           "South Korea",
           2013
          ],
          [
           "South Korea",
           2014
          ],
          [
           "South Korea",
           2015
          ],
          [
           "South Korea",
           2016
          ],
          [
           "South Korea",
           2017
          ],
          [
           "South Korea",
           2018
          ],
          [
           "South Korea",
           2019
          ],
          [
           "South Korea",
           2020
          ],
          [
           "South Korea",
           2021
          ],
          [
           "South Korea",
           2022
          ],
          [
           "South Korea",
           2023
          ],
          [
           "South Sudan",
           2014
          ],
          [
           "South Sudan",
           2015
          ],
          [
           "South Sudan",
           2016
          ],
          [
           "South Sudan",
           2017
          ],
          [
           "Spain",
           2005
          ],
          [
           "Spain",
           2007
          ],
          [
           "Spain",
           2008
          ],
          [
           "Spain",
           2009
          ],
          [
           "Spain",
           2010
          ],
          [
           "Spain",
           2011
          ],
          [
           "Spain",
           2012
          ],
          [
           "Spain",
           2013
          ],
          [
           "Spain",
           2014
          ],
          [
           "Spain",
           2015
          ],
          [
           "Spain",
           2016
          ],
          [
           "Spain",
           2017
          ],
          [
           "Spain",
           2018
          ],
          [
           "Spain",
           2019
          ],
          [
           "Spain",
           2020
          ],
          [
           "Spain",
           2021
          ],
          [
           "Spain",
           2022
          ],
          [
           "Spain",
           2023
          ],
          [
           "Sri Lanka",
           2006
          ],
          [
           "Sri Lanka",
           2007
          ],
          [
           "Sri Lanka",
           2008
          ],
          [
           "Sri Lanka",
           2009
          ],
          [
           "Sri Lanka",
           2010
          ],
          [
           "Sri Lanka",
           2011
          ],
          [
           "Sri Lanka",
           2012
          ],
          [
           "Sri Lanka",
           2013
          ],
          [
           "Sri Lanka",
           2014
          ],
          [
           "Sri Lanka",
           2015
          ],
          [
           "Sri Lanka",
           2017
          ],
          [
           "Sri Lanka",
           2018
          ],
          [
           "Sri Lanka",
           2019
          ],
          [
           "Sri Lanka",
           2020
          ],
          [
           "Sri Lanka",
           2021
          ],
          [
           "Sri Lanka",
           2022
          ],
          [
           "Sri Lanka",
           2023
          ],
          [
           "State of Palestine",
           2006
          ],
          [
           "State of Palestine",
           2007
          ],
          [
           "State of Palestine",
           2008
          ],
          [
           "State of Palestine",
           2009
          ],
          [
           "State of Palestine",
           2010
          ],
          [
           "State of Palestine",
           2011
          ],
          [
           "State of Palestine",
           2012
          ],
          [
           "State of Palestine",
           2013
          ],
          [
           "State of Palestine",
           2014
          ],
          [
           "State of Palestine",
           2015
          ],
          [
           "State of Palestine",
           2016
          ],
          [
           "State of Palestine",
           2017
          ],
          [
           "State of Palestine",
           2018
          ],
          [
           "State of Palestine",
           2019
          ],
          [
           "State of Palestine",
           2022
          ],
          [
           "State of Palestine",
           2023
          ],
          [
           "Sudan",
           2009
          ],
          [
           "Sudan",
           2010
          ],
          [
           "Sudan",
           2011
          ],
          [
           "Sudan",
           2012
          ],
          [
           "Sudan",
           2014
          ],
          [
           "Suriname",
           2012
          ],
          [
           "Sweden",
           2005
          ],
          [
           "Sweden",
           2007
          ],
          [
           "Sweden",
           2008
          ],
          [
           "Sweden",
           2009
          ],
          [
           "Sweden",
           2010
          ],
          [
           "Sweden",
           2011
          ],
          [
           "Sweden",
           2012
          ],
          [
           "Sweden",
           2013
          ],
          [
           "Sweden",
           2014
          ],
          [
           "Sweden",
           2015
          ],
          [
           "Sweden",
           2016
          ],
          [
           "Sweden",
           2017
          ],
          [
           "Sweden",
           2018
          ],
          [
           "Sweden",
           2019
          ],
          [
           "Sweden",
           2020
          ],
          [
           "Sweden",
           2021
          ],
          [
           "Sweden",
           2022
          ],
          [
           "Sweden",
           2023
          ],
          [
           "Switzerland",
           2006
          ],
          [
           "Switzerland",
           2009
          ],
          [
           "Switzerland",
           2012
          ],
          [
           "Switzerland",
           2014
          ],
          [
           "Switzerland",
           2015
          ],
          [
           "Switzerland",
           2016
          ],
          [
           "Switzerland",
           2017
          ],
          [
           "Switzerland",
           2018
          ],
          [
           "Switzerland",
           2019
          ],
          [
           "Switzerland",
           2020
          ],
          [
           "Switzerland",
           2021
          ],
          [
           "Switzerland",
           2022
          ],
          [
           "Switzerland",
           2023
          ],
          [
           "Syria",
           2008
          ],
          [
           "Syria",
           2009
          ],
          [
           "Syria",
           2010
          ],
          [
           "Syria",
           2011
          ],
          [
           "Syria",
           2012
          ],
          [
           "Syria",
           2013
          ],
          [
           "Syria",
           2015
          ],
          [
           "Taiwan Province of China",
           2006
          ],
          [
           "Taiwan Province of China",
           2008
          ],
          [
           "Taiwan Province of China",
           2010
          ],
          [
           "Taiwan Province of China",
           2011
          ],
          [
           "Taiwan Province of China",
           2012
          ],
          [
           "Taiwan Province of China",
           2013
          ],
          [
           "Taiwan Province of China",
           2014
          ],
          [
           "Taiwan Province of China",
           2015
          ],
          [
           "Taiwan Province of China",
           2016
          ],
          [
           "Taiwan Province of China",
           2017
          ],
          [
           "Taiwan Province of China",
           2018
          ],
          [
           "Taiwan Province of China",
           2019
          ],
          [
           "Taiwan Province of China",
           2020
          ],
          [
           "Taiwan Province of China",
           2021
          ],
          [
           "Taiwan Province of China",
           2022
          ],
          [
           "Taiwan Province of China",
           2023
          ],
          [
           "Tajikistan",
           2006
          ],
          [
           "Tajikistan",
           2007
          ],
          [
           "Tajikistan",
           2008
          ],
          [
           "Tajikistan",
           2009
          ],
          [
           "Tajikistan",
           2010
          ],
          [
           "Tajikistan",
           2011
          ],
          [
           "Tajikistan",
           2012
          ],
          [
           "Tajikistan",
           2013
          ],
          [
           "Tajikistan",
           2014
          ],
          [
           "Tajikistan",
           2015
          ],
          [
           "Tajikistan",
           2016
          ],
          [
           "Tajikistan",
           2017
          ],
          [
           "Tajikistan",
           2018
          ],
          [
           "Tajikistan",
           2019
          ],
          [
           "Tajikistan",
           2020
          ],
          [
           "Tajikistan",
           2021
          ],
          [
           "Tajikistan",
           2022
          ],
          [
           "Tajikistan",
           2023
          ],
          [
           "Tanzania",
           2006
          ],
          [
           "Tanzania",
           2007
          ],
          [
           "Tanzania",
           2008
          ],
          [
           "Tanzania",
           2009
          ],
          [
           "Tanzania",
           2010
          ],
          [
           "Tanzania",
           2011
          ],
          [
           "Tanzania",
           2012
          ],
          [
           "Tanzania",
           2013
          ],
          [
           "Tanzania",
           2014
          ],
          [
           "Tanzania",
           2015
          ],
          [
           "Tanzania",
           2016
          ],
          [
           "Tanzania",
           2017
          ],
          [
           "Tanzania",
           2018
          ],
          [
           "Tanzania",
           2019
          ],
          [
           "Tanzania",
           2020
          ],
          [
           "Tanzania",
           2021
          ],
          [
           "Tanzania",
           2022
          ],
          [
           "Tanzania",
           2023
          ],
          [
           "Thailand",
           2006
          ],
          [
           "Thailand",
           2007
          ],
          [
           "Thailand",
           2008
          ],
          [
           "Thailand",
           2009
          ],
          [
           "Thailand",
           2010
          ],
          [
           "Thailand",
           2011
          ],
          [
           "Thailand",
           2012
          ],
          [
           "Thailand",
           2013
          ],
          [
           "Thailand",
           2014
          ],
          [
           "Thailand",
           2015
          ],
          [
           "Thailand",
           2016
          ],
          [
           "Thailand",
           2017
          ],
          [
           "Thailand",
           2018
          ],
          [
           "Thailand",
           2019
          ],
          [
           "Thailand",
           2020
          ],
          [
           "Thailand",
           2021
          ],
          [
           "Thailand",
           2022
          ],
          [
           "Thailand",
           2023
          ],
          [
           "Togo",
           2006
          ],
          [
           "Togo",
           2008
          ],
          [
           "Togo",
           2011
          ],
          [
           "Togo",
           2014
          ],
          [
           "Togo",
           2015
          ],
          [
           "Togo",
           2016
          ],
          [
           "Togo",
           2017
          ],
          [
           "Togo",
           2018
          ],
          [
           "Togo",
           2019
          ],
          [
           "Togo",
           2021
          ],
          [
           "Togo",
           2022
          ],
          [
           "Togo",
           2023
          ],
          [
           "Trinidad and Tobago",
           2006
          ],
          [
           "Trinidad and Tobago",
           2008
          ],
          [
           "Trinidad and Tobago",
           2011
          ],
          [
           "Trinidad and Tobago",
           2013
          ],
          [
           "Trinidad and Tobago",
           2017
          ],
          [
           "Tunisia",
           2009
          ],
          [
           "Tunisia",
           2010
          ],
          [
           "Tunisia",
           2011
          ],
          [
           "Tunisia",
           2012
          ],
          [
           "Tunisia",
           2013
          ],
          [
           "Tunisia",
           2014
          ],
          [
           "Tunisia",
           2015
          ],
          [
           "Tunisia",
           2016
          ],
          [
           "Tunisia",
           2017
          ],
          [
           "Tunisia",
           2018
          ],
          [
           "Tunisia",
           2019
          ],
          [
           "Tunisia",
           2020
          ],
          [
           "Tunisia",
           2021
          ],
          [
           "Tunisia",
           2022
          ],
          [
           "Tunisia",
           2023
          ],
          [
           "Turkmenistan",
           2009
          ],
          [
           "Turkmenistan",
           2011
          ],
          [
           "Turkmenistan",
           2012
          ],
          [
           "Turkmenistan",
           2013
          ],
          [
           "Turkmenistan",
           2014
          ],
          [
           "Turkmenistan",
           2015
          ],
          [
           "Turkmenistan",
           2016
          ],
          [
           "Turkmenistan",
           2017
          ],
          [
           "Turkmenistan",
           2018
          ],
          [
           "Turkmenistan",
           2019
          ],
          [
           "Türkiye",
           2005
          ],
          [
           "Türkiye",
           2007
          ],
          [
           "Türkiye",
           2008
          ],
          [
           "Türkiye",
           2009
          ],
          [
           "Türkiye",
           2010
          ],
          [
           "Türkiye",
           2011
          ],
          [
           "Türkiye",
           2012
          ],
          [
           "Türkiye",
           2013
          ],
          [
           "Türkiye",
           2014
          ],
          [
           "Türkiye",
           2015
          ],
          [
           "Türkiye",
           2016
          ],
          [
           "Türkiye",
           2017
          ],
          [
           "Türkiye",
           2018
          ],
          [
           "Türkiye",
           2019
          ],
          [
           "Türkiye",
           2020
          ],
          [
           "Türkiye",
           2021
          ],
          [
           "Türkiye",
           2022
          ],
          [
           "Türkiye",
           2023
          ],
          [
           "Uganda",
           2006
          ],
          [
           "Uganda",
           2007
          ],
          [
           "Uganda",
           2008
          ],
          [
           "Uganda",
           2009
          ],
          [
           "Uganda",
           2010
          ],
          [
           "Uganda",
           2011
          ],
          [
           "Uganda",
           2012
          ],
          [
           "Uganda",
           2013
          ],
          [
           "Uganda",
           2014
          ],
          [
           "Uganda",
           2015
          ],
          [
           "Uganda",
           2016
          ],
          [
           "Uganda",
           2017
          ],
          [
           "Uganda",
           2018
          ],
          [
           "Uganda",
           2019
          ],
          [
           "Uganda",
           2020
          ],
          [
           "Uganda",
           2021
          ],
          [
           "Uganda",
           2022
          ],
          [
           "Uganda",
           2023
          ],
          [
           "Ukraine",
           2006
          ],
          [
           "Ukraine",
           2007
          ],
          [
           "Ukraine",
           2008
          ],
          [
           "Ukraine",
           2009
          ],
          [
           "Ukraine",
           2010
          ],
          [
           "Ukraine",
           2011
          ],
          [
           "Ukraine",
           2012
          ],
          [
           "Ukraine",
           2013
          ],
          [
           "Ukraine",
           2014
          ],
          [
           "Ukraine",
           2015
          ],
          [
           "Ukraine",
           2016
          ],
          [
           "Ukraine",
           2017
          ],
          [
           "Ukraine",
           2018
          ],
          [
           "Ukraine",
           2019
          ],
          [
           "Ukraine",
           2020
          ],
          [
           "Ukraine",
           2021
          ],
          [
           "Ukraine",
           2022
          ],
          [
           "Ukraine",
           2023
          ],
          [
           "United Arab Emirates",
           2006
          ],
          [
           "United Arab Emirates",
           2009
          ],
          [
           "United Arab Emirates",
           2010
          ],
          [
           "United Arab Emirates",
           2011
          ],
          [
           "United Arab Emirates",
           2012
          ],
          [
           "United Arab Emirates",
           2013
          ],
          [
           "United Arab Emirates",
           2014
          ],
          [
           "United Arab Emirates",
           2015
          ],
          [
           "United Arab Emirates",
           2016
          ],
          [
           "United Arab Emirates",
           2017
          ],
          [
           "United Arab Emirates",
           2018
          ],
          [
           "United Arab Emirates",
           2019
          ],
          [
           "United Arab Emirates",
           2020
          ],
          [
           "United Arab Emirates",
           2021
          ],
          [
           "United Arab Emirates",
           2022
          ],
          [
           "United Arab Emirates",
           2023
          ],
          [
           "United Kingdom",
           2005
          ],
          [
           "United Kingdom",
           2007
          ],
          [
           "United Kingdom",
           2008
          ],
          [
           "United Kingdom",
           2009
          ],
          [
           "United Kingdom",
           2010
          ],
          [
           "United Kingdom",
           2011
          ],
          [
           "United Kingdom",
           2012
          ],
          [
           "United Kingdom",
           2013
          ],
          [
           "United Kingdom",
           2014
          ],
          [
           "United Kingdom",
           2015
          ],
          [
           "United Kingdom",
           2016
          ],
          [
           "United Kingdom",
           2017
          ],
          [
           "United Kingdom",
           2018
          ],
          [
           "United Kingdom",
           2019
          ],
          [
           "United Kingdom",
           2020
          ],
          [
           "United Kingdom",
           2021
          ],
          [
           "United Kingdom",
           2022
          ],
          [
           "United Kingdom",
           2023
          ],
          [
           "United States",
           2006
          ],
          [
           "United States",
           2007
          ],
          [
           "United States",
           2008
          ],
          [
           "United States",
           2009
          ],
          [
           "United States",
           2010
          ],
          [
           "United States",
           2011
          ],
          [
           "United States",
           2012
          ],
          [
           "United States",
           2013
          ],
          [
           "United States",
           2014
          ],
          [
           "United States",
           2015
          ],
          [
           "United States",
           2016
          ],
          [
           "United States",
           2017
          ],
          [
           "United States",
           2018
          ],
          [
           "United States",
           2019
          ],
          [
           "United States",
           2020
          ],
          [
           "United States",
           2021
          ],
          [
           "United States",
           2022
          ],
          [
           "United States",
           2023
          ],
          [
           "Uruguay",
           2006
          ],
          [
           "Uruguay",
           2007
          ],
          [
           "Uruguay",
           2008
          ],
          [
           "Uruguay",
           2009
          ],
          [
           "Uruguay",
           2010
          ],
          [
           "Uruguay",
           2011
          ],
          [
           "Uruguay",
           2012
          ],
          [
           "Uruguay",
           2013
          ],
          [
           "Uruguay",
           2014
          ],
          [
           "Uruguay",
           2015
          ],
          [
           "Uruguay",
           2016
          ],
          [
           "Uruguay",
           2017
          ],
          [
           "Uruguay",
           2018
          ],
          [
           "Uruguay",
           2019
          ],
          [
           "Uruguay",
           2020
          ],
          [
           "Uruguay",
           2021
          ],
          [
           "Uruguay",
           2022
          ],
          [
           "Uruguay",
           2023
          ],
          [
           "Uzbekistan",
           2006
          ],
          [
           "Uzbekistan",
           2008
          ],
          [
           "Uzbekistan",
           2009
          ],
          [
           "Uzbekistan",
           2010
          ],
          [
           "Uzbekistan",
           2011
          ],
          [
           "Uzbekistan",
           2012
          ],
          [
           "Uzbekistan",
           2013
          ],
          [
           "Uzbekistan",
           2014
          ],
          [
           "Uzbekistan",
           2015
          ],
          [
           "Uzbekistan",
           2016
          ],
          [
           "Uzbekistan",
           2017
          ],
          [
           "Uzbekistan",
           2018
          ],
          [
           "Uzbekistan",
           2019
          ],
          [
           "Uzbekistan",
           2020
          ],
          [
           "Uzbekistan",
           2021
          ],
          [
           "Uzbekistan",
           2022
          ],
          [
           "Uzbekistan",
           2023
          ],
          [
           "Venezuela",
           2005
          ],
          [
           "Venezuela",
           2006
          ],
          [
           "Venezuela",
           2008
          ],
          [
           "Venezuela",
           2009
          ],
          [
           "Venezuela",
           2010
          ],
          [
           "Venezuela",
           2011
          ],
          [
           "Venezuela",
           2012
          ],
          [
           "Venezuela",
           2013
          ],
          [
           "Venezuela",
           2014
          ],
          [
           "Venezuela",
           2015
          ],
          [
           "Venezuela",
           2016
          ],
          [
           "Venezuela",
           2017
          ],
          [
           "Venezuela",
           2018
          ],
          [
           "Venezuela",
           2019
          ],
          [
           "Venezuela",
           2020
          ],
          [
           "Venezuela",
           2021
          ],
          [
           "Venezuela",
           2022
          ],
          [
           "Venezuela",
           2023
          ],
          [
           "Vietnam",
           2006
          ],
          [
           "Vietnam",
           2007
          ],
          [
           "Vietnam",
           2008
          ],
          [
           "Vietnam",
           2009
          ],
          [
           "Vietnam",
           2010
          ],
          [
           "Vietnam",
           2011
          ],
          [
           "Vietnam",
           2012
          ],
          [
           "Vietnam",
           2013
          ],
          [
           "Vietnam",
           2014
          ],
          [
           "Vietnam",
           2015
          ],
          [
           "Vietnam",
           2016
          ],
          [
           "Vietnam",
           2017
          ],
          [
           "Vietnam",
           2018
          ],
          [
           "Vietnam",
           2019
          ],
          [
           "Vietnam",
           2020
          ],
          [
           "Vietnam",
           2021
          ],
          [
           "Vietnam",
           2022
          ],
          [
           "Vietnam",
           2023
          ],
          [
           "Yemen",
           2007
          ],
          [
           "Yemen",
           2009
          ],
          [
           "Yemen",
           2010
          ],
          [
           "Yemen",
           2011
          ],
          [
           "Yemen",
           2012
          ],
          [
           "Yemen",
           2013
          ],
          [
           "Yemen",
           2014
          ],
          [
           "Yemen",
           2015
          ],
          [
           "Yemen",
           2016
          ],
          [
           "Yemen",
           2017
          ],
          [
           "Yemen",
           2018
          ],
          [
           "Yemen",
           2019
          ],
          [
           "Yemen",
           2022
          ],
          [
           "Yemen",
           2023
          ],
          [
           "Zambia",
           2006
          ],
          [
           "Zambia",
           2007
          ],
          [
           "Zambia",
           2008
          ],
          [
           "Zambia",
           2009
          ],
          [
           "Zambia",
           2011
          ],
          [
           "Zambia",
           2012
          ],
          [
           "Zambia",
           2013
          ],
          [
           "Zambia",
           2014
          ],
          [
           "Zambia",
           2015
          ],
          [
           "Zambia",
           2016
          ],
          [
           "Zambia",
           2017
          ],
          [
           "Zambia",
           2018
          ],
          [
           "Zambia",
           2019
          ],
          [
           "Zambia",
           2020
          ],
          [
           "Zambia",
           2021
          ],
          [
           "Zambia",
           2022
          ],
          [
           "Zambia",
           2023
          ],
          [
           "Zimbabwe",
           2006
          ],
          [
           "Zimbabwe",
           2007
          ],
          [
           "Zimbabwe",
           2008
          ],
          [
           "Zimbabwe",
           2009
          ],
          [
           "Zimbabwe",
           2010
          ],
          [
           "Zimbabwe",
           2011
          ],
          [
           "Zimbabwe",
           2012
          ],
          [
           "Zimbabwe",
           2013
          ],
          [
           "Zimbabwe",
           2014
          ],
          [
           "Zimbabwe",
           2015
          ],
          [
           "Zimbabwe",
           2016
          ],
          [
           "Zimbabwe",
           2017
          ],
          [
           "Zimbabwe",
           2018
          ],
          [
           "Zimbabwe",
           2019
          ],
          [
           "Zimbabwe",
           2020
          ],
          [
           "Zimbabwe",
           2021
          ],
          [
           "Zimbabwe",
           2022
          ],
          [
           "Zimbabwe",
           2023
          ]
         ],
         "hovertemplate": "BIP pro Kopf=%{x}<br>Glücklichkeitswert=%{y}<br>Land=%{customdata[0]}<br>Jahr=%{customdata[1]}<extra></extra>",
         "legendgroup": "",
         "marker": {
          "color": "#636efa",
          "symbol": "circle"
         },
         "mode": "markers",
         "name": "",
         "showlegend": false,
         "type": "scattergl",
         "x": [
          7.35,
          7.509,
          7.614,
          7.581,
          7.661,
          7.68,
          7.671,
          7.654,
          7.65,
          7.648,
          7.631,
          7.64,
          7.325,
          null,
          null,
          9.122,
          9.241,
          9.283,
          9.31,
          9.326,
          9.338,
          9.358,
          9.382,
          9.417,
          9.455,
          9.497,
          9.522,
          9.494,
          9.588,
          9.649,
          9.689,
          9.306,
          9.316,
          9.33,
          9.355,
          9.383,
          9.377,
          9.37,
          9.361,
          9.291,
          9.308,
          9.323,
          8.944,
          8.989,
          9,
          9.01,
          9.937,
          10.013,
          10.043,
          9.972,
          10.066,
          10.112,
          10.091,
          10.103,
          10.067,
          10.083,
          10.051,
          10.069,
          10.032,
          10.002,
          9.888,
          9.977,
          10.019,
          9.994,
          9.021,
          9.157,
          9.23,
          9.085,
          9.113,
          9.164,
          9.239,
          9.276,
          9.315,
          9.351,
          9.357,
          9.434,
          9.49,
          9.569,
          9.561,
          9.683,
          9.73,
          10.662,
          10.694,
          10.709,
          10.714,
          10.723,
          10.744,
          10.752,
          10.763,
          10.77,
          10.781,
          10.787,
          10.801,
          10.807,
          10.794,
          10.815,
          10.84,
          10.846,
          10.836,
          10.881,
          10.856,
          10.881,
          10.884,
          10.878,
          10.877,
          10.876,
          10.885,
          10.9,
          10.919,
          10.93,
          10.859,
          10.899,
          10.938,
          10.93,
          9.154,
          9.366,
          9.447,
          9.515,
          9.553,
          9.541,
          9.549,
          9.592,
          9.607,
          9.606,
          9.563,
          9.555,
          9.562,
          9.578,
          9.619,
          9.637,
          10.714,
          10.728,
          10.749,
          10.775,
          10.798,
          10.802,
          10.788,
          10.789,
          10.798,
          10.815,
          10.779,
          10.877,
          7.94,
          7.997,
          8.047,
          8.087,
          8.13,
          8.181,
          8.231,
          8.277,
          8.323,
          8.375,
          8.431,
          8.483,
          8.542,
          8.607,
          8.629,
          8.685,
          8.742,
          8.783,
          9.489,
          9.576,
          9.677,
          9.681,
          9.759,
          9.813,
          9.832,
          9.842,
          9.858,
          9.818,
          9.792,
          9.818,
          9.851,
          9.867,
          10.744,
          10.791,
          10.788,
          10.778,
          10.782,
          10.783,
          10.783,
          10.794,
          10.809,
          10.816,
          10.829,
          10.842,
          10.859,
          10.799,
          10.856,
          10.881,
          10.883,
          9.192,
          9.135,
          7.844,
          7.891,
          7.876,
          7.894,
          7.935,
          7.967,
          7.955,
          7.958,
          7.984,
          8.02,
          8.057,
          8.067,
          8.108,
          8.142,
          8.174,
          9.097,
          9.143,
          9.198,
          8.671,
          8.698,
          8.74,
          8.756,
          8.78,
          8.813,
          8.847,
          8.896,
          8.933,
          8.965,
          8.991,
          9.017,
          9.044,
          9.051,
          8.946,
          8.994,
          9.012,
          9.025,
          9.191,
          9.246,
          9.272,
          9.3,
          9.31,
          9.349,
          9.373,
          9.428,
          9.473,
          9.517,
          9.566,
          9.606,
          9.588,
          9.674,
          9.723,
          9.759,
          9.495,
          9.543,
          9.446,
          9.492,
          9.471,
          9.557,
          9.593,
          9.524,
          9.573,
          9.593,
          9.613,
          9.624,
          9.65,
          9.673,
          9.435,
          9.512,
          9.552,
          9.541,
          9.604,
          9.634,
          9.644,
          9.665,
          9.661,
          9.617,
          9.575,
          9.58,
          9.59,
          9.595,
          9.555,
          9.598,
          9.622,
          9.635,
          9.746,
          9.807,
          9.834,
          9.848,
          9.848,
          9.863,
          9.903,
          9.94,
          9.974,
          10.008,
          10.055,
          10.02,
          10.102,
          10.197,
          10.273,
          7.327,
          7.337,
          7.364,
          7.416,
          7.45,
          7.482,
          7.509,
          7.521,
          7.53,
          7.558,
          7.59,
          7.626,
          7.654,
          7.647,
          7.687,
          7.693,
          6.7,
          6.687,
          6.694,
          6.723,
          6.607,
          7.746,
          7.826,
          7.874,
          7.86,
          7.904,
          7.957,
          8.013,
          8.07,
          8.125,
          8.179,
          8.233,
          8.287,
          8.347,
          8.404,
          8.361,
          8.379,
          8.419,
          8.462,
          8.09,
          8.104,
          8.104,
          8.101,
          8.101,
          8.106,
          8.123,
          8.144,
          8.169,
          8.193,
          8.207,
          8.214,
          8.225,
          8.231,
          8.207,
          8.216,
          8.225,
          8.238,
          10.707,
          10.734,
          10.733,
          10.692,
          10.711,
          10.733,
          10.739,
          10.752,
          10.77,
          10.769,
          10.768,
          10.786,
          10.799,
          10.803,
          10.74,
          10.783,
          10.799,
          10.794,
          6.946,
          7.031,
          7.057,
          6.707,
          6.733,
          7.369,
          7.368,
          7.363,
          7.369,
          7.462,
          7.428,
          7.478,
          7.498,
          7.529,
          7.525,
          7.429,
          7.365,
          7.355,
          7.354,
          7.253,
          7.254,
          9.87,
          9.91,
          9.938,
          9.916,
          9.963,
          10.013,
          10.063,
          10.086,
          10.094,
          10.105,
          10.11,
          10.108,
          10.13,
          10.119,
          10.042,
          10.143,
          10.161,
          10.155,
          8.696,
          8.824,
          8.911,
          8.996,
          9.092,
          9.178,
          9.247,
          9.315,
          9.38,
          9.442,
          9.503,
          9.564,
          9.625,
          9.679,
          9.699,
          9.779,
          9.861,
          9.277,
          9.33,
          9.351,
          9.351,
          9.383,
          9.44,
          9.468,
          9.508,
          9.542,
          9.562,
          9.572,
          9.57,
          9.577,
          9.59,
          9.5,
          9.593,
          9.658,
          9.667,
          7.999,
          8.015,
          8.034,
          8.044,
          8.1,
          8.099,
          8.085,
          8.095,
          8.39,
          8.502,
          8.569,
          8.538,
          8.579,
          8.519,
          8.381,
          8.312,
          8.239,
          8.215,
          8.127,
          8.082,
          8.074,
          8.086,
          6.699,
          6.769,
          6.803,
          6.851,
          6.907,
          6.94,
          6.929,
          6.931,
          7.032,
          7.076,
          9.607,
          9.672,
          9.704,
          9.682,
          9.721,
          9.752,
          9.788,
          9.801,
          9.824,
          9.85,
          9.881,
          9.912,
          9.928,
          9.944,
          9.892,
          9.961,
          9.998,
          10.021,
          10.174,
          10.12,
          10.11,
          10.113,
          10.092,
          10.091,
          10.091,
          10.124,
          10.166,
          10.211,
          10.248,
          10.287,
          10.202,
          10.367,
          10.435,
          10.462,
          null,
          10.567,
          10.559,
          10.556,
          10.534,
          10.484,
          10.418,
          10.411,
          10.451,
          10.51,
          10.556,
          10.599,
          10.639,
          10.583,
          10.638,
          10.683,
          null,
          10.322,
          10.433,
          10.419,
          10.434,
          10.425,
          10.424,
          10.445,
          10.496,
          10.519,
          10.567,
          10.595,
          10.562,
          10.615,
          10.637,
          10.639,
          10.849,
          10.889,
          10.878,
          10.822,
          10.836,
          10.845,
          10.844,
          10.849,
          10.86,
          10.876,
          10.9,
          10.922,
          10.936,
          10.948,
          10.924,
          10.968,
          10.997,
          10.996,
          8.115,
          8.014,
          7.934,
          8.15,
          9.306,
          9.365,
          9.384,
          9.381,
          9.448,
          9.465,
          9.479,
          9.515,
          9.57,
          9.625,
          9.678,
          9.713,
          9.769,
          9.808,
          9.727,
          9.832,
          9.87,
          9.9,
          9.189,
          9.194,
          9.238,
          9.227,
          9.245,
          9.305,
          9.343,
          9.376,
          9.399,
          9.385,
          9.358,
          9.366,
          9.359,
          9.341,
          9.245,
          9.275,
          9.293,
          9.307,
          9.042,
          9.138,
          9.187,
          9.213,
          9.243,
          9.239,
          9.238,
          9.236,
          9.242,
          9.262,
          9.284,
          9.305,
          9.338,
          9.374,
          9.392,
          9.408,
          9.456,
          9.48,
          8.885,
          8.902,
          8.919,
          8.894,
          8.911,
          8.945,
          8.968,
          8.987,
          9,
          9.02,
          9.042,
          9.062,
          9.084,
          9.108,
          9.023,
          9.126,
          9.148,
          9.167,
          10.269,
          10.346,
          10.296,
          10.14,
          10.24,
          10.275,
          10.293,
          10.325,
          10.343,
          10.374,
          10.429,
          10.463,
          10.496,
          10.488,
          10.564,
          10.541,
          10.517,
          8.902,
          9.029,
          9.048,
          9.119,
          7.252,
          7.325,
          7.396,
          7.468,
          7.531,
          7.595,
          7.634,
          7.688,
          7.72,
          7.775,
          7.809,
          10.745,
          10.796,
          10.734,
          10.754,
          10.735,
          10.722,
          10.714,
          10.716,
          10.741,
          10.77,
          10.78,
          10.791,
          10.766,
          10.794,
          10.811,
          10.808,
          10.637,
          10.654,
          10.669,
          10.635,
          10.649,
          10.666,
          10.664,
          10.665,
          10.669,
          10.677,
          10.685,
          10.705,
          10.72,
          10.735,
          10.651,
          10.714,
          10.737,
          10.742,
          9.557,
          9.573,
          9.593,
          9.601,
          9.609,
          9.601,
          9.58,
          9.565,
          9.58,
          9.54,
          9.533,
          9.543,
          9.554,
          7.564,
          7.607,
          7.642,
          7.662,
          7.686,
          8.993,
          9.117,
          9.144,
          9.116,
          9.184,
          9.263,
          9.332,
          9.371,
          9.414,
          9.442,
          9.47,
          9.517,
          9.565,
          9.615,
          9.544,
          9.648,
          9.743,
          9.785,
          10.691,
          10.76,
          10.771,
          10.715,
          10.758,
          10.815,
          10.817,
          10.819,
          10.837,
          10.843,
          10.857,
          10.879,
          10.886,
          10.894,
          10.856,
          10.881,
          10.889,
          10.878,
          8.067,
          8.084,
          8.145,
          8.167,
          8.219,
          8.326,
          8.39,
          8.436,
          8.44,
          8.437,
          8.447,
          8.503,
          8.542,
          8.584,
          8.569,
          8.601,
          8.613,
          8.61,
          10.454,
          10.535,
          10.483,
          10.425,
          10.32,
          10.251,
          10.233,
          10.245,
          10.249,
          10.248,
          10.261,
          10.28,
          10.3,
          10.207,
          10.294,
          10.358,
          10.387,
          8.85,
          8.891,
          8.905,
          8.89,
          8.901,
          8.923,
          8.935,
          8.953,
          8.98,
          9.003,
          9.013,
          9.027,
          9.044,
          9.068,
          9.123,
          9.14,
          7.556,
          7.589,
          7.604,
          7.615,
          7.627,
          7.704,
          7.776,
          7.813,
          7.842,
          7.865,
          7.879,
          7.901,
          7.932,
          9.089,
          7.976,
          8.016,
          7.987,
          8.026,
          8.015,
          8.043,
          8.057,
          8.056,
          8.06,
          8.071,
          8.074,
          8.448,
          8.485,
          8.504,
          8.458,
          8.474,
          8.492,
          8.513,
          8.521,
          8.533,
          8.553,
          8.573,
          8.603,
          8.624,
          8.633,
          8.626,
          8.65,
          8.67,
          10.746,
          10.816,
          10.788,
          10.847,
          10.887,
          10.893,
          10.939,
          10.97,
          10.999,
          10.995,
          10.931,
          11.003,
          10.976,
          10.103,
          10.147,
          10.092,
          10.105,
          10.127,
          10.119,
          10.14,
          10.184,
          10.223,
          10.248,
          10.292,
          10.346,
          10.393,
          10.349,
          10.423,
          10.47,
          10.473,
          10.878,
          10.788,
          10.823,
          10.862,
          10.909,
          10.927,
          10.943,
          10.852,
          10.878,
          10.916,
          10.934,
          8.141,
          8.2,
          8.216,
          8.278,
          8.346,
          8.383,
          8.423,
          8.472,
          8.531,
          8.596,
          8.664,
          8.718,
          8.77,
          8.797,
          8.728,
          8.806,
          8.867,
          8.919,
          8.839,
          8.888,
          8.933,
          8.966,
          9.013,
          9.061,
          9.107,
          9.149,
          9.186,
          9.222,
          9.261,
          9.3,
          9.341,
          9.381,
          9.351,
          9.381,
          9.426,
          9.466,
          9.498,
          9.595,
          9.584,
          9.636,
          9.585,
          9.555,
          9.585,
          9.548,
          9.614,
          9.627,
          9.591,
          9.553,
          9.577,
          9.616,
          9.636,
          9.651,
          8.982,
          8.979,
          9.009,
          9.047,
          9.133,
          9.159,
          9.126,
          9.145,
          9.25,
          9.208,
          9.21,
          9.088,
          9.081,
          9.127,
          9.093,
          10.985,
          10.941,
          10.879,
          10.89,
          10.894,
          10.89,
          10.896,
          10.971,
          11.18,
          11.189,
          11.264,
          11.334,
          11.373,
          11.423,
          11.54,
          11.643,
          11.676,
          10.368,
          10.408,
          10.423,
          10.408,
          10.444,
          10.48,
          10.487,
          10.512,
          10.531,
          10.536,
          10.56,
          10.583,
          10.603,
          10.625,
          10.589,
          10.655,
          10.698,
          10.707,
          10.698,
          10.722,
          10.706,
          10.647,
          10.661,
          10.666,
          10.633,
          10.603,
          10.594,
          10.603,
          10.617,
          10.635,
          10.647,
          10.663,
          10.574,
          10.647,
          10.687,
          10.703,
          8.181,
          8.285,
          8.351,
          8.395,
          8.438,
          8.484,
          8.505,
          8.543,
          8.535,
          8.579,
          8.619,
          8.656,
          9.249,
          9.193,
          9.182,
          9.185,
          9.209,
          9.234,
          9.128,
          9.17,
          9.212,
          10.552,
          10.578,
          10.566,
          10.507,
          10.547,
          10.549,
          10.565,
          10.586,
          10.59,
          10.607,
          10.615,
          10.632,
          10.64,
          10.637,
          10.596,
          10.622,
          10.637,
          10.654,
          9.283,
          9.308,
          9.354,
          9.381,
          9.382,
          9.383,
          9.393,
          9.354,
          9.269,
          9.202,
          9.173,
          9.173,
          9.168,
          9.163,
          9.125,
          9.127,
          9.14,
          9.151,
          9.804,
          9.878,
          9.892,
          9.884,
          9.94,
          9.997,
          10.03,
          10.074,
          10.101,
          10.098,
          10.095,
          10.121,
          10.148,
          10.179,
          10.141,
          10.17,
          10.169,
          10.172,
          8.164,
          8.201,
          8.173,
          8.176,
          8.226,
          8.249,
          8.269,
          8.282,
          8.308,
          8.334,
          8.353,
          8.369,
          8.404,
          8.434,
          8.411,
          8.465,
          8.493,
          8.523,
          null,
          8.858,
          8.899,
          8.94,
          8.992,
          9,
          9.046,
          9.082,
          9.153,
          9.213,
          9.253,
          9.283,
          9.334,
          9.279,
          9.383,
          9.431,
          9.48,
          11.233,
          11.074,
          10.998,
          11.024,
          11.012,
          10.952,
          10.926,
          10.893,
          10.887,
          10.82,
          10.765,
          10.803,
          10.812,
          8.185,
          8.258,
          8.329,
          8.345,
          8.329,
          8.374,
          8.357,
          8.441,
          8.46,
          8.477,
          8.5,
          8.526,
          8.543,
          8.568,
          8.461,
          8.504,
          8.555,
          8.573,
          8.234,
          8.291,
          8.351,
          8.538,
          8.601,
          8.883,
          8.929,
          8.967,
          8.957,
          8.968,
          8.981,
          9.005,
          10.042,
          10.145,
          10.123,
          9.985,
          10.004,
          10.085,
          10.115,
          10.143,
          10.19,
          10.222,
          10.264,
          10.311,
          10.343,
          10.328,
          10.376,
          10.396,
          10.408,
          9.571,
          9.57,
          9.711,
          9.796,
          9.864,
          9.862,
          9.862,
          9.807,
          9.732,
          9.717,
          9.754,
          9.787,
          9.795,
          9.752,
          9.532,
          9.472,
          9.458,
          9.471,
          7.785,
          7.897,
          7.852,
          7.805,
          7.733,
          7.179,
          7.207,
          7.257,
          7.386,
          7.366,
          7.33,
          7.335,
          7.328,
          7.283,
          7.287,
          7.309,
          10.38,
          9.858,
          9.828,
          10.095,
          10.156,
          10.023,
          9.893,
          null,
          10.042,
          10.16,
          10.196,
          10.046,
          10.083,
          10.165,
          10.216,
          10.261,
          10.304,
          10.334,
          10.371,
          10.427,
          10.476,
          10.524,
          10.523,
          10.579,
          10.586,
          10.575,
          11.628,
          11.647,
          11.635,
          11.627,
          11.636,
          11.638,
          11.637,
          11.664,
          11.653,
          11.645,
          11.649,
          11.657,
          11.649,
          7.351,
          7.413,
          7.309,
          7.311,
          7.307,
          7.314,
          7.319,
          7.332,
          7.345,
          7.351,
          7.369,
          7.315,
          7.333,
          7.015,
          7.078,
          7.174,
          7.231,
          7.221,
          7.246,
          7.273,
          7.273,
          7.27,
          7.283,
          7.299,
          7.325,
          7.307,
          7.291,
          7.279,
          9.827,
          9.867,
          9.893,
          9.858,
          9.912,
          9.948,
          9.985,
          10.015,
          10.057,
          10.092,
          10.197,
          10.228,
          10.159,
          10.179,
          10.251,
          10.283,
          9.893,
          7.561,
          7.576,
          7.591,
          7.61,
          7.609,
          7.572,
          7.565,
          7.602,
          7.631,
          7.655,
          7.675,
          7.69,
          7.705,
          7.661,
          7.659,
          7.665,
          7.673,
          10.353,
          10.402,
          10.402,
          10.433,
          10.473,
          10.526,
          10.594,
          10.604,
          10.681,
          10.705,
          10.734,
          10.622,
          10.727,
          10.784,
          null,
          8.528,
          8.5,
          8.474,
          8.471,
          8.482,
          8.494,
          8.506,
          8.521,
          8.547,
          8.533,
          8.568,
          8.588,
          8.614,
          8.602,
          8.62,
          9.797,
          9.895,
          9.968,
          10.005,
          10.044,
          10.072,
          9.914,
          9.948,
          10.034,
          10.083,
          9.792,
          9.831,
          9.83,
          9.764,
          9.8,
          9.822,
          9.844,
          9.844,
          9.86,
          9.88,
          9.895,
          9.905,
          9.917,
          9.907,
          9.816,
          9.857,
          9.881,
          9.9,
          8.922,
          8.954,
          9.031,
          8.97,
          9.04,
          9.097,
          9.091,
          9.178,
          9.227,
          9.232,
          9.289,
          9.347,
          9.404,
          9.455,
          9.38,
          9.518,
          9.465,
          9.492,
          8.827,
          8.902,
          8.925,
          9.069,
          9.168,
          9.26,
          9.315,
          9.318,
          9.311,
          9.344,
          9.397,
          9.43,
          9.365,
          9.365,
          9.397,
          9.433,
          9.696,
          9.702,
          9.727,
          9.758,
          9.729,
          9.763,
          9.78,
          9.813,
          9.842,
          9.887,
          9.937,
          9.977,
          9.812,
          10.002,
          10.041,
          8.821,
          8.861,
          8.877,
          8.904,
          8.947,
          8.94,
          8.977,
          8.996,
          9.014,
          8.929,
          8.994,
          8.995,
          9.009,
          6.792,
          6.84,
          6.885,
          6.996,
          7.148,
          7.16,
          7.165,
          7.159,
          7.112,
          7.125,
          7.147,
          8.067,
          8.134,
          8.205,
          8.229,
          8.321,
          8.369,
          8.424,
          8.483,
          8.507,
          8.302,
          8.325,
          8.347,
          9.073,
          9.264,
          9.243,
          9.237,
          9.211,
          9.11,
          9.128,
          9.158,
          9.167,
          7.734,
          7.761,
          7.814,
          7.853,
          7.895,
          7.924,
          7.968,
          8,
          8.056,
          8.089,
          8.085,
          8.159,
          8.221,
          8.274,
          8.233,
          8.257,
          8.294,
          8.318,
          10.809,
          10.876,
          10.894,
          10.86,
          10.87,
          10.856,
          10.852,
          10.863,
          10.878,
          10.894,
          10.917,
          10.934,
          10.947,
          10.902,
          10.944,
          10.978,
          10.977,
          10.541,
          10.562,
          10.541,
          10.534,
          10.548,
          10.565,
          10.585,
          10.605,
          10.622,
          10.637,
          10.65,
          10.667,
          10.675,
          10.647,
          10.693,
          10.712,
          10.72,
          8.395,
          8.431,
          8.45,
          8.402,
          8.431,
          8.478,
          8.526,
          8.559,
          8.591,
          8.624,
          8.654,
          8.685,
          8.637,
          8.594,
          8.562,
          8.647,
          8.669,
          8.685,
          6.872,
          6.867,
          6.905,
          6.887,
          6.932,
          6.918,
          6.98,
          6.994,
          7.02,
          7.025,
          7.042,
          7.053,
          7.084,
          7.105,
          7.151,
          7.181,
          8.314,
          8.35,
          8.389,
          8.439,
          8.488,
          8.526,
          8.564,
          8.6,
          8.558,
          8.541,
          8.535,
          8.532,
          8.49,
          8.502,
          8.51,
          8.514,
          9.434,
          9.481,
          9.512,
          9.533,
          9.527,
          9.555,
          9.589,
          9.625,
          9.652,
          9.662,
          9.689,
          9.728,
          9.666,
          9.724,
          9.749,
          9.776,
          11.056,
          11.066,
          11.041,
          11.048,
          11.057,
          11.06,
          11.076,
          11.077,
          11.082,
          11.063,
          11.096,
          11.119,
          11.125,
          10.539,
          8.252,
          8.314,
          8.309,
          8.315,
          8.308,
          8.314,
          8.331,
          8.359,
          8.39,
          8.423,
          8.465,
          8.495,
          8.54,
          8.548,
          8.518,
          8.563,
          8.604,
          8.588,
          9.806,
          9.901,
          9.977,
          9.971,
          10.01,
          10.099,
          10.174,
          10.224,
          10.256,
          10.294,
          10.325,
          10.362,
          10.382,
          10.398,
          10.323,
          10.412,
          10.455,
          9.154,
          9.197,
          9.25,
          9.237,
          9.331,
          9.36,
          9.339,
          9.405,
          9.443,
          9.458,
          9.485,
          9.518,
          9.519,
          9.497,
          9.523,
          9.513,
          9.549,
          8.979,
          9.054,
          9.134,
          9.138,
          9.21,
          9.263,
          9.313,
          9.361,
          9.374,
          9.394,
          9.419,
          9.429,
          9.449,
          9.452,
          9.323,
          9.436,
          9.453,
          9.459,
          8.562,
          8.606,
          8.63,
          8.626,
          8.679,
          8.699,
          8.748,
          8.796,
          8.842,
          8.887,
          8.938,
          8.987,
          9.032,
          9.075,
          8.958,
          8.999,
          9.057,
          9.102,
          9.844,
          9.973,
          10.041,
          10.073,
          10.122,
          10.137,
          10.146,
          10.184,
          10.228,
          10.258,
          10.308,
          10.365,
          10.409,
          10.39,
          10.461,
          10.513,
          10.527,
          10.359,
          10.383,
          10.367,
          10.352,
          10.314,
          10.31,
          10.324,
          10.346,
          10.369,
          10.406,
          10.435,
          10.462,
          10.374,
          10.425,
          10.484,
          10.504,
          11.434,
          11.551,
          11.625,
          11.617,
          11.532,
          9.733,
          9.901,
          9.958,
          9.924,
          9.973,
          9.997,
          10.003,
          10.047,
          10.083,
          10.117,
          10.201,
          10.266,
          10.309,
          10.277,
          10.341,
          10.396,
          10.431,
          9.988,
          10.071,
          10.122,
          10.041,
          10.084,
          10.126,
          10.163,
          10.179,
          10.168,
          10.146,
          10.146,
          10.163,
          10.191,
          10.213,
          10.188,
          10.247,
          10.225,
          10.209,
          7.087,
          7.213,
          7.247,
          7.343,
          7.401,
          7.423,
          7.459,
          7.52,
          7.554,
          7.568,
          7.625,
          7.692,
          10.679,
          10.646,
          10.668,
          10.61,
          10.627,
          10.706,
          10.737,
          10.744,
          10.763,
          10.79,
          10.793,
          10.77,
          10.773,
          10.758,
          10.709,
          10.749,
          10.82,
          10.829,
          7.93,
          7.931,
          7.941,
          7.942,
          7.948,
          7.934,
          7.946,
          7.943,
          7.976,
          8.01,
          8.045,
          8.089,
          8.122,
          8.14,
          8.127,
          8.164,
          8.179,
          8.2,
          9.536,
          9.571,
          9.583,
          9.611,
          9.609,
          9.642,
          9.631,
          9.654,
          9.692,
          9.718,
          9.767,
          9.815,
          9.813,
          9.895,
          9.928,
          9.961,
          7.122,
          7.177,
          7.205,
          7.245,
          7.277,
          7.557,
          7.577,
          7.324,
          7.361,
          7.374,
          7.384,
          7.412,
          7.387,
          7.4,
          7.412,
          11.168,
          11.213,
          11.178,
          11.149,
          11.267,
          11.306,
          11.356,
          11.382,
          11.399,
          11.422,
          11.465,
          11.496,
          11.497,
          11.587,
          11.59,
          null,
          9.989,
          10.152,
          10.177,
          10.188,
          10.193,
          10.219,
          10.268,
          10.286,
          10.314,
          10.352,
          10.375,
          10.34,
          10.39,
          10.409,
          10.425,
          10.399,
          10.406,
          10.415,
          10.421,
          10.392,
          10.381,
          10.407,
          10.428,
          10.459,
          10.505,
          10.545,
          10.572,
          10.521,
          10.598,
          10.65,
          10.664,
          6.83,
          6.937,
          6.981,
          null,
          null,
          null,
          null,
          9.455,
          9.497,
          9.518,
          9.49,
          9.508,
          9.527,
          9.537,
          9.548,
          9.546,
          9.539,
          9.536,
          9.543,
          9.546,
          9.536,
          9.458,
          9.496,
          9.508,
          9.503,
          10.309,
          10.36,
          10.382,
          10.385,
          10.446,
          10.474,
          10.493,
          10.519,
          10.544,
          10.567,
          10.592,
          10.62,
          10.645,
          10.663,
          10.655,
          10.697,
          10.725,
          10.742,
          null,
          null,
          null,
          null,
          10.544,
          10.585,
          10.577,
          10.53,
          10.527,
          10.516,
          10.485,
          10.474,
          10.491,
          10.529,
          10.558,
          10.585,
          10.604,
          10.616,
          10.491,
          10.544,
          10.592,
          10.609,
          8.937,
          8.992,
          9.04,
          9.065,
          9.133,
          9.207,
          9.282,
          9.316,
          9.373,
          9.41,
          9.514,
          9.529,
          9.521,
          9.468,
          9.492,
          9.409,
          9.364,
          8.201,
          8.181,
          8.275,
          8.337,
          8.363,
          8.452,
          8.598,
          8.595,
          8.618,
          8.683,
          8.738,
          8.734,
          8.718,
          8.716,
          null,
          null,
          8.457,
          8.465,
          8.527,
          8.458,
          8.471,
          9.874,
          10.724,
          10.791,
          10.778,
          10.725,
          10.775,
          10.799,
          10.785,
          10.789,
          10.805,
          10.838,
          10.846,
          10.858,
          10.866,
          10.875,
          10.846,
          10.893,
          10.912,
          10.902,
          11.056,
          11.065,
          11.094,
          11.111,
          11.116,
          11.126,
          11.13,
          11.151,
          11.155,
          11.124,
          11.158,
          11.17,
          11.169,
          8.658,
          8.656,
          8.733,
          8.735,
          8.578,
          8.419,
          8.492,
          10.602,
          10.6,
          10.681,
          10.693,
          10.718,
          10.724,
          10.749,
          10.779,
          10.768,
          10.774,
          10.781,
          10.797,
          null,
          null,
          null,
          null,
          7.591,
          7.648,
          7.705,
          7.724,
          7.766,
          7.817,
          7.867,
          7.916,
          7.958,
          7.993,
          8.036,
          8.082,
          8.133,
          8.182,
          8.203,
          8.271,
          8.328,
          8.371,
          7.459,
          7.497,
          7.525,
          7.551,
          7.587,
          7.632,
          7.647,
          7.683,
          7.717,
          7.743,
          7.775,
          7.807,
          7.828,
          7.855,
          7.844,
          7.857,
          7.872,
          7.893,
          9.452,
          9.498,
          9.507,
          9.493,
          9.559,
          9.561,
          9.624,
          9.645,
          9.649,
          9.675,
          9.705,
          9.741,
          9.78,
          9.798,
          9.733,
          9.746,
          9.77,
          9.807,
          7.342,
          7.312,
          7.406,
          7.509,
          7.54,
          7.569,
          7.587,
          7.613,
          7.637,
          7.667,
          7.7,
          7.725,
          10.172,
          10.24,
          10.206,
          10.293,
          10.174,
          9.238,
          9.257,
          9.224,
          9.252,
          9.265,
          9.284,
          9.283,
          9.283,
          9.294,
          9.31,
          9.316,
          9.214,
          9.249,
          9.267,
          9.282,
          8.955,
          9.146,
          9.233,
          9.312,
          9.392,
          9.437,
          9.479,
          9.525,
          9.569,
          9.615,
          9.8,
          9.891,
          9.887,
          9.825,
          9.893,
          9.986,
          10.018,
          10.082,
          10.111,
          10.15,
          10.166,
          10.225,
          10.246,
          10.245,
          10.257,
          10.357,
          10.404,
          10.429,
          7.37,
          7.422,
          7.476,
          7.513,
          7.538,
          7.599,
          7.608,
          7.614,
          7.634,
          7.654,
          7.667,
          7.663,
          7.69,
          7.719,
          7.714,
          7.717,
          7.733,
          7.759,
          9.414,
          9.499,
          9.527,
          9.367,
          9.411,
          9.468,
          9.472,
          9.474,
          9.424,
          9.325,
          9.353,
          9.381,
          9.42,
          9.458,
          9.426,
          9.469,
          9.281,
          9.423,
          11.433,
          10.952,
          10.909,
          10.965,
          11.001,
          11.041,
          11.072,
          11.128,
          11.174,
          11.173,
          11.178,
          11.181,
          11.122,
          11.152,
          11.216,
          11.236,
          10.661,
          10.693,
          10.684,
          10.63,
          10.646,
          10.649,
          10.656,
          10.668,
          10.692,
          10.707,
          10.721,
          10.739,
          10.75,
          10.76,
          10.639,
          10.713,
          10.754,
          10.759,
          10.921,
          10.931,
          10.923,
          10.888,
          10.906,
          10.914,
          10.929,
          10.941,
          10.956,
          10.975,
          10.985,
          11.001,
          11.024,
          11.042,
          11.005,
          11.061,
          11.078,
          11.089,
          9.64,
          9.702,
          9.769,
          9.808,
          9.88,
          9.928,
          9.96,
          10.002,
          10.031,
          10.032,
          10.045,
          10.06,
          10.06,
          10.067,
          10.002,
          10.054,
          10.103,
          10.122,
          8.256,
          8.402,
          8.463,
          8.508,
          8.554,
          8.608,
          8.662,
          8.712,
          8.764,
          8.804,
          8.831,
          8.87,
          8.91,
          8.91,
          8.962,
          8.996,
          9.026,
          9.316,
          9.467,
          9.719,
          9.567,
          9.748,
          9.859,
          9.862,
          9.802,
          9.366,
          8.532,
          7.602,
          5.943,
          5.935,
          5.527,
          null,
          null,
          null,
          null,
          8.554,
          8.613,
          8.658,
          8.701,
          8.752,
          8.804,
          8.847,
          8.89,
          8.941,
          8.999,
          9.053,
          9.111,
          9.173,
          9.235,
          9.254,
          9.271,
          9.341,
          9.392,
          8.212,
          8.25,
          8.414,
          8.264,
          8.179,
          8.166,
          8.159,
          7.772,
          7.552,
          7.243,
          7.444,
          7.448,
          null,
          null,
          7.834,
          7.879,
          7.918,
          7.971,
          8.054,
          8.094,
          8.111,
          8.124,
          8.121,
          8.127,
          8.13,
          8.139,
          8.123,
          8.066,
          8.082,
          8.101,
          8.115,
          7.46,
          7.413,
          7.21,
          7.313,
          7.495,
          7.617,
          7.745,
          7.755,
          7.748,
          7.747,
          7.735,
          7.754,
          7.783,
          7.698,
          7.596,
          7.657,
          7.67,
          7.679
         ],
         "xaxis": "x",
         "y": [
          3.724,
          4.402,
          4.758,
          3.832,
          3.783,
          3.572,
          3.131,
          3.983,
          4.22,
          2.662,
          2.694,
          2.375,
          2.436,
          1.281,
          1.446,
          4.634,
          5.485,
          5.269,
          5.867,
          5.51,
          4.551,
          4.814,
          4.607,
          4.511,
          4.64,
          5.004,
          4.995,
          5.365,
          5.255,
          5.212,
          5.445,
          5.464,
          5.317,
          5.605,
          6.355,
          5.341,
          5.249,
          5.043,
          4.745,
          5.438,
          5.217,
          5.538,
          5.589,
          4.36,
          3.937,
          3.795,
          6.313,
          6.073,
          5.961,
          6.424,
          6.441,
          6.776,
          6.468,
          6.582,
          6.671,
          6.697,
          6.427,
          6.039,
          5.793,
          6.086,
          5.901,
          5.908,
          6.261,
          6.393,
          4.289,
          4.882,
          4.652,
          4.178,
          4.368,
          4.26,
          4.32,
          4.277,
          4.453,
          4.348,
          4.325,
          4.288,
          5.062,
          5.488,
          5.301,
          5.382,
          5.679,
          7.341,
          7.285,
          7.254,
          7.45,
          7.406,
          7.196,
          7.364,
          7.289,
          7.309,
          7.25,
          7.257,
          7.177,
          7.234,
          7.137,
          7.112,
          7.035,
          7.025,
          7.122,
          7.181,
          7.303,
          7.471,
          7.401,
          7.499,
          6.95,
          7.076,
          7.048,
          7.294,
          7.396,
          7.195,
          7.213,
          7.08,
          6.999,
          6.636,
          4.728,
          4.568,
          4.817,
          4.574,
          4.219,
          4.68,
          4.911,
          5.481,
          5.252,
          5.147,
          5.304,
          5.152,
          5.168,
          5.173,
          4.576,
          5.214,
          5.701,
          5.937,
          4.824,
          5.027,
          6.69,
          6.165,
          6.007,
          6.17,
          6.227,
          7.098,
          6.173,
          5.959,
          4.319,
          4.607,
          5.052,
          5.083,
          4.858,
          4.986,
          4.724,
          4.66,
          4.636,
          4.633,
          4.556,
          4.31,
          4.499,
          5.114,
          5.28,
          4.123,
          3.408,
          4.114,
          5.658,
          5.617,
          5.463,
          5.564,
          5.526,
          5.225,
          5.749,
          5.876,
          5.812,
          5.719,
          5.178,
          5.553,
          5.234,
          5.821,
          7.262,
          7.219,
          7.117,
          6.854,
          7.111,
          6.935,
          7.104,
          6.855,
          6.904,
          6.949,
          6.928,
          6.892,
          6.772,
          6.839,
          6.882,
          6.857,
          6.944,
          6.451,
          5.956,
          3.33,
          3.667,
          3.87,
          3.193,
          3.479,
          3.347,
          3.625,
          4.007,
          4.853,
          5.82,
          4.976,
          4.408,
          4.493,
          4.217,
          4.42,
          5.569,
          4.939,
          5.082,
          5.374,
          5.628,
          5.298,
          6.086,
          5.781,
          5.779,
          6.019,
          5.767,
          5.865,
          5.834,
          5.77,
          5.651,
          5.916,
          5.674,
          5.559,
          5.569,
          5.929,
          5.86,
          4.9,
          4.963,
          4.669,
          4.995,
          4.773,
          5.124,
          5.249,
          5.117,
          5.181,
          5.09,
          5.887,
          6.016,
          5.516,
          5.749,
          5.872,
          6.009,
          4.739,
          5.451,
          3.553,
          3.52,
          4.836,
          4.128,
          4.031,
          3.762,
          3.499,
          3.505,
          3.461,
          3.471,
          3.435,
          3.332,
          6.637,
          6.321,
          6.691,
          7.001,
          6.837,
          7.038,
          6.66,
          7.14,
          6.981,
          6.547,
          6.375,
          6.333,
          6.191,
          6.451,
          6.11,
          6.01,
          6.257,
          6.553,
          3.844,
          3.912,
          3.875,
          4.222,
          3.993,
          4.438,
          4.865,
          4.838,
          5.097,
          5.099,
          5.108,
          5.598,
          5.422,
          5.378,
          5.59,
          3.801,
          4.017,
          3.846,
          4.036,
          4.785,
          3.955,
          3.326,
          3.481,
          4.419,
          4.206,
          4.647,
          4.927,
          4.741,
          4.64,
          4.636,
          4.462,
          3.563,
          3.792,
          3.706,
          2.905,
          3.775,
          3.569,
          4.156,
          4.462,
          4.111,
          4.141,
          4.161,
          3.899,
          3.674,
          3.883,
          4.162,
          4.461,
          4.586,
          5.122,
          4.998,
          4.377,
          4.555,
          4.25,
          4.221,
          3.851,
          4.35,
          4.292,
          4.741,
          4.554,
          4.434,
          4.245,
          4.271,
          4.24,
          5.038,
          4.816,
          5.074,
          5.251,
          4.937,
          5.241,
          4.963,
          4.712,
          4.946,
          7.418,
          7.482,
          7.486,
          7.488,
          7.65,
          7.426,
          7.415,
          7.594,
          7.304,
          7.413,
          7.245,
          7.415,
          7.175,
          7.109,
          7.025,
          6.939,
          6.918,
          6.841,
          4.16,
          3.568,
          3.678,
          2.693,
          3.476,
          3.435,
          4.141,
          4.632,
          3.639,
          3.743,
          4.393,
          4.033,
          3.508,
          3.46,
          4.323,
          4.029,
          4.559,
          4.486,
          4.251,
          4.397,
          4.544,
          6.063,
          5.698,
          5.789,
          6.494,
          6.636,
          6.526,
          6.599,
          6.74,
          6.844,
          6.533,
          6.579,
          6.32,
          6.436,
          5.942,
          6.151,
          6.436,
          6.415,
          6.23,
          4.56,
          4.863,
          4.846,
          4.454,
          4.653,
          5.037,
          5.095,
          5.241,
          5.196,
          5.304,
          5.325,
          5.099,
          5.131,
          5.144,
          5.771,
          5.863,
          6.145,
          6.025,
          6.138,
          6.168,
          6.272,
          6.408,
          6.464,
          6.375,
          6.607,
          6.449,
          6.388,
          6.234,
          6.157,
          5.984,
          6.35,
          5.709,
          5.29,
          5.892,
          5.904,
          3.476,
          3.812,
          3.838,
          3.956,
          3.973,
          4.609,
          3.545,
          3.588,
          3.82,
          4.51,
          3.919,
          3.955,
          4.056,
          4.691,
          4.119,
          4.884,
          5.49,
          5.213,
          5.079,
          4.921,
          5.805,
          4.954,
          3.984,
          4.517,
          4.639,
          4.497,
          4.414,
          3.903,
          4.522,
          4.311,
          3.207,
          3.383,
          7.082,
          7.432,
          6.851,
          7.615,
          7.271,
          7.229,
          7.272,
          7.158,
          7.247,
          6.854,
          7.136,
          7.225,
          7.141,
          6.998,
          6.338,
          6.408,
          7.077,
          7.384,
          5.821,
          5.433,
          5.596,
          5.385,
          6.028,
          5.885,
          5.381,
          5.205,
          5.417,
          5.343,
          5.536,
          5.626,
          6.508,
          6.287,
          5.579,
          5.958,
          5.418,
          6.238,
          6.833,
          6.387,
          6.69,
          6.181,
          5.439,
          5.627,
          5.439,
          5.795,
          6.062,
          6.276,
          6.137,
          6.26,
          6.269,
          5.865,
          6.071,
          6.439,
          6.5,
          6.25,
          6.331,
          6.334,
          6.698,
          6.484,
          6.608,
          6.736,
          6.79,
          7.034,
          6.897,
          6.942,
          6.695,
          6.827,
          8.019,
          7.834,
          7.971,
          7.683,
          7.771,
          7.788,
          7.52,
          7.589,
          7.508,
          7.514,
          7.558,
          7.594,
          7.649,
          7.693,
          7.515,
          7.699,
          7.545,
          7.504,
          5.009,
          4.906,
          5.006,
          4.369,
          5.088,
          5.081,
          4.842,
          5.432,
          4.735,
          5.397,
          4.753,
          5.016,
          5.387,
          5.062,
          5.239,
          5.605,
          5.433,
          6.004,
          5.168,
          6.031,
          5.518,
          5.921,
          5.024,
          4.996,
          5.297,
          6.022,
          5.838,
          5.795,
          5.961,
          6.019,
          5.946,
          5.964,
          6.115,
          5.84,
          6.128,
          5.809,
          5.354,
          5.435,
          5.887,
          5.852,
          5.168,
          5.541,
          4.632,
          5.066,
          4.669,
          4.174,
          4.204,
          3.559,
          4.885,
          4.763,
          4.557,
          3.929,
          4.005,
          4.328,
          4.472,
          4.026,
          4.024,
          3.881,
          5.701,
          5.296,
          5.191,
          6.839,
          6.74,
          4.741,
          5.934,
          6.325,
          5.857,
          6.018,
          6.14,
          6.339,
          6.241,
          6.455,
          5.462,
          6.431,
          6.492,
          6.482,
          5.371,
          5.332,
          5.452,
          5.138,
          5.487,
          5.364,
          5.367,
          5.556,
          5.629,
          5.65,
          5.938,
          6.091,
          6.035,
          6.453,
          6.554,
          6.357,
          6.43,
          4.867,
          4.212,
          4.396,
          3.502,
          4.561,
          4.445,
          4.507,
          4.573,
          4.298,
          4.18,
          4.379,
          4.1,
          4.549,
          3.628,
          4.093,
          7.672,
          7.671,
          7.393,
          7.354,
          7.42,
          7.445,
          7.385,
          7.448,
          7.66,
          7.788,
          7.858,
          7.78,
          7.889,
          7.794,
          7.729,
          7.699,
          7.093,
          6.583,
          7.008,
          6.283,
          6.798,
          6.959,
          6.649,
          6.667,
          6.467,
          6.358,
          6.475,
          6.635,
          6.666,
          6.69,
          6.714,
          6.656,
          6.614,
          6.557,
          4.255,
          3.972,
          3.8,
          3.918,
          4.661,
          4.832,
          4.782,
          4.783,
          4.914,
          4.887,
          5.075,
          5.14,
          5.104,
          4.118,
          4.922,
          5.164,
          4.279,
          4.691,
          3.675,
          3.707,
          4.156,
          3.801,
          4.102,
          4.203,
          4.254,
          4.349,
          4.288,
          4.122,
          4.448,
          4.451,
          4.659,
          4.892,
          5.123,
          4.911,
          5.293,
          5.351,
          6.62,
          6.417,
          6.522,
          6.641,
          6.725,
          6.621,
          6.702,
          6.965,
          6.984,
          7.037,
          6.874,
          7.074,
          7.118,
          7.035,
          7.312,
          6.755,
          6.608,
          6.792,
          4.535,
          5.22,
          4.965,
          4.198,
          4.606,
          5.608,
          5.057,
          4.965,
          3.86,
          3.986,
          4.514,
          5.481,
          5.004,
          4.967,
          5.319,
          4.378,
          4.191,
          4.298,
          6.006,
          6.647,
          6.039,
          5.84,
          5.372,
          5.096,
          4.72,
          4.756,
          5.623,
          5.303,
          5.148,
          5.409,
          5.952,
          5.788,
          6.104,
          5.9,
          5.796,
          5.901,
          6.33,
          6.414,
          6.452,
          6.29,
          5.743,
          5.856,
          5.985,
          6.536,
          6.465,
          6.359,
          6.325,
          6.627,
          6.262,
          6.15,
          6.421,
          4.045,
          3.652,
          3.902,
          3.412,
          3.505,
          3.603,
          4.874,
          5.252,
          4.768,
          4.972,
          4.945,
          5.317,
          4.827,
          5.993,
          3.754,
          3.846,
          3.766,
          4.845,
          4.413,
          4.622,
          3.889,
          3.57,
          3.352,
          3.824,
          3.615,
          5.397,
          5.097,
          5.42,
          6.033,
          5.866,
          4.961,
          4.602,
          4.713,
          5.056,
          4.845,
          5.648,
          6.02,
          5.908,
          5.93,
          6.114,
          5.932,
          5.861,
          5.511,
          5.137,
          5.397,
          5.643,
          5.474,
          5.484,
          5.458,
          5.498,
          5.362,
          5.659,
          5.295,
          5.322,
          5.311,
          5.194,
          4.954,
          4.895,
          4.725,
          4.918,
          4.683,
          4.914,
          5.181,
          5.344,
          5.449,
          6.065,
          5.936,
          6,
          6.038,
          6.227,
          5.861,
          5.965,
          6.888,
          7.591,
          7.501,
          7.498,
          7.51,
          7.476,
          7.533,
          7.575,
          7.565,
          7.449,
          7.562,
          5.348,
          5.027,
          5.146,
          4.522,
          4.989,
          4.635,
          4.72,
          4.428,
          4.424,
          4.342,
          4.179,
          4.046,
          3.818,
          3.249,
          4.224,
          3.558,
          3.93,
          4.676,
          4.947,
          5.101,
          4.815,
          5.472,
          5.457,
          5.173,
          5.368,
          5.292,
          5.597,
          5.043,
          5.136,
          5.098,
          5.34,
          5.347,
          4.828,
          5.433,
          5.585,
          5.695,
          5.308,
          5.336,
          5.129,
          4.768,
          4.609,
          5.14,
          4.682,
          4.75,
          4.653,
          4.717,
          4.278,
          5.006,
          4.865,
          4.788,
          4.977,
          5.004,
          4.59,
          4.775,
          5.065,
          4.725,
          4.66,
          4.725,
          4.542,
          4.493,
          4.413,
          4.462,
          4.886,
          4.785,
          5.094,
          4.928,
          5.475,
          7.144,
          7.568,
          7.046,
          7.257,
          7.007,
          6.965,
          6.76,
          7.018,
          6.83,
          7.041,
          7.06,
          6.962,
          7.255,
          7.035,
          6.828,
          6.87,
          6.817,
          7.173,
          6.841,
          7.261,
          7.353,
          7.359,
          7.433,
          7.111,
          7.321,
          7.401,
          7.079,
          7.159,
          7.331,
          6.927,
          7.332,
          7.195,
          7.578,
          7.662,
          6.783,
          6.854,
          6.574,
          6.78,
          6.334,
          6.354,
          6.057,
          5.839,
          6.009,
          6.027,
          5.848,
          5.955,
          6.199,
          6.517,
          6.445,
          6.488,
          6.467,
          6.258,
          6.245,
          4.197,
          3.739,
          3.57,
          4.445,
          4.543,
          5.038,
          5.268,
          5.392,
          5.257,
          5.056,
          4.849,
          5.337,
          6.208,
          5.374,
          5.709,
          5.311,
          5.89,
          6.309,
          5.425,
          5.814,
          5.87,
          6.516,
          6.238,
          5.911,
          5.845,
          6.057,
          6.263,
          5.968,
          5.959,
          5.923,
          5.88,
          5.955,
          5.911,
          5.794,
          5.908,
          6.118,
          6.091,
          6.178,
          5.91,
          6.295,
          5.598,
          4.93,
          6,
          5.57,
          5.539,
          5.132,
          5.172,
          5.333,
          5.405,
          5.271,
          4.808,
          4.639,
          4.453,
          4.094,
          3.909,
          4.356,
          4.292,
          5.476,
          5.719,
          5.886,
          5.383,
          5.514,
          5.736,
          5.759,
          5.835,
          5.97,
          5.95,
          5.534,
          5.882,
          6.008,
          6.272,
          6.168,
          6.26,
          6.006,
          6.299,
          4.223,
          4.576,
          4.015,
          4.27,
          4.256,
          4.405,
          4.547,
          3.795,
          4.905,
          4.358,
          4.396,
          4.476,
          4.656,
          4.619,
          4.547,
          4.465,
          4.448,
          4.496,
          5.104,
          5.522,
          5.891,
          5.177,
          4.86,
          5.64,
          6.126,
          5,
          5.077,
          5.759,
          6.149,
          6.392,
          6.425,
          6.294,
          6.648,
          6.16,
          6.878,
          6.076,
          6.585,
          6.798,
          6.378,
          6.221,
          6.48,
          6.18,
          6.146,
          5.947,
          6.094,
          6.106,
          6.758,
          7.13,
          4.641,
          4.698,
          4.737,
          5.069,
          4.996,
          4.921,
          5.208,
          5.402,
          5.252,
          4.905,
          4.857,
          5.63,
          5.297,
          5.685,
          6.25,
          5.564,
          5.668,
          5.91,
          5.076,
          5.364,
          5.044,
          4.704,
          4.876,
          4.623,
          4.859,
          5.197,
          5.284,
          4.927,
          4.962,
          5.486,
          4.71,
          4.667,
          5.145,
          4.669,
          4.967,
          5.125,
          5.07,
          5.729,
          5.881,
          5.94,
          5.978,
          5.901,
          5.97,
          6.229,
          6.353,
          6.055,
          6.296,
          5.491,
          4.653,
          4.595,
          5.206,
          5.032,
          5.188,
          4.573,
          4.983,
          5.233,
          5.172,
          5.271,
          5.154,
          5.167,
          4.024,
          2.634,
          2.179,
          2.352,
          3.588,
          4.898,
          3.808,
          3.795,
          3.512,
          3.186,
          3.701,
          4.221,
          4.196,
          4.571,
          2.702,
          3.355,
          4.424,
          4.135,
          5.121,
          4.042,
          4.494,
          5.754,
          5.615,
          5.434,
          5.647,
          5.494,
          5.33,
          5.76,
          5.97,
          5.954,
          5.808,
          5.554,
          5.467,
          5.066,
          5.432,
          5.771,
          5.596,
          6.126,
          5.711,
          5.866,
          6.273,
          6.309,
          6.064,
          6.391,
          6.865,
          7.038,
          6.553,
          6.958,
          7.097,
          7.101,
          6.964,
          7.131,
          6.891,
          6.702,
          6.967,
          7.061,
          7.243,
          7.404,
          7.228,
          7.016,
          3.98,
          4.64,
          4.381,
          3.551,
          3.816,
          3.676,
          3.593,
          3.663,
          4.079,
          4.071,
          4.339,
          4.019,
          4.433,
          3.83,
          4.891,
          5.148,
          3.946,
          4.279,
          4.035,
          4.563,
          3.868,
          3.476,
          3.417,
          3.335,
          3.869,
          3.635,
          3.356,
          3.272,
          6.012,
          6.239,
          5.807,
          5.385,
          5.58,
          5.786,
          5.914,
          5.77,
          5.963,
          6.322,
          5.339,
          5.428,
          6.014,
          6.01,
          6.048,
          5.868,
          5.198,
          4.014,
          4.115,
          3.977,
          3.762,
          4.667,
          4.313,
          3.676,
          3.975,
          4.582,
          4.016,
          4.742,
          4.416,
          4.988,
          4.269,
          4.113,
          4.211,
          4.37,
          6.328,
          5.774,
          6.155,
          5.963,
          6.38,
          6.452,
          6.613,
          6.591,
          6.676,
          6.91,
          6.733,
          6.157,
          6.444,
          6.299,
          6.295,
          4.149,
          4.248,
          4.5,
          4.772,
          4.785,
          4.673,
          4.199,
          4.483,
          3.923,
          4.472,
          4.678,
          4.314,
          4.153,
          4.724,
          4.292,
          5.477,
          5.648,
          5.61,
          6.174,
          5.882,
          6.241,
          6.015,
          5.949,
          5.741,
          5.759,
          6.581,
          6.525,
          6.829,
          6.963,
          6.802,
          6.91,
          7.32,
          7.443,
          6.68,
          6.236,
          6.824,
          6.41,
          6.55,
          6.432,
          5.964,
          5.991,
          7.038,
          7.006,
          5.102,
          4.775,
          5.503,
          5.554,
          5.59,
          5.792,
          5.996,
          5.756,
          5.917,
          6.017,
          5.578,
          5.326,
          5.682,
          5.803,
          5.812,
          5.959,
          5.687,
          5.801,
          4.609,
          4.493,
          4.586,
          5.031,
          4.885,
          4.913,
          4.825,
          4.983,
          5.057,
          5.334,
          5.465,
          5.563,
          6.011,
          5.721,
          5.788,
          5.58,
          5.196,
          4.801,
          5.455,
          5.223,
          5.219,
          5.074,
          5.283,
          5.125,
          5.304,
          5.615,
          5.65,
          5.386,
          5.722,
          5.6,
          5.813,
          4.383,
          5.085,
          4.97,
          5.142,
          5.163,
          5.386,
          5.312,
          4.897,
          5.057,
          4.803,
          5.326,
          4.596,
          4.487,
          4.595,
          4.833,
          4.654,
          4.971,
          4.55,
          4.28,
          4.654,
          4.932,
          5.178,
          4.74,
          5.704,
          4.439,
          4.176,
          4.786,
          4.224,
          4.623,
          4.154,
          4.411,
          4.434,
          4.431,
          4.314,
          4.359,
          4.391,
          4.886,
          4.574,
          4.441,
          4.834,
          4.436,
          4.451,
          4.491,
          4.949,
          5.055,
          4.567,
          4.748,
          4.441,
          4.917,
          4.35,
          3.809,
          4.233,
          4.605,
          4.975,
          4.812,
          5.1,
          4.737,
          4.91,
          5.449,
          5.982,
          4.622,
          5.474,
          5.389,
          7.464,
          7.452,
          7.631,
          7.502,
          7.564,
          7.471,
          7.407,
          7.321,
          7.324,
          7.541,
          7.459,
          7.463,
          7.425,
          7.504,
          7.314,
          7.39,
          7.255,
          7.305,
          7.604,
          7.381,
          7.224,
          7.191,
          7.25,
          7.28,
          7.306,
          7.418,
          7.226,
          7.327,
          7.37,
          7.205,
          7.257,
          7.137,
          6.975,
          6.976,
          4.46,
          4.944,
          5.104,
          5.353,
          5.687,
          5.386,
          5.448,
          5.772,
          6.275,
          5.924,
          6.013,
          6.476,
          5.819,
          6.113,
          6.287,
          6.095,
          6.392,
          6.362,
          3.737,
          4.277,
          4.236,
          4.267,
          4.101,
          4.556,
          3.798,
          3.716,
          4.181,
          3.671,
          4.235,
          4.616,
          5.164,
          5.004,
          4.501,
          4.609,
          4.71,
          4.89,
          4.939,
          4.98,
          4.76,
          5.493,
          4.818,
          4.933,
          5.22,
          5.322,
          5.252,
          4.266,
          5.503,
          4.479,
          5.294,
          4.869,
          4.494,
          4.428,
          4.18,
          4.898,
          4.64,
          5.186,
          5.204,
          4.976,
          5.346,
          5.234,
          5.24,
          5.015,
          5.054,
          5.535,
          5.167,
          5.403,
          7.416,
          7.632,
          7.678,
          7.444,
          7.603,
          7.596,
          7.579,
          7.444,
          7.442,
          7.29,
          7.362,
          7.295,
          7.249,
          6.853,
          5.225,
          5.671,
          4.414,
          5.208,
          5.786,
          5.267,
          5.132,
          5.138,
          5.436,
          4.823,
          5.549,
          5.831,
          5.472,
          4.443,
          4.624,
          4.487,
          4.931,
          4.549,
          6.128,
          6.894,
          6.931,
          7.034,
          7.321,
          7.248,
          6.86,
          6.866,
          6.631,
          6.606,
          6.118,
          6.568,
          6.281,
          6.086,
          6.553,
          5.979,
          6.543,
          4.73,
          5.272,
          5.57,
          5.576,
          5.841,
          5.677,
          5.82,
          5.936,
          5.119,
          5.56,
          5.801,
          5.713,
          5.653,
          5.501,
          5.576,
          6.138,
          6.214,
          4.811,
          5.214,
          5.129,
          5.519,
          5.613,
          5.892,
          5.825,
          5.783,
          5.866,
          5.577,
          5.701,
          5.711,
          5.68,
          5.999,
          4.994,
          5.694,
          5.892,
          5.936,
          4.67,
          5.074,
          4.589,
          4.88,
          4.942,
          4.994,
          5.002,
          4.977,
          5.313,
          5.547,
          5.431,
          5.594,
          5.869,
          6.268,
          5.08,
          5.965,
          5.995,
          6.184,
          5.587,
          5.886,
          5.772,
          5.887,
          5.646,
          5.876,
          5.746,
          5.75,
          6.007,
          6.162,
          6.201,
          6.111,
          6.242,
          6.139,
          5.978,
          6.666,
          6.685,
          5.405,
          5.717,
          5.095,
          5.22,
          4.994,
          5.158,
          5.127,
          5.081,
          5.447,
          5.711,
          5.92,
          6.095,
          5.768,
          6.183,
          5.953,
          5.954,
          6.418,
          6.85,
          6.592,
          6.611,
          6.375,
          5.049,
          5.394,
          5.368,
          4.909,
          5.023,
          5.167,
          5.082,
          5.727,
          5.777,
          5.969,
          6.09,
          6.151,
          6.13,
          6.785,
          6.549,
          6.437,
          6.489,
          4.964,
          5.223,
          5.619,
          5.158,
          5.385,
          5.389,
          5.621,
          5.537,
          6.037,
          5.996,
          5.855,
          5.579,
          5.514,
          5.441,
          5.495,
          5.448,
          6.044,
          5.865,
          4.215,
          4.363,
          4.03,
          4.097,
          3.333,
          3.466,
          3.596,
          3.483,
          3.333,
          3.108,
          3.561,
          3.268,
          7.08,
          7.267,
          6.811,
          6.148,
          6.307,
          6.7,
          6.396,
          6.495,
          6.278,
          6.345,
          6.474,
          6.294,
          6.356,
          6.561,
          6.56,
          6.445,
          6.382,
          6.953,
          4.417,
          4.68,
          4.683,
          4.335,
          4.372,
          3.834,
          3.669,
          3.647,
          4.395,
          4.617,
          4.595,
          4.683,
          4.769,
          5.489,
          4.757,
          4.903,
          4.907,
          5.093,
          4.75,
          4.38,
          4.461,
          4.815,
          5.155,
          5.102,
          5.113,
          5.318,
          5.753,
          5.122,
          5.936,
          6.241,
          6.042,
          6.245,
          6.546,
          6.441,
          3.628,
          3.585,
          2.997,
          4.134,
          4.502,
          4.514,
          4.5,
          4.909,
          4.733,
          4.09,
          4.306,
          3.447,
          3.714,
          2.56,
          3.467,
          6.463,
          6.834,
          6.642,
          6.145,
          6.531,
          6.561,
          6.533,
          7.062,
          6.62,
          6.033,
          6.378,
          6.375,
          6.378,
          6.587,
          6.333,
          6.654,
          5.265,
          6.052,
          5.945,
          5.911,
          5.937,
          6.139,
          6.162,
          5.993,
          6.366,
          6.235,
          6.243,
          6.519,
          6.419,
          6.091,
          6.261,
          5.811,
          5.83,
          6.083,
          6.036,
          6.063,
          5.975,
          5.678,
          5.741,
          5.937,
          6.167,
          6.249,
          6.665,
          6.462,
          6.761,
          6.723,
          6.746,
          5.528,
          5.354,
          4.668,
          4.991,
          4.657,
          4.931,
          5.057,
          5.084,
          5.204,
          5.346,
          5.218,
          4.652,
          4.931,
          5.134,
          3.661,
          4.828,
          4.887,
          4.77,
          4.514,
          4.884,
          5.035,
          4.947,
          5.599,
          5.581,
          5.076,
          5.332,
          5.767,
          5.39,
          5.648,
          6.116,
          6.947,
          6.003,
          5.959,
          5.801,
          5.78,
          5.971,
          5.874,
          5.84,
          5.903,
          5.793,
          6.113,
          5.95,
          6.112,
          3.832,
          4.071,
          2.888,
          2.817,
          7.153,
          6.995,
          7.294,
          6.199,
          6.188,
          6.518,
          6.291,
          6.15,
          6.456,
          6.381,
          6.319,
          6.23,
          6.513,
          6.457,
          6.502,
          6.47,
          6.337,
          6.456,
          4.345,
          4.415,
          4.431,
          4.212,
          3.977,
          4.181,
          4.225,
          4.365,
          4.268,
          4.612,
          4.331,
          4.435,
          4.213,
          4.778,
          4.103,
          3.985,
          3.602,
          4.716,
          4.151,
          4.386,
          4.47,
          4.703,
          4.751,
          4.647,
          4.844,
          4.722,
          4.695,
          4.907,
          4.628,
          4.554,
          4.483,
          4.908,
          4.851,
          4.455,
          4.435,
          4.314,
          4.55,
          4.139,
          6.269,
          7.376,
          7.241,
          7.516,
          7.266,
          7.496,
          7.382,
          7.56,
          7.434,
          7.239,
          7.289,
          7.369,
          7.287,
          7.375,
          7.398,
          7.314,
          7.439,
          7.431,
          7.161,
          7.473,
          7.525,
          7.776,
          7.493,
          7.572,
          7.459,
          7.474,
          7.509,
          7.694,
          7.508,
          7.328,
          6.884,
          6.969,
          5.323,
          4.979,
          4.465,
          4.038,
          3.164,
          2.688,
          3.462,
          6.189,
          5.548,
          6.229,
          6.309,
          6.126,
          6.34,
          6.363,
          6.45,
          6.513,
          6.359,
          6.467,
          6.537,
          6.751,
          6.247,
          6.607,
          6.655,
          4.613,
          4.432,
          5.064,
          4.575,
          4.381,
          4.263,
          4.497,
          4.967,
          4.896,
          5.124,
          5.104,
          5.829,
          5.497,
          5.464,
          5.373,
          5.287,
          5.176,
          5.379,
          3.922,
          4.318,
          4.385,
          3.408,
          3.229,
          4.074,
          4.007,
          3.852,
          3.483,
          3.661,
          2.903,
          3.347,
          3.445,
          3.64,
          3.786,
          3.681,
          3.616,
          4.042,
          5.885,
          5.784,
          5.636,
          5.476,
          6.217,
          6.664,
          6.3,
          6.231,
          6.985,
          6.202,
          6.074,
          5.939,
          6.012,
          6.022,
          5.885,
          5.638,
          6.007,
          6.282,
          3.202,
          2.808,
          2.936,
          2.839,
          3.768,
          3.879,
          4.361,
          4.023,
          4.179,
          4.037,
          4.239,
          4.365,
          5.832,
          6.696,
          6.519,
          6.168,
          6.192,
          5.025,
          5.131,
          4.876,
          4.464,
          5.246,
          4.764,
          5.132,
          4.521,
          4.124,
          4.741,
          4.315,
          4.731,
          4.499,
          4.261,
          4.505,
          6.568,
          5.792,
          5.464,
          5.392,
          5.787,
          5.791,
          5.887,
          5.229,
          4.621,
          5.474,
          4.719,
          5.623,
          5.118,
          5.213,
          5.49,
          5.272,
          5.309,
          4.888,
          5.58,
          5.514,
          5.326,
          5.607,
          5.186,
          4.872,
          4.862,
          4.367,
          5.093,
          5.463,
          3.734,
          4.456,
          4.569,
          4.612,
          4.193,
          4.826,
          4.309,
          3.71,
          3.77,
          4.238,
          4.233,
          4.001,
          4.322,
          4.948,
          4.641,
          4.225,
          4.425,
          4.467,
          4.804,
          5.252,
          5.172,
          5.166,
          5.058,
          5.083,
          5.03,
          4.711,
          4.297,
          3.965,
          4.029,
          4.311,
          4.662,
          4.702,
          5.27,
          5.311,
          4.637,
          4.672,
          6.734,
          6.866,
          7.097,
          7.119,
          7.218,
          6.621,
          6.54,
          6.568,
          6.831,
          7.039,
          6.604,
          6.711,
          6.458,
          6.733,
          6.738,
          6.728,
          6.984,
          6.802,
          6.986,
          6.907,
          7.029,
          6.869,
          6.881,
          6.918,
          6.758,
          6.515,
          6.824,
          7.103,
          7.233,
          7.157,
          6.798,
          6.867,
          6.722,
          6.658,
          7.182,
          7.513,
          7.28,
          7.158,
          7.164,
          7.115,
          7.026,
          7.249,
          7.151,
          6.864,
          6.804,
          6.992,
          6.883,
          6.944,
          7.028,
          6.959,
          6.693,
          6.521,
          5.786,
          5.694,
          5.664,
          6.296,
          6.062,
          6.554,
          6.45,
          6.444,
          6.561,
          6.628,
          6.171,
          6.336,
          6.372,
          6.6,
          6.31,
          6.502,
          6.671,
          6.662,
          5.232,
          5.311,
          5.261,
          5.095,
          5.739,
          6.019,
          5.94,
          6.049,
          5.972,
          5.893,
          6.421,
          6.205,
          6.154,
          5.842,
          6.185,
          6.016,
          6.385,
          7.17,
          6.525,
          6.258,
          7.189,
          7.478,
          6.58,
          7.067,
          6.553,
          6.136,
          5.569,
          4.041,
          5.071,
          5.006,
          5.081,
          4.574,
          5.108,
          5.949,
          5.765,
          5.294,
          5.422,
          5.48,
          5.304,
          5.296,
          5.767,
          5.535,
          5.023,
          5.085,
          5.076,
          5.062,
          5.175,
          5.296,
          5.467,
          5.462,
          5.54,
          6.267,
          6.325,
          4.477,
          4.809,
          4.35,
          3.746,
          4.061,
          4.218,
          3.968,
          2.983,
          3.826,
          3.254,
          3.058,
          4.197,
          3.59,
          3.532,
          4.824,
          3.998,
          4.73,
          5.26,
          4.999,
          5.013,
          5.244,
          4.346,
          4.843,
          4.348,
          3.933,
          4.041,
          3.307,
          4.838,
          3.082,
          3.728,
          3.686,
          3.826,
          3.28,
          3.174,
          4.056,
          4.682,
          4.846,
          4.955,
          4.69,
          4.184,
          3.703,
          3.735,
          3.638,
          3.616,
          2.694,
          3.16,
          3.155,
          3.296,
          3.572
         ],
         "yaxis": "y"
        },
        {
         "hovertemplate": "<b>OLS trendline</b><br>Glücklichkeitswert = 0.76088 * BIP pro Kopf + -1.66096<br>R<sup>2</sup>=0.613960<br><br>BIP pro Kopf=%{x}<br>Glücklichkeitswert=%{y} <b>(trend)</b><extra></extra>",
         "legendgroup": "",
         "line": {
          "color": "red"
         },
         "marker": {
          "color": "#636efa",
          "symbol": "circle"
         },
         "mode": "lines",
         "name": "",
         "showlegend": false,
         "type": "scattergl",
         "x": [
          5.527,
          5.935,
          5.943,
          6.607,
          6.687,
          6.694,
          6.699,
          6.7,
          6.707,
          6.723,
          6.733,
          6.769,
          6.792,
          6.803,
          6.83,
          6.84,
          6.851,
          6.867,
          6.872,
          6.885,
          6.887,
          6.905,
          6.907,
          6.918,
          6.929,
          6.931,
          6.932,
          6.937,
          6.94,
          6.946,
          6.98,
          6.981,
          6.994,
          6.996,
          7.015,
          7.02,
          7.025,
          7.031,
          7.032,
          7.042,
          7.053,
          7.057,
          7.076,
          7.078,
          7.084,
          7.087,
          7.105,
          7.112,
          7.122,
          7.125,
          7.147,
          7.148,
          7.151,
          7.159,
          7.16,
          7.165,
          7.174,
          7.177,
          7.179,
          7.181,
          7.205,
          7.207,
          7.21,
          7.213,
          7.221,
          7.231,
          7.243,
          7.245,
          7.246,
          7.247,
          7.252,
          7.253,
          7.254,
          7.257,
          7.27,
          7.273,
          7.273,
          7.277,
          7.279,
          7.283,
          7.283,
          7.287,
          7.291,
          7.299,
          7.307,
          7.307,
          7.309,
          7.309,
          7.311,
          7.312,
          7.313,
          7.314,
          7.315,
          7.319,
          7.324,
          7.325,
          7.325,
          7.325,
          7.327,
          7.328,
          7.33,
          7.332,
          7.333,
          7.335,
          7.337,
          7.342,
          7.343,
          7.345,
          7.35,
          7.351,
          7.351,
          7.354,
          7.355,
          7.361,
          7.363,
          7.364,
          7.365,
          7.366,
          7.368,
          7.369,
          7.369,
          7.369,
          7.37,
          7.374,
          7.384,
          7.386,
          7.387,
          7.396,
          7.4,
          7.401,
          7.406,
          7.412,
          7.412,
          7.413,
          7.413,
          7.416,
          7.422,
          7.423,
          7.428,
          7.429,
          7.444,
          7.448,
          7.45,
          7.459,
          7.459,
          7.46,
          7.462,
          7.468,
          7.476,
          7.478,
          7.482,
          7.495,
          7.497,
          7.498,
          7.509,
          7.509,
          7.509,
          7.513,
          7.52,
          7.521,
          7.525,
          7.525,
          7.529,
          7.53,
          7.531,
          7.538,
          7.54,
          7.551,
          7.552,
          7.554,
          7.556,
          7.557,
          7.558,
          7.561,
          7.564,
          7.565,
          7.568,
          7.569,
          7.572,
          7.576,
          7.577,
          7.581,
          7.587,
          7.587,
          7.589,
          7.59,
          7.591,
          7.591,
          7.595,
          7.596,
          7.599,
          7.602,
          7.602,
          7.604,
          7.607,
          7.608,
          7.609,
          7.61,
          7.613,
          7.614,
          7.614,
          7.615,
          7.617,
          7.625,
          7.626,
          7.627,
          7.631,
          7.631,
          7.632,
          7.634,
          7.634,
          7.637,
          7.64,
          7.642,
          7.647,
          7.647,
          7.648,
          7.648,
          7.65,
          7.654,
          7.654,
          7.654,
          7.655,
          7.657,
          7.659,
          7.661,
          7.661,
          7.662,
          7.663,
          7.665,
          7.667,
          7.667,
          7.67,
          7.671,
          7.673,
          7.675,
          7.679,
          7.68,
          7.683,
          7.686,
          7.687,
          7.688,
          7.69,
          7.69,
          7.692,
          7.693,
          7.698,
          7.7,
          7.704,
          7.705,
          7.705,
          7.714,
          7.717,
          7.717,
          7.719,
          7.72,
          7.724,
          7.725,
          7.733,
          7.733,
          7.734,
          7.735,
          7.743,
          7.745,
          7.746,
          7.747,
          7.748,
          7.754,
          7.755,
          7.759,
          7.761,
          7.766,
          7.772,
          7.775,
          7.775,
          7.776,
          7.783,
          7.785,
          7.805,
          7.807,
          7.809,
          7.813,
          7.814,
          7.817,
          7.826,
          7.828,
          7.834,
          7.842,
          7.844,
          7.844,
          7.852,
          7.853,
          7.855,
          7.857,
          7.86,
          7.865,
          7.867,
          7.872,
          7.874,
          7.876,
          7.879,
          7.879,
          7.891,
          7.893,
          7.894,
          7.895,
          7.897,
          7.901,
          7.904,
          7.916,
          7.918,
          7.924,
          7.93,
          7.931,
          7.932,
          7.934,
          7.934,
          7.935,
          7.94,
          7.941,
          7.942,
          7.943,
          7.946,
          7.948,
          7.955,
          7.957,
          7.958,
          7.958,
          7.967,
          7.968,
          7.971,
          7.976,
          7.976,
          7.984,
          7.987,
          7.993,
          7.997,
          7.999,
          8,
          8.01,
          8.013,
          8.014,
          8.015,
          8.015,
          8.016,
          8.02,
          8.026,
          8.034,
          8.036,
          8.043,
          8.044,
          8.045,
          8.047,
          8.054,
          8.056,
          8.056,
          8.057,
          8.057,
          8.06,
          8.066,
          8.067,
          8.067,
          8.067,
          8.07,
          8.071,
          8.074,
          8.074,
          8.082,
          8.082,
          8.082,
          8.084,
          8.085,
          8.085,
          8.086,
          8.087,
          8.089,
          8.089,
          8.09,
          8.094,
          8.095,
          8.099,
          8.1,
          8.101,
          8.101,
          8.101,
          8.104,
          8.104,
          8.106,
          8.108,
          8.111,
          8.115,
          8.115,
          8.121,
          8.122,
          8.123,
          8.123,
          8.124,
          8.125,
          8.127,
          8.127,
          8.127,
          8.13,
          8.13,
          8.133,
          8.134,
          8.139,
          8.14,
          8.141,
          8.142,
          8.144,
          8.145,
          8.15,
          8.159,
          8.159,
          8.164,
          8.164,
          8.166,
          8.167,
          8.169,
          8.173,
          8.174,
          8.176,
          8.179,
          8.179,
          8.179,
          8.181,
          8.181,
          8.181,
          8.182,
          8.185,
          8.193,
          8.2,
          8.2,
          8.201,
          8.201,
          8.203,
          8.205,
          8.207,
          8.207,
          8.212,
          8.214,
          8.215,
          8.216,
          8.216,
          8.219,
          8.221,
          8.225,
          8.225,
          8.226,
          8.229,
          8.231,
          8.231,
          8.233,
          8.233,
          8.234,
          8.238,
          8.239,
          8.249,
          8.25,
          8.252,
          8.256,
          8.257,
          8.258,
          8.264,
          8.269,
          8.271,
          8.274,
          8.275,
          8.277,
          8.278,
          8.282,
          8.285,
          8.287,
          8.291,
          8.294,
          8.302,
          8.308,
          8.308,
          8.309,
          8.312,
          8.314,
          8.314,
          8.314,
          8.315,
          8.318,
          8.321,
          8.323,
          8.325,
          8.326,
          8.328,
          8.329,
          8.329,
          8.331,
          8.334,
          8.337,
          8.345,
          8.346,
          8.347,
          8.347,
          8.35,
          8.351,
          8.351,
          8.353,
          8.357,
          8.359,
          8.361,
          8.363,
          8.369,
          8.369,
          8.371,
          8.374,
          8.375,
          8.379,
          8.381,
          8.383,
          8.389,
          8.39,
          8.39,
          8.39,
          8.395,
          8.395,
          8.402,
          8.402,
          8.404,
          8.404,
          8.411,
          8.414,
          8.419,
          8.419,
          8.423,
          8.423,
          8.424,
          8.431,
          8.431,
          8.431,
          8.434,
          8.436,
          8.437,
          8.438,
          8.439,
          8.44,
          8.441,
          8.447,
          8.448,
          8.45,
          8.452,
          8.457,
          8.458,
          8.458,
          8.46,
          8.461,
          8.462,
          8.463,
          8.465,
          8.465,
          8.465,
          8.471,
          8.471,
          8.472,
          8.474,
          8.474,
          8.477,
          8.478,
          8.482,
          8.483,
          8.483,
          8.484,
          8.485,
          8.488,
          8.49,
          8.492,
          8.492,
          8.493,
          8.494,
          8.495,
          8.5,
          8.5,
          8.502,
          8.502,
          8.503,
          8.504,
          8.504,
          8.505,
          8.506,
          8.507,
          8.508,
          8.51,
          8.513,
          8.514,
          8.518,
          8.519,
          8.521,
          8.521,
          8.523,
          8.526,
          8.526,
          8.526,
          8.527,
          8.528,
          8.531,
          8.532,
          8.532,
          8.533,
          8.533,
          8.535,
          8.535,
          8.538,
          8.538,
          8.54,
          8.541,
          8.542,
          8.542,
          8.543,
          8.543,
          8.547,
          8.548,
          8.553,
          8.554,
          8.554,
          8.555,
          8.558,
          8.559,
          8.562,
          8.562,
          8.563,
          8.564,
          8.568,
          8.568,
          8.569,
          8.569,
          8.573,
          8.573,
          8.578,
          8.579,
          8.579,
          8.584,
          8.588,
          8.588,
          8.591,
          8.594,
          8.595,
          8.596,
          8.598,
          8.6,
          8.601,
          8.601,
          8.602,
          8.603,
          8.604,
          8.606,
          8.607,
          8.608,
          8.61,
          8.613,
          8.613,
          8.614,
          8.618,
          8.619,
          8.62,
          8.624,
          8.624,
          8.626,
          8.626,
          8.629,
          8.63,
          8.633,
          8.637,
          8.647,
          8.65,
          8.654,
          8.656,
          8.656,
          8.658,
          8.658,
          8.662,
          8.664,
          8.669,
          8.67,
          8.671,
          8.679,
          8.683,
          8.685,
          8.685,
          8.685,
          8.696,
          8.698,
          8.699,
          8.701,
          8.712,
          8.716,
          8.718,
          8.718,
          8.728,
          8.733,
          8.734,
          8.735,
          8.738,
          8.74,
          8.742,
          8.748,
          8.752,
          8.756,
          8.764,
          8.77,
          8.78,
          8.783,
          8.796,
          8.797,
          8.804,
          8.804,
          8.806,
          8.813,
          8.821,
          8.824,
          8.827,
          8.831,
          8.839,
          8.842,
          8.847,
          8.847,
          8.85,
          8.858,
          8.861,
          8.867,
          8.87,
          8.877,
          8.883,
          8.885,
          8.887,
          8.888,
          8.89,
          8.89,
          8.891,
          8.894,
          8.896,
          8.899,
          8.901,
          8.902,
          8.902,
          8.902,
          8.904,
          8.905,
          8.91,
          8.91,
          8.911,
          8.911,
          8.919,
          8.919,
          8.922,
          8.923,
          8.925,
          8.929,
          8.929,
          8.933,
          8.933,
          8.935,
          8.937,
          8.938,
          8.94,
          8.94,
          8.941,
          8.944,
          8.945,
          8.946,
          8.947,
          8.953,
          8.954,
          8.955,
          8.957,
          8.958,
          8.962,
          8.965,
          8.966,
          8.967,
          8.968,
          8.968,
          8.97,
          8.977,
          8.979,
          8.979,
          8.98,
          8.981,
          8.982,
          8.987,
          8.987,
          8.989,
          8.991,
          8.992,
          8.992,
          8.993,
          8.994,
          8.994,
          8.995,
          8.996,
          8.996,
          8.996,
          8.999,
          8.999,
          9,
          9,
          9,
          9.003,
          9.005,
          9.009,
          9.009,
          9.01,
          9.012,
          9.013,
          9.013,
          9.014,
          9.017,
          9.02,
          9.021,
          9.023,
          9.025,
          9.026,
          9.027,
          9.029,
          9.031,
          9.032,
          9.04,
          9.04,
          9.042,
          9.042,
          9.044,
          9.044,
          9.046,
          9.047,
          9.048,
          9.051,
          9.053,
          9.054,
          9.057,
          9.061,
          9.062,
          9.065,
          9.068,
          9.069,
          9.073,
          9.075,
          9.081,
          9.082,
          9.084,
          9.085,
          9.088,
          9.089,
          9.091,
          9.092,
          9.093,
          9.097,
          9.097,
          9.102,
          9.107,
          9.108,
          9.11,
          9.111,
          9.113,
          9.116,
          9.117,
          9.119,
          9.122,
          9.123,
          9.125,
          9.126,
          9.126,
          9.127,
          9.127,
          9.128,
          9.128,
          9.133,
          9.133,
          9.134,
          9.135,
          9.138,
          9.138,
          9.14,
          9.14,
          9.143,
          9.144,
          9.145,
          9.146,
          9.148,
          9.149,
          9.151,
          9.153,
          9.154,
          9.154,
          9.157,
          9.158,
          9.159,
          9.163,
          9.164,
          9.167,
          9.167,
          9.168,
          9.168,
          9.17,
          9.173,
          9.173,
          9.173,
          9.178,
          9.178,
          9.182,
          9.184,
          9.185,
          9.186,
          9.187,
          9.189,
          9.191,
          9.192,
          9.193,
          9.194,
          9.197,
          9.198,
          9.202,
          9.207,
          9.208,
          9.209,
          9.21,
          9.21,
          9.211,
          9.212,
          9.213,
          9.213,
          9.214,
          9.222,
          9.224,
          9.227,
          9.227,
          9.23,
          9.232,
          9.233,
          9.234,
          9.235,
          9.236,
          9.237,
          9.237,
          9.238,
          9.238,
          9.238,
          9.239,
          9.239,
          9.241,
          9.242,
          9.243,
          9.243,
          9.245,
          9.245,
          9.246,
          9.247,
          9.249,
          9.249,
          9.25,
          9.25,
          9.252,
          9.253,
          9.254,
          9.257,
          9.26,
          9.261,
          9.262,
          9.263,
          9.263,
          9.264,
          9.265,
          9.267,
          9.269,
          9.271,
          9.272,
          9.275,
          9.276,
          9.277,
          9.279,
          9.281,
          9.282,
          9.282,
          9.283,
          9.283,
          9.283,
          9.283,
          9.283,
          9.284,
          9.284,
          9.289,
          9.291,
          9.293,
          9.294,
          9.3,
          9.3,
          9.305,
          9.305,
          9.306,
          9.306,
          9.307,
          9.308,
          9.308,
          9.31,
          9.31,
          9.31,
          9.311,
          9.312,
          9.313,
          9.315,
          9.315,
          9.315,
          9.316,
          9.316,
          9.316,
          9.316,
          9.318,
          9.323,
          9.323,
          9.325,
          9.326,
          9.33,
          9.33,
          9.331,
          9.332,
          9.334,
          9.338,
          9.338,
          9.339,
          9.341,
          9.341,
          9.341,
          9.343,
          9.344,
          9.347,
          9.349,
          9.351,
          9.351,
          9.351,
          9.351,
          9.353,
          9.354,
          9.354,
          9.355,
          9.357,
          9.358,
          9.358,
          9.359,
          9.36,
          9.361,
          9.361,
          9.364,
          9.365,
          9.365,
          9.365,
          9.366,
          9.366,
          9.366,
          9.367,
          9.37,
          9.371,
          9.373,
          9.373,
          9.374,
          9.374,
          9.376,
          9.377,
          9.38,
          9.38,
          9.381,
          9.381,
          9.381,
          9.381,
          9.381,
          9.382,
          9.382,
          9.383,
          9.383,
          9.383,
          9.383,
          9.384,
          9.385,
          9.392,
          9.392,
          9.392,
          9.393,
          9.394,
          9.397,
          9.397,
          9.399,
          9.404,
          9.405,
          9.408,
          9.409,
          9.41,
          9.411,
          9.414,
          9.414,
          9.417,
          9.419,
          9.42,
          9.423,
          9.424,
          9.426,
          9.426,
          9.428,
          9.429,
          9.43,
          9.431,
          9.433,
          9.434,
          9.434,
          9.435,
          9.436,
          9.437,
          9.44,
          9.442,
          9.442,
          9.443,
          9.446,
          9.447,
          9.448,
          9.449,
          9.452,
          9.452,
          9.453,
          9.455,
          9.455,
          9.455,
          9.456,
          9.458,
          9.458,
          9.458,
          9.458,
          9.459,
          9.465,
          9.465,
          9.466,
          9.467,
          9.468,
          9.468,
          9.468,
          9.469,
          9.47,
          9.471,
          9.471,
          9.472,
          9.472,
          9.473,
          9.474,
          9.479,
          9.479,
          9.48,
          9.48,
          9.481,
          9.485,
          9.489,
          9.49,
          9.49,
          9.492,
          9.492,
          9.492,
          9.493,
          9.494,
          9.495,
          9.496,
          9.497,
          9.497,
          9.497,
          9.498,
          9.498,
          9.499,
          9.5,
          9.503,
          9.503,
          9.507,
          9.508,
          9.508,
          9.508,
          9.512,
          9.512,
          9.513,
          9.514,
          9.515,
          9.515,
          9.517,
          9.517,
          9.518,
          9.518,
          9.518,
          9.519,
          9.521,
          9.522,
          9.523,
          9.524,
          9.525,
          9.527,
          9.527,
          9.527,
          9.529,
          9.532,
          9.533,
          9.533,
          9.536,
          9.536,
          9.536,
          9.537,
          9.539,
          9.54,
          9.541,
          9.541,
          9.542,
          9.543,
          9.543,
          9.543,
          9.544,
          9.546,
          9.546,
          9.548,
          9.548,
          9.549,
          9.549,
          9.552,
          9.553,
          9.553,
          9.554,
          9.555,
          9.555,
          9.555,
          9.555,
          9.557,
          9.557,
          9.559,
          9.561,
          9.561,
          9.562,
          9.562,
          9.563,
          9.564,
          9.565,
          9.565,
          9.566,
          9.567,
          9.569,
          9.569,
          9.57,
          9.57,
          9.57,
          9.571,
          9.571,
          9.572,
          9.573,
          9.573,
          9.575,
          9.576,
          9.577,
          9.577,
          9.578,
          9.58,
          9.58,
          9.58,
          9.583,
          9.584,
          9.585,
          9.585,
          9.588,
          9.588,
          9.589,
          9.59,
          9.59,
          9.591,
          9.592,
          9.593,
          9.593,
          9.593,
          9.593,
          9.595,
          9.595,
          9.598,
          9.601,
          9.601,
          9.604,
          9.606,
          9.606,
          9.607,
          9.607,
          9.609,
          9.609,
          9.611,
          9.613,
          9.614,
          9.615,
          9.615,
          9.616,
          9.617,
          9.619,
          9.622,
          9.624,
          9.624,
          9.625,
          9.625,
          9.625,
          9.627,
          9.631,
          9.634,
          9.635,
          9.636,
          9.636,
          9.637,
          9.64,
          9.642,
          9.644,
          9.645,
          9.648,
          9.649,
          9.649,
          9.65,
          9.651,
          9.652,
          9.654,
          9.658,
          9.661,
          9.662,
          9.665,
          9.666,
          9.667,
          9.672,
          9.673,
          9.674,
          9.675,
          9.677,
          9.678,
          9.679,
          9.681,
          9.682,
          9.683,
          9.689,
          9.689,
          9.692,
          9.696,
          9.699,
          9.702,
          9.702,
          9.704,
          9.705,
          9.711,
          9.713,
          9.717,
          9.718,
          9.719,
          9.721,
          9.723,
          9.724,
          9.727,
          9.727,
          9.728,
          9.729,
          9.73,
          9.732,
          9.733,
          9.733,
          9.741,
          9.743,
          9.746,
          9.746,
          9.748,
          9.749,
          9.752,
          9.752,
          9.754,
          9.758,
          9.759,
          9.759,
          9.763,
          9.764,
          9.767,
          9.769,
          9.769,
          9.77,
          9.776,
          9.779,
          9.78,
          9.78,
          9.785,
          9.787,
          9.788,
          9.792,
          9.792,
          9.795,
          9.796,
          9.797,
          9.798,
          9.8,
          9.8,
          9.801,
          9.802,
          9.804,
          9.806,
          9.807,
          9.807,
          9.807,
          9.808,
          9.808,
          9.812,
          9.813,
          9.813,
          9.813,
          9.815,
          9.816,
          9.818,
          9.818,
          9.822,
          9.824,
          9.825,
          9.827,
          9.828,
          9.83,
          9.831,
          9.832,
          9.832,
          9.834,
          9.842,
          9.842,
          9.844,
          9.844,
          9.844,
          9.848,
          9.848,
          9.85,
          9.851,
          9.857,
          9.858,
          9.858,
          9.858,
          9.859,
          9.86,
          9.861,
          9.862,
          9.862,
          9.862,
          9.863,
          9.864,
          9.867,
          9.867,
          9.87,
          9.87,
          9.874,
          9.878,
          9.88,
          9.88,
          9.881,
          9.881,
          9.884,
          9.887,
          9.887,
          9.888,
          9.891,
          9.892,
          9.892,
          9.893,
          9.893,
          9.893,
          9.893,
          9.895,
          9.895,
          9.895,
          9.9,
          9.9,
          9.901,
          9.901,
          9.903,
          9.905,
          9.907,
          9.91,
          9.912,
          9.912,
          9.914,
          9.916,
          9.917,
          9.924,
          9.928,
          9.928,
          9.928,
          9.937,
          9.937,
          9.938,
          9.94,
          9.94,
          9.944,
          9.948,
          9.948,
          9.958,
          9.96,
          9.961,
          9.961,
          9.963,
          9.968,
          9.971,
          9.972,
          9.973,
          9.973,
          9.974,
          9.977,
          9.977,
          9.977,
          9.985,
          9.985,
          9.986,
          9.988,
          9.989,
          9.994,
          9.997,
          9.997,
          9.998,
          10.002,
          10.002,
          10.002,
          10.002,
          10.003,
          10.004,
          10.005,
          10.008,
          10.01,
          10.013,
          10.013,
          10.015,
          10.018,
          10.019,
          10.02,
          10.021,
          10.023,
          10.03,
          10.031,
          10.032,
          10.032,
          10.034,
          10.041,
          10.041,
          10.041,
          10.042,
          10.042,
          10.042,
          10.043,
          10.044,
          10.045,
          10.046,
          10.047,
          10.051,
          10.054,
          10.055,
          10.057,
          10.06,
          10.06,
          10.063,
          10.066,
          10.067,
          10.067,
          10.069,
          10.071,
          10.072,
          10.073,
          10.074,
          10.082,
          10.083,
          10.083,
          10.083,
          10.083,
          10.084,
          10.085,
          10.086,
          10.091,
          10.091,
          10.091,
          10.092,
          10.092,
          10.092,
          10.094,
          10.095,
          10.095,
          10.098,
          10.099,
          10.101,
          10.102,
          10.103,
          10.103,
          10.103,
          10.105,
          10.105,
          10.108,
          10.11,
          10.11,
          10.111,
          10.112,
          10.113,
          10.115,
          10.117,
          10.119,
          10.119,
          10.12,
          10.121,
          10.122,
          10.122,
          10.122,
          10.123,
          10.124,
          10.126,
          10.127,
          10.13,
          10.137,
          10.14,
          10.14,
          10.141,
          10.143,
          10.143,
          10.145,
          10.146,
          10.146,
          10.146,
          10.147,
          10.148,
          10.15,
          10.152,
          10.155,
          10.156,
          10.159,
          10.16,
          10.161,
          10.163,
          10.163,
          10.165,
          10.166,
          10.166,
          10.168,
          10.169,
          10.17,
          10.172,
          10.172,
          10.174,
          10.174,
          10.174,
          10.177,
          10.179,
          10.179,
          10.179,
          10.184,
          10.184,
          10.188,
          10.188,
          10.19,
          10.191,
          10.193,
          10.196,
          10.197,
          10.197,
          10.201,
          10.202,
          10.206,
          10.207,
          10.209,
          10.211,
          10.213,
          10.216,
          10.219,
          10.222,
          10.223,
          10.224,
          10.225,
          10.225,
          10.228,
          10.228,
          10.233,
          10.24,
          10.24,
          10.245,
          10.245,
          10.246,
          10.247,
          10.248,
          10.248,
          10.248,
          10.249,
          10.251,
          10.251,
          10.256,
          10.257,
          10.258,
          10.261,
          10.261,
          10.264,
          10.266,
          10.268,
          10.269,
          10.273,
          10.275,
          10.277,
          10.28,
          10.283,
          10.286,
          10.287,
          10.292,
          10.293,
          10.293,
          10.294,
          10.294,
          10.296,
          10.3,
          10.304,
          10.308,
          10.309,
          10.309,
          10.31,
          10.311,
          10.314,
          10.314,
          10.32,
          10.322,
          10.323,
          10.324,
          10.325,
          10.325,
          10.328,
          10.334,
          10.34,
          10.341,
          10.343,
          10.343,
          10.346,
          10.346,
          10.346,
          10.349,
          10.352,
          10.352,
          10.353,
          10.357,
          10.358,
          10.359,
          10.36,
          10.362,
          10.365,
          10.367,
          10.367,
          10.368,
          10.369,
          10.371,
          10.374,
          10.374,
          10.375,
          10.376,
          10.38,
          10.381,
          10.382,
          10.382,
          10.383,
          10.385,
          10.387,
          10.39,
          10.39,
          10.392,
          10.393,
          10.396,
          10.396,
          10.398,
          10.399,
          10.402,
          10.402,
          10.404,
          10.406,
          10.406,
          10.407,
          10.408,
          10.408,
          10.408,
          10.409,
          10.409,
          10.411,
          10.412,
          10.415,
          10.418,
          10.419,
          10.421,
          10.423,
          10.423,
          10.424,
          10.425,
          10.425,
          10.425,
          10.425,
          10.427,
          10.428,
          10.429,
          10.429,
          10.431,
          10.433,
          10.433,
          10.434,
          10.435,
          10.435,
          10.444,
          10.445,
          10.446,
          10.451,
          10.454,
          10.455,
          10.459,
          10.461,
          10.462,
          10.462,
          10.463,
          10.47,
          10.473,
          10.473,
          10.474,
          10.474,
          10.476,
          10.48,
          10.483,
          10.484,
          10.484,
          10.485,
          10.487,
          10.488,
          10.491,
          10.491,
          10.493,
          10.496,
          10.496,
          10.504,
          10.505,
          10.507,
          10.51,
          10.512,
          10.513,
          10.516,
          10.517,
          10.519,
          10.519,
          10.521,
          10.523,
          10.524,
          10.526,
          10.527,
          10.527,
          10.529,
          10.53,
          10.531,
          10.534,
          10.534,
          10.535,
          10.536,
          10.539,
          10.541,
          10.541,
          10.541,
          10.544,
          10.544,
          10.544,
          10.545,
          10.547,
          10.548,
          10.549,
          10.552,
          10.556,
          10.556,
          10.558,
          10.559,
          10.56,
          10.562,
          10.562,
          10.564,
          10.565,
          10.565,
          10.566,
          10.567,
          10.567,
          10.567,
          10.572,
          10.574,
          10.575,
          10.577,
          10.578,
          10.579,
          10.583,
          10.583,
          10.585,
          10.585,
          10.585,
          10.586,
          10.586,
          10.589,
          10.59,
          10.592,
          10.592,
          10.594,
          10.594,
          10.595,
          10.596,
          10.598,
          10.599,
          10.6,
          10.602,
          10.603,
          10.603,
          10.603,
          10.604,
          10.604,
          10.605,
          10.607,
          10.609,
          10.61,
          10.615,
          10.615,
          10.616,
          10.617,
          10.62,
          10.622,
          10.622,
          10.622,
          10.625,
          10.627,
          10.63,
          10.632,
          10.633,
          10.635,
          10.635,
          10.637,
          10.637,
          10.637,
          10.637,
          10.637,
          10.638,
          10.639,
          10.639,
          10.639,
          10.64,
          10.645,
          10.646,
          10.646,
          10.647,
          10.647,
          10.647,
          10.647,
          10.649,
          10.649,
          10.65,
          10.65,
          10.651,
          10.654,
          10.654,
          10.655,
          10.655,
          10.656,
          10.661,
          10.661,
          10.662,
          10.663,
          10.663,
          10.664,
          10.664,
          10.665,
          10.666,
          10.666,
          10.667,
          10.668,
          10.668,
          10.669,
          10.669,
          10.675,
          10.677,
          10.679,
          10.681,
          10.681,
          10.683,
          10.684,
          10.685,
          10.687,
          10.691,
          10.692,
          10.692,
          10.693,
          10.693,
          10.693,
          10.694,
          10.697,
          10.698,
          10.698,
          10.703,
          10.705,
          10.705,
          10.706,
          10.706,
          10.707,
          10.707,
          10.707,
          10.709,
          10.709,
          10.711,
          10.712,
          10.713,
          10.714,
          10.714,
          10.714,
          10.714,
          10.715,
          10.716,
          10.718,
          10.72,
          10.72,
          10.721,
          10.722,
          10.722,
          10.723,
          10.724,
          10.724,
          10.725,
          10.725,
          10.727,
          10.728,
          10.733,
          10.733,
          10.734,
          10.734,
          10.734,
          10.735,
          10.735,
          10.737,
          10.737,
          10.739,
          10.739,
          10.74,
          10.741,
          10.742,
          10.742,
          10.744,
          10.744,
          10.744,
          10.745,
          10.746,
          10.749,
          10.749,
          10.749,
          10.75,
          10.752,
          10.752,
          10.754,
          10.754,
          10.758,
          10.758,
          10.759,
          10.76,
          10.76,
          10.763,
          10.763,
          10.765,
          10.766,
          10.768,
          10.768,
          10.769,
          10.77,
          10.77,
          10.77,
          10.77,
          10.771,
          10.773,
          10.774,
          10.775,
          10.775,
          10.778,
          10.778,
          10.779,
          10.779,
          10.78,
          10.781,
          10.781,
          10.782,
          10.783,
          10.783,
          10.783,
          10.784,
          10.785,
          10.786,
          10.787,
          10.788,
          10.788,
          10.788,
          10.788,
          10.789,
          10.789,
          10.79,
          10.791,
          10.791,
          10.791,
          10.793,
          10.794,
          10.794,
          10.794,
          10.794,
          10.796,
          10.797,
          10.798,
          10.798,
          10.799,
          10.799,
          10.799,
          10.799,
          10.801,
          10.802,
          10.803,
          10.803,
          10.805,
          10.807,
          10.808,
          10.809,
          10.809,
          10.811,
          10.812,
          10.815,
          10.815,
          10.815,
          10.816,
          10.816,
          10.817,
          10.819,
          10.82,
          10.82,
          10.822,
          10.823,
          10.829,
          10.829,
          10.836,
          10.836,
          10.837,
          10.838,
          10.84,
          10.842,
          10.843,
          10.844,
          10.845,
          10.846,
          10.846,
          10.846,
          10.847,
          10.849,
          10.849,
          10.852,
          10.852,
          10.856,
          10.856,
          10.856,
          10.856,
          10.857,
          10.858,
          10.859,
          10.859,
          10.86,
          10.86,
          10.862,
          10.863,
          10.866,
          10.87,
          10.875,
          10.876,
          10.876,
          10.876,
          10.877,
          10.877,
          10.878,
          10.878,
          10.878,
          10.878,
          10.878,
          10.878,
          10.879,
          10.879,
          10.881,
          10.881,
          10.881,
          10.881,
          10.883,
          10.884,
          10.885,
          10.886,
          10.887,
          10.887,
          10.888,
          10.889,
          10.889,
          10.89,
          10.89,
          10.893,
          10.893,
          10.893,
          10.894,
          10.894,
          10.894,
          10.894,
          10.896,
          10.899,
          10.9,
          10.9,
          10.902,
          10.902,
          10.906,
          10.909,
          10.909,
          10.912,
          10.914,
          10.916,
          10.917,
          10.919,
          10.921,
          10.922,
          10.923,
          10.924,
          10.926,
          10.927,
          10.929,
          10.93,
          10.93,
          10.931,
          10.931,
          10.934,
          10.934,
          10.936,
          10.938,
          10.939,
          10.941,
          10.941,
          10.943,
          10.944,
          10.947,
          10.948,
          10.952,
          10.952,
          10.956,
          10.965,
          10.968,
          10.97,
          10.971,
          10.975,
          10.976,
          10.977,
          10.978,
          10.985,
          10.985,
          10.995,
          10.996,
          10.997,
          10.998,
          10.999,
          11.001,
          11.001,
          11.003,
          11.005,
          11.012,
          11.024,
          11.024,
          11.041,
          11.041,
          11.042,
          11.048,
          11.056,
          11.056,
          11.057,
          11.06,
          11.061,
          11.063,
          11.065,
          11.066,
          11.072,
          11.074,
          11.076,
          11.077,
          11.078,
          11.082,
          11.089,
          11.094,
          11.096,
          11.111,
          11.116,
          11.119,
          11.122,
          11.124,
          11.125,
          11.126,
          11.128,
          11.13,
          11.149,
          11.151,
          11.152,
          11.155,
          11.158,
          11.168,
          11.169,
          11.17,
          11.173,
          11.174,
          11.178,
          11.178,
          11.18,
          11.181,
          11.189,
          11.213,
          11.216,
          11.233,
          11.236,
          11.264,
          11.267,
          11.306,
          11.334,
          11.356,
          11.373,
          11.382,
          11.399,
          11.422,
          11.423,
          11.433,
          11.434,
          11.465,
          11.496,
          11.497,
          11.532,
          11.54,
          11.551,
          11.587,
          11.59,
          11.617,
          11.625,
          11.627,
          11.628,
          11.635,
          11.636,
          11.637,
          11.638,
          11.643,
          11.645,
          11.647,
          11.649,
          11.649,
          11.653,
          11.657,
          11.664,
          11.676
         ],
         "xaxis": "x",
         "y": [
          2.544429378246506,
          2.8548685859656384,
          2.8609556292542493,
          3.366180222208918,
          3.427050655095022,
          3.432376817972556,
          3.4361812200279376,
          3.4369421004390137,
          3.4422682633165476,
          3.4544423498937684,
          3.4620511540045316,
          3.4894428488032796,
          3.5069430982580343,
          3.5153127827798736,
          3.5358565538789337,
          3.543465357989697,
          3.551835042511536,
          3.564009129088757,
          3.5678135311441386,
          3.57770497648813,
          3.5792267373102833,
          3.5929225847096573,
          3.5944443455318096,
          3.602814030053649,
          3.611183714575488,
          3.6127054753976404,
          3.6134663558087174,
          3.617270757864099,
          3.6195533990973274,
          3.624118681563785,
          3.64998861554038,
          3.650749495951456,
          3.6606409412954477,
          3.662162702117601,
          3.67661942992805,
          3.6804238319834317,
          3.684228234038814,
          3.688793516505271,
          3.689554396916348,
          3.697163201027111,
          3.7055328855489504,
          3.708576407193256,
          3.723033135003705,
          3.7245548958258583,
          3.729120178292315,
          3.7314028195255444,
          3.7450986669249184,
          3.7504248298024523,
          3.7580336339132154,
          3.7603162751464447,
          3.7770556441901233,
          3.7778165246011994,
          3.780099165834428,
          3.7861862091230387,
          3.786947089534115,
          3.7907514915894964,
          3.7975994152891834,
          3.799882056522412,
          3.801403817344565,
          3.8029255781667173,
          3.821186708032549,
          3.8227084688547013,
          3.8249911100879306,
          3.827273751321159,
          3.83336079460977,
          3.840969598720533,
          3.8501001636534484,
          3.8516219244756016,
          3.8523828048866777,
          3.853143685297754,
          3.8569480873531354,
          3.8577089677642116,
          3.8584698481752877,
          3.860752489408517,
          3.8706439347525086,
          3.872926575985738,
          3.872926575985738,
          3.8759700976300433,
          3.8774918584521956,
          3.880535380096501,
          3.880535380096501,
          3.8835789017408056,
          3.886622423385112,
          3.892709466673722,
          3.8987965099623327,
          3.8987965099623327,
          3.900318270784485,
          3.900318270784485,
          3.9018400316066373,
          3.9026009120177143,
          3.9033617924287896,
          3.9041226728398666,
          3.9048835532509427,
          3.907927074895248,
          3.911731476950629,
          3.912492357361706,
          3.912492357361706,
          3.912492357361706,
          3.914014118183858,
          3.914774998594935,
          3.9162967594170874,
          3.9178185202392397,
          3.9185794006503167,
          3.920101161472469,
          3.9216229222946213,
          3.925427324350003,
          3.926188204761079,
          3.9277099655832313,
          3.931514367638613,
          3.93227524804969,
          3.93227524804969,
          3.9345578892829183,
          3.9353187696939953,
          3.939884052160453,
          3.9414058129826053,
          3.9421666933936814,
          3.9429275738047584,
          3.9436884542158337,
          3.945210215037987,
          3.945971095449063,
          3.945971095449063,
          3.945971095449063,
          3.94673197586014,
          3.9497754975044446,
          3.9573843016152077,
          3.958906062437361,
          3.959666942848436,
          3.966514866548123,
          3.9695583881924286,
          3.9703192686035047,
          3.9741236706588863,
          3.978688953125344,
          3.978688953125344,
          3.979449833536421,
          3.979449833536421,
          3.9817324747696503,
          3.986297757236107,
          3.987058637647184,
          3.990863039702565,
          3.991623920113642,
          4.003037126279787,
          4.006080647924092,
          4.007602408746244,
          4.01445033244593,
          4.01445033244593,
          4.015211212857007,
          4.01673297367916,
          4.021298256145617,
          4.027385299434228,
          4.028907060256381,
          4.031950581900686,
          4.041842027244678,
          4.043363788066831,
          4.044124668477907,
          4.052494352999746,
          4.052494352999746,
          4.052494352999746,
          4.055537874644052,
          4.060864037521585,
          4.061624917932662,
          4.064668439576967,
          4.064668439576967,
          4.067711961221272,
          4.068472841632349,
          4.069233722043425,
          4.074559884920959,
          4.076081645743112,
          4.084451330264951,
          4.085212210676027,
          4.08673397149818,
          4.088255732320333,
          4.08901661273141,
          4.089777493142485,
          4.092060134375714,
          4.094342775608943,
          4.09510365602002,
          4.097386297253248,
          4.098147177664324,
          4.100429818897553,
          4.103473340541859,
          4.104234220952935,
          4.10727774259724,
          4.111843025063698,
          4.111843025063698,
          4.113364785885851,
          4.1141256662969266,
          4.114886546708004,
          4.114886546708004,
          4.117930068352308,
          4.118690948763385,
          4.120973589996614,
          4.123256231229843,
          4.123256231229843,
          4.124777992051995,
          4.127060633285224,
          4.127821513696301,
          4.128582394107377,
          4.129343274518454,
          4.131625915751682,
          4.132386796162758,
          4.132386796162758,
          4.133147676573835,
          4.134669437395988,
          4.140756480684598,
          4.141517361095675,
          4.14227824150675,
          4.145321763151056,
          4.145321763151056,
          4.146082643562131,
          4.147604404384285,
          4.147604404384285,
          4.149887045617513,
          4.152169686850742,
          4.153691447672895,
          4.157495849728277,
          4.157495849728277,
          4.158256730139352,
          4.158256730139352,
          4.159778490961505,
          4.162822012605811,
          4.162822012605811,
          4.162822012605811,
          4.163582893016887,
          4.165104653839039,
          4.166626414661192,
          4.168148175483345,
          4.168148175483345,
          4.168909055894421,
          4.169669936305498,
          4.17119169712765,
          4.172713457949802,
          4.172713457949802,
          4.174996099183032,
          4.175756979594108,
          4.17727874041626,
          4.178800501238413,
          4.181844022882719,
          4.182604903293795,
          4.184887544527023,
          4.187170185760253,
          4.187931066171329,
          4.188691946582405,
          4.190213707404558,
          4.190213707404558,
          4.19173546822671,
          4.192496348637786,
          4.196300750693169,
          4.197822511515321,
          4.200866033159626,
          4.201626913570703,
          4.201626913570703,
          4.20847483727039,
          4.210757478503618,
          4.210757478503618,
          4.21227923932577,
          4.213040119736847,
          4.216083641381152,
          4.216844521792228,
          4.222931565080839,
          4.222931565080839,
          4.223692445491915,
          4.224453325902992,
          4.230540369191602,
          4.232062130013754,
          4.2328230104248314,
          4.233583890835907,
          4.234344771246984,
          4.238910053713441,
          4.239670934124518,
          4.242714455768823,
          4.244236216590975,
          4.248040618646357,
          4.2526059011128154,
          4.254888542346044,
          4.254888542346044,
          4.25564942275712,
          4.260975585634655,
          4.262497346456807,
          4.277714954678332,
          4.279236715500486,
          4.280758476322639,
          4.283801997966943,
          4.284562878378019,
          4.286845519611249,
          4.293693443310935,
          4.295215204133088,
          4.299780486599546,
          4.305867529888156,
          4.307389290710309,
          4.307389290710309,
          4.31347633399892,
          4.314237214409996,
          4.315758975232149,
          4.317280736054301,
          4.31956337728753,
          4.323367779342911,
          4.324889540165064,
          4.328693942220445,
          4.330215703042598,
          4.3317374638647514,
          4.334020105097979,
          4.334020105097979,
          4.343150670030895,
          4.3446724308530476,
          4.345433311264125,
          4.346194191675201,
          4.347715952497353,
          4.350759474141658,
          4.353042115374888,
          4.362172680307803,
          4.363694441129955,
          4.368259723596414,
          4.372825006062871,
          4.373585886473948,
          4.374346766885024,
          4.375868527707177,
          4.375868527707177,
          4.376629408118252,
          4.380433810173635,
          4.381194690584711,
          4.381955570995787,
          4.382716451406863,
          4.384999092640092,
          4.386520853462245,
          4.391847016339779,
          4.393368777161932,
          4.394129657573008,
          4.394129657573008,
          4.400977581272694,
          4.401738461683771,
          4.404021102917,
          4.407825504972381,
          4.407825504972381,
          4.413912548260992,
          4.416195189494221,
          4.420760471960679,
          4.4238039936049836,
          4.425325754427137,
          4.426086634838213,
          4.433695438948976,
          4.435978080182204,
          4.4367389605932805,
          4.437499841004358,
          4.437499841004358,
          4.438260721415434,
          4.441304243059738,
          4.445869525526197,
          4.451956568814808,
          4.45347832963696,
          4.458804492514494,
          4.459565372925571,
          4.460326253336647,
          4.4618480141588,
          4.467174177036334,
          4.468695937858485,
          4.468695937858485,
          4.469456818269562,
          4.469456818269562,
          4.471739459502792,
          4.476304741969249,
          4.477065622380326,
          4.477065622380326,
          4.477065622380326,
          4.479348263613555,
          4.48010914402463,
          4.482391785257859,
          4.482391785257859,
          4.48847882854647,
          4.48847882854647,
          4.48847882854647,
          4.490000589368623,
          4.4907614697797,
          4.4907614697797,
          4.491522350190776,
          4.492283230601851,
          4.493804991424004,
          4.493804991424004,
          4.49456587183508,
          4.497609393479385,
          4.498370273890463,
          4.501413795534767,
          4.502174675945843,
          4.50293555635692,
          4.50293555635692,
          4.50293555635692,
          4.505218197590148,
          4.505218197590148,
          4.506739958412301,
          4.508261719234454,
          4.510544360467684,
          4.513587882111988,
          4.513587882111988,
          4.518153164578447,
          4.518914044989522,
          4.519674925400598,
          4.519674925400598,
          4.520435805811675,
          4.521196686222751,
          4.522718447044904,
          4.522718447044904,
          4.522718447044904,
          4.525001088278134,
          4.525001088278134,
          4.527283729511361,
          4.528044609922438,
          4.531849011977819,
          4.532609892388896,
          4.533370772799972,
          4.534131653211048,
          4.535653414033201,
          4.536414294444277,
          4.540218696499659,
          4.547066620199346,
          4.547066620199346,
          4.550871022254727,
          4.550871022254727,
          4.55239278307688,
          4.553153663487956,
          4.554675424310109,
          4.557718945954414,
          4.55847982636549,
          4.560001587187643,
          4.562284228420872,
          4.562284228420872,
          4.562284228420872,
          4.563805989243024,
          4.563805989243024,
          4.563805989243024,
          4.564566869654101,
          4.56684951088733,
          4.57293655417594,
          4.578262717053474,
          4.578262717053474,
          4.579023597464551,
          4.579023597464551,
          4.580545358286702,
          4.582067119108856,
          4.583588879931009,
          4.583588879931009,
          4.587393281986389,
          4.588915042808543,
          4.589675923219619,
          4.590436803630695,
          4.590436803630695,
          4.592719444863923,
          4.594241205686076,
          4.597284727330382,
          4.597284727330382,
          4.598045607741459,
          4.600328248974686,
          4.60185000979684,
          4.60185000979684,
          4.603371770618993,
          4.603371770618993,
          4.604132651030069,
          4.607176172674373,
          4.60793705308545,
          4.615545857196214,
          4.61630673760729,
          4.617828498429443,
          4.620872020073747,
          4.621632900484824,
          4.6223937808959,
          4.626959063362357,
          4.63076346541774,
          4.632285226239893,
          4.6345678674731206,
          4.635328747884198,
          4.636850508706349,
          4.637611389117427,
          4.640654910761731,
          4.642937551994961,
          4.644459312817114,
          4.647502834461418,
          4.649785475694648,
          4.655872518983257,
          4.660437801449715,
          4.660437801449715,
          4.661198681860792,
          4.66348132309402,
          4.665003083916173,
          4.665003083916173,
          4.665003083916173,
          4.665763964327249,
          4.668046605560479,
          4.670329246793707,
          4.67185100761586,
          4.673372768438012,
          4.674133648849089,
          4.675655409671241,
          4.676416290082318,
          4.676416290082318,
          4.67793805090447,
          4.680220692137699,
          4.682503333370928,
          4.68859037665954,
          4.689351257070615,
          4.690112137481691,
          4.690112137481691,
          4.69239477871492,
          4.693155659125997,
          4.693155659125997,
          4.694677419948149,
          4.697720941592454,
          4.699242702414607,
          4.7007644632367604,
          4.702286224058912,
          4.7068515065253695,
          4.7068515065253695,
          4.708373267347523,
          4.710655908580752,
          4.711416788991828,
          4.714460310636133,
          4.715982071458286,
          4.717503832280438,
          4.722069114746896,
          4.722829995157973,
          4.722829995157973,
          4.722829995157973,
          4.7266343972133535,
          4.7266343972133535,
          4.731960560090887,
          4.731960560090887,
          4.7334823209130406,
          4.7334823209130406,
          4.738808483790574,
          4.741091125023804,
          4.744895527079186,
          4.744895527079186,
          4.747939048723491,
          4.747939048723491,
          4.748699929134567,
          4.754026092012101,
          4.754026092012101,
          4.754026092012101,
          4.756308733245329,
          4.757830494067482,
          4.758591374478558,
          4.759352254889635,
          4.760113135300712,
          4.760874015711788,
          4.761634896122865,
          4.7662001785893215,
          4.766961059000399,
          4.768482819822551,
          4.770004580644703,
          4.773808982700086,
          4.774569863111162,
          4.774569863111162,
          4.776091623933315,
          4.77685250434439,
          4.777613384755466,
          4.778374265166542,
          4.779896025988696,
          4.779896025988696,
          4.779896025988696,
          4.784461308455153,
          4.784461308455153,
          4.785222188866229,
          4.786743949688383,
          4.786743949688383,
          4.789026590921612,
          4.789787471332687,
          4.7928309929769926,
          4.79359187338807,
          4.79359187338807,
          4.794352753799146,
          4.795113634210221,
          4.79739627544345,
          4.798918036265603,
          4.800439797087757,
          4.800439797087757,
          4.801200677498833,
          4.801961557909908,
          4.802722438320984,
          4.806526840376367,
          4.806526840376367,
          4.80804860119852,
          4.80804860119852,
          4.808809481609595,
          4.809570362020671,
          4.809570362020671,
          4.810331242431748,
          4.811092122842824,
          4.8118530032539,
          4.812613883664976,
          4.814135644487129,
          4.816418285720358,
          4.817179166131434,
          4.820222687775741,
          4.820983568186816,
          4.822505329008969,
          4.822505329008969,
          4.824027089831121,
          4.82630973106435,
          4.82630973106435,
          4.82630973106435,
          4.827070611475426,
          4.827831491886503,
          4.830114133119732,
          4.830875013530808,
          4.830875013530808,
          4.831635893941884,
          4.831635893941884,
          4.833157654764038,
          4.833157654764038,
          4.835440295997266,
          4.835440295997266,
          4.836962056819418,
          4.837722937230495,
          4.838483817641571,
          4.838483817641571,
          4.839244698052647,
          4.839244698052647,
          4.842288219696953,
          4.843049100108029,
          4.846853502163412,
          4.847614382574487,
          4.847614382574487,
          4.848375262985563,
          4.850657904218792,
          4.8514187846298675,
          4.853701425863097,
          4.853701425863097,
          4.854462306274174,
          4.85522318668525,
          4.8582667083295545,
          4.8582667083295545,
          4.8590275887406325,
          4.8590275887406325,
          4.862071110384937,
          4.862071110384937,
          4.865875512440318,
          4.866636392851395,
          4.866636392851395,
          4.870440794906775,
          4.873484316551081,
          4.873484316551081,
          4.87576695778431,
          4.8780495990175385,
          4.878810479428616,
          4.879571359839692,
          4.881093120661845,
          4.882614881483997,
          4.883375761895074,
          4.883375761895074,
          4.884136642306149,
          4.8848975227172255,
          4.885658403128302,
          4.887180163950455,
          4.887941044361531,
          4.888701924772608,
          4.890223685594759,
          4.892506326827989,
          4.892506326827989,
          4.893267207239066,
          4.896310728883371,
          4.897071609294446,
          4.8978324897055225,
          4.900876011349829,
          4.900876011349829,
          4.90239777217198,
          4.90239777217198,
          4.9046804134052095,
          4.905441293816287,
          4.907723935049514,
          4.91076745669382,
          4.918376260804584,
          4.920658902037813,
          4.923702423682117,
          4.925224184504271,
          4.925224184504271,
          4.926745945326422,
          4.926745945326422,
          4.929789466970728,
          4.931311227792881,
          4.935115629848262,
          4.935876510259338,
          4.936637390670414,
          4.942724433959025,
          4.945767955603331,
          4.947289716425484,
          4.947289716425484,
          4.947289716425484,
          4.955659400947322,
          4.957181161769475,
          4.957942042180552,
          4.959463803002705,
          4.967833487524543,
          4.970877009168848,
          4.972398769991001,
          4.972398769991001,
          4.980007574101764,
          4.983811976157146,
          4.984572856568222,
          4.985333736979298,
          4.987616378212527,
          4.98913813903468,
          4.9906598998568334,
          4.99522518232329,
          4.998268703967596,
          5.001312225611901,
          5.007399268900511,
          5.011964551366969,
          5.019573355477732,
          5.02185599671096,
          5.031747442054953,
          5.03250832246603,
          5.037834485343564,
          5.037834485343564,
          5.039356246165716,
          5.044682409043251,
          5.050769452331861,
          5.05305209356509,
          5.055334734798318,
          5.058378256442624,
          5.064465299731235,
          5.066747940964464,
          5.070552343019845,
          5.070552343019845,
          5.072834984253073,
          5.078922027541685,
          5.081204668774913,
          5.085769951241372,
          5.088052592474599,
          5.093378755352134,
          5.097944037818591,
          5.099465798640744,
          5.100987559462897,
          5.101748439873973,
          5.103270200696127,
          5.103270200696127,
          5.104031081107203,
          5.106313722340431,
          5.107835483162584,
          5.110118124395812,
          5.111639885217965,
          5.112400765629041,
          5.112400765629041,
          5.112400765629041,
          5.113922526451194,
          5.11468340686227,
          5.118487808917652,
          5.118487808917652,
          5.119248689328728,
          5.119248689328728,
          5.125335732617339,
          5.125335732617339,
          5.127618373850568,
          5.128379254261644,
          5.129901015083798,
          5.132944536728102,
          5.132944536728102,
          5.135988058372407,
          5.135988058372407,
          5.13750981919456,
          5.139031580016712,
          5.139792460427789,
          5.1413142212499405,
          5.1413142212499405,
          5.142075101661018,
          5.144357742894247,
          5.145118623305323,
          5.145879503716399,
          5.146640384127475,
          5.151205666593933,
          5.15196654700501,
          5.152727427416086,
          5.154249188238239,
          5.1550100686493145,
          5.15805359029362,
          5.160336231526849,
          5.1610971119379245,
          5.1618579923490024,
          5.162618872760078,
          5.162618872760078,
          5.164140633582231,
          5.169466796459765,
          5.170988557281917,
          5.170988557281917,
          5.171749437692994,
          5.17251031810407,
          5.173271198515145,
          5.177075600570528,
          5.177075600570528,
          5.178597361392681,
          5.180119122214832,
          5.18088000262591,
          5.18088000262591,
          5.181640883036986,
          5.182401763448062,
          5.182401763448062,
          5.183162643859138,
          5.183923524270215,
          5.183923524270215,
          5.183923524270215,
          5.186206165503444,
          5.186206165503444,
          5.186967045914519,
          5.186967045914519,
          5.186967045914519,
          5.189249687147749,
          5.190771447969902,
          5.193814969614206,
          5.193814969614206,
          5.1945758500252825,
          5.196097610847436,
          5.196858491258512,
          5.196858491258512,
          5.197619371669587,
          5.199902012902816,
          5.202184654136046,
          5.202945534547123,
          5.204467295369275,
          5.205989056191427,
          5.206749936602503,
          5.2075108170135795,
          5.209032577835733,
          5.210554338657886,
          5.211315219068962,
          5.217402262357571,
          5.217402262357571,
          5.218924023179724,
          5.218924023179724,
          5.220445784001877,
          5.220445784001877,
          5.22196754482403,
          5.222728425235107,
          5.223489305646183,
          5.225771946879411,
          5.227293707701564,
          5.228054588112641,
          5.23033722934587,
          5.233380750990174,
          5.2341416314012505,
          5.236424272634479,
          5.238706913867708,
          5.239467794278785,
          5.242511315923091,
          5.244033076745242,
          5.2485983592117,
          5.249359239622778,
          5.250881000444929,
          5.251641880856006,
          5.2539245220892346,
          5.254685402500312,
          5.256207163322463,
          5.25696804373354,
          5.257728924144616,
          5.260772445788922,
          5.260772445788922,
          5.264576847844303,
          5.268381249899684,
          5.269142130310762,
          5.270663891132913,
          5.27142477154399,
          5.272946532366142,
          5.275229173599371,
          5.275990054010449,
          5.2775118148326,
          5.279794456065829,
          5.280555336476905,
          5.282077097299058,
          5.282837977710134,
          5.282837977710134,
          5.283598858121211,
          5.283598858121211,
          5.284359738532287,
          5.284359738532287,
          5.288164140587668,
          5.288164140587668,
          5.288925020998745,
          5.289685901409821,
          5.29196854264305,
          5.29196854264305,
          5.293490303465203,
          5.293490303465203,
          5.295772944698432,
          5.296533825109508,
          5.297294705520584,
          5.298055585931661,
          5.2995773467538125,
          5.300338227164889,
          5.301859987987042,
          5.303381748809195,
          5.304142629220271,
          5.304142629220271,
          5.3064252704534995,
          5.307186150864576,
          5.307947031275653,
          5.310990552919958,
          5.311751433331034,
          5.314034074564263,
          5.314034074564263,
          5.314794954975339,
          5.314794954975339,
          5.316316715797492,
          5.318599357030721,
          5.318599357030721,
          5.318599357030721,
          5.322403759086103,
          5.322403759086103,
          5.325447280730408,
          5.32696904155256,
          5.327729921963637,
          5.328490802374713,
          5.329251682785789,
          5.330773443607942,
          5.332295204430095,
          5.3330560848411706,
          5.333816965252247,
          5.334577845663324,
          5.336860486896551,
          5.337621367307629,
          5.340664888951934,
          5.344469291007316,
          5.345230171418391,
          5.3459910518294675,
          5.346751932240545,
          5.346751932240545,
          5.347512812651621,
          5.348273693062697,
          5.349034573473772,
          5.349034573473772,
          5.34979545388485,
          5.355882497173459,
          5.357404257995612,
          5.359686899228842,
          5.359686899228842,
          5.361969540462071,
          5.363491301284222,
          5.364252181695299,
          5.365013062106375,
          5.3657739425174515,
          5.366534822928529,
          5.367295703339605,
          5.367295703339605,
          5.368056583750681,
          5.368056583750681,
          5.368056583750681,
          5.368817464161758,
          5.368817464161758,
          5.370339224983909,
          5.371100105394986,
          5.371860985806062,
          5.371860985806062,
          5.373382746628215,
          5.373382746628215,
          5.374143627039292,
          5.374904507450368,
          5.376426268272521,
          5.376426268272521,
          5.377187148683596,
          5.377187148683596,
          5.378708909505749,
          5.379469789916826,
          5.380230670327902,
          5.38251331156113,
          5.384795952794359,
          5.3855568332054355,
          5.386317713616513,
          5.387078594027589,
          5.387078594027589,
          5.387839474438664,
          5.388600354849742,
          5.390122115671893,
          5.391643876494046,
          5.3931656373162,
          5.393926517727276,
          5.396209158960504,
          5.39697003937158,
          5.397730919782656,
          5.39925268060481,
          5.400774441426963,
          5.401535321838038,
          5.401535321838038,
          5.402296202249114,
          5.402296202249114,
          5.402296202249114,
          5.402296202249114,
          5.402296202249114,
          5.403057082660191,
          5.403057082660191,
          5.406861484715572,
          5.408383245537725,
          5.409905006359877,
          5.410665886770954,
          5.415231169237412,
          5.415231169237412,
          5.419035571292794,
          5.419035571292794,
          5.419796451703869,
          5.419796451703869,
          5.420557332114946,
          5.421318212526022,
          5.421318212526022,
          5.422839973348175,
          5.422839973348175,
          5.422839973348175,
          5.423600853759251,
          5.424361734170327,
          5.425122614581404,
          5.426644375403556,
          5.426644375403556,
          5.426644375403556,
          5.427405255814633,
          5.427405255814633,
          5.427405255814633,
          5.427405255814633,
          5.428927016636785,
          5.432731418692168,
          5.432731418692168,
          5.434253179514319,
          5.435014059925396,
          5.438057581569701,
          5.438057581569701,
          5.438818461980777,
          5.439579342391855,
          5.441101103214006,
          5.4441446248583105,
          5.4441446248583105,
          5.444905505269388,
          5.44642726609154,
          5.44642726609154,
          5.44642726609154,
          5.447949026913693,
          5.448709907324769,
          5.4509925485579975,
          5.452514309380151,
          5.454036070202304,
          5.454036070202304,
          5.454036070202304,
          5.454036070202304,
          5.455557831024456,
          5.456318711435531,
          5.456318711435531,
          5.457079591846609,
          5.458601352668761,
          5.459362233079838,
          5.459362233079838,
          5.460123113490914,
          5.46088399390199,
          5.461644874313067,
          5.461644874313067,
          5.463927515546296,
          5.4646883959573715,
          5.4646883959573715,
          5.4646883959573715,
          5.465449276368448,
          5.465449276368448,
          5.465449276368448,
          5.466210156779525,
          5.468492798012753,
          5.46925367842383,
          5.4707754392459815,
          5.4707754392459815,
          5.4715363196570586,
          5.4715363196570586,
          5.473058080479211,
          5.473818960890288,
          5.476101602123517,
          5.476101602123517,
          5.476862482534592,
          5.476862482534592,
          5.476862482534592,
          5.476862482534592,
          5.476862482534592,
          5.4776233629456685,
          5.4776233629456685,
          5.478384243356745,
          5.478384243356745,
          5.478384243356745,
          5.478384243356745,
          5.479145123767822,
          5.479906004178898,
          5.485232167056432,
          5.485232167056432,
          5.485232167056432,
          5.485993047467509,
          5.486753927878585,
          5.489036569111814,
          5.489036569111814,
          5.4905583299339655,
          5.494362731989348,
          5.495123612400423,
          5.4974062536336525,
          5.49816713404473,
          5.498928014455806,
          5.499688894866882,
          5.50197153610011,
          5.50197153610011,
          5.5042541773333395,
          5.505775938155493,
          5.506536818566569,
          5.508819459799797,
          5.509580340210873,
          5.511102101033027,
          5.511102101033027,
          5.51262386185518,
          5.513384742266256,
          5.514145622677331,
          5.514906503088407,
          5.51642826391056,
          5.5171891443216365,
          5.5171891443216365,
          5.517950024732714,
          5.51871090514379,
          5.519471785554865,
          5.521754426788094,
          5.523276187610247,
          5.523276187610247,
          5.5240370680213235,
          5.526319709254552,
          5.527080589665628,
          5.527841470076705,
          5.528602350487781,
          5.530884991721011,
          5.530884991721011,
          5.531645872132087,
          5.53316763295424,
          5.53316763295424,
          5.53316763295424,
          5.533928513365315,
          5.535450274187468,
          5.535450274187468,
          5.535450274187468,
          5.535450274187468,
          5.536211154598544,
          5.540776437065002,
          5.540776437065002,
          5.541537317476078,
          5.542298197887155,
          5.543059078298231,
          5.543059078298231,
          5.543059078298231,
          5.5438199587093075,
          5.544580839120385,
          5.545341719531461,
          5.545341719531461,
          5.546102599942536,
          5.546102599942536,
          5.546863480353614,
          5.547624360764689,
          5.55142876282007,
          5.55142876282007,
          5.552189643231148,
          5.552189643231148,
          5.552950523642223,
          5.555994045286528,
          5.559037566930835,
          5.55979844734191,
          5.55979844734191,
          5.561320208164063,
          5.561320208164063,
          5.561320208164063,
          5.562081088575139,
          5.562841968986215,
          5.563602849397291,
          5.564363729808369,
          5.565124610219444,
          5.565124610219444,
          5.565124610219444,
          5.56588549063052,
          5.56588549063052,
          5.566646371041597,
          5.567407251452673,
          5.569689892685902,
          5.569689892685902,
          5.572733414330207,
          5.573494294741283,
          5.573494294741283,
          5.573494294741283,
          5.576537816385589,
          5.576537816385589,
          5.577298696796665,
          5.578059577207741,
          5.578820457618818,
          5.578820457618818,
          5.58034221844097,
          5.58034221844097,
          5.581103098852047,
          5.581103098852047,
          5.581103098852047,
          5.581863979263123,
          5.583385740085276,
          5.584146620496352,
          5.584907500907428,
          5.585668381318504,
          5.586429261729581,
          5.587951022551733,
          5.587951022551733,
          5.587951022551733,
          5.589472783373886,
          5.591755424607115,
          5.592516305018191,
          5.592516305018191,
          5.59479894625142,
          5.59479894625142,
          5.59479894625142,
          5.595559826662497,
          5.597081587484649,
          5.597842467895725,
          5.598603348306802,
          5.598603348306802,
          5.599364228717878,
          5.600125109128954,
          5.600125109128954,
          5.600125109128954,
          5.600885989540031,
          5.6024077503621825,
          5.6024077503621825,
          5.603929511184336,
          5.603929511184336,
          5.604690391595412,
          5.604690391595412,
          5.606973032828641,
          5.607733913239718,
          5.607733913239718,
          5.608494793650794,
          5.6092556740618695,
          5.6092556740618695,
          5.6092556740618695,
          5.6092556740618695,
          5.610777434884023,
          5.610777434884023,
          5.612299195706175,
          5.613820956528328,
          5.613820956528328,
          5.614581836939403,
          5.614581836939403,
          5.615342717350481,
          5.6161035977615565,
          5.616864478172633,
          5.616864478172633,
          5.61762535858371,
          5.618386238994786,
          5.619907999816939,
          5.619907999816939,
          5.620668880228015,
          5.620668880228015,
          5.620668880228015,
          5.62142976063909,
          5.62142976063909,
          5.6221906410501665,
          5.6229515214612436,
          5.6229515214612436,
          5.624473282283396,
          5.625234162694473,
          5.625995043105549,
          5.625995043105549,
          5.626755923516624,
          5.628277684338777,
          5.628277684338777,
          5.628277684338777,
          5.630560325572007,
          5.631321205983083,
          5.63208208639416,
          5.63208208639416,
          5.634364727627387,
          5.634364727627387,
          5.635125608038464,
          5.6358864884495405,
          5.6358864884495405,
          5.636647368860617,
          5.637408249271694,
          5.63816912968277,
          5.63816912968277,
          5.63816912968277,
          5.63816912968277,
          5.639690890504923,
          5.639690890504923,
          5.641973531738151,
          5.644256172971381,
          5.644256172971381,
          5.646538814204608,
          5.648060575026761,
          5.648060575026761,
          5.6488214554378375,
          5.6488214554378375,
          5.650343216259991,
          5.650343216259991,
          5.651864977082144,
          5.653386737904295,
          5.654147618315373,
          5.654908498726448,
          5.654908498726448,
          5.6556693791375245,
          5.656430259548602,
          5.657952020370754,
          5.660234661603982,
          5.661756422426135,
          5.661756422426135,
          5.6625173028372116,
          5.6625173028372116,
          5.6625173028372116,
          5.664039063659365,
          5.667082585303669,
          5.669365226536899,
          5.670126106947975,
          5.67088698735905,
          5.67088698735905,
          5.671647867770128,
          5.673930509003356,
          5.6754522698255085,
          5.676974030647662,
          5.677734911058737,
          5.680017552291966,
          5.680778432703042,
          5.680778432703042,
          5.681539313114119,
          5.6823001935251956,
          5.683061073936272,
          5.684582834758424,
          5.687626356402729,
          5.689908997635959,
          5.690669878047036,
          5.692952519280263,
          5.69371339969134,
          5.694474280102416,
          5.698278682157798,
          5.699039562568874,
          5.69980044297995,
          5.700561323391027,
          5.7020830842131796,
          5.702843964624257,
          5.703604845035333,
          5.705126605857484,
          5.705887486268561,
          5.706648366679637,
          5.711213649146095,
          5.711213649146095,
          5.713496290379324,
          5.716539812023629,
          5.718822453256858,
          5.721105094490087,
          5.721105094490087,
          5.722626855312241,
          5.723387735723316,
          5.727953018189774,
          5.729474779011926,
          5.732518300656232,
          5.733279181067308,
          5.7340400614783835,
          5.735561822300537,
          5.73708358312269,
          5.737844463533766,
          5.740127104766995,
          5.740127104766995,
          5.7408879851780705,
          5.741648865589147,
          5.742409746000224,
          5.743931506822376,
          5.744692387233453,
          5.744692387233453,
          5.750779430522063,
          5.752301191344216,
          5.754583832577445,
          5.754583832577445,
          5.756105593399597,
          5.756866473810674,
          5.759149115043903,
          5.759149115043903,
          5.7606708758660545,
          5.76371439751036,
          5.764475277921437,
          5.764475277921437,
          5.7675187995657415,
          5.768279679976818,
          5.770562321210047,
          5.7720840820322,
          5.7720840820322,
          5.772844962443275,
          5.777410244909734,
          5.779692886142962,
          5.7804537665540385,
          5.7804537665540385,
          5.784258168609421,
          5.785779929431574,
          5.786540809842649,
          5.789584331486955,
          5.789584331486955,
          5.791866972720183,
          5.792627853131259,
          5.793388733542336,
          5.7941496139534125,
          5.795671374775566,
          5.795671374775566,
          5.796432255186642,
          5.797193135597718,
          5.79871489641987,
          5.8002366572420225,
          5.8009975376531,
          5.8009975376531,
          5.8009975376531,
          5.801758418064176,
          5.801758418064176,
          5.80480193970848,
          5.805562820119557,
          5.805562820119557,
          5.805562820119557,
          5.8070845809417095,
          5.807845461352787,
          5.809367222174939,
          5.809367222174939,
          5.812410743819243,
          5.8139325046413965,
          5.814693385052473,
          5.816215145874626,
          5.816976026285701,
          5.818497787107854,
          5.81925866751893,
          5.820019547930007,
          5.820019547930007,
          5.82154130875216,
          5.827628352040771,
          5.827628352040771,
          5.829150112862922,
          5.829150112862922,
          5.829150112862922,
          5.832193634507228,
          5.832193634507228,
          5.8337153953293805,
          5.834476275740458,
          5.839041558206914,
          5.839802438617991,
          5.839802438617991,
          5.839802438617991,
          5.840563319029068,
          5.841324199440143,
          5.842085079851221,
          5.842845960262296,
          5.842845960262296,
          5.842845960262296,
          5.843606840673372,
          5.844367721084449,
          5.846650362317678,
          5.846650362317678,
          5.848933003550906,
          5.848933003550906,
          5.851976525195212,
          5.855020046839517,
          5.85654180766167,
          5.85654180766167,
          5.857302688072746,
          5.857302688072746,
          5.859585329305975,
          5.861867970539205,
          5.861867970539205,
          5.86262885095028,
          5.864911492183509,
          5.865672372594585,
          5.865672372594585,
          5.866433253005662,
          5.866433253005662,
          5.866433253005662,
          5.866433253005662,
          5.867955013827814,
          5.867955013827814,
          5.867955013827814,
          5.871759415883196,
          5.871759415883196,
          5.872520296294272,
          5.872520296294272,
          5.874042057116426,
          5.875563817938577,
          5.87708557876073,
          5.879368219993959,
          5.880889980816113,
          5.880889980816113,
          5.882411741638264,
          5.883933502460417,
          5.884694382871493,
          5.890020545749027,
          5.893064067393333,
          5.893064067393333,
          5.893064067393333,
          5.899911991093019,
          5.899911991093019,
          5.900672871504096,
          5.902194632326248,
          5.902194632326248,
          5.905238153970554,
          5.908281675614859,
          5.908281675614859,
          5.915890479725622,
          5.917412240547775,
          5.918173120958851,
          5.918173120958851,
          5.919694881781003,
          5.923499283836385,
          5.9257819250696135,
          5.92654280548069,
          5.927303685891767,
          5.927303685891767,
          5.928064566302843,
          5.930347207536072,
          5.930347207536072,
          5.930347207536072,
          5.936434250824681,
          5.936434250824681,
          5.937195131235759,
          5.9387168920579105,
          5.939477772468988,
          5.943282174524368,
          5.9455648157575975,
          5.9455648157575975,
          5.946325696168674,
          5.94936921781298,
          5.94936921781298,
          5.94936921781298,
          5.94936921781298,
          5.950130098224055,
          5.950890978635131,
          5.951651859046208,
          5.953934500279437,
          5.955456261101589,
          5.957738902334818,
          5.957738902334818,
          5.959260663156972,
          5.961543304390201,
          5.962304184801276,
          5.963065065212352,
          5.963825945623429,
          5.9653477064455815,
          5.970673869323115,
          5.971434749734192,
          5.9721956301452686,
          5.9721956301452686,
          5.973717390967422,
          5.979043553844956,
          5.979043553844956,
          5.979043553844956,
          5.979804434256032,
          5.979804434256032,
          5.979804434256032,
          5.980565314667107,
          5.981326195078185,
          5.98208707548926,
          5.982847955900336,
          5.983608836311413,
          5.986652357955719,
          5.988934999188947,
          5.989695879600023,
          5.991217640422176,
          5.993500281655406,
          5.993500281655406,
          5.995782922888634,
          5.998065564121863,
          5.99882644453294,
          5.99882644453294,
          6.000348205355093,
          6.001869966177244,
          6.00263084658832,
          6.003391726999397,
          6.004152607410473,
          6.010239650699084,
          6.01100053111016,
          6.01100053111016,
          6.01100053111016,
          6.01100053111016,
          6.0117614115212366,
          6.012522291932314,
          6.013283172343389,
          6.01708757439877,
          6.01708757439877,
          6.01708757439877,
          6.017848454809847,
          6.017848454809847,
          6.017848454809847,
          6.019370215631999,
          6.020131096043076,
          6.020131096043076,
          6.022413737276305,
          6.023174617687381,
          6.024696378509534,
          6.025457258920611,
          6.026218139331686,
          6.026218139331686,
          6.026218139331686,
          6.027739900153839,
          6.027739900153839,
          6.030022541387068,
          6.03154430220922,
          6.03154430220922,
          6.032305182620298,
          6.033066063031373,
          6.033826943442449,
          6.035348704264602,
          6.036870465086755,
          6.038392225908907,
          6.038392225908907,
          6.039153106319983,
          6.03991398673106,
          6.040674867142136,
          6.040674867142136,
          6.040674867142136,
          6.041435747553212,
          6.042196627964289,
          6.0437183887864405,
          6.044479269197518,
          6.046761910430747,
          6.052088073308281,
          6.05437071454151,
          6.05437071454151,
          6.055131594952586,
          6.056653355774739,
          6.056653355774739,
          6.058175116596891,
          6.058935997007968,
          6.058935997007968,
          6.058935997007968,
          6.059696877419044,
          6.06045775783012,
          6.061979518652273,
          6.0635012794744245,
          6.065783920707654,
          6.066544801118731,
          6.06882744235196,
          6.069588322763035,
          6.0703492031741115,
          6.071870963996265,
          6.071870963996265,
          6.073392724818417,
          6.074153605229494,
          6.074153605229494,
          6.075675366051645,
          6.076436246462723,
          6.0771971268737985,
          6.078718887695952,
          6.078718887695952,
          6.080240648518104,
          6.080240648518104,
          6.080240648518104,
          6.082523289751332,
          6.0840450505734855,
          6.0840450505734855,
          6.0840450505734855,
          6.087849452628866,
          6.087849452628866,
          6.0908929742731726,
          6.0908929742731726,
          6.092414735095325,
          6.093175615506402,
          6.094697376328553,
          6.0969800175617825,
          6.097740897972859,
          6.097740897972859,
          6.100784419617165,
          6.10154530002824,
          6.104588821672546,
          6.105349702083623,
          6.106871462905774,
          6.108393223727927,
          6.1099149845500795,
          6.112197625783308,
          6.114480267016537,
          6.1167629082497665,
          6.117523788660844,
          6.11828466907192,
          6.119045549482996,
          6.119045549482996,
          6.121328190716224,
          6.121328190716224,
          6.125132592771607,
          6.130458755649141,
          6.130458755649141,
          6.134263157704521,
          6.134263157704521,
          6.135024038115598,
          6.135784918526674,
          6.1365457989377505,
          6.1365457989377505,
          6.1365457989377505,
          6.137306679348828,
          6.138828440170979,
          6.138828440170979,
          6.142632842226361,
          6.1433937226374375,
          6.144154603048513,
          6.146437244281742,
          6.146437244281742,
          6.148719885514971,
          6.150241646337125,
          6.151763407159278,
          6.152524287570353,
          6.155567809214658,
          6.157089570036812,
          6.158611330858963,
          6.160893972092192,
          6.163176613325421,
          6.16545925455865,
          6.166220134969727,
          6.170024537025108,
          6.170785417436184,
          6.170785417436184,
          6.171546297847261,
          6.171546297847261,
          6.173068058669413,
          6.176111580313719,
          6.179155101958024,
          6.182198623602329,
          6.182959504013405,
          6.182959504013405,
          6.183720384424483,
          6.184481264835558,
          6.186763906068787,
          6.186763906068787,
          6.191329188535245,
          6.192850949357397,
          6.193611829768474,
          6.19437271017955,
          6.1951335905906255,
          6.1951335905906255,
          6.197416231823855,
          6.2019815142903125,
          6.206546796756771,
          6.207307677167846,
          6.2088294379899995,
          6.2088294379899995,
          6.211112079223229,
          6.211112079223229,
          6.211112079223229,
          6.213394720456458,
          6.2156773616896865,
          6.2156773616896865,
          6.216438242100763,
          6.219481763745067,
          6.220242644156145,
          6.22100352456722,
          6.2217644049782965,
          6.22328616580045,
          6.225568807033679,
          6.227090567855832,
          6.227090567855832,
          6.227851448266907,
          6.2286123286779835,
          6.230134089500137,
          6.232416730733366,
          6.232416730733366,
          6.233177611144442,
          6.233938491555517,
          6.236982013199824,
          6.2377428936109,
          6.238503774021976,
          6.238503774021976,
          6.239264654433051,
          6.240786415255204,
          6.2423081760773576,
          6.244590817310587,
          6.244590817310587,
          6.246112578132738,
          6.246873458543816,
          6.249156099777045,
          6.249156099777045,
          6.250677860599197,
          6.251438741010272,
          6.253721382243501,
          6.253721382243501,
          6.2552431430656545,
          6.256764903887808,
          6.256764903887808,
          6.257525784298884,
          6.258286664709959,
          6.258286664709959,
          6.258286664709959,
          6.259047545121037,
          6.259047545121037,
          6.260569305943188,
          6.261330186354265,
          6.263612827587493,
          6.265895468820722,
          6.266656349231799,
          6.2681781100539515,
          6.269699870876105,
          6.269699870876105,
          6.27046075128718,
          6.271221631698258,
          6.271221631698258,
          6.271221631698258,
          6.271221631698258,
          6.272743392520409,
          6.273504272931486,
          6.274265153342562,
          6.274265153342562,
          6.275786914164715,
          6.277308674986867,
          6.277308674986867,
          6.278069555397943,
          6.27883043580902,
          6.27883043580902,
          6.285678359508707,
          6.286439239919783,
          6.287200120330859,
          6.291004522386241,
          6.29328716361947,
          6.294048044030546,
          6.297091565674851,
          6.298613326497004,
          6.29937420690808,
          6.29937420690808,
          6.300135087319156,
          6.305461250196691,
          6.30774389142992,
          6.30774389142992,
          6.308504771840997,
          6.308504771840997,
          6.31002653266315,
          6.313070054307454,
          6.315352695540684,
          6.316113575951759,
          6.316113575951759,
          6.316874456362835,
          6.318396217184988,
          6.319157097596064,
          6.321439738829293,
          6.321439738829293,
          6.322961499651446,
          6.325244140884675,
          6.325244140884675,
          6.331331184173285,
          6.332092064584362,
          6.3336138254065135,
          6.335896466639743,
          6.337418227461896,
          6.338179107872972,
          6.3404617491062005,
          6.3412226295172776,
          6.34274439033943,
          6.34274439033943,
          6.344266151161584,
          6.345787911983734,
          6.346548792394811,
          6.348070553216964,
          6.348831433628039,
          6.348831433628039,
          6.350353194450193,
          6.351114074861268,
          6.351874955272345,
          6.3541575965055745,
          6.3541575965055745,
          6.354918476916652,
          6.355679357327727,
          6.357961998560956,
          6.359483759383108,
          6.359483759383108,
          6.359483759383108,
          6.361766400616338,
          6.361766400616338,
          6.361766400616338,
          6.362527281027413,
          6.364049041849567,
          6.364809922260642,
          6.365570802671719,
          6.367853443904949,
          6.370896965549253,
          6.370896965549253,
          6.372418726371405,
          6.373179606782482,
          6.373940487193559,
          6.37546224801571,
          6.37546224801571,
          6.376984008837864,
          6.377744889248939,
          6.377744889248939,
          6.378505769660016,
          6.379266650071093,
          6.379266650071093,
          6.379266650071093,
          6.383071052126473,
          6.384592812948627,
          6.385353693359702,
          6.386875454181856,
          6.387636334592932,
          6.388397215004009,
          6.391440736648313,
          6.391440736648313,
          6.392962497470467,
          6.392962497470467,
          6.392962497470467,
          6.3937233778815425,
          6.3937233778815425,
          6.396006019114772,
          6.396766899525847,
          6.398288660348001,
          6.398288660348001,
          6.399810421170152,
          6.399810421170152,
          6.40057130158123,
          6.401332181992306,
          6.402853942814458,
          6.403614823225535,
          6.40437570363661,
          6.405897464458764,
          6.4066583448698395,
          6.4066583448698395,
          6.4066583448698395,
          6.407419225280915,
          6.407419225280915,
          6.408180105691992,
          6.409701866514144,
          6.411223627336298,
          6.411984507747373,
          6.415788909802755,
          6.415788909802755,
          6.416549790213832,
          6.417310670624909,
          6.4195933118581365,
          6.421115072680289,
          6.421115072680289,
          6.421115072680289,
          6.423397713913518,
          6.424919474735672,
          6.4272021159689,
          6.428723876791052,
          6.429484757202129,
          6.431006518024281,
          6.431006518024281,
          6.432528278846435,
          6.432528278846435,
          6.432528278846435,
          6.432528278846435,
          6.432528278846435,
          6.4332891592575105,
          6.434050039668586,
          6.434050039668586,
          6.434050039668586,
          6.434810920079663,
          6.438615322135044,
          6.439376202546121,
          6.439376202546121,
          6.440137082957197,
          6.440137082957197,
          6.440137082957197,
          6.440137082957197,
          6.441658843779349,
          6.441658843779349,
          6.442419724190426,
          6.442419724190426,
          6.443180604601503,
          6.4454632458347305,
          6.4454632458347305,
          6.4462241262458075,
          6.4462241262458075,
          6.446985006656885,
          6.450789408712264,
          6.450789408712264,
          6.451550289123343,
          6.452311169534418,
          6.452311169534418,
          6.453072049945494,
          6.453072049945494,
          6.453832930356571,
          6.454593810767648,
          6.454593810767648,
          6.455354691178723,
          6.456115571589798,
          6.456115571589798,
          6.456876452000877,
          6.456876452000877,
          6.461441734467334,
          6.462963495289486,
          6.464485256111638,
          6.466007016933791,
          6.466007016933791,
          6.467528777755945,
          6.46828965816702,
          6.469050538578097,
          6.470572299400249,
          6.473615821044556,
          6.474376701455631,
          6.474376701455631,
          6.475137581866708,
          6.475137581866708,
          6.475137581866708,
          6.475898462277785,
          6.478181103511012,
          6.478941983922089,
          6.478941983922089,
          6.482746385977469,
          6.484268146799623,
          6.484268146799623,
          6.4850290272106985,
          6.4850290272106985,
          6.4857899076217755,
          6.4857899076217755,
          6.4857899076217755,
          6.487311668443928,
          6.487311668443928,
          6.488833429266082,
          6.489594309677157,
          6.490355190088232,
          6.491116070499309,
          6.491116070499309,
          6.491116070499309,
          6.491116070499309,
          6.491876950910386,
          6.492637831321462,
          6.494159592143616,
          6.495681352965768,
          6.495681352965768,
          6.496442233376843,
          6.49720311378792,
          6.49720311378792,
          6.497963994198997,
          6.4987248746100725,
          6.4987248746100725,
          6.49948575502115,
          6.49948575502115,
          6.501007515843302,
          6.501768396254377,
          6.50557279830976,
          6.50557279830976,
          6.506333678720836,
          6.506333678720836,
          6.506333678720836,
          6.507094559131911,
          6.507094559131911,
          6.508616319954065,
          6.508616319954065,
          6.510138080776217,
          6.510138080776217,
          6.510898961187294,
          6.5116598415983695,
          6.5124207220094465,
          6.5124207220094465,
          6.513942482831599,
          6.513942482831599,
          6.513942482831599,
          6.514703363242674,
          6.515464243653751,
          6.51774688488698,
          6.51774688488698,
          6.51774688488698,
          6.518507765298057,
          6.52002952612021,
          6.52002952612021,
          6.521551286942362,
          6.521551286942362,
          6.5245948085866665,
          6.5245948085866665,
          6.5253556889977435,
          6.526116569408821,
          6.526116569408821,
          6.528399210642048,
          6.528399210642048,
          6.529920971464202,
          6.530681851875277,
          6.532203612697431,
          6.532203612697431,
          6.532964493108507,
          6.533725373519582,
          6.533725373519582,
          6.533725373519582,
          6.533725373519582,
          6.534486253930659,
          6.536008014752811,
          6.536768895163888,
          6.537529775574965,
          6.537529775574965,
          6.539812416808195,
          6.539812416808195,
          6.54057329721927,
          6.54057329721927,
          6.541334177630345,
          6.542095058041422,
          6.542095058041422,
          6.542855938452499,
          6.543616818863574,
          6.543616818863574,
          6.543616818863574,
          6.544377699274651,
          6.545138579685728,
          6.545899460096804,
          6.546660340507881,
          6.547421220918956,
          6.547421220918956,
          6.547421220918956,
          6.547421220918956,
          6.548182101330033,
          6.548182101330033,
          6.548942981741108,
          6.549703862152185,
          6.549703862152185,
          6.549703862152185,
          6.5512256229743375,
          6.5519865033854146,
          6.5519865033854146,
          6.5519865033854146,
          6.5519865033854146,
          6.553508264207567,
          6.554269144618644,
          6.555030025029719,
          6.555030025029719,
          6.555790905440796,
          6.555790905440796,
          6.555790905440796,
          6.555790905440796,
          6.557312666262948,
          6.558073546674024,
          6.5588344270851024,
          6.5588344270851024,
          6.560356187907253,
          6.561877948729407,
          6.562638829140482,
          6.5633997095515575,
          6.5633997095515575,
          6.5649214703737115,
          6.565682350784787,
          6.567964992018016,
          6.567964992018016,
          6.567964992018016,
          6.568725872429093,
          6.568725872429093,
          6.56948675284017,
          6.571008513662322,
          6.571769394073398,
          6.571769394073398,
          6.57329115489555,
          6.574052035306627,
          6.578617317773086,
          6.578617317773086,
          6.583943480650619,
          6.583943480650619,
          6.584704361061695,
          6.585465241472772,
          6.586987002294924,
          6.588508763117078,
          6.589269643528153,
          6.5900305239392285,
          6.590791404350307,
          6.5915522847613826,
          6.5915522847613826,
          6.5915522847613826,
          6.592313165172458,
          6.593834925994612,
          6.593834925994612,
          6.596117567227841,
          6.596117567227841,
          6.599161088872146,
          6.599161088872146,
          6.599161088872146,
          6.599161088872146,
          6.599921969283221,
          6.600682849694298,
          6.601443730105375,
          6.601443730105375,
          6.60220461051645,
          6.60220461051645,
          6.6037263713386025,
          6.6044872517496795,
          6.606769892982909,
          6.609813414627213,
          6.613617816682595,
          6.61437869709367,
          6.61437869709367,
          6.61437869709367,
          6.615139577504749,
          6.615139577504749,
          6.615900457915824,
          6.615900457915824,
          6.615900457915824,
          6.615900457915824,
          6.615900457915824,
          6.615900457915824,
          6.6166613383268995,
          6.6166613383268995,
          6.618183099149054,
          6.618183099149054,
          6.618183099149054,
          6.618183099149054,
          6.619704859971204,
          6.620465740382283,
          6.621226620793358,
          6.621987501204433,
          6.62274838161551,
          6.62274838161551,
          6.623509262026587,
          6.624270142437663,
          6.624270142437663,
          6.62503102284874,
          6.62503102284874,
          6.627313664081969,
          6.627313664081969,
          6.627313664081969,
          6.628074544493044,
          6.628074544493044,
          6.628074544493044,
          6.628074544493044,
          6.629596305315198,
          6.631878946548426,
          6.632639826959503,
          6.632639826959503,
          6.634161587781655,
          6.634161587781655,
          6.637205109425961,
          6.639487750659191,
          6.639487750659191,
          6.641770391892418,
          6.6432921527145705,
          6.644813913536725,
          6.6455747939478,
          6.647096554769954,
          6.648618315592104,
          6.649379196003181,
          6.650140076414258,
          6.650900956825334,
          6.652422717647488,
          6.653183598058563,
          6.654705358880715,
          6.655466239291792,
          6.655466239291792,
          6.6562271197028675,
          6.6562271197028675,
          6.658509760936097,
          6.658509760936097,
          6.660031521758249,
          6.661553282580403,
          6.662314162991478,
          6.663835923813632,
          6.663835923813632,
          6.665357684635783,
          6.666118565046862,
          6.668401206280089,
          6.669162086691166,
          6.672205608335471,
          6.672205608335471,
          6.675249129979775,
          6.682097053679463,
          6.684379694912691,
          6.685901455734845,
          6.68666233614592,
          6.689705857790226,
          6.690466738201303,
          6.691227618612379,
          6.691988499023454,
          6.697314661900988,
          6.697314661900988,
          6.704923466011751,
          6.705684346422828,
          6.706445226833905,
          6.70720610724498,
          6.707966987656057,
          6.7094887484782095,
          6.7094887484782095,
          6.711010509300362,
          6.712532270122516,
          6.71785843300005,
          6.726988997932963,
          6.726988997932963,
          6.739923964921262,
          6.739923964921262,
          6.740684845332339,
          6.745250127798796,
          6.751337171087407,
          6.751337171087407,
          6.752098051498484,
          6.754380692731713,
          6.755141573142788,
          6.756663333964941,
          6.758185094787093,
          6.75894597519817,
          6.763511257664627,
          6.765033018486781,
          6.766554779308933,
          6.767315659720008,
          6.768076540131085,
          6.771120061775392,
          6.776446224652926,
          6.780250626708305,
          6.781772387530459,
          6.793185593696604,
          6.796989995751986,
          6.799272636985213,
          6.8015552782184425,
          6.803077039040597,
          6.803837919451672,
          6.804598799862747,
          6.806120560684901,
          6.807642321507053,
          6.822099049317503,
          6.823620810139655,
          6.824381690550732,
          6.826664331783961,
          6.828946973017189,
          6.836555777127952,
          6.837316657539029,
          6.838077537950106,
          6.840360179183335,
          6.8411210595944105,
          6.844164581238717,
          6.844164581238717,
          6.845686342060869,
          6.846447222471944,
          6.852534265760555,
          6.870795395626386,
          6.873078036859615,
          6.886013003847914,
          6.888295645081142,
          6.909600296591279,
          6.911882937824506,
          6.941557273856482,
          6.962861925366619,
          6.979601294410299,
          6.992536261398595,
          6.9993841850982825,
          7.0123191520865795,
          7.029819401541335,
          7.030580281952412,
          7.0381890860631735,
          7.0389499664742505,
          7.062537259217615,
          7.086124551960982,
          7.086885432372059,
          7.113516246759728,
          7.119603290048339,
          7.127972974570179,
          7.155364669368925,
          7.1576473106021545,
          7.178191081701215,
          7.1842781249898255,
          7.185799885811978,
          7.186560766223055,
          7.191886929100589,
          7.192647809511664,
          7.193408689922741,
          7.194169570333818,
          7.1979739723892,
          7.199495733211352,
          7.201017494033504,
          7.202539254855656,
          7.202539254855656,
          7.205582776499963,
          7.208626298144267,
          7.213952461021801,
          7.2230830259547165
         ],
         "yaxis": "y"
        }
       ],
       "layout": {
        "height": 600,
        "legend": {
         "tracegroupgap": 0
        },
        "margin": {
         "t": 60
        },
        "template": {
         "data": {
          "bar": [
           {
            "error_x": {
             "color": "#2a3f5f"
            },
            "error_y": {
             "color": "#2a3f5f"
            },
            "marker": {
             "line": {
              "color": "white",
              "width": 0.5
             },
             "pattern": {
              "fillmode": "overlay",
              "size": 10,
              "solidity": 0.2
             }
            },
            "type": "bar"
           }
          ],
          "barpolar": [
           {
            "marker": {
             "line": {
              "color": "white",
              "width": 0.5
             },
             "pattern": {
              "fillmode": "overlay",
              "size": 10,
              "solidity": 0.2
             }
            },
            "type": "barpolar"
           }
          ],
          "carpet": [
           {
            "aaxis": {
             "endlinecolor": "#2a3f5f",
             "gridcolor": "#C8D4E3",
             "linecolor": "#C8D4E3",
             "minorgridcolor": "#C8D4E3",
             "startlinecolor": "#2a3f5f"
            },
            "baxis": {
             "endlinecolor": "#2a3f5f",
             "gridcolor": "#C8D4E3",
             "linecolor": "#C8D4E3",
             "minorgridcolor": "#C8D4E3",
             "startlinecolor": "#2a3f5f"
            },
            "type": "carpet"
           }
          ],
          "choropleth": [
           {
            "colorbar": {
             "outlinewidth": 0,
             "ticks": ""
            },
            "type": "choropleth"
           }
          ],
          "contour": [
           {
            "colorbar": {
             "outlinewidth": 0,
             "ticks": ""
            },
            "colorscale": [
             [
              0,
              "#0d0887"
             ],
             [
              0.1111111111111111,
              "#46039f"
             ],
             [
              0.2222222222222222,
              "#7201a8"
             ],
             [
              0.3333333333333333,
              "#9c179e"
             ],
             [
              0.4444444444444444,
              "#bd3786"
             ],
             [
              0.5555555555555556,
              "#d8576b"
             ],
             [
              0.6666666666666666,
              "#ed7953"
             ],
             [
              0.7777777777777778,
              "#fb9f3a"
             ],
             [
              0.8888888888888888,
              "#fdca26"
             ],
             [
              1,
              "#f0f921"
             ]
            ],
            "type": "contour"
           }
          ],
          "contourcarpet": [
           {
            "colorbar": {
             "outlinewidth": 0,
             "ticks": ""
            },
            "type": "contourcarpet"
           }
          ],
          "heatmap": [
           {
            "colorbar": {
             "outlinewidth": 0,
             "ticks": ""
            },
            "colorscale": [
             [
              0,
              "#0d0887"
             ],
             [
              0.1111111111111111,
              "#46039f"
             ],
             [
              0.2222222222222222,
              "#7201a8"
             ],
             [
              0.3333333333333333,
              "#9c179e"
             ],
             [
              0.4444444444444444,
              "#bd3786"
             ],
             [
              0.5555555555555556,
              "#d8576b"
             ],
             [
              0.6666666666666666,
              "#ed7953"
             ],
             [
              0.7777777777777778,
              "#fb9f3a"
             ],
             [
              0.8888888888888888,
              "#fdca26"
             ],
             [
              1,
              "#f0f921"
             ]
            ],
            "type": "heatmap"
           }
          ],
          "heatmapgl": [
           {
            "colorbar": {
             "outlinewidth": 0,
             "ticks": ""
            },
            "colorscale": [
             [
              0,
              "#0d0887"
             ],
             [
              0.1111111111111111,
              "#46039f"
             ],
             [
              0.2222222222222222,
              "#7201a8"
             ],
             [
              0.3333333333333333,
              "#9c179e"
             ],
             [
              0.4444444444444444,
              "#bd3786"
             ],
             [
              0.5555555555555556,
              "#d8576b"
             ],
             [
              0.6666666666666666,
              "#ed7953"
             ],
             [
              0.7777777777777778,
              "#fb9f3a"
             ],
             [
              0.8888888888888888,
              "#fdca26"
             ],
             [
              1,
              "#f0f921"
             ]
            ],
            "type": "heatmapgl"
           }
          ],
          "histogram": [
           {
            "marker": {
             "pattern": {
              "fillmode": "overlay",
              "size": 10,
              "solidity": 0.2
             }
            },
            "type": "histogram"
           }
          ],
          "histogram2d": [
           {
            "colorbar": {
             "outlinewidth": 0,
             "ticks": ""
            },
            "colorscale": [
             [
              0,
              "#0d0887"
             ],
             [
              0.1111111111111111,
              "#46039f"
             ],
             [
              0.2222222222222222,
              "#7201a8"
             ],
             [
              0.3333333333333333,
              "#9c179e"
             ],
             [
              0.4444444444444444,
              "#bd3786"
             ],
             [
              0.5555555555555556,
              "#d8576b"
             ],
             [
              0.6666666666666666,
              "#ed7953"
             ],
             [
              0.7777777777777778,
              "#fb9f3a"
             ],
             [
              0.8888888888888888,
              "#fdca26"
             ],
             [
              1,
              "#f0f921"
             ]
            ],
            "type": "histogram2d"
           }
          ],
          "histogram2dcontour": [
           {
            "colorbar": {
             "outlinewidth": 0,
             "ticks": ""
            },
            "colorscale": [
             [
              0,
              "#0d0887"
             ],
             [
              0.1111111111111111,
              "#46039f"
             ],
             [
              0.2222222222222222,
              "#7201a8"
             ],
             [
              0.3333333333333333,
              "#9c179e"
             ],
             [
              0.4444444444444444,
              "#bd3786"
             ],
             [
              0.5555555555555556,
              "#d8576b"
             ],
             [
              0.6666666666666666,
              "#ed7953"
             ],
             [
              0.7777777777777778,
              "#fb9f3a"
             ],
             [
              0.8888888888888888,
              "#fdca26"
             ],
             [
              1,
              "#f0f921"
             ]
            ],
            "type": "histogram2dcontour"
           }
          ],
          "mesh3d": [
           {
            "colorbar": {
             "outlinewidth": 0,
             "ticks": ""
            },
            "type": "mesh3d"
           }
          ],
          "parcoords": [
           {
            "line": {
             "colorbar": {
              "outlinewidth": 0,
              "ticks": ""
             }
            },
            "type": "parcoords"
           }
          ],
          "pie": [
           {
            "automargin": true,
            "type": "pie"
           }
          ],
          "scatter": [
           {
            "fillpattern": {
             "fillmode": "overlay",
             "size": 10,
             "solidity": 0.2
            },
            "type": "scatter"
           }
          ],
          "scatter3d": [
           {
            "line": {
             "colorbar": {
              "outlinewidth": 0,
              "ticks": ""
             }
            },
            "marker": {
             "colorbar": {
              "outlinewidth": 0,
              "ticks": ""
             }
            },
            "type": "scatter3d"
           }
          ],
          "scattercarpet": [
           {
            "marker": {
             "colorbar": {
              "outlinewidth": 0,
              "ticks": ""
             }
            },
            "type": "scattercarpet"
           }
          ],
          "scattergeo": [
           {
            "marker": {
             "colorbar": {
              "outlinewidth": 0,
              "ticks": ""
             }
            },
            "type": "scattergeo"
           }
          ],
          "scattergl": [
           {
            "marker": {
             "colorbar": {
              "outlinewidth": 0,
              "ticks": ""
             }
            },
            "type": "scattergl"
           }
          ],
          "scattermapbox": [
           {
            "marker": {
             "colorbar": {
              "outlinewidth": 0,
              "ticks": ""
             }
            },
            "type": "scattermapbox"
           }
          ],
          "scatterpolar": [
           {
            "marker": {
             "colorbar": {
              "outlinewidth": 0,
              "ticks": ""
             }
            },
            "type": "scatterpolar"
           }
          ],
          "scatterpolargl": [
           {
            "marker": {
             "colorbar": {
              "outlinewidth": 0,
              "ticks": ""
             }
            },
            "type": "scatterpolargl"
           }
          ],
          "scatterternary": [
           {
            "marker": {
             "colorbar": {
              "outlinewidth": 0,
              "ticks": ""
             }
            },
            "type": "scatterternary"
           }
          ],
          "surface": [
           {
            "colorbar": {
             "outlinewidth": 0,
             "ticks": ""
            },
            "colorscale": [
             [
              0,
              "#0d0887"
             ],
             [
              0.1111111111111111,
              "#46039f"
             ],
             [
              0.2222222222222222,
              "#7201a8"
             ],
             [
              0.3333333333333333,
              "#9c179e"
             ],
             [
              0.4444444444444444,
              "#bd3786"
             ],
             [
              0.5555555555555556,
              "#d8576b"
             ],
             [
              0.6666666666666666,
              "#ed7953"
             ],
             [
              0.7777777777777778,
              "#fb9f3a"
             ],
             [
              0.8888888888888888,
              "#fdca26"
             ],
             [
              1,
              "#f0f921"
             ]
            ],
            "type": "surface"
           }
          ],
          "table": [
           {
            "cells": {
             "fill": {
              "color": "#EBF0F8"
             },
             "line": {
              "color": "white"
             }
            },
            "header": {
             "fill": {
              "color": "#C8D4E3"
             },
             "line": {
              "color": "white"
             }
            },
            "type": "table"
           }
          ]
         },
         "layout": {
          "annotationdefaults": {
           "arrowcolor": "#2a3f5f",
           "arrowhead": 0,
           "arrowwidth": 1
          },
          "autotypenumbers": "strict",
          "coloraxis": {
           "colorbar": {
            "outlinewidth": 0,
            "ticks": ""
           }
          },
          "colorscale": {
           "diverging": [
            [
             0,
             "#8e0152"
            ],
            [
             0.1,
             "#c51b7d"
            ],
            [
             0.2,
             "#de77ae"
            ],
            [
             0.3,
             "#f1b6da"
            ],
            [
             0.4,
             "#fde0ef"
            ],
            [
             0.5,
             "#f7f7f7"
            ],
            [
             0.6,
             "#e6f5d0"
            ],
            [
             0.7,
             "#b8e186"
            ],
            [
             0.8,
             "#7fbc41"
            ],
            [
             0.9,
             "#4d9221"
            ],
            [
             1,
             "#276419"
            ]
           ],
           "sequential": [
            [
             0,
             "#0d0887"
            ],
            [
             0.1111111111111111,
             "#46039f"
            ],
            [
             0.2222222222222222,
             "#7201a8"
            ],
            [
             0.3333333333333333,
             "#9c179e"
            ],
            [
             0.4444444444444444,
             "#bd3786"
            ],
            [
             0.5555555555555556,
             "#d8576b"
            ],
            [
             0.6666666666666666,
             "#ed7953"
            ],
            [
             0.7777777777777778,
             "#fb9f3a"
            ],
            [
             0.8888888888888888,
             "#fdca26"
            ],
            [
             1,
             "#f0f921"
            ]
           ],
           "sequentialminus": [
            [
             0,
             "#0d0887"
            ],
            [
             0.1111111111111111,
             "#46039f"
            ],
            [
             0.2222222222222222,
             "#7201a8"
            ],
            [
             0.3333333333333333,
             "#9c179e"
            ],
            [
             0.4444444444444444,
             "#bd3786"
            ],
            [
             0.5555555555555556,
             "#d8576b"
            ],
            [
             0.6666666666666666,
             "#ed7953"
            ],
            [
             0.7777777777777778,
             "#fb9f3a"
            ],
            [
             0.8888888888888888,
             "#fdca26"
            ],
            [
             1,
             "#f0f921"
            ]
           ]
          },
          "colorway": [
           "#636efa",
           "#EF553B",
           "#00cc96",
           "#ab63fa",
           "#FFA15A",
           "#19d3f3",
           "#FF6692",
           "#B6E880",
           "#FF97FF",
           "#FECB52"
          ],
          "font": {
           "color": "#2a3f5f"
          },
          "geo": {
           "bgcolor": "white",
           "lakecolor": "white",
           "landcolor": "white",
           "showlakes": true,
           "showland": true,
           "subunitcolor": "#C8D4E3"
          },
          "hoverlabel": {
           "align": "left"
          },
          "hovermode": "closest",
          "mapbox": {
           "style": "light"
          },
          "paper_bgcolor": "white",
          "plot_bgcolor": "white",
          "polar": {
           "angularaxis": {
            "gridcolor": "#EBF0F8",
            "linecolor": "#EBF0F8",
            "ticks": ""
           },
           "bgcolor": "white",
           "radialaxis": {
            "gridcolor": "#EBF0F8",
            "linecolor": "#EBF0F8",
            "ticks": ""
           }
          },
          "scene": {
           "xaxis": {
            "backgroundcolor": "white",
            "gridcolor": "#DFE8F3",
            "gridwidth": 2,
            "linecolor": "#EBF0F8",
            "showbackground": true,
            "ticks": "",
            "zerolinecolor": "#EBF0F8"
           },
           "yaxis": {
            "backgroundcolor": "white",
            "gridcolor": "#DFE8F3",
            "gridwidth": 2,
            "linecolor": "#EBF0F8",
            "showbackground": true,
            "ticks": "",
            "zerolinecolor": "#EBF0F8"
           },
           "zaxis": {
            "backgroundcolor": "white",
            "gridcolor": "#DFE8F3",
            "gridwidth": 2,
            "linecolor": "#EBF0F8",
            "showbackground": true,
            "ticks": "",
            "zerolinecolor": "#EBF0F8"
           }
          },
          "shapedefaults": {
           "line": {
            "color": "#2a3f5f"
           }
          },
          "ternary": {
           "aaxis": {
            "gridcolor": "#DFE8F3",
            "linecolor": "#A2B1C6",
            "ticks": ""
           },
           "baxis": {
            "gridcolor": "#DFE8F3",
            "linecolor": "#A2B1C6",
            "ticks": ""
           },
           "bgcolor": "white",
           "caxis": {
            "gridcolor": "#DFE8F3",
            "linecolor": "#A2B1C6",
            "ticks": ""
           }
          },
          "title": {
           "x": 0.05
          },
          "xaxis": {
           "automargin": true,
           "gridcolor": "#EBF0F8",
           "linecolor": "#EBF0F8",
           "ticks": "",
           "title": {
            "standoff": 15
           },
           "zerolinecolor": "#EBF0F8",
           "zerolinewidth": 2
          },
          "yaxis": {
           "automargin": true,
           "gridcolor": "#EBF0F8",
           "linecolor": "#EBF0F8",
           "ticks": "",
           "title": {
            "standoff": 15
           },
           "zerolinecolor": "#EBF0F8",
           "zerolinewidth": 2
          }
         }
        },
        "title": {
         "font": {
          "color": "black",
          "family": "Helvetica",
          "size": 20
         },
         "text": "Abhängigkeit von BIP pro Kopf zum Glücklichkeitswert",
         "x": 0.5
        },
        "width": 900,
        "xaxis": {
         "anchor": "y",
         "domain": [
          0,
          1
         ],
         "title": {
          "font": {
           "color": "dimgray"
          },
          "text": "BIP pro Kopf"
         }
        },
        "yaxis": {
         "anchor": "x",
         "domain": [
          0,
          1
         ],
         "title": {
          "font": {
           "color": "dimgray"
          },
          "text": "Glücklichkeitswert"
         }
        }
       }
      }
     },
     "metadata": {},
     "output_type": "display_data"
    }
   ],
   "source": [
    "# Punktediagramm für Abhängigkeit von BIP pro Kopf zu Glücklichkeitswert\n",
    "# ausreißer?\n",
    "def scatter_bip_glueck(glueck):\n",
    "    fig = px.scatter(glueck, \n",
    "                x=\"BIP pro Kopf\", \n",
    "                y=\"Glücklichkeitswert\",\n",
    "                trendline=\"ols\",\n",
    "                trendline_color_override=\"red\",\n",
    "                hover_data={'Land': True, 'Jahr': True})\n",
    "\n",
    "    fig.update_layout(\n",
    "            title=\"Abhängigkeit von BIP pro Kopf zum Glücklichkeitswert\",\n",
    "            template=\"plotly_white\",\n",
    "            xaxis_title=\"BIP pro Kopf\", \n",
    "            yaxis_title=\"Glücklichkeitswert\",\n",
    "            title_x=0.5,  \n",
    "            title_font=dict(size=20, family=\"Helvetica\", color=\"black\"),\n",
    "            xaxis_title_font=dict(color=\"dimgray\"),\n",
    "            yaxis_title_font=dict(color=\"dimgray\"),\n",
    "            width=900, \n",
    "            height=600)\n",
    "\n",
    "    return fig\n",
    "\n",
    "scatter_bip_glueck(glueck)"
   ]
  },
  {
   "cell_type": "code",
   "execution_count": 11,
   "metadata": {},
   "outputs": [],
   "source": [
    "# Korrelationskoeffizienten zwischen BIP pro Kopf und Glücklichkeitswert\n",
    "def calculate_correlation(glueck):\n",
    "    corr_coefficient = glueck['BIP pro Kopf'].corr(glueck['Glücklichkeitswert'])\n",
    "    return print(f\"Der Korrelationskoeffizient zwischen BIP pro Kopf und Glücklichkeitswert ist: {corr_coefficient:.2f}\")"
   ]
  },
  {
   "cell_type": "markdown",
   "metadata": {},
   "source": [
    "##### Ausreißer Libanon\n",
    "- BIP pro Kopf im Libanon erscheint relativ hoch \n",
    "- dort sind allerdings die strukturellen Probleme, die wirtschaftliche Instabilität, die politische Korruption und die schweren Krisen (Explosion von 2020, Pandemie) dafür verantwortlich, dass der Glücklichkeitswert der Bevölkerung sehr niedrig ist\n",
    "- Das BIP pro Kopf allein spiegelt nicht die tatsächliche Lebensqualität wider, insbesondere in einem Land, das von mehreren tiefgreifenden Krisen betroffen ist."
   ]
  },
  {
   "cell_type": "code",
   "execution_count": 12,
   "metadata": {},
   "outputs": [
    {
     "data": {
      "application/vnd.plotly.v1+json": {
       "config": {
        "plotlyServerURL": "https://plot.ly"
       },
       "data": [
        {
         "alignmentgroup": "True",
         "hovertemplate": "Region=Nordeuropa<br>Land=%{x}<br>Glücklichkeitswert=%{y}<extra></extra>",
         "legendgroup": "Nordeuropa",
         "marker": {
          "color": "#0d0887",
          "pattern": {
           "shape": ""
          }
         },
         "name": "Nordeuropa",
         "offsetgroup": "Nordeuropa",
         "orientation": "v",
         "showlegend": true,
         "textposition": "auto",
         "type": "bar",
         "x": [
          "Finland",
          "Iceland",
          "Denmark"
         ],
         "xaxis": "x",
         "y": [
          7.699,
          7.562,
          7.504
         ],
         "yaxis": "y"
        },
        {
         "alignmentgroup": "True",
         "hovertemplate": "Region=Mittelamerika<br>Land=%{x}<br>Glücklichkeitswert=%{y}<extra></extra>",
         "legendgroup": "Mittelamerika",
         "marker": {
          "color": "#bd3786",
          "pattern": {
           "shape": ""
          }
         },
         "name": "Mittelamerika",
         "offsetgroup": "Mittelamerika",
         "orientation": "v",
         "showlegend": true,
         "textposition": "auto",
         "type": "bar",
         "x": [
          "Costa Rica"
         ],
         "xaxis": "x",
         "y": [
          7.384
         ],
         "yaxis": "y"
        },
        {
         "alignmentgroup": "True",
         "hovertemplate": "Region=Westeuropa<br>Land=%{x}<br>Glücklichkeitswert=%{y}<extra></extra>",
         "legendgroup": "Westeuropa",
         "marker": {
          "color": "#fdca26",
          "pattern": {
           "shape": ""
          }
         },
         "name": "Westeuropa",
         "offsetgroup": "Westeuropa",
         "orientation": "v",
         "showlegend": true,
         "textposition": "auto",
         "type": "bar",
         "x": [
          "Netherlands"
         ],
         "xaxis": "x",
         "y": [
          7.255
         ],
         "yaxis": "y"
        }
       ],
       "layout": {
        "barmode": "relative",
        "height": 600,
        "legend": {
         "title": {
          "text": "Region"
         },
         "tracegroupgap": 0
        },
        "margin": {
         "t": 60
        },
        "template": {
         "data": {
          "bar": [
           {
            "error_x": {
             "color": "#2a3f5f"
            },
            "error_y": {
             "color": "#2a3f5f"
            },
            "marker": {
             "line": {
              "color": "white",
              "width": 0.5
             },
             "pattern": {
              "fillmode": "overlay",
              "size": 10,
              "solidity": 0.2
             }
            },
            "type": "bar"
           }
          ],
          "barpolar": [
           {
            "marker": {
             "line": {
              "color": "white",
              "width": 0.5
             },
             "pattern": {
              "fillmode": "overlay",
              "size": 10,
              "solidity": 0.2
             }
            },
            "type": "barpolar"
           }
          ],
          "carpet": [
           {
            "aaxis": {
             "endlinecolor": "#2a3f5f",
             "gridcolor": "#C8D4E3",
             "linecolor": "#C8D4E3",
             "minorgridcolor": "#C8D4E3",
             "startlinecolor": "#2a3f5f"
            },
            "baxis": {
             "endlinecolor": "#2a3f5f",
             "gridcolor": "#C8D4E3",
             "linecolor": "#C8D4E3",
             "minorgridcolor": "#C8D4E3",
             "startlinecolor": "#2a3f5f"
            },
            "type": "carpet"
           }
          ],
          "choropleth": [
           {
            "colorbar": {
             "outlinewidth": 0,
             "ticks": ""
            },
            "type": "choropleth"
           }
          ],
          "contour": [
           {
            "colorbar": {
             "outlinewidth": 0,
             "ticks": ""
            },
            "colorscale": [
             [
              0,
              "#0d0887"
             ],
             [
              0.1111111111111111,
              "#46039f"
             ],
             [
              0.2222222222222222,
              "#7201a8"
             ],
             [
              0.3333333333333333,
              "#9c179e"
             ],
             [
              0.4444444444444444,
              "#bd3786"
             ],
             [
              0.5555555555555556,
              "#d8576b"
             ],
             [
              0.6666666666666666,
              "#ed7953"
             ],
             [
              0.7777777777777778,
              "#fb9f3a"
             ],
             [
              0.8888888888888888,
              "#fdca26"
             ],
             [
              1,
              "#f0f921"
             ]
            ],
            "type": "contour"
           }
          ],
          "contourcarpet": [
           {
            "colorbar": {
             "outlinewidth": 0,
             "ticks": ""
            },
            "type": "contourcarpet"
           }
          ],
          "heatmap": [
           {
            "colorbar": {
             "outlinewidth": 0,
             "ticks": ""
            },
            "colorscale": [
             [
              0,
              "#0d0887"
             ],
             [
              0.1111111111111111,
              "#46039f"
             ],
             [
              0.2222222222222222,
              "#7201a8"
             ],
             [
              0.3333333333333333,
              "#9c179e"
             ],
             [
              0.4444444444444444,
              "#bd3786"
             ],
             [
              0.5555555555555556,
              "#d8576b"
             ],
             [
              0.6666666666666666,
              "#ed7953"
             ],
             [
              0.7777777777777778,
              "#fb9f3a"
             ],
             [
              0.8888888888888888,
              "#fdca26"
             ],
             [
              1,
              "#f0f921"
             ]
            ],
            "type": "heatmap"
           }
          ],
          "heatmapgl": [
           {
            "colorbar": {
             "outlinewidth": 0,
             "ticks": ""
            },
            "colorscale": [
             [
              0,
              "#0d0887"
             ],
             [
              0.1111111111111111,
              "#46039f"
             ],
             [
              0.2222222222222222,
              "#7201a8"
             ],
             [
              0.3333333333333333,
              "#9c179e"
             ],
             [
              0.4444444444444444,
              "#bd3786"
             ],
             [
              0.5555555555555556,
              "#d8576b"
             ],
             [
              0.6666666666666666,
              "#ed7953"
             ],
             [
              0.7777777777777778,
              "#fb9f3a"
             ],
             [
              0.8888888888888888,
              "#fdca26"
             ],
             [
              1,
              "#f0f921"
             ]
            ],
            "type": "heatmapgl"
           }
          ],
          "histogram": [
           {
            "marker": {
             "pattern": {
              "fillmode": "overlay",
              "size": 10,
              "solidity": 0.2
             }
            },
            "type": "histogram"
           }
          ],
          "histogram2d": [
           {
            "colorbar": {
             "outlinewidth": 0,
             "ticks": ""
            },
            "colorscale": [
             [
              0,
              "#0d0887"
             ],
             [
              0.1111111111111111,
              "#46039f"
             ],
             [
              0.2222222222222222,
              "#7201a8"
             ],
             [
              0.3333333333333333,
              "#9c179e"
             ],
             [
              0.4444444444444444,
              "#bd3786"
             ],
             [
              0.5555555555555556,
              "#d8576b"
             ],
             [
              0.6666666666666666,
              "#ed7953"
             ],
             [
              0.7777777777777778,
              "#fb9f3a"
             ],
             [
              0.8888888888888888,
              "#fdca26"
             ],
             [
              1,
              "#f0f921"
             ]
            ],
            "type": "histogram2d"
           }
          ],
          "histogram2dcontour": [
           {
            "colorbar": {
             "outlinewidth": 0,
             "ticks": ""
            },
            "colorscale": [
             [
              0,
              "#0d0887"
             ],
             [
              0.1111111111111111,
              "#46039f"
             ],
             [
              0.2222222222222222,
              "#7201a8"
             ],
             [
              0.3333333333333333,
              "#9c179e"
             ],
             [
              0.4444444444444444,
              "#bd3786"
             ],
             [
              0.5555555555555556,
              "#d8576b"
             ],
             [
              0.6666666666666666,
              "#ed7953"
             ],
             [
              0.7777777777777778,
              "#fb9f3a"
             ],
             [
              0.8888888888888888,
              "#fdca26"
             ],
             [
              1,
              "#f0f921"
             ]
            ],
            "type": "histogram2dcontour"
           }
          ],
          "mesh3d": [
           {
            "colorbar": {
             "outlinewidth": 0,
             "ticks": ""
            },
            "type": "mesh3d"
           }
          ],
          "parcoords": [
           {
            "line": {
             "colorbar": {
              "outlinewidth": 0,
              "ticks": ""
             }
            },
            "type": "parcoords"
           }
          ],
          "pie": [
           {
            "automargin": true,
            "type": "pie"
           }
          ],
          "scatter": [
           {
            "fillpattern": {
             "fillmode": "overlay",
             "size": 10,
             "solidity": 0.2
            },
            "type": "scatter"
           }
          ],
          "scatter3d": [
           {
            "line": {
             "colorbar": {
              "outlinewidth": 0,
              "ticks": ""
             }
            },
            "marker": {
             "colorbar": {
              "outlinewidth": 0,
              "ticks": ""
             }
            },
            "type": "scatter3d"
           }
          ],
          "scattercarpet": [
           {
            "marker": {
             "colorbar": {
              "outlinewidth": 0,
              "ticks": ""
             }
            },
            "type": "scattercarpet"
           }
          ],
          "scattergeo": [
           {
            "marker": {
             "colorbar": {
              "outlinewidth": 0,
              "ticks": ""
             }
            },
            "type": "scattergeo"
           }
          ],
          "scattergl": [
           {
            "marker": {
             "colorbar": {
              "outlinewidth": 0,
              "ticks": ""
             }
            },
            "type": "scattergl"
           }
          ],
          "scattermapbox": [
           {
            "marker": {
             "colorbar": {
              "outlinewidth": 0,
              "ticks": ""
             }
            },
            "type": "scattermapbox"
           }
          ],
          "scatterpolar": [
           {
            "marker": {
             "colorbar": {
              "outlinewidth": 0,
              "ticks": ""
             }
            },
            "type": "scatterpolar"
           }
          ],
          "scatterpolargl": [
           {
            "marker": {
             "colorbar": {
              "outlinewidth": 0,
              "ticks": ""
             }
            },
            "type": "scatterpolargl"
           }
          ],
          "scatterternary": [
           {
            "marker": {
             "colorbar": {
              "outlinewidth": 0,
              "ticks": ""
             }
            },
            "type": "scatterternary"
           }
          ],
          "surface": [
           {
            "colorbar": {
             "outlinewidth": 0,
             "ticks": ""
            },
            "colorscale": [
             [
              0,
              "#0d0887"
             ],
             [
              0.1111111111111111,
              "#46039f"
             ],
             [
              0.2222222222222222,
              "#7201a8"
             ],
             [
              0.3333333333333333,
              "#9c179e"
             ],
             [
              0.4444444444444444,
              "#bd3786"
             ],
             [
              0.5555555555555556,
              "#d8576b"
             ],
             [
              0.6666666666666666,
              "#ed7953"
             ],
             [
              0.7777777777777778,
              "#fb9f3a"
             ],
             [
              0.8888888888888888,
              "#fdca26"
             ],
             [
              1,
              "#f0f921"
             ]
            ],
            "type": "surface"
           }
          ],
          "table": [
           {
            "cells": {
             "fill": {
              "color": "#EBF0F8"
             },
             "line": {
              "color": "white"
             }
            },
            "header": {
             "fill": {
              "color": "#C8D4E3"
             },
             "line": {
              "color": "white"
             }
            },
            "type": "table"
           }
          ]
         },
         "layout": {
          "annotationdefaults": {
           "arrowcolor": "#2a3f5f",
           "arrowhead": 0,
           "arrowwidth": 1
          },
          "autotypenumbers": "strict",
          "coloraxis": {
           "colorbar": {
            "outlinewidth": 0,
            "ticks": ""
           }
          },
          "colorscale": {
           "diverging": [
            [
             0,
             "#8e0152"
            ],
            [
             0.1,
             "#c51b7d"
            ],
            [
             0.2,
             "#de77ae"
            ],
            [
             0.3,
             "#f1b6da"
            ],
            [
             0.4,
             "#fde0ef"
            ],
            [
             0.5,
             "#f7f7f7"
            ],
            [
             0.6,
             "#e6f5d0"
            ],
            [
             0.7,
             "#b8e186"
            ],
            [
             0.8,
             "#7fbc41"
            ],
            [
             0.9,
             "#4d9221"
            ],
            [
             1,
             "#276419"
            ]
           ],
           "sequential": [
            [
             0,
             "#0d0887"
            ],
            [
             0.1111111111111111,
             "#46039f"
            ],
            [
             0.2222222222222222,
             "#7201a8"
            ],
            [
             0.3333333333333333,
             "#9c179e"
            ],
            [
             0.4444444444444444,
             "#bd3786"
            ],
            [
             0.5555555555555556,
             "#d8576b"
            ],
            [
             0.6666666666666666,
             "#ed7953"
            ],
            [
             0.7777777777777778,
             "#fb9f3a"
            ],
            [
             0.8888888888888888,
             "#fdca26"
            ],
            [
             1,
             "#f0f921"
            ]
           ],
           "sequentialminus": [
            [
             0,
             "#0d0887"
            ],
            [
             0.1111111111111111,
             "#46039f"
            ],
            [
             0.2222222222222222,
             "#7201a8"
            ],
            [
             0.3333333333333333,
             "#9c179e"
            ],
            [
             0.4444444444444444,
             "#bd3786"
            ],
            [
             0.5555555555555556,
             "#d8576b"
            ],
            [
             0.6666666666666666,
             "#ed7953"
            ],
            [
             0.7777777777777778,
             "#fb9f3a"
            ],
            [
             0.8888888888888888,
             "#fdca26"
            ],
            [
             1,
             "#f0f921"
            ]
           ]
          },
          "colorway": [
           "#636efa",
           "#EF553B",
           "#00cc96",
           "#ab63fa",
           "#FFA15A",
           "#19d3f3",
           "#FF6692",
           "#B6E880",
           "#FF97FF",
           "#FECB52"
          ],
          "font": {
           "color": "#2a3f5f"
          },
          "geo": {
           "bgcolor": "white",
           "lakecolor": "white",
           "landcolor": "white",
           "showlakes": true,
           "showland": true,
           "subunitcolor": "#C8D4E3"
          },
          "hoverlabel": {
           "align": "left"
          },
          "hovermode": "closest",
          "mapbox": {
           "style": "light"
          },
          "paper_bgcolor": "white",
          "plot_bgcolor": "white",
          "polar": {
           "angularaxis": {
            "gridcolor": "#EBF0F8",
            "linecolor": "#EBF0F8",
            "ticks": ""
           },
           "bgcolor": "white",
           "radialaxis": {
            "gridcolor": "#EBF0F8",
            "linecolor": "#EBF0F8",
            "ticks": ""
           }
          },
          "scene": {
           "xaxis": {
            "backgroundcolor": "white",
            "gridcolor": "#DFE8F3",
            "gridwidth": 2,
            "linecolor": "#EBF0F8",
            "showbackground": true,
            "ticks": "",
            "zerolinecolor": "#EBF0F8"
           },
           "yaxis": {
            "backgroundcolor": "white",
            "gridcolor": "#DFE8F3",
            "gridwidth": 2,
            "linecolor": "#EBF0F8",
            "showbackground": true,
            "ticks": "",
            "zerolinecolor": "#EBF0F8"
           },
           "zaxis": {
            "backgroundcolor": "white",
            "gridcolor": "#DFE8F3",
            "gridwidth": 2,
            "linecolor": "#EBF0F8",
            "showbackground": true,
            "ticks": "",
            "zerolinecolor": "#EBF0F8"
           }
          },
          "shapedefaults": {
           "line": {
            "color": "#2a3f5f"
           }
          },
          "ternary": {
           "aaxis": {
            "gridcolor": "#DFE8F3",
            "linecolor": "#A2B1C6",
            "ticks": ""
           },
           "baxis": {
            "gridcolor": "#DFE8F3",
            "linecolor": "#A2B1C6",
            "ticks": ""
           },
           "bgcolor": "white",
           "caxis": {
            "gridcolor": "#DFE8F3",
            "linecolor": "#A2B1C6",
            "ticks": ""
           }
          },
          "title": {
           "x": 0.05
          },
          "xaxis": {
           "automargin": true,
           "gridcolor": "#EBF0F8",
           "linecolor": "#EBF0F8",
           "ticks": "",
           "title": {
            "standoff": 15
           },
           "zerolinecolor": "#EBF0F8",
           "zerolinewidth": 2
          },
          "yaxis": {
           "automargin": true,
           "gridcolor": "#EBF0F8",
           "linecolor": "#EBF0F8",
           "ticks": "",
           "title": {
            "standoff": 15
           },
           "zerolinecolor": "#EBF0F8",
           "zerolinewidth": 2
          }
         }
        },
        "title": {
         "font": {
          "color": "black",
          "family": "Helvetica",
          "size": 20
         },
         "text": "Glücklichkeitswert der Top 5 Länder in 2023",
         "x": 0.5
        },
        "width": 900,
        "xaxis": {
         "anchor": "y",
         "domain": [
          0,
          1
         ],
         "title": {
          "font": {
           "color": "dimgray"
          },
          "text": "Land"
         }
        },
        "yaxis": {
         "anchor": "x",
         "domain": [
          0,
          1
         ],
         "title": {
          "font": {
           "color": "dimgray"
          },
          "text": "Glücklichkeitswert"
         }
        }
       }
      }
     },
     "metadata": {},
     "output_type": "display_data"
    }
   ],
   "source": [
    "# Säulendiagramm der Top 5 Länder in 2023\n",
    "def top_5_2023(glueck):\n",
    "    glueck = pd.read_csv(\"whr_2024_update.csv\",\n",
    "                        sep=';', decimal=',')\n",
    "    glueck_top_5 = glueck[glueck[\"Jahr\"]== 2023].sort_values(\"Glücklichkeitswert\", ascending=False).head(5)\n",
    "    fig = px.bar(glueck_top_5, \n",
    "             x='Land', \n",
    "             y='Glücklichkeitswert', \n",
    "             color='Region',\n",
    "             color_discrete_sequence=px.colors.sequential.Plasma[::4])\n",
    "    fig.update_layout(\n",
    "    title=\"Glücklichkeitswert der Top 5 Länder in 2023\",\n",
    "    template=\"plotly_white\",\n",
    "    xaxis_title=\"Land\", \n",
    "    yaxis_title=\"Glücklichkeitswert\",\n",
    "    title_x=0.5,  \n",
    "    title_font=dict(size=20, family=\"Helvetica\", color=\"black\"),\n",
    "    xaxis_title_font=dict(color=\"dimgray\"),\n",
    "    yaxis_title_font=dict(color=\"dimgray\"),\n",
    "    width=900, \n",
    "    height=600)\n",
    "\n",
    "    return fig\n",
    "\n",
    "top_5_2023(glueck)"
   ]
  },
  {
   "cell_type": "code",
   "execution_count": 42,
   "metadata": {},
   "outputs": [
    {
     "data": {
      "application/vnd.plotly.v1+json": {
       "config": {
        "plotlyServerURL": "https://plot.ly"
       },
       "data": [
        {
         "alignmentgroup": "True",
         "hovertemplate": "Land=%{x}<br>BIP pro Kopf=%{marker.color}<extra></extra>",
         "legendgroup": "",
         "marker": {
          "color": [
           11.676,
           11.649,
           11.236,
           11.169,
           11.125,
           11.089,
           10.996,
           10.977,
           10.934,
           10.93
          ],
          "coloraxis": "coloraxis",
          "pattern": {
           "shape": ""
          }
         },
         "name": "",
         "offsetgroup": "",
         "orientation": "v",
         "showlegend": false,
         "text": [
          11.676,
          11.649,
          11.236,
          11.169,
          11.125,
          11.089,
          10.996,
          10.977,
          10.934,
          10.93
         ],
         "textposition": "outside",
         "type": "bar",
         "x": [
          "Ireland",
          "Luxembourg",
          "United Arab Emirates",
          "Switzerland",
          "Norway",
          "United States",
          "Denmark",
          "Netherlands",
          "Iceland",
          "Austria"
         ],
         "xaxis": "x",
         "y": [
          11.676,
          11.649,
          11.236,
          11.169,
          11.125,
          11.089,
          10.996,
          10.977,
          10.934,
          10.93
         ],
         "yaxis": "y"
        }
       ],
       "layout": {
        "barmode": "relative",
        "coloraxis": {
         "colorbar": {
          "title": {
           "text": "BIP pro Kopf"
          }
         },
         "colorscale": [
          [
           0,
           "#0d0887"
          ],
          [
           0.1111111111111111,
           "#46039f"
          ],
          [
           0.2222222222222222,
           "#7201a8"
          ],
          [
           0.3333333333333333,
           "#9c179e"
          ],
          [
           0.4444444444444444,
           "#bd3786"
          ],
          [
           0.5555555555555556,
           "#d8576b"
          ],
          [
           0.6666666666666666,
           "#ed7953"
          ],
          [
           0.7777777777777778,
           "#fb9f3a"
          ],
          [
           0.8888888888888888,
           "#fdca26"
          ],
          [
           1,
           "#f0f921"
          ]
         ]
        },
        "height": 600,
        "legend": {
         "tracegroupgap": 0
        },
        "margin": {
         "t": 60
        },
        "template": {
         "data": {
          "bar": [
           {
            "error_x": {
             "color": "#2a3f5f"
            },
            "error_y": {
             "color": "#2a3f5f"
            },
            "marker": {
             "line": {
              "color": "white",
              "width": 0.5
             },
             "pattern": {
              "fillmode": "overlay",
              "size": 10,
              "solidity": 0.2
             }
            },
            "type": "bar"
           }
          ],
          "barpolar": [
           {
            "marker": {
             "line": {
              "color": "white",
              "width": 0.5
             },
             "pattern": {
              "fillmode": "overlay",
              "size": 10,
              "solidity": 0.2
             }
            },
            "type": "barpolar"
           }
          ],
          "carpet": [
           {
            "aaxis": {
             "endlinecolor": "#2a3f5f",
             "gridcolor": "#C8D4E3",
             "linecolor": "#C8D4E3",
             "minorgridcolor": "#C8D4E3",
             "startlinecolor": "#2a3f5f"
            },
            "baxis": {
             "endlinecolor": "#2a3f5f",
             "gridcolor": "#C8D4E3",
             "linecolor": "#C8D4E3",
             "minorgridcolor": "#C8D4E3",
             "startlinecolor": "#2a3f5f"
            },
            "type": "carpet"
           }
          ],
          "choropleth": [
           {
            "colorbar": {
             "outlinewidth": 0,
             "ticks": ""
            },
            "type": "choropleth"
           }
          ],
          "contour": [
           {
            "colorbar": {
             "outlinewidth": 0,
             "ticks": ""
            },
            "colorscale": [
             [
              0,
              "#0d0887"
             ],
             [
              0.1111111111111111,
              "#46039f"
             ],
             [
              0.2222222222222222,
              "#7201a8"
             ],
             [
              0.3333333333333333,
              "#9c179e"
             ],
             [
              0.4444444444444444,
              "#bd3786"
             ],
             [
              0.5555555555555556,
              "#d8576b"
             ],
             [
              0.6666666666666666,
              "#ed7953"
             ],
             [
              0.7777777777777778,
              "#fb9f3a"
             ],
             [
              0.8888888888888888,
              "#fdca26"
             ],
             [
              1,
              "#f0f921"
             ]
            ],
            "type": "contour"
           }
          ],
          "contourcarpet": [
           {
            "colorbar": {
             "outlinewidth": 0,
             "ticks": ""
            },
            "type": "contourcarpet"
           }
          ],
          "heatmap": [
           {
            "colorbar": {
             "outlinewidth": 0,
             "ticks": ""
            },
            "colorscale": [
             [
              0,
              "#0d0887"
             ],
             [
              0.1111111111111111,
              "#46039f"
             ],
             [
              0.2222222222222222,
              "#7201a8"
             ],
             [
              0.3333333333333333,
              "#9c179e"
             ],
             [
              0.4444444444444444,
              "#bd3786"
             ],
             [
              0.5555555555555556,
              "#d8576b"
             ],
             [
              0.6666666666666666,
              "#ed7953"
             ],
             [
              0.7777777777777778,
              "#fb9f3a"
             ],
             [
              0.8888888888888888,
              "#fdca26"
             ],
             [
              1,
              "#f0f921"
             ]
            ],
            "type": "heatmap"
           }
          ],
          "heatmapgl": [
           {
            "colorbar": {
             "outlinewidth": 0,
             "ticks": ""
            },
            "colorscale": [
             [
              0,
              "#0d0887"
             ],
             [
              0.1111111111111111,
              "#46039f"
             ],
             [
              0.2222222222222222,
              "#7201a8"
             ],
             [
              0.3333333333333333,
              "#9c179e"
             ],
             [
              0.4444444444444444,
              "#bd3786"
             ],
             [
              0.5555555555555556,
              "#d8576b"
             ],
             [
              0.6666666666666666,
              "#ed7953"
             ],
             [
              0.7777777777777778,
              "#fb9f3a"
             ],
             [
              0.8888888888888888,
              "#fdca26"
             ],
             [
              1,
              "#f0f921"
             ]
            ],
            "type": "heatmapgl"
           }
          ],
          "histogram": [
           {
            "marker": {
             "pattern": {
              "fillmode": "overlay",
              "size": 10,
              "solidity": 0.2
             }
            },
            "type": "histogram"
           }
          ],
          "histogram2d": [
           {
            "colorbar": {
             "outlinewidth": 0,
             "ticks": ""
            },
            "colorscale": [
             [
              0,
              "#0d0887"
             ],
             [
              0.1111111111111111,
              "#46039f"
             ],
             [
              0.2222222222222222,
              "#7201a8"
             ],
             [
              0.3333333333333333,
              "#9c179e"
             ],
             [
              0.4444444444444444,
              "#bd3786"
             ],
             [
              0.5555555555555556,
              "#d8576b"
             ],
             [
              0.6666666666666666,
              "#ed7953"
             ],
             [
              0.7777777777777778,
              "#fb9f3a"
             ],
             [
              0.8888888888888888,
              "#fdca26"
             ],
             [
              1,
              "#f0f921"
             ]
            ],
            "type": "histogram2d"
           }
          ],
          "histogram2dcontour": [
           {
            "colorbar": {
             "outlinewidth": 0,
             "ticks": ""
            },
            "colorscale": [
             [
              0,
              "#0d0887"
             ],
             [
              0.1111111111111111,
              "#46039f"
             ],
             [
              0.2222222222222222,
              "#7201a8"
             ],
             [
              0.3333333333333333,
              "#9c179e"
             ],
             [
              0.4444444444444444,
              "#bd3786"
             ],
             [
              0.5555555555555556,
              "#d8576b"
             ],
             [
              0.6666666666666666,
              "#ed7953"
             ],
             [
              0.7777777777777778,
              "#fb9f3a"
             ],
             [
              0.8888888888888888,
              "#fdca26"
             ],
             [
              1,
              "#f0f921"
             ]
            ],
            "type": "histogram2dcontour"
           }
          ],
          "mesh3d": [
           {
            "colorbar": {
             "outlinewidth": 0,
             "ticks": ""
            },
            "type": "mesh3d"
           }
          ],
          "parcoords": [
           {
            "line": {
             "colorbar": {
              "outlinewidth": 0,
              "ticks": ""
             }
            },
            "type": "parcoords"
           }
          ],
          "pie": [
           {
            "automargin": true,
            "type": "pie"
           }
          ],
          "scatter": [
           {
            "fillpattern": {
             "fillmode": "overlay",
             "size": 10,
             "solidity": 0.2
            },
            "type": "scatter"
           }
          ],
          "scatter3d": [
           {
            "line": {
             "colorbar": {
              "outlinewidth": 0,
              "ticks": ""
             }
            },
            "marker": {
             "colorbar": {
              "outlinewidth": 0,
              "ticks": ""
             }
            },
            "type": "scatter3d"
           }
          ],
          "scattercarpet": [
           {
            "marker": {
             "colorbar": {
              "outlinewidth": 0,
              "ticks": ""
             }
            },
            "type": "scattercarpet"
           }
          ],
          "scattergeo": [
           {
            "marker": {
             "colorbar": {
              "outlinewidth": 0,
              "ticks": ""
             }
            },
            "type": "scattergeo"
           }
          ],
          "scattergl": [
           {
            "marker": {
             "colorbar": {
              "outlinewidth": 0,
              "ticks": ""
             }
            },
            "type": "scattergl"
           }
          ],
          "scattermapbox": [
           {
            "marker": {
             "colorbar": {
              "outlinewidth": 0,
              "ticks": ""
             }
            },
            "type": "scattermapbox"
           }
          ],
          "scatterpolar": [
           {
            "marker": {
             "colorbar": {
              "outlinewidth": 0,
              "ticks": ""
             }
            },
            "type": "scatterpolar"
           }
          ],
          "scatterpolargl": [
           {
            "marker": {
             "colorbar": {
              "outlinewidth": 0,
              "ticks": ""
             }
            },
            "type": "scatterpolargl"
           }
          ],
          "scatterternary": [
           {
            "marker": {
             "colorbar": {
              "outlinewidth": 0,
              "ticks": ""
             }
            },
            "type": "scatterternary"
           }
          ],
          "surface": [
           {
            "colorbar": {
             "outlinewidth": 0,
             "ticks": ""
            },
            "colorscale": [
             [
              0,
              "#0d0887"
             ],
             [
              0.1111111111111111,
              "#46039f"
             ],
             [
              0.2222222222222222,
              "#7201a8"
             ],
             [
              0.3333333333333333,
              "#9c179e"
             ],
             [
              0.4444444444444444,
              "#bd3786"
             ],
             [
              0.5555555555555556,
              "#d8576b"
             ],
             [
              0.6666666666666666,
              "#ed7953"
             ],
             [
              0.7777777777777778,
              "#fb9f3a"
             ],
             [
              0.8888888888888888,
              "#fdca26"
             ],
             [
              1,
              "#f0f921"
             ]
            ],
            "type": "surface"
           }
          ],
          "table": [
           {
            "cells": {
             "fill": {
              "color": "#EBF0F8"
             },
             "line": {
              "color": "white"
             }
            },
            "header": {
             "fill": {
              "color": "#C8D4E3"
             },
             "line": {
              "color": "white"
             }
            },
            "type": "table"
           }
          ]
         },
         "layout": {
          "annotationdefaults": {
           "arrowcolor": "#2a3f5f",
           "arrowhead": 0,
           "arrowwidth": 1
          },
          "autotypenumbers": "strict",
          "coloraxis": {
           "colorbar": {
            "outlinewidth": 0,
            "ticks": ""
           }
          },
          "colorscale": {
           "diverging": [
            [
             0,
             "#8e0152"
            ],
            [
             0.1,
             "#c51b7d"
            ],
            [
             0.2,
             "#de77ae"
            ],
            [
             0.3,
             "#f1b6da"
            ],
            [
             0.4,
             "#fde0ef"
            ],
            [
             0.5,
             "#f7f7f7"
            ],
            [
             0.6,
             "#e6f5d0"
            ],
            [
             0.7,
             "#b8e186"
            ],
            [
             0.8,
             "#7fbc41"
            ],
            [
             0.9,
             "#4d9221"
            ],
            [
             1,
             "#276419"
            ]
           ],
           "sequential": [
            [
             0,
             "#0d0887"
            ],
            [
             0.1111111111111111,
             "#46039f"
            ],
            [
             0.2222222222222222,
             "#7201a8"
            ],
            [
             0.3333333333333333,
             "#9c179e"
            ],
            [
             0.4444444444444444,
             "#bd3786"
            ],
            [
             0.5555555555555556,
             "#d8576b"
            ],
            [
             0.6666666666666666,
             "#ed7953"
            ],
            [
             0.7777777777777778,
             "#fb9f3a"
            ],
            [
             0.8888888888888888,
             "#fdca26"
            ],
            [
             1,
             "#f0f921"
            ]
           ],
           "sequentialminus": [
            [
             0,
             "#0d0887"
            ],
            [
             0.1111111111111111,
             "#46039f"
            ],
            [
             0.2222222222222222,
             "#7201a8"
            ],
            [
             0.3333333333333333,
             "#9c179e"
            ],
            [
             0.4444444444444444,
             "#bd3786"
            ],
            [
             0.5555555555555556,
             "#d8576b"
            ],
            [
             0.6666666666666666,
             "#ed7953"
            ],
            [
             0.7777777777777778,
             "#fb9f3a"
            ],
            [
             0.8888888888888888,
             "#fdca26"
            ],
            [
             1,
             "#f0f921"
            ]
           ]
          },
          "colorway": [
           "#636efa",
           "#EF553B",
           "#00cc96",
           "#ab63fa",
           "#FFA15A",
           "#19d3f3",
           "#FF6692",
           "#B6E880",
           "#FF97FF",
           "#FECB52"
          ],
          "font": {
           "color": "#2a3f5f"
          },
          "geo": {
           "bgcolor": "white",
           "lakecolor": "white",
           "landcolor": "white",
           "showlakes": true,
           "showland": true,
           "subunitcolor": "#C8D4E3"
          },
          "hoverlabel": {
           "align": "left"
          },
          "hovermode": "closest",
          "mapbox": {
           "style": "light"
          },
          "paper_bgcolor": "white",
          "plot_bgcolor": "white",
          "polar": {
           "angularaxis": {
            "gridcolor": "#EBF0F8",
            "linecolor": "#EBF0F8",
            "ticks": ""
           },
           "bgcolor": "white",
           "radialaxis": {
            "gridcolor": "#EBF0F8",
            "linecolor": "#EBF0F8",
            "ticks": ""
           }
          },
          "scene": {
           "xaxis": {
            "backgroundcolor": "white",
            "gridcolor": "#DFE8F3",
            "gridwidth": 2,
            "linecolor": "#EBF0F8",
            "showbackground": true,
            "ticks": "",
            "zerolinecolor": "#EBF0F8"
           },
           "yaxis": {
            "backgroundcolor": "white",
            "gridcolor": "#DFE8F3",
            "gridwidth": 2,
            "linecolor": "#EBF0F8",
            "showbackground": true,
            "ticks": "",
            "zerolinecolor": "#EBF0F8"
           },
           "zaxis": {
            "backgroundcolor": "white",
            "gridcolor": "#DFE8F3",
            "gridwidth": 2,
            "linecolor": "#EBF0F8",
            "showbackground": true,
            "ticks": "",
            "zerolinecolor": "#EBF0F8"
           }
          },
          "shapedefaults": {
           "line": {
            "color": "#2a3f5f"
           }
          },
          "ternary": {
           "aaxis": {
            "gridcolor": "#DFE8F3",
            "linecolor": "#A2B1C6",
            "ticks": ""
           },
           "baxis": {
            "gridcolor": "#DFE8F3",
            "linecolor": "#A2B1C6",
            "ticks": ""
           },
           "bgcolor": "white",
           "caxis": {
            "gridcolor": "#DFE8F3",
            "linecolor": "#A2B1C6",
            "ticks": ""
           }
          },
          "title": {
           "x": 0.05
          },
          "xaxis": {
           "automargin": true,
           "gridcolor": "#EBF0F8",
           "linecolor": "#EBF0F8",
           "ticks": "",
           "title": {
            "standoff": 15
           },
           "zerolinecolor": "#EBF0F8",
           "zerolinewidth": 2
          },
          "yaxis": {
           "automargin": true,
           "gridcolor": "#EBF0F8",
           "linecolor": "#EBF0F8",
           "ticks": "",
           "title": {
            "standoff": 15
           },
           "zerolinecolor": "#EBF0F8",
           "zerolinewidth": 2
          }
         }
        },
        "title": {
         "font": {
          "color": "black",
          "family": "Helvetica",
          "size": 20
         },
         "text": "BIP pro Kopf der Top 10 Länder in 2023",
         "x": 0.5
        },
        "width": 900,
        "xaxis": {
         "anchor": "y",
         "domain": [
          0,
          1
         ],
         "title": {
          "font": {
           "color": "dimgray"
          },
          "text": "Land"
         }
        },
        "yaxis": {
         "anchor": "x",
         "domain": [
          0,
          1
         ],
         "title": {
          "font": {
           "color": "dimgray"
          },
          "text": "BIP pro Kopf"
         }
        }
       }
      }
     },
     "metadata": {},
     "output_type": "display_data"
    }
   ],
   "source": [
    "# Säulendiagramm der Top 10 BIP-Länder in 2023 (ohne Ignorieren von 0-Werten)\n",
    "def top_10_2023_bip(glueck):\n",
    "    # Null- und NaN-Werte im BIP pro Kopf ignorieren, aber 0-Werte behalten\n",
    "    glueck_filtered = glueck[glueck[\"Jahr\"] == 2023].dropna(subset=[\"BIP pro Kopf\"])\n",
    "    \n",
    "    # Top 10 Länder basierend auf BIP pro Kopf (einschließlich 0-Werten)\n",
    "    glueck_top_10 = glueck_filtered.sort_values(\"BIP pro Kopf\", ascending=False).head(10)\n",
    "    \n",
    "    # Erstellen des Säulendiagramms\n",
    "    fig = px.bar(glueck_top_10, \n",
    "                 x='Land', \n",
    "                 y='BIP pro Kopf', \n",
    "                 color='BIP pro Kopf',\n",
    "                 color_discrete_sequence=px.colors.sequential.Plasma,\n",
    "                 text='BIP pro Kopf')\n",
    "\n",
    "    # Layout des Diagramms\n",
    "    fig.update_layout(\n",
    "            title=\"BIP pro Kopf der Top 10 Länder in 2023\",\n",
    "            template=\"plotly_white\",\n",
    "            xaxis_title=\"Land\", \n",
    "            yaxis_title=\"BIP pro Kopf\",\n",
    "            title_x=0.5,  \n",
    "            title_font=dict(size=20, family=\"Helvetica\", color=\"black\"),\n",
    "            xaxis_title_font=dict(color=\"dimgray\"),\n",
    "            yaxis_title_font=dict(color=\"dimgray\"),\n",
    "            width=900, \n",
    "            height=600)\n",
    "    \n",
    "    # Position des Textes (außerhalb der Balken)\n",
    "    fig.update_traces(textposition='outside')\n",
    "\n",
    "    return fig\n",
    "\n",
    "# Funktion aufrufen\n",
    "top_10_2023_bip(glueck)\n"
   ]
  },
  {
   "cell_type": "code",
   "execution_count": 14,
   "metadata": {},
   "outputs": [],
   "source": [
    "# NaN Wert in der Spalte BIP in Afghanistan mit dem BIP Wert aus 2021 ersetzt\n",
    "glueck_bottom_5 = glueck[glueck[\"Jahr\"]== 2023].sort_values(\"Glücklichkeitswert\", ascending=False).tail()\n",
    "glueck_bottom_5.loc[14,\"BIP pro Kopf\"] = 7.325"
   ]
  },
  {
   "cell_type": "code",
   "execution_count": 15,
   "metadata": {},
   "outputs": [
    {
     "data": {
      "application/vnd.plotly.v1+json": {
       "config": {
        "plotlyServerURL": "https://plot.ly"
       },
       "data": [
        {
         "alignmentgroup": "True",
         "hovertemplate": "Land=%{x}<br>Glücklichkeitswert=%{marker.color}<extra></extra>",
         "legendgroup": "",
         "marker": {
          "color": [
           7.699,
           7.562,
           7.504,
           7.384,
           7.255,
           3.467,
           3.383,
           3.332,
           3.272,
           1.446
          ],
          "coloraxis": "coloraxis",
          "pattern": {
           "shape": ""
          }
         },
         "name": "",
         "offsetgroup": "",
         "orientation": "v",
         "showlegend": false,
         "text": [
          7.699,
          7.562,
          7.504,
          7.384,
          7.255,
          3.467,
          3.383,
          3.332,
          3.272,
          1.446
         ],
         "textposition": "outside",
         "type": "bar",
         "x": [
          "Finland",
          "Iceland",
          "Denmark",
          "Costa Rica",
          "Netherlands",
          "Sierra Leone",
          "Congo (Kinshasa)",
          "Botswana",
          "Malawi",
          "Afghanistan"
         ],
         "xaxis": "x",
         "y": [
          7.699,
          7.562,
          7.504,
          7.384,
          7.255,
          3.467,
          3.383,
          3.332,
          3.272,
          1.446
         ],
         "yaxis": "y"
        }
       ],
       "layout": {
        "barmode": "relative",
        "coloraxis": {
         "colorbar": {
          "title": {
           "text": "Glücklichkeitswert"
          }
         },
         "colorscale": [
          [
           0,
           "#0d0887"
          ],
          [
           0.1111111111111111,
           "#46039f"
          ],
          [
           0.2222222222222222,
           "#7201a8"
          ],
          [
           0.3333333333333333,
           "#9c179e"
          ],
          [
           0.4444444444444444,
           "#bd3786"
          ],
          [
           0.5555555555555556,
           "#d8576b"
          ],
          [
           0.6666666666666666,
           "#ed7953"
          ],
          [
           0.7777777777777778,
           "#fb9f3a"
          ],
          [
           0.8888888888888888,
           "#fdca26"
          ],
          [
           1,
           "#f0f921"
          ]
         ]
        },
        "height": 600,
        "legend": {
         "tracegroupgap": 0
        },
        "margin": {
         "t": 60
        },
        "template": {
         "data": {
          "bar": [
           {
            "error_x": {
             "color": "#2a3f5f"
            },
            "error_y": {
             "color": "#2a3f5f"
            },
            "marker": {
             "line": {
              "color": "white",
              "width": 0.5
             },
             "pattern": {
              "fillmode": "overlay",
              "size": 10,
              "solidity": 0.2
             }
            },
            "type": "bar"
           }
          ],
          "barpolar": [
           {
            "marker": {
             "line": {
              "color": "white",
              "width": 0.5
             },
             "pattern": {
              "fillmode": "overlay",
              "size": 10,
              "solidity": 0.2
             }
            },
            "type": "barpolar"
           }
          ],
          "carpet": [
           {
            "aaxis": {
             "endlinecolor": "#2a3f5f",
             "gridcolor": "#C8D4E3",
             "linecolor": "#C8D4E3",
             "minorgridcolor": "#C8D4E3",
             "startlinecolor": "#2a3f5f"
            },
            "baxis": {
             "endlinecolor": "#2a3f5f",
             "gridcolor": "#C8D4E3",
             "linecolor": "#C8D4E3",
             "minorgridcolor": "#C8D4E3",
             "startlinecolor": "#2a3f5f"
            },
            "type": "carpet"
           }
          ],
          "choropleth": [
           {
            "colorbar": {
             "outlinewidth": 0,
             "ticks": ""
            },
            "type": "choropleth"
           }
          ],
          "contour": [
           {
            "colorbar": {
             "outlinewidth": 0,
             "ticks": ""
            },
            "colorscale": [
             [
              0,
              "#0d0887"
             ],
             [
              0.1111111111111111,
              "#46039f"
             ],
             [
              0.2222222222222222,
              "#7201a8"
             ],
             [
              0.3333333333333333,
              "#9c179e"
             ],
             [
              0.4444444444444444,
              "#bd3786"
             ],
             [
              0.5555555555555556,
              "#d8576b"
             ],
             [
              0.6666666666666666,
              "#ed7953"
             ],
             [
              0.7777777777777778,
              "#fb9f3a"
             ],
             [
              0.8888888888888888,
              "#fdca26"
             ],
             [
              1,
              "#f0f921"
             ]
            ],
            "type": "contour"
           }
          ],
          "contourcarpet": [
           {
            "colorbar": {
             "outlinewidth": 0,
             "ticks": ""
            },
            "type": "contourcarpet"
           }
          ],
          "heatmap": [
           {
            "colorbar": {
             "outlinewidth": 0,
             "ticks": ""
            },
            "colorscale": [
             [
              0,
              "#0d0887"
             ],
             [
              0.1111111111111111,
              "#46039f"
             ],
             [
              0.2222222222222222,
              "#7201a8"
             ],
             [
              0.3333333333333333,
              "#9c179e"
             ],
             [
              0.4444444444444444,
              "#bd3786"
             ],
             [
              0.5555555555555556,
              "#d8576b"
             ],
             [
              0.6666666666666666,
              "#ed7953"
             ],
             [
              0.7777777777777778,
              "#fb9f3a"
             ],
             [
              0.8888888888888888,
              "#fdca26"
             ],
             [
              1,
              "#f0f921"
             ]
            ],
            "type": "heatmap"
           }
          ],
          "heatmapgl": [
           {
            "colorbar": {
             "outlinewidth": 0,
             "ticks": ""
            },
            "colorscale": [
             [
              0,
              "#0d0887"
             ],
             [
              0.1111111111111111,
              "#46039f"
             ],
             [
              0.2222222222222222,
              "#7201a8"
             ],
             [
              0.3333333333333333,
              "#9c179e"
             ],
             [
              0.4444444444444444,
              "#bd3786"
             ],
             [
              0.5555555555555556,
              "#d8576b"
             ],
             [
              0.6666666666666666,
              "#ed7953"
             ],
             [
              0.7777777777777778,
              "#fb9f3a"
             ],
             [
              0.8888888888888888,
              "#fdca26"
             ],
             [
              1,
              "#f0f921"
             ]
            ],
            "type": "heatmapgl"
           }
          ],
          "histogram": [
           {
            "marker": {
             "pattern": {
              "fillmode": "overlay",
              "size": 10,
              "solidity": 0.2
             }
            },
            "type": "histogram"
           }
          ],
          "histogram2d": [
           {
            "colorbar": {
             "outlinewidth": 0,
             "ticks": ""
            },
            "colorscale": [
             [
              0,
              "#0d0887"
             ],
             [
              0.1111111111111111,
              "#46039f"
             ],
             [
              0.2222222222222222,
              "#7201a8"
             ],
             [
              0.3333333333333333,
              "#9c179e"
             ],
             [
              0.4444444444444444,
              "#bd3786"
             ],
             [
              0.5555555555555556,
              "#d8576b"
             ],
             [
              0.6666666666666666,
              "#ed7953"
             ],
             [
              0.7777777777777778,
              "#fb9f3a"
             ],
             [
              0.8888888888888888,
              "#fdca26"
             ],
             [
              1,
              "#f0f921"
             ]
            ],
            "type": "histogram2d"
           }
          ],
          "histogram2dcontour": [
           {
            "colorbar": {
             "outlinewidth": 0,
             "ticks": ""
            },
            "colorscale": [
             [
              0,
              "#0d0887"
             ],
             [
              0.1111111111111111,
              "#46039f"
             ],
             [
              0.2222222222222222,
              "#7201a8"
             ],
             [
              0.3333333333333333,
              "#9c179e"
             ],
             [
              0.4444444444444444,
              "#bd3786"
             ],
             [
              0.5555555555555556,
              "#d8576b"
             ],
             [
              0.6666666666666666,
              "#ed7953"
             ],
             [
              0.7777777777777778,
              "#fb9f3a"
             ],
             [
              0.8888888888888888,
              "#fdca26"
             ],
             [
              1,
              "#f0f921"
             ]
            ],
            "type": "histogram2dcontour"
           }
          ],
          "mesh3d": [
           {
            "colorbar": {
             "outlinewidth": 0,
             "ticks": ""
            },
            "type": "mesh3d"
           }
          ],
          "parcoords": [
           {
            "line": {
             "colorbar": {
              "outlinewidth": 0,
              "ticks": ""
             }
            },
            "type": "parcoords"
           }
          ],
          "pie": [
           {
            "automargin": true,
            "type": "pie"
           }
          ],
          "scatter": [
           {
            "fillpattern": {
             "fillmode": "overlay",
             "size": 10,
             "solidity": 0.2
            },
            "type": "scatter"
           }
          ],
          "scatter3d": [
           {
            "line": {
             "colorbar": {
              "outlinewidth": 0,
              "ticks": ""
             }
            },
            "marker": {
             "colorbar": {
              "outlinewidth": 0,
              "ticks": ""
             }
            },
            "type": "scatter3d"
           }
          ],
          "scattercarpet": [
           {
            "marker": {
             "colorbar": {
              "outlinewidth": 0,
              "ticks": ""
             }
            },
            "type": "scattercarpet"
           }
          ],
          "scattergeo": [
           {
            "marker": {
             "colorbar": {
              "outlinewidth": 0,
              "ticks": ""
             }
            },
            "type": "scattergeo"
           }
          ],
          "scattergl": [
           {
            "marker": {
             "colorbar": {
              "outlinewidth": 0,
              "ticks": ""
             }
            },
            "type": "scattergl"
           }
          ],
          "scattermapbox": [
           {
            "marker": {
             "colorbar": {
              "outlinewidth": 0,
              "ticks": ""
             }
            },
            "type": "scattermapbox"
           }
          ],
          "scatterpolar": [
           {
            "marker": {
             "colorbar": {
              "outlinewidth": 0,
              "ticks": ""
             }
            },
            "type": "scatterpolar"
           }
          ],
          "scatterpolargl": [
           {
            "marker": {
             "colorbar": {
              "outlinewidth": 0,
              "ticks": ""
             }
            },
            "type": "scatterpolargl"
           }
          ],
          "scatterternary": [
           {
            "marker": {
             "colorbar": {
              "outlinewidth": 0,
              "ticks": ""
             }
            },
            "type": "scatterternary"
           }
          ],
          "surface": [
           {
            "colorbar": {
             "outlinewidth": 0,
             "ticks": ""
            },
            "colorscale": [
             [
              0,
              "#0d0887"
             ],
             [
              0.1111111111111111,
              "#46039f"
             ],
             [
              0.2222222222222222,
              "#7201a8"
             ],
             [
              0.3333333333333333,
              "#9c179e"
             ],
             [
              0.4444444444444444,
              "#bd3786"
             ],
             [
              0.5555555555555556,
              "#d8576b"
             ],
             [
              0.6666666666666666,
              "#ed7953"
             ],
             [
              0.7777777777777778,
              "#fb9f3a"
             ],
             [
              0.8888888888888888,
              "#fdca26"
             ],
             [
              1,
              "#f0f921"
             ]
            ],
            "type": "surface"
           }
          ],
          "table": [
           {
            "cells": {
             "fill": {
              "color": "#EBF0F8"
             },
             "line": {
              "color": "white"
             }
            },
            "header": {
             "fill": {
              "color": "#C8D4E3"
             },
             "line": {
              "color": "white"
             }
            },
            "type": "table"
           }
          ]
         },
         "layout": {
          "annotationdefaults": {
           "arrowcolor": "#2a3f5f",
           "arrowhead": 0,
           "arrowwidth": 1
          },
          "autotypenumbers": "strict",
          "coloraxis": {
           "colorbar": {
            "outlinewidth": 0,
            "ticks": ""
           }
          },
          "colorscale": {
           "diverging": [
            [
             0,
             "#8e0152"
            ],
            [
             0.1,
             "#c51b7d"
            ],
            [
             0.2,
             "#de77ae"
            ],
            [
             0.3,
             "#f1b6da"
            ],
            [
             0.4,
             "#fde0ef"
            ],
            [
             0.5,
             "#f7f7f7"
            ],
            [
             0.6,
             "#e6f5d0"
            ],
            [
             0.7,
             "#b8e186"
            ],
            [
             0.8,
             "#7fbc41"
            ],
            [
             0.9,
             "#4d9221"
            ],
            [
             1,
             "#276419"
            ]
           ],
           "sequential": [
            [
             0,
             "#0d0887"
            ],
            [
             0.1111111111111111,
             "#46039f"
            ],
            [
             0.2222222222222222,
             "#7201a8"
            ],
            [
             0.3333333333333333,
             "#9c179e"
            ],
            [
             0.4444444444444444,
             "#bd3786"
            ],
            [
             0.5555555555555556,
             "#d8576b"
            ],
            [
             0.6666666666666666,
             "#ed7953"
            ],
            [
             0.7777777777777778,
             "#fb9f3a"
            ],
            [
             0.8888888888888888,
             "#fdca26"
            ],
            [
             1,
             "#f0f921"
            ]
           ],
           "sequentialminus": [
            [
             0,
             "#0d0887"
            ],
            [
             0.1111111111111111,
             "#46039f"
            ],
            [
             0.2222222222222222,
             "#7201a8"
            ],
            [
             0.3333333333333333,
             "#9c179e"
            ],
            [
             0.4444444444444444,
             "#bd3786"
            ],
            [
             0.5555555555555556,
             "#d8576b"
            ],
            [
             0.6666666666666666,
             "#ed7953"
            ],
            [
             0.7777777777777778,
             "#fb9f3a"
            ],
            [
             0.8888888888888888,
             "#fdca26"
            ],
            [
             1,
             "#f0f921"
            ]
           ]
          },
          "colorway": [
           "#636efa",
           "#EF553B",
           "#00cc96",
           "#ab63fa",
           "#FFA15A",
           "#19d3f3",
           "#FF6692",
           "#B6E880",
           "#FF97FF",
           "#FECB52"
          ],
          "font": {
           "color": "#2a3f5f"
          },
          "geo": {
           "bgcolor": "white",
           "lakecolor": "white",
           "landcolor": "white",
           "showlakes": true,
           "showland": true,
           "subunitcolor": "#C8D4E3"
          },
          "hoverlabel": {
           "align": "left"
          },
          "hovermode": "closest",
          "mapbox": {
           "style": "light"
          },
          "paper_bgcolor": "white",
          "plot_bgcolor": "white",
          "polar": {
           "angularaxis": {
            "gridcolor": "#EBF0F8",
            "linecolor": "#EBF0F8",
            "ticks": ""
           },
           "bgcolor": "white",
           "radialaxis": {
            "gridcolor": "#EBF0F8",
            "linecolor": "#EBF0F8",
            "ticks": ""
           }
          },
          "scene": {
           "xaxis": {
            "backgroundcolor": "white",
            "gridcolor": "#DFE8F3",
            "gridwidth": 2,
            "linecolor": "#EBF0F8",
            "showbackground": true,
            "ticks": "",
            "zerolinecolor": "#EBF0F8"
           },
           "yaxis": {
            "backgroundcolor": "white",
            "gridcolor": "#DFE8F3",
            "gridwidth": 2,
            "linecolor": "#EBF0F8",
            "showbackground": true,
            "ticks": "",
            "zerolinecolor": "#EBF0F8"
           },
           "zaxis": {
            "backgroundcolor": "white",
            "gridcolor": "#DFE8F3",
            "gridwidth": 2,
            "linecolor": "#EBF0F8",
            "showbackground": true,
            "ticks": "",
            "zerolinecolor": "#EBF0F8"
           }
          },
          "shapedefaults": {
           "line": {
            "color": "#2a3f5f"
           }
          },
          "ternary": {
           "aaxis": {
            "gridcolor": "#DFE8F3",
            "linecolor": "#A2B1C6",
            "ticks": ""
           },
           "baxis": {
            "gridcolor": "#DFE8F3",
            "linecolor": "#A2B1C6",
            "ticks": ""
           },
           "bgcolor": "white",
           "caxis": {
            "gridcolor": "#DFE8F3",
            "linecolor": "#A2B1C6",
            "ticks": ""
           }
          },
          "title": {
           "x": 0.05
          },
          "xaxis": {
           "automargin": true,
           "gridcolor": "#EBF0F8",
           "linecolor": "#EBF0F8",
           "ticks": "",
           "title": {
            "standoff": 15
           },
           "zerolinecolor": "#EBF0F8",
           "zerolinewidth": 2
          },
          "yaxis": {
           "automargin": true,
           "gridcolor": "#EBF0F8",
           "linecolor": "#EBF0F8",
           "ticks": "",
           "title": {
            "standoff": 15
           },
           "zerolinecolor": "#EBF0F8",
           "zerolinewidth": 2
          }
         }
        },
        "title": {
         "font": {
          "color": "black",
          "family": "Helvetica",
          "size": 20
         },
         "text": "Glücklichkeitswert der Top 5 und der Bottom 5 Länder in 2023",
         "x": 0.5
        },
        "width": 900,
        "xaxis": {
         "anchor": "y",
         "domain": [
          0,
          1
         ],
         "title": {
          "font": {
           "color": "dimgray"
          },
          "text": "Land"
         }
        },
        "yaxis": {
         "anchor": "x",
         "domain": [
          0,
          1
         ],
         "title": {
          "font": {
           "color": "dimgray"
          },
          "text": "Glücklichkeitswert"
         }
        }
       }
      }
     },
     "metadata": {},
     "output_type": "display_data"
    }
   ],
   "source": [
    "# Säulendiagramm der Top 5 und der Bottom 5 Länder in 2023\n",
    "def top_and_bottom_5_2023(glueck):\n",
    "    glueck_top_5 = glueck[glueck[\"Jahr\"]== 2023].sort_values(\"Glücklichkeitswert\", ascending=False).head()\n",
    "    glueck_bottom_5 = glueck[glueck[\"Jahr\"]== 2023].sort_values(\"Glücklichkeitswert\", ascending=False).tail()\n",
    "    top_bottom_2023 = pd.concat([glueck_top_5, glueck_bottom_5], ignore_index=True)\n",
    "\n",
    "\n",
    "    fig = px.bar(top_bottom_2023, \n",
    "             x='Land', \n",
    "             y='Glücklichkeitswert', \n",
    "             color='Glücklichkeitswert',\n",
    "             color_discrete_sequence=px.colors.sequential.Plasma,\n",
    "             text='Glücklichkeitswert')\n",
    "\n",
    "    fig.update_layout(\n",
    "            title=\"Glücklichkeitswert der Top 5 und der Bottom 5 Länder in 2023\",\n",
    "        template=\"plotly_white\",\n",
    "            xaxis_title=\"Land\", \n",
    "            yaxis_title=\"Glücklichkeitswert\",\n",
    "            title_x=0.5,  \n",
    "            title_font=dict(size=20, family=\"Helvetica\", color=\"black\"),\n",
    "            xaxis_title_font=dict(color=\"dimgray\"),\n",
    "            yaxis_title_font=dict(color=\"dimgray\"),\n",
    "            width=900, \n",
    "            height=600)\n",
    "    fig.update_traces(textposition='outside')\n",
    "\n",
    "    return fig\n",
    "\n",
    "top_and_bottom_5_2023(glueck)"
   ]
  },
  {
   "cell_type": "code",
   "execution_count": 27,
   "metadata": {},
   "outputs": [
    {
     "data": {
      "text/html": [
       "<div>\n",
       "<style scoped>\n",
       "    .dataframe tbody tr th:only-of-type {\n",
       "        vertical-align: middle;\n",
       "    }\n",
       "\n",
       "    .dataframe tbody tr th {\n",
       "        vertical-align: top;\n",
       "    }\n",
       "\n",
       "    .dataframe thead th {\n",
       "        text-align: right;\n",
       "    }\n",
       "</style>\n",
       "<table border=\"1\" class=\"dataframe\">\n",
       "  <thead>\n",
       "    <tr style=\"text-align: right;\">\n",
       "      <th></th>\n",
       "      <th>Land</th>\n",
       "      <th>Jahr</th>\n",
       "      <th>Glücklichkeitswert</th>\n",
       "      <th>BIP pro Kopf</th>\n",
       "      <th>Soziale Unterstützung</th>\n",
       "      <th>Gesunde Lebenserwartung</th>\n",
       "      <th>Entscheidungsfreiheit</th>\n",
       "      <th>Großzügigkeit</th>\n",
       "      <th>Korruptionwahrnehmung</th>\n",
       "      <th>Positiver Effekt</th>\n",
       "      <th>Negativer Effekt</th>\n",
       "      <th>Region</th>\n",
       "    </tr>\n",
       "  </thead>\n",
       "  <tbody>\n",
       "    <tr>\n",
       "      <th>2260</th>\n",
       "      <td>Uruguay</td>\n",
       "      <td>2023</td>\n",
       "      <td>6.662</td>\n",
       "      <td>10.122</td>\n",
       "      <td>0.908</td>\n",
       "      <td>67.5</td>\n",
       "      <td>0.904</td>\n",
       "      <td>-0.050</td>\n",
       "      <td>0.662</td>\n",
       "      <td>0.753</td>\n",
       "      <td>0.265</td>\n",
       "      <td>Südamerika</td>\n",
       "    </tr>\n",
       "    <tr>\n",
       "      <th>2277</th>\n",
       "      <td>Uzbekistan</td>\n",
       "      <td>2023</td>\n",
       "      <td>6.385</td>\n",
       "      <td>9.026</td>\n",
       "      <td>0.909</td>\n",
       "      <td>65.9</td>\n",
       "      <td>0.927</td>\n",
       "      <td>0.247</td>\n",
       "      <td>0.650</td>\n",
       "      <td>0.752</td>\n",
       "      <td>0.202</td>\n",
       "      <td>Zentralasien</td>\n",
       "    </tr>\n",
       "    <tr>\n",
       "      <th>2313</th>\n",
       "      <td>Vietnam</td>\n",
       "      <td>2023</td>\n",
       "      <td>6.325</td>\n",
       "      <td>9.392</td>\n",
       "      <td>0.845</td>\n",
       "      <td>65.7</td>\n",
       "      <td>0.956</td>\n",
       "      <td>-0.159</td>\n",
       "      <td>0.655</td>\n",
       "      <td>0.710</td>\n",
       "      <td>0.120</td>\n",
       "      <td>Südostasien</td>\n",
       "    </tr>\n",
       "    <tr>\n",
       "      <th>2344</th>\n",
       "      <td>Zambia</td>\n",
       "      <td>2023</td>\n",
       "      <td>3.686</td>\n",
       "      <td>8.115</td>\n",
       "      <td>0.664</td>\n",
       "      <td>56.1</td>\n",
       "      <td>0.854</td>\n",
       "      <td>0.092</td>\n",
       "      <td>0.814</td>\n",
       "      <td>0.653</td>\n",
       "      <td>0.359</td>\n",
       "      <td>Ostafrika</td>\n",
       "    </tr>\n",
       "    <tr>\n",
       "      <th>2362</th>\n",
       "      <td>Zimbabwe</td>\n",
       "      <td>2023</td>\n",
       "      <td>3.572</td>\n",
       "      <td>7.679</td>\n",
       "      <td>0.694</td>\n",
       "      <td>55.0</td>\n",
       "      <td>0.735</td>\n",
       "      <td>-0.069</td>\n",
       "      <td>0.757</td>\n",
       "      <td>0.610</td>\n",
       "      <td>0.179</td>\n",
       "      <td>Südliches Afrika</td>\n",
       "    </tr>\n",
       "  </tbody>\n",
       "</table>\n",
       "</div>"
      ],
      "text/plain": [
       "            Land  Jahr  Glücklichkeitswert  BIP pro Kopf  \\\n",
       "2260     Uruguay  2023               6.662        10.122   \n",
       "2277  Uzbekistan  2023               6.385         9.026   \n",
       "2313     Vietnam  2023               6.325         9.392   \n",
       "2344      Zambia  2023               3.686         8.115   \n",
       "2362    Zimbabwe  2023               3.572         7.679   \n",
       "\n",
       "      Soziale Unterstützung  Gesunde Lebenserwartung  Entscheidungsfreiheit  \\\n",
       "2260                  0.908                     67.5                  0.904   \n",
       "2277                  0.909                     65.9                  0.927   \n",
       "2313                  0.845                     65.7                  0.956   \n",
       "2344                  0.664                     56.1                  0.854   \n",
       "2362                  0.694                     55.0                  0.735   \n",
       "\n",
       "      Großzügigkeit  Korruptionwahrnehmung  Positiver Effekt  \\\n",
       "2260         -0.050                  0.662             0.753   \n",
       "2277          0.247                  0.650             0.752   \n",
       "2313         -0.159                  0.655             0.710   \n",
       "2344          0.092                  0.814             0.653   \n",
       "2362         -0.069                  0.757             0.610   \n",
       "\n",
       "      Negativer Effekt            Region  \n",
       "2260             0.265        Südamerika  \n",
       "2277             0.202      Zentralasien  \n",
       "2313             0.120       Südostasien  \n",
       "2344             0.359         Ostafrika  \n",
       "2362             0.179  Südliches Afrika  "
      ]
     },
     "metadata": {},
     "output_type": "display_data"
    },
    {
     "data": {
      "application/vnd.plotly.v1+json": {
       "config": {
        "plotlyServerURL": "https://plot.ly"
       },
       "data": [
        {
         "alignmentgroup": "True",
         "hovertemplate": "Land=%{x}<br>BIP pro Kopf=%{text}<extra></extra>",
         "legendgroup": "Ireland",
         "marker": {
          "color": "#0d0887",
          "pattern": {
           "shape": ""
          }
         },
         "name": "Ireland",
         "offsetgroup": "Ireland",
         "orientation": "v",
         "showlegend": true,
         "text": [
          11.676
         ],
         "textposition": "outside",
         "type": "bar",
         "x": [
          "Ireland"
         ],
         "xaxis": "x",
         "y": [
          11.676
         ],
         "yaxis": "y"
        },
        {
         "alignmentgroup": "True",
         "hovertemplate": "Land=%{x}<br>BIP pro Kopf=%{text}<extra></extra>",
         "legendgroup": "Luxembourg",
         "marker": {
          "color": "#46039f",
          "pattern": {
           "shape": ""
          }
         },
         "name": "Luxembourg",
         "offsetgroup": "Luxembourg",
         "orientation": "v",
         "showlegend": true,
         "text": [
          11.649
         ],
         "textposition": "outside",
         "type": "bar",
         "x": [
          "Luxembourg"
         ],
         "xaxis": "x",
         "y": [
          11.649
         ],
         "yaxis": "y"
        },
        {
         "alignmentgroup": "True",
         "hovertemplate": "Land=%{x}<br>BIP pro Kopf=%{text}<extra></extra>",
         "legendgroup": "United Arab Emirates",
         "marker": {
          "color": "#7201a8",
          "pattern": {
           "shape": ""
          }
         },
         "name": "United Arab Emirates",
         "offsetgroup": "United Arab Emirates",
         "orientation": "v",
         "showlegend": true,
         "text": [
          11.236
         ],
         "textposition": "outside",
         "type": "bar",
         "x": [
          "United Arab Emirates"
         ],
         "xaxis": "x",
         "y": [
          11.236
         ],
         "yaxis": "y"
        },
        {
         "alignmentgroup": "True",
         "hovertemplate": "Land=%{x}<br>BIP pro Kopf=%{text}<extra></extra>",
         "legendgroup": "Switzerland",
         "marker": {
          "color": "#9c179e",
          "pattern": {
           "shape": ""
          }
         },
         "name": "Switzerland",
         "offsetgroup": "Switzerland",
         "orientation": "v",
         "showlegend": true,
         "text": [
          11.169
         ],
         "textposition": "outside",
         "type": "bar",
         "x": [
          "Switzerland"
         ],
         "xaxis": "x",
         "y": [
          11.169
         ],
         "yaxis": "y"
        },
        {
         "alignmentgroup": "True",
         "hovertemplate": "Land=%{x}<br>BIP pro Kopf=%{text}<extra></extra>",
         "legendgroup": "Norway",
         "marker": {
          "color": "#bd3786",
          "pattern": {
           "shape": ""
          }
         },
         "name": "Norway",
         "offsetgroup": "Norway",
         "orientation": "v",
         "showlegend": true,
         "text": [
          11.125
         ],
         "textposition": "outside",
         "type": "bar",
         "x": [
          "Norway"
         ],
         "xaxis": "x",
         "y": [
          11.125
         ],
         "yaxis": "y"
        },
        {
         "alignmentgroup": "True",
         "hovertemplate": "Land=%{x}<br>BIP pro Kopf=%{text}<extra></extra>",
         "legendgroup": "Malawi",
         "marker": {
          "color": "#d8576b",
          "pattern": {
           "shape": ""
          }
         },
         "name": "Malawi",
         "offsetgroup": "Malawi",
         "orientation": "v",
         "showlegend": true,
         "text": [
          7.279
         ],
         "textposition": "outside",
         "type": "bar",
         "x": [
          "Malawi"
         ],
         "xaxis": "x",
         "y": [
          7.279
         ],
         "yaxis": "y"
        },
        {
         "alignmentgroup": "True",
         "hovertemplate": "Land=%{x}<br>BIP pro Kopf=%{text}<extra></extra>",
         "legendgroup": "Chad",
         "marker": {
          "color": "#ed7953",
          "pattern": {
           "shape": ""
          }
         },
         "name": "Chad",
         "offsetgroup": "Chad",
         "orientation": "v",
         "showlegend": true,
         "text": [
          7.254
         ],
         "textposition": "outside",
         "type": "bar",
         "x": [
          "Chad"
         ],
         "xaxis": "x",
         "y": [
          7.254
         ],
         "yaxis": "y"
        },
        {
         "alignmentgroup": "True",
         "hovertemplate": "Land=%{x}<br>BIP pro Kopf=%{text}<extra></extra>",
         "legendgroup": "Niger",
         "marker": {
          "color": "#fb9f3a",
          "pattern": {
           "shape": ""
          }
         },
         "name": "Niger",
         "offsetgroup": "Niger",
         "orientation": "v",
         "showlegend": true,
         "text": [
          7.181
         ],
         "textposition": "outside",
         "type": "bar",
         "x": [
          "Niger"
         ],
         "xaxis": "x",
         "y": [
          7.181
         ],
         "yaxis": "y"
        },
        {
         "alignmentgroup": "True",
         "hovertemplate": "Land=%{x}<br>BIP pro Kopf=%{text}<extra></extra>",
         "legendgroup": "Mozambique",
         "marker": {
          "color": "#fdca26",
          "pattern": {
           "shape": ""
          }
         },
         "name": "Mozambique",
         "offsetgroup": "Mozambique",
         "orientation": "v",
         "showlegend": true,
         "text": [
          7.147
         ],
         "textposition": "outside",
         "type": "bar",
         "x": [
          "Mozambique"
         ],
         "xaxis": "x",
         "y": [
          7.147
         ],
         "yaxis": "y"
        },
        {
         "alignmentgroup": "True",
         "hovertemplate": "Land=%{x}<br>BIP pro Kopf=%{text}<extra></extra>",
         "legendgroup": "Congo (Kinshasa)",
         "marker": {
          "color": "#f0f921",
          "pattern": {
           "shape": ""
          }
         },
         "name": "Congo (Kinshasa)",
         "offsetgroup": "Congo (Kinshasa)",
         "orientation": "v",
         "showlegend": true,
         "text": [
          7.076
         ],
         "textposition": "outside",
         "type": "bar",
         "x": [
          "Congo (Kinshasa)"
         ],
         "xaxis": "x",
         "y": [
          7.076
         ],
         "yaxis": "y"
        }
       ],
       "layout": {
        "barmode": "relative",
        "height": 600,
        "legend": {
         "title": {
          "text": "Land"
         },
         "tracegroupgap": 0
        },
        "margin": {
         "t": 60
        },
        "template": {
         "data": {
          "bar": [
           {
            "error_x": {
             "color": "#2a3f5f"
            },
            "error_y": {
             "color": "#2a3f5f"
            },
            "marker": {
             "line": {
              "color": "white",
              "width": 0.5
             },
             "pattern": {
              "fillmode": "overlay",
              "size": 10,
              "solidity": 0.2
             }
            },
            "type": "bar"
           }
          ],
          "barpolar": [
           {
            "marker": {
             "line": {
              "color": "white",
              "width": 0.5
             },
             "pattern": {
              "fillmode": "overlay",
              "size": 10,
              "solidity": 0.2
             }
            },
            "type": "barpolar"
           }
          ],
          "carpet": [
           {
            "aaxis": {
             "endlinecolor": "#2a3f5f",
             "gridcolor": "#C8D4E3",
             "linecolor": "#C8D4E3",
             "minorgridcolor": "#C8D4E3",
             "startlinecolor": "#2a3f5f"
            },
            "baxis": {
             "endlinecolor": "#2a3f5f",
             "gridcolor": "#C8D4E3",
             "linecolor": "#C8D4E3",
             "minorgridcolor": "#C8D4E3",
             "startlinecolor": "#2a3f5f"
            },
            "type": "carpet"
           }
          ],
          "choropleth": [
           {
            "colorbar": {
             "outlinewidth": 0,
             "ticks": ""
            },
            "type": "choropleth"
           }
          ],
          "contour": [
           {
            "colorbar": {
             "outlinewidth": 0,
             "ticks": ""
            },
            "colorscale": [
             [
              0,
              "#0d0887"
             ],
             [
              0.1111111111111111,
              "#46039f"
             ],
             [
              0.2222222222222222,
              "#7201a8"
             ],
             [
              0.3333333333333333,
              "#9c179e"
             ],
             [
              0.4444444444444444,
              "#bd3786"
             ],
             [
              0.5555555555555556,
              "#d8576b"
             ],
             [
              0.6666666666666666,
              "#ed7953"
             ],
             [
              0.7777777777777778,
              "#fb9f3a"
             ],
             [
              0.8888888888888888,
              "#fdca26"
             ],
             [
              1,
              "#f0f921"
             ]
            ],
            "type": "contour"
           }
          ],
          "contourcarpet": [
           {
            "colorbar": {
             "outlinewidth": 0,
             "ticks": ""
            },
            "type": "contourcarpet"
           }
          ],
          "heatmap": [
           {
            "colorbar": {
             "outlinewidth": 0,
             "ticks": ""
            },
            "colorscale": [
             [
              0,
              "#0d0887"
             ],
             [
              0.1111111111111111,
              "#46039f"
             ],
             [
              0.2222222222222222,
              "#7201a8"
             ],
             [
              0.3333333333333333,
              "#9c179e"
             ],
             [
              0.4444444444444444,
              "#bd3786"
             ],
             [
              0.5555555555555556,
              "#d8576b"
             ],
             [
              0.6666666666666666,
              "#ed7953"
             ],
             [
              0.7777777777777778,
              "#fb9f3a"
             ],
             [
              0.8888888888888888,
              "#fdca26"
             ],
             [
              1,
              "#f0f921"
             ]
            ],
            "type": "heatmap"
           }
          ],
          "heatmapgl": [
           {
            "colorbar": {
             "outlinewidth": 0,
             "ticks": ""
            },
            "colorscale": [
             [
              0,
              "#0d0887"
             ],
             [
              0.1111111111111111,
              "#46039f"
             ],
             [
              0.2222222222222222,
              "#7201a8"
             ],
             [
              0.3333333333333333,
              "#9c179e"
             ],
             [
              0.4444444444444444,
              "#bd3786"
             ],
             [
              0.5555555555555556,
              "#d8576b"
             ],
             [
              0.6666666666666666,
              "#ed7953"
             ],
             [
              0.7777777777777778,
              "#fb9f3a"
             ],
             [
              0.8888888888888888,
              "#fdca26"
             ],
             [
              1,
              "#f0f921"
             ]
            ],
            "type": "heatmapgl"
           }
          ],
          "histogram": [
           {
            "marker": {
             "pattern": {
              "fillmode": "overlay",
              "size": 10,
              "solidity": 0.2
             }
            },
            "type": "histogram"
           }
          ],
          "histogram2d": [
           {
            "colorbar": {
             "outlinewidth": 0,
             "ticks": ""
            },
            "colorscale": [
             [
              0,
              "#0d0887"
             ],
             [
              0.1111111111111111,
              "#46039f"
             ],
             [
              0.2222222222222222,
              "#7201a8"
             ],
             [
              0.3333333333333333,
              "#9c179e"
             ],
             [
              0.4444444444444444,
              "#bd3786"
             ],
             [
              0.5555555555555556,
              "#d8576b"
             ],
             [
              0.6666666666666666,
              "#ed7953"
             ],
             [
              0.7777777777777778,
              "#fb9f3a"
             ],
             [
              0.8888888888888888,
              "#fdca26"
             ],
             [
              1,
              "#f0f921"
             ]
            ],
            "type": "histogram2d"
           }
          ],
          "histogram2dcontour": [
           {
            "colorbar": {
             "outlinewidth": 0,
             "ticks": ""
            },
            "colorscale": [
             [
              0,
              "#0d0887"
             ],
             [
              0.1111111111111111,
              "#46039f"
             ],
             [
              0.2222222222222222,
              "#7201a8"
             ],
             [
              0.3333333333333333,
              "#9c179e"
             ],
             [
              0.4444444444444444,
              "#bd3786"
             ],
             [
              0.5555555555555556,
              "#d8576b"
             ],
             [
              0.6666666666666666,
              "#ed7953"
             ],
             [
              0.7777777777777778,
              "#fb9f3a"
             ],
             [
              0.8888888888888888,
              "#fdca26"
             ],
             [
              1,
              "#f0f921"
             ]
            ],
            "type": "histogram2dcontour"
           }
          ],
          "mesh3d": [
           {
            "colorbar": {
             "outlinewidth": 0,
             "ticks": ""
            },
            "type": "mesh3d"
           }
          ],
          "parcoords": [
           {
            "line": {
             "colorbar": {
              "outlinewidth": 0,
              "ticks": ""
             }
            },
            "type": "parcoords"
           }
          ],
          "pie": [
           {
            "automargin": true,
            "type": "pie"
           }
          ],
          "scatter": [
           {
            "fillpattern": {
             "fillmode": "overlay",
             "size": 10,
             "solidity": 0.2
            },
            "type": "scatter"
           }
          ],
          "scatter3d": [
           {
            "line": {
             "colorbar": {
              "outlinewidth": 0,
              "ticks": ""
             }
            },
            "marker": {
             "colorbar": {
              "outlinewidth": 0,
              "ticks": ""
             }
            },
            "type": "scatter3d"
           }
          ],
          "scattercarpet": [
           {
            "marker": {
             "colorbar": {
              "outlinewidth": 0,
              "ticks": ""
             }
            },
            "type": "scattercarpet"
           }
          ],
          "scattergeo": [
           {
            "marker": {
             "colorbar": {
              "outlinewidth": 0,
              "ticks": ""
             }
            },
            "type": "scattergeo"
           }
          ],
          "scattergl": [
           {
            "marker": {
             "colorbar": {
              "outlinewidth": 0,
              "ticks": ""
             }
            },
            "type": "scattergl"
           }
          ],
          "scattermapbox": [
           {
            "marker": {
             "colorbar": {
              "outlinewidth": 0,
              "ticks": ""
             }
            },
            "type": "scattermapbox"
           }
          ],
          "scatterpolar": [
           {
            "marker": {
             "colorbar": {
              "outlinewidth": 0,
              "ticks": ""
             }
            },
            "type": "scatterpolar"
           }
          ],
          "scatterpolargl": [
           {
            "marker": {
             "colorbar": {
              "outlinewidth": 0,
              "ticks": ""
             }
            },
            "type": "scatterpolargl"
           }
          ],
          "scatterternary": [
           {
            "marker": {
             "colorbar": {
              "outlinewidth": 0,
              "ticks": ""
             }
            },
            "type": "scatterternary"
           }
          ],
          "surface": [
           {
            "colorbar": {
             "outlinewidth": 0,
             "ticks": ""
            },
            "colorscale": [
             [
              0,
              "#0d0887"
             ],
             [
              0.1111111111111111,
              "#46039f"
             ],
             [
              0.2222222222222222,
              "#7201a8"
             ],
             [
              0.3333333333333333,
              "#9c179e"
             ],
             [
              0.4444444444444444,
              "#bd3786"
             ],
             [
              0.5555555555555556,
              "#d8576b"
             ],
             [
              0.6666666666666666,
              "#ed7953"
             ],
             [
              0.7777777777777778,
              "#fb9f3a"
             ],
             [
              0.8888888888888888,
              "#fdca26"
             ],
             [
              1,
              "#f0f921"
             ]
            ],
            "type": "surface"
           }
          ],
          "table": [
           {
            "cells": {
             "fill": {
              "color": "#EBF0F8"
             },
             "line": {
              "color": "white"
             }
            },
            "header": {
             "fill": {
              "color": "#C8D4E3"
             },
             "line": {
              "color": "white"
             }
            },
            "type": "table"
           }
          ]
         },
         "layout": {
          "annotationdefaults": {
           "arrowcolor": "#2a3f5f",
           "arrowhead": 0,
           "arrowwidth": 1
          },
          "autotypenumbers": "strict",
          "coloraxis": {
           "colorbar": {
            "outlinewidth": 0,
            "ticks": ""
           }
          },
          "colorscale": {
           "diverging": [
            [
             0,
             "#8e0152"
            ],
            [
             0.1,
             "#c51b7d"
            ],
            [
             0.2,
             "#de77ae"
            ],
            [
             0.3,
             "#f1b6da"
            ],
            [
             0.4,
             "#fde0ef"
            ],
            [
             0.5,
             "#f7f7f7"
            ],
            [
             0.6,
             "#e6f5d0"
            ],
            [
             0.7,
             "#b8e186"
            ],
            [
             0.8,
             "#7fbc41"
            ],
            [
             0.9,
             "#4d9221"
            ],
            [
             1,
             "#276419"
            ]
           ],
           "sequential": [
            [
             0,
             "#0d0887"
            ],
            [
             0.1111111111111111,
             "#46039f"
            ],
            [
             0.2222222222222222,
             "#7201a8"
            ],
            [
             0.3333333333333333,
             "#9c179e"
            ],
            [
             0.4444444444444444,
             "#bd3786"
            ],
            [
             0.5555555555555556,
             "#d8576b"
            ],
            [
             0.6666666666666666,
             "#ed7953"
            ],
            [
             0.7777777777777778,
             "#fb9f3a"
            ],
            [
             0.8888888888888888,
             "#fdca26"
            ],
            [
             1,
             "#f0f921"
            ]
           ],
           "sequentialminus": [
            [
             0,
             "#0d0887"
            ],
            [
             0.1111111111111111,
             "#46039f"
            ],
            [
             0.2222222222222222,
             "#7201a8"
            ],
            [
             0.3333333333333333,
             "#9c179e"
            ],
            [
             0.4444444444444444,
             "#bd3786"
            ],
            [
             0.5555555555555556,
             "#d8576b"
            ],
            [
             0.6666666666666666,
             "#ed7953"
            ],
            [
             0.7777777777777778,
             "#fb9f3a"
            ],
            [
             0.8888888888888888,
             "#fdca26"
            ],
            [
             1,
             "#f0f921"
            ]
           ]
          },
          "colorway": [
           "#636efa",
           "#EF553B",
           "#00cc96",
           "#ab63fa",
           "#FFA15A",
           "#19d3f3",
           "#FF6692",
           "#B6E880",
           "#FF97FF",
           "#FECB52"
          ],
          "font": {
           "color": "#2a3f5f"
          },
          "geo": {
           "bgcolor": "white",
           "lakecolor": "white",
           "landcolor": "white",
           "showlakes": true,
           "showland": true,
           "subunitcolor": "#C8D4E3"
          },
          "hoverlabel": {
           "align": "left"
          },
          "hovermode": "closest",
          "mapbox": {
           "style": "light"
          },
          "paper_bgcolor": "white",
          "plot_bgcolor": "white",
          "polar": {
           "angularaxis": {
            "gridcolor": "#EBF0F8",
            "linecolor": "#EBF0F8",
            "ticks": ""
           },
           "bgcolor": "white",
           "radialaxis": {
            "gridcolor": "#EBF0F8",
            "linecolor": "#EBF0F8",
            "ticks": ""
           }
          },
          "scene": {
           "xaxis": {
            "backgroundcolor": "white",
            "gridcolor": "#DFE8F3",
            "gridwidth": 2,
            "linecolor": "#EBF0F8",
            "showbackground": true,
            "ticks": "",
            "zerolinecolor": "#EBF0F8"
           },
           "yaxis": {
            "backgroundcolor": "white",
            "gridcolor": "#DFE8F3",
            "gridwidth": 2,
            "linecolor": "#EBF0F8",
            "showbackground": true,
            "ticks": "",
            "zerolinecolor": "#EBF0F8"
           },
           "zaxis": {
            "backgroundcolor": "white",
            "gridcolor": "#DFE8F3",
            "gridwidth": 2,
            "linecolor": "#EBF0F8",
            "showbackground": true,
            "ticks": "",
            "zerolinecolor": "#EBF0F8"
           }
          },
          "shapedefaults": {
           "line": {
            "color": "#2a3f5f"
           }
          },
          "ternary": {
           "aaxis": {
            "gridcolor": "#DFE8F3",
            "linecolor": "#A2B1C6",
            "ticks": ""
           },
           "baxis": {
            "gridcolor": "#DFE8F3",
            "linecolor": "#A2B1C6",
            "ticks": ""
           },
           "bgcolor": "white",
           "caxis": {
            "gridcolor": "#DFE8F3",
            "linecolor": "#A2B1C6",
            "ticks": ""
           }
          },
          "title": {
           "x": 0.05
          },
          "xaxis": {
           "automargin": true,
           "gridcolor": "#EBF0F8",
           "linecolor": "#EBF0F8",
           "ticks": "",
           "title": {
            "standoff": 15
           },
           "zerolinecolor": "#EBF0F8",
           "zerolinewidth": 2
          },
          "yaxis": {
           "automargin": true,
           "gridcolor": "#EBF0F8",
           "linecolor": "#EBF0F8",
           "ticks": "",
           "title": {
            "standoff": 15
           },
           "zerolinecolor": "#EBF0F8",
           "zerolinewidth": 2
          }
         }
        },
        "title": {
         "font": {
          "color": "black",
          "family": "Helvetica",
          "size": 20
         },
         "text": "BIP pro Kopf der Top 5 und der Bottom 5 Länder in 2023 (ohne NaN Werte)",
         "x": 0.5
        },
        "width": 900,
        "xaxis": {
         "anchor": "y",
         "categoryarray": [
          "Ireland",
          "Luxembourg",
          "United Arab Emirates",
          "Switzerland",
          "Norway",
          "Malawi",
          "Chad",
          "Niger",
          "Mozambique",
          "Congo (Kinshasa)"
         ],
         "categoryorder": "array",
         "domain": [
          0,
          1
         ],
         "title": {
          "font": {
           "color": "dimgray"
          },
          "text": "Land"
         }
        },
        "yaxis": {
         "anchor": "x",
         "domain": [
          0,
          1
         ],
         "title": {
          "font": {
           "color": "dimgray"
          },
          "text": "BIP pro Kopf"
         }
        }
       }
      }
     },
     "metadata": {},
     "output_type": "display_data"
    }
   ],
   "source": [
    "# Säulendiagramm der Top 5 BIP und der Bottom 5 Länder in 2023\n",
    "def top_and_bottom_5_2023_bip(glueck):\n",
    "    # Null- und NaN-Werte im BIP pro Kopf ignorieren\n",
    "    glueck_filtered = glueck[glueck[\"Jahr\"] == 2023].dropna(subset=[\"BIP pro Kopf\"])\n",
    "    display(glueck_filtered.tail())\n",
    "    # Top 5 Länder\n",
    "    glueck_top_5 = glueck_filtered.sort_values(\"BIP pro Kopf\", ascending=False).head()\n",
    "    \n",
    "    # Bottom 5 Länder\n",
    "    glueck_bottom_5 = glueck_filtered.sort_values(\"BIP pro Kopf\", ascending=False).tail()\n",
    "    \n",
    "    # Top 5 und Bottom 5 kombinieren\n",
    "    top_bottom_2023 = pd.concat([glueck_top_5, glueck_bottom_5], ignore_index=True)\n",
    "\n",
    "    # Erstellen des Säulendiagramms\n",
    "    fig = px.bar(top_bottom_2023, \n",
    "                 x='Land', \n",
    "                 y='BIP pro Kopf', \n",
    "                 color='Land',\n",
    "                 color_discrete_sequence=px.colors.sequential.Plasma,\n",
    "                 text='BIP pro Kopf')\n",
    "\n",
    "    fig.update_layout(\n",
    "            title=\"BIP pro Kopf der Top 5 und der Bottom 5 Länder in 2023 (ohne NaN Werte)\",\n",
    "            template=\"plotly_white\",\n",
    "            xaxis_title=\"Land\", \n",
    "            yaxis_title=\"BIP pro Kopf\",\n",
    "            title_x=0.5,  \n",
    "            title_font=dict(size=20, family=\"Helvetica\", color=\"black\"),\n",
    "            xaxis_title_font=dict(color=\"dimgray\"),\n",
    "            yaxis_title_font=dict(color=\"dimgray\"),\n",
    "            width=900, \n",
    "            height=600)\n",
    "    \n",
    "    fig.update_traces(textposition='outside')\n",
    "\n",
    "    return fig\n",
    "\n",
    "# Funktion aufrufen\n",
    "top_and_bottom_5_2023_bip(glueck)\n"
   ]
  },
  {
   "cell_type": "code",
   "execution_count": 16,
   "metadata": {},
   "outputs": [
    {
     "data": {
      "application/vnd.plotly.v1+json": {
       "config": {
        "plotlyServerURL": "https://plot.ly"
       },
       "data": [
        {
         "coloraxis": "coloraxis",
         "geo": "geo",
         "hovertemplate": "<b>%{hovertext}</b><br><br>Land=%{location}<br>Glücklichkeitswert (Skala)=%{z}<extra></extra>",
         "hovertext": [
          "Afghanistan",
          "Albania",
          "Argentina",
          "Armenia",
          "Australia",
          "Austria",
          "Azerbaijan",
          "Bahrain",
          "Bangladesh",
          "Belgium",
          "Benin",
          "Bolivia",
          "Bosnia and Herzegovina",
          "Botswana",
          "Brazil",
          "Bulgaria",
          "Burkina Faso",
          "Cambodia",
          "Cameroon",
          "Canada",
          "Chad",
          "Chile",
          "China",
          "Colombia",
          "Comoros",
          "Congo (Brazzaville)",
          "Congo (Kinshasa)",
          "Costa Rica",
          "Croatia",
          "Cyprus",
          "Czechia",
          "Denmark",
          "Dominican Republic",
          "Ecuador",
          "Egypt",
          "El Salvador",
          "Estonia",
          "Ethiopia",
          "Finland",
          "France",
          "Gabon",
          "Gambia",
          "Georgia",
          "Germany",
          "Ghana",
          "Greece",
          "Guatemala",
          "Guinea",
          "Honduras",
          "Hungary",
          "Iceland",
          "India",
          "Indonesia",
          "Iran",
          "Iraq",
          "Ireland",
          "Israel",
          "Italy",
          "Ivory Coast",
          "Japan",
          "Jordan",
          "Kazakhstan",
          "Kenya",
          "Kosovo",
          "Kuwait",
          "Kyrgyzstan",
          "Laos",
          "Latvia",
          "Lebanon",
          "Liberia",
          "Libya",
          "Lithuania",
          "Luxembourg",
          "Madagascar",
          "Malawi",
          "Malaysia",
          "Mali",
          "Malta",
          "Mauritania",
          "Mauritius",
          "Mexico",
          "Moldova",
          "Mongolia",
          "Montenegro",
          "Morocco",
          "Mozambique",
          "Myanmar",
          "Namibia",
          "Nepal",
          "Netherlands",
          "New Zealand",
          "Nicaragua",
          "Niger",
          "Nigeria",
          "North Macedonia",
          "Norway",
          "Pakistan",
          "Panama",
          "Paraguay",
          "Peru",
          "Philippines",
          "Poland",
          "Portugal",
          "Romania",
          "Russia",
          "Saudi Arabia",
          "Senegal",
          "Serbia",
          "Sierra Leone",
          "Singapore",
          "Slovakia",
          "Slovenia",
          "South Africa",
          "South Korea",
          "Spain",
          "Sri Lanka",
          "State of Palestine",
          "Sweden",
          "Switzerland",
          "Taiwan Province of China",
          "Tajikistan",
          "Tanzania",
          "Thailand",
          "Togo",
          "Tunisia",
          "Türkiye",
          "Uganda",
          "Ukraine",
          "United Arab Emirates",
          "United Kingdom",
          "United States",
          "Uruguay",
          "Uzbekistan",
          "Venezuela",
          "Vietnam",
          "Yemen",
          "Zambia",
          "Zimbabwe"
         ],
         "locationmode": "country names",
         "locations": [
          "Afghanistan",
          "Albania",
          "Argentina",
          "Armenia",
          "Australia",
          "Austria",
          "Azerbaijan",
          "Bahrain",
          "Bangladesh",
          "Belgium",
          "Benin",
          "Bolivia",
          "Bosnia and Herzegovina",
          "Botswana",
          "Brazil",
          "Bulgaria",
          "Burkina Faso",
          "Cambodia",
          "Cameroon",
          "Canada",
          "Chad",
          "Chile",
          "China",
          "Colombia",
          "Comoros",
          "Congo (Brazzaville)",
          "Congo (Kinshasa)",
          "Costa Rica",
          "Croatia",
          "Cyprus",
          "Czechia",
          "Denmark",
          "Dominican Republic",
          "Ecuador",
          "Egypt",
          "El Salvador",
          "Estonia",
          "Ethiopia",
          "Finland",
          "France",
          "Gabon",
          "Gambia",
          "Georgia",
          "Germany",
          "Ghana",
          "Greece",
          "Guatemala",
          "Guinea",
          "Honduras",
          "Hungary",
          "Iceland",
          "India",
          "Indonesia",
          "Iran",
          "Iraq",
          "Ireland",
          "Israel",
          "Italy",
          "Ivory Coast",
          "Japan",
          "Jordan",
          "Kazakhstan",
          "Kenya",
          "Kosovo",
          "Kuwait",
          "Kyrgyzstan",
          "Laos",
          "Latvia",
          "Lebanon",
          "Liberia",
          "Libya",
          "Lithuania",
          "Luxembourg",
          "Madagascar",
          "Malawi",
          "Malaysia",
          "Mali",
          "Malta",
          "Mauritania",
          "Mauritius",
          "Mexico",
          "Moldova",
          "Mongolia",
          "Montenegro",
          "Morocco",
          "Mozambique",
          "Myanmar",
          "Namibia",
          "Nepal",
          "Netherlands",
          "New Zealand",
          "Nicaragua",
          "Niger",
          "Nigeria",
          "North Macedonia",
          "Norway",
          "Pakistan",
          "Panama",
          "Paraguay",
          "Peru",
          "Philippines",
          "Poland",
          "Portugal",
          "Romania",
          "Russia",
          "Saudi Arabia",
          "Senegal",
          "Serbia",
          "Sierra Leone",
          "Singapore",
          "Slovakia",
          "Slovenia",
          "South Africa",
          "South Korea",
          "Spain",
          "Sri Lanka",
          "State of Palestine",
          "Sweden",
          "Switzerland",
          "Taiwan Province of China",
          "Tajikistan",
          "Tanzania",
          "Thailand",
          "Togo",
          "Tunisia",
          "Türkiye",
          "Uganda",
          "Ukraine",
          "United Arab Emirates",
          "United Kingdom",
          "United States",
          "Uruguay",
          "Uzbekistan",
          "Venezuela",
          "Vietnam",
          "Yemen",
          "Zambia",
          "Zimbabwe"
         ],
         "name": "",
         "type": "choropleth",
         "z": [
          1.446,
          5.445,
          6.393,
          5.679,
          7.025,
          6.636,
          5.214,
          5.959,
          4.114,
          6.944,
          4.42,
          5.86,
          6.009,
          3.332,
          6.553,
          5.59,
          4.462,
          4.221,
          4.946,
          6.841,
          4.544,
          6.23,
          6.145,
          5.904,
          3.588,
          4.954,
          3.383,
          7.384,
          5.958,
          6.071,
          6.827,
          7.504,
          5.921,
          5.852,
          3.881,
          6.482,
          6.43,
          4.093,
          7.699,
          6.557,
          5.104,
          4.691,
          5.351,
          6.792,
          4.298,
          5.796,
          6.421,
          4.827,
          5.861,
          5.965,
          7.562,
          4.676,
          5.695,
          5.004,
          5.475,
          6.817,
          6.783,
          6.245,
          5.337,
          5.91,
          4.292,
          6.299,
          4.496,
          6.878,
          7.13,
          5.91,
          5.486,
          6.296,
          3.588,
          4.494,
          5.97,
          6.553,
          7.016,
          4.433,
          3.272,
          5.868,
          4.37,
          6.295,
          4.292,
          5.759,
          7.006,
          5.801,
          5.58,
          5.813,
          4.487,
          5.704,
          4.391,
          5.055,
          5.389,
          7.255,
          6.976,
          6.362,
          4.609,
          4.869,
          5.403,
          7.249,
          4.549,
          6.543,
          6.214,
          5.936,
          6.184,
          6.685,
          5.954,
          6.489,
          5.865,
          6.953,
          5.093,
          6.441,
          3.467,
          6.654,
          6.261,
          6.746,
          5.076,
          6.112,
          6.456,
          3.602,
          4.851,
          7.161,
          6.969,
          6.655,
          5.379,
          4.042,
          6.282,
          4.365,
          4.505,
          5.463,
          4.467,
          4.672,
          6.728,
          6.658,
          6.521,
          6.662,
          6.385,
          5.765,
          6.325,
          3.532,
          3.686,
          3.572
         ]
        }
       ],
       "layout": {
        "coloraxis": {
         "colorbar": {
          "len": 0.5,
          "thickness": 20,
          "tickfont": {
           "size": 10
          },
          "title": {
           "text": "Glücklichkeitswert (Skala)"
          }
         },
         "colorscale": [
          [
           0,
           "#0d0887"
          ],
          [
           0.1111111111111111,
           "#46039f"
          ],
          [
           0.2222222222222222,
           "#7201a8"
          ],
          [
           0.3333333333333333,
           "#9c179e"
          ],
          [
           0.4444444444444444,
           "#bd3786"
          ],
          [
           0.5555555555555556,
           "#d8576b"
          ],
          [
           0.6666666666666666,
           "#ed7953"
          ],
          [
           0.7777777777777778,
           "#fb9f3a"
          ],
          [
           0.8888888888888888,
           "#fdca26"
          ],
          [
           1,
           "#f0f921"
          ]
         ]
        },
        "geo": {
         "center": {},
         "domain": {
          "x": [
           0,
           1
          ],
          "y": [
           0,
           1
          ]
         },
         "projection": {
          "type": "equirectangular"
         },
         "showcoastlines": false,
         "showframe": false
        },
        "height": 600,
        "legend": {
         "tracegroupgap": 0
        },
        "margin": {
         "t": 60
        },
        "template": {
         "data": {
          "bar": [
           {
            "error_x": {
             "color": "#2a3f5f"
            },
            "error_y": {
             "color": "#2a3f5f"
            },
            "marker": {
             "line": {
              "color": "#E5ECF6",
              "width": 0.5
             },
             "pattern": {
              "fillmode": "overlay",
              "size": 10,
              "solidity": 0.2
             }
            },
            "type": "bar"
           }
          ],
          "barpolar": [
           {
            "marker": {
             "line": {
              "color": "#E5ECF6",
              "width": 0.5
             },
             "pattern": {
              "fillmode": "overlay",
              "size": 10,
              "solidity": 0.2
             }
            },
            "type": "barpolar"
           }
          ],
          "carpet": [
           {
            "aaxis": {
             "endlinecolor": "#2a3f5f",
             "gridcolor": "white",
             "linecolor": "white",
             "minorgridcolor": "white",
             "startlinecolor": "#2a3f5f"
            },
            "baxis": {
             "endlinecolor": "#2a3f5f",
             "gridcolor": "white",
             "linecolor": "white",
             "minorgridcolor": "white",
             "startlinecolor": "#2a3f5f"
            },
            "type": "carpet"
           }
          ],
          "choropleth": [
           {
            "colorbar": {
             "outlinewidth": 0,
             "ticks": ""
            },
            "type": "choropleth"
           }
          ],
          "contour": [
           {
            "colorbar": {
             "outlinewidth": 0,
             "ticks": ""
            },
            "colorscale": [
             [
              0,
              "#0d0887"
             ],
             [
              0.1111111111111111,
              "#46039f"
             ],
             [
              0.2222222222222222,
              "#7201a8"
             ],
             [
              0.3333333333333333,
              "#9c179e"
             ],
             [
              0.4444444444444444,
              "#bd3786"
             ],
             [
              0.5555555555555556,
              "#d8576b"
             ],
             [
              0.6666666666666666,
              "#ed7953"
             ],
             [
              0.7777777777777778,
              "#fb9f3a"
             ],
             [
              0.8888888888888888,
              "#fdca26"
             ],
             [
              1,
              "#f0f921"
             ]
            ],
            "type": "contour"
           }
          ],
          "contourcarpet": [
           {
            "colorbar": {
             "outlinewidth": 0,
             "ticks": ""
            },
            "type": "contourcarpet"
           }
          ],
          "heatmap": [
           {
            "colorbar": {
             "outlinewidth": 0,
             "ticks": ""
            },
            "colorscale": [
             [
              0,
              "#0d0887"
             ],
             [
              0.1111111111111111,
              "#46039f"
             ],
             [
              0.2222222222222222,
              "#7201a8"
             ],
             [
              0.3333333333333333,
              "#9c179e"
             ],
             [
              0.4444444444444444,
              "#bd3786"
             ],
             [
              0.5555555555555556,
              "#d8576b"
             ],
             [
              0.6666666666666666,
              "#ed7953"
             ],
             [
              0.7777777777777778,
              "#fb9f3a"
             ],
             [
              0.8888888888888888,
              "#fdca26"
             ],
             [
              1,
              "#f0f921"
             ]
            ],
            "type": "heatmap"
           }
          ],
          "heatmapgl": [
           {
            "colorbar": {
             "outlinewidth": 0,
             "ticks": ""
            },
            "colorscale": [
             [
              0,
              "#0d0887"
             ],
             [
              0.1111111111111111,
              "#46039f"
             ],
             [
              0.2222222222222222,
              "#7201a8"
             ],
             [
              0.3333333333333333,
              "#9c179e"
             ],
             [
              0.4444444444444444,
              "#bd3786"
             ],
             [
              0.5555555555555556,
              "#d8576b"
             ],
             [
              0.6666666666666666,
              "#ed7953"
             ],
             [
              0.7777777777777778,
              "#fb9f3a"
             ],
             [
              0.8888888888888888,
              "#fdca26"
             ],
             [
              1,
              "#f0f921"
             ]
            ],
            "type": "heatmapgl"
           }
          ],
          "histogram": [
           {
            "marker": {
             "pattern": {
              "fillmode": "overlay",
              "size": 10,
              "solidity": 0.2
             }
            },
            "type": "histogram"
           }
          ],
          "histogram2d": [
           {
            "colorbar": {
             "outlinewidth": 0,
             "ticks": ""
            },
            "colorscale": [
             [
              0,
              "#0d0887"
             ],
             [
              0.1111111111111111,
              "#46039f"
             ],
             [
              0.2222222222222222,
              "#7201a8"
             ],
             [
              0.3333333333333333,
              "#9c179e"
             ],
             [
              0.4444444444444444,
              "#bd3786"
             ],
             [
              0.5555555555555556,
              "#d8576b"
             ],
             [
              0.6666666666666666,
              "#ed7953"
             ],
             [
              0.7777777777777778,
              "#fb9f3a"
             ],
             [
              0.8888888888888888,
              "#fdca26"
             ],
             [
              1,
              "#f0f921"
             ]
            ],
            "type": "histogram2d"
           }
          ],
          "histogram2dcontour": [
           {
            "colorbar": {
             "outlinewidth": 0,
             "ticks": ""
            },
            "colorscale": [
             [
              0,
              "#0d0887"
             ],
             [
              0.1111111111111111,
              "#46039f"
             ],
             [
              0.2222222222222222,
              "#7201a8"
             ],
             [
              0.3333333333333333,
              "#9c179e"
             ],
             [
              0.4444444444444444,
              "#bd3786"
             ],
             [
              0.5555555555555556,
              "#d8576b"
             ],
             [
              0.6666666666666666,
              "#ed7953"
             ],
             [
              0.7777777777777778,
              "#fb9f3a"
             ],
             [
              0.8888888888888888,
              "#fdca26"
             ],
             [
              1,
              "#f0f921"
             ]
            ],
            "type": "histogram2dcontour"
           }
          ],
          "mesh3d": [
           {
            "colorbar": {
             "outlinewidth": 0,
             "ticks": ""
            },
            "type": "mesh3d"
           }
          ],
          "parcoords": [
           {
            "line": {
             "colorbar": {
              "outlinewidth": 0,
              "ticks": ""
             }
            },
            "type": "parcoords"
           }
          ],
          "pie": [
           {
            "automargin": true,
            "type": "pie"
           }
          ],
          "scatter": [
           {
            "fillpattern": {
             "fillmode": "overlay",
             "size": 10,
             "solidity": 0.2
            },
            "type": "scatter"
           }
          ],
          "scatter3d": [
           {
            "line": {
             "colorbar": {
              "outlinewidth": 0,
              "ticks": ""
             }
            },
            "marker": {
             "colorbar": {
              "outlinewidth": 0,
              "ticks": ""
             }
            },
            "type": "scatter3d"
           }
          ],
          "scattercarpet": [
           {
            "marker": {
             "colorbar": {
              "outlinewidth": 0,
              "ticks": ""
             }
            },
            "type": "scattercarpet"
           }
          ],
          "scattergeo": [
           {
            "marker": {
             "colorbar": {
              "outlinewidth": 0,
              "ticks": ""
             }
            },
            "type": "scattergeo"
           }
          ],
          "scattergl": [
           {
            "marker": {
             "colorbar": {
              "outlinewidth": 0,
              "ticks": ""
             }
            },
            "type": "scattergl"
           }
          ],
          "scattermapbox": [
           {
            "marker": {
             "colorbar": {
              "outlinewidth": 0,
              "ticks": ""
             }
            },
            "type": "scattermapbox"
           }
          ],
          "scatterpolar": [
           {
            "marker": {
             "colorbar": {
              "outlinewidth": 0,
              "ticks": ""
             }
            },
            "type": "scatterpolar"
           }
          ],
          "scatterpolargl": [
           {
            "marker": {
             "colorbar": {
              "outlinewidth": 0,
              "ticks": ""
             }
            },
            "type": "scatterpolargl"
           }
          ],
          "scatterternary": [
           {
            "marker": {
             "colorbar": {
              "outlinewidth": 0,
              "ticks": ""
             }
            },
            "type": "scatterternary"
           }
          ],
          "surface": [
           {
            "colorbar": {
             "outlinewidth": 0,
             "ticks": ""
            },
            "colorscale": [
             [
              0,
              "#0d0887"
             ],
             [
              0.1111111111111111,
              "#46039f"
             ],
             [
              0.2222222222222222,
              "#7201a8"
             ],
             [
              0.3333333333333333,
              "#9c179e"
             ],
             [
              0.4444444444444444,
              "#bd3786"
             ],
             [
              0.5555555555555556,
              "#d8576b"
             ],
             [
              0.6666666666666666,
              "#ed7953"
             ],
             [
              0.7777777777777778,
              "#fb9f3a"
             ],
             [
              0.8888888888888888,
              "#fdca26"
             ],
             [
              1,
              "#f0f921"
             ]
            ],
            "type": "surface"
           }
          ],
          "table": [
           {
            "cells": {
             "fill": {
              "color": "#EBF0F8"
             },
             "line": {
              "color": "white"
             }
            },
            "header": {
             "fill": {
              "color": "#C8D4E3"
             },
             "line": {
              "color": "white"
             }
            },
            "type": "table"
           }
          ]
         },
         "layout": {
          "annotationdefaults": {
           "arrowcolor": "#2a3f5f",
           "arrowhead": 0,
           "arrowwidth": 1
          },
          "autotypenumbers": "strict",
          "coloraxis": {
           "colorbar": {
            "outlinewidth": 0,
            "ticks": ""
           }
          },
          "colorscale": {
           "diverging": [
            [
             0,
             "#8e0152"
            ],
            [
             0.1,
             "#c51b7d"
            ],
            [
             0.2,
             "#de77ae"
            ],
            [
             0.3,
             "#f1b6da"
            ],
            [
             0.4,
             "#fde0ef"
            ],
            [
             0.5,
             "#f7f7f7"
            ],
            [
             0.6,
             "#e6f5d0"
            ],
            [
             0.7,
             "#b8e186"
            ],
            [
             0.8,
             "#7fbc41"
            ],
            [
             0.9,
             "#4d9221"
            ],
            [
             1,
             "#276419"
            ]
           ],
           "sequential": [
            [
             0,
             "#0d0887"
            ],
            [
             0.1111111111111111,
             "#46039f"
            ],
            [
             0.2222222222222222,
             "#7201a8"
            ],
            [
             0.3333333333333333,
             "#9c179e"
            ],
            [
             0.4444444444444444,
             "#bd3786"
            ],
            [
             0.5555555555555556,
             "#d8576b"
            ],
            [
             0.6666666666666666,
             "#ed7953"
            ],
            [
             0.7777777777777778,
             "#fb9f3a"
            ],
            [
             0.8888888888888888,
             "#fdca26"
            ],
            [
             1,
             "#f0f921"
            ]
           ],
           "sequentialminus": [
            [
             0,
             "#0d0887"
            ],
            [
             0.1111111111111111,
             "#46039f"
            ],
            [
             0.2222222222222222,
             "#7201a8"
            ],
            [
             0.3333333333333333,
             "#9c179e"
            ],
            [
             0.4444444444444444,
             "#bd3786"
            ],
            [
             0.5555555555555556,
             "#d8576b"
            ],
            [
             0.6666666666666666,
             "#ed7953"
            ],
            [
             0.7777777777777778,
             "#fb9f3a"
            ],
            [
             0.8888888888888888,
             "#fdca26"
            ],
            [
             1,
             "#f0f921"
            ]
           ]
          },
          "colorway": [
           "#636efa",
           "#EF553B",
           "#00cc96",
           "#ab63fa",
           "#FFA15A",
           "#19d3f3",
           "#FF6692",
           "#B6E880",
           "#FF97FF",
           "#FECB52"
          ],
          "font": {
           "color": "#2a3f5f"
          },
          "geo": {
           "bgcolor": "white",
           "lakecolor": "white",
           "landcolor": "#E5ECF6",
           "showlakes": true,
           "showland": true,
           "subunitcolor": "white"
          },
          "hoverlabel": {
           "align": "left"
          },
          "hovermode": "closest",
          "mapbox": {
           "style": "light"
          },
          "paper_bgcolor": "white",
          "plot_bgcolor": "#E5ECF6",
          "polar": {
           "angularaxis": {
            "gridcolor": "white",
            "linecolor": "white",
            "ticks": ""
           },
           "bgcolor": "#E5ECF6",
           "radialaxis": {
            "gridcolor": "white",
            "linecolor": "white",
            "ticks": ""
           }
          },
          "scene": {
           "xaxis": {
            "backgroundcolor": "#E5ECF6",
            "gridcolor": "white",
            "gridwidth": 2,
            "linecolor": "white",
            "showbackground": true,
            "ticks": "",
            "zerolinecolor": "white"
           },
           "yaxis": {
            "backgroundcolor": "#E5ECF6",
            "gridcolor": "white",
            "gridwidth": 2,
            "linecolor": "white",
            "showbackground": true,
            "ticks": "",
            "zerolinecolor": "white"
           },
           "zaxis": {
            "backgroundcolor": "#E5ECF6",
            "gridcolor": "white",
            "gridwidth": 2,
            "linecolor": "white",
            "showbackground": true,
            "ticks": "",
            "zerolinecolor": "white"
           }
          },
          "shapedefaults": {
           "line": {
            "color": "#2a3f5f"
           }
          },
          "ternary": {
           "aaxis": {
            "gridcolor": "white",
            "linecolor": "white",
            "ticks": ""
           },
           "baxis": {
            "gridcolor": "white",
            "linecolor": "white",
            "ticks": ""
           },
           "bgcolor": "#E5ECF6",
           "caxis": {
            "gridcolor": "white",
            "linecolor": "white",
            "ticks": ""
           }
          },
          "title": {
           "x": 0.05
          },
          "xaxis": {
           "automargin": true,
           "gridcolor": "white",
           "linecolor": "white",
           "ticks": "",
           "title": {
            "standoff": 15
           },
           "zerolinecolor": "white",
           "zerolinewidth": 2
          },
          "yaxis": {
           "automargin": true,
           "gridcolor": "white",
           "linecolor": "white",
           "ticks": "",
           "title": {
            "standoff": 15
           },
           "zerolinecolor": "white",
           "zerolinewidth": 2
          }
         }
        },
        "title": {
         "font": {
          "color": "black",
          "family": "Helvetica",
          "size": 20
         },
         "text": "Glücklichkeitswert nach Ländern",
         "x": 0.5
        },
        "width": 1200,
        "xaxis": {
         "title": {
          "font": {
           "color": "dimgray"
          }
         }
        },
        "yaxis": {
         "title": {
          "font": {
           "color": "dimgray"
          }
         }
        }
       }
      }
     },
     "metadata": {},
     "output_type": "display_data"
    }
   ],
   "source": [
    "def karte_glueck_wert(glueck):\n",
    "    glueck_2023 = glueck[glueck[\"Jahr\"]== 2023] \n",
    "    fig = px.choropleth(glueck_2023, \n",
    "                        locations='Land', \n",
    "                        locationmode='country names', \n",
    "                        color='Glücklichkeitswert', \n",
    "                        hover_name='Land',\n",
    "                        color_continuous_scale=px.colors.sequential.Plasma,  \n",
    "                        labels={'Glücklichkeitswert': 'Glücklichkeitswert (Skala)'})\n",
    "    \n",
    "    fig.update_layout(\n",
    "        title_text='Glücklichkeitswert nach Ländern', \n",
    "        title_x=0.5,  \n",
    "        title_font=dict(size=20, family=\"Helvetica\", color=\"black\"),\n",
    "                  xaxis_title_font=dict(color='dimgray'),  \n",
    "                  yaxis_title_font=dict(color='dimgray'),\n",
    "        geo=dict(\n",
    "            showframe=False,                    # Keine Rahmengrenzen anzeigen\n",
    "            showcoastlines=False,               # Keine Küstenlinien anzeigen\n",
    "            projection_type='equirectangular'   # Projektionstyp der Karte\n",
    "        ),\n",
    "        width=1200,  \n",
    "        height=600,  \n",
    "        #margin={\"r\":0,\"t\":40,\"l\":0,\"b\":0},\n",
    "        ) \n",
    "    \n",
    "    # Farbskala (Colorbar) anpassen\n",
    "    fig.update_coloraxes(\n",
    "        colorbar=dict(\n",
    "            thickness=20,           # Dicke der Farbskala \n",
    "            len=0.5,                # Länge der Farbskala \n",
    "            tickfont=dict(size=10)  # Schriftgröße der Farbskala\n",
    "        ))\n",
    "    \n",
    "    return fig\n",
    "\n",
    "karte_glueck_wert(glueck)"
   ]
  }
 ],
 "metadata": {
  "kernelspec": {
   "display_name": "DataCraft",
   "language": "python",
   "name": "python3"
  },
  "language_info": {
   "codemirror_mode": {
    "name": "ipython",
    "version": 3
   },
   "file_extension": ".py",
   "mimetype": "text/x-python",
   "name": "python",
   "nbconvert_exporter": "python",
   "pygments_lexer": "ipython3",
   "version": "3.12.3"
  }
 },
 "nbformat": 4,
 "nbformat_minor": 2
}
